{
 "cells": [
  {
   "cell_type": "markdown",
   "id": "6596dcd5-4c16-4a25-8803-cdce44095a3a",
   "metadata": {},
   "source": [
    "<h1><b><center>Informazioni generali del dataset</center></b></h1>"
   ]
  },
  {
   "cell_type": "code",
   "execution_count": 1,
   "id": "5fad1a0b-a4cd-4ca8-a6a8-b30b1c1a0dcd",
   "metadata": {
    "scrolled": true
   },
   "outputs": [
    {
     "name": "stdout",
     "output_type": "stream",
     "text": [
      "patient_id\n",
      "\n",
      "\n"
     ]
    },
    {
     "data": {
      "text/plain": [
       "age_at_diagnosis\n",
       "49.61    5\n",
       "64.01    4\n",
       "61.16    4\n",
       "50.08    3\n",
       "74.76    3\n",
       "        ..\n",
       "28.37    1\n",
       "34.64    1\n",
       "36.60    1\n",
       "50.84    1\n",
       "60.02    1\n",
       "Name: count, Length: 1572, dtype: int64"
      ]
     },
     "metadata": {},
     "output_type": "display_data"
    },
    {
     "name": "stdout",
     "output_type": "stream",
     "text": [
      "\n",
      "\n"
     ]
    },
    {
     "data": {
      "text/plain": [
       "type_of_breast_surgery\n",
       "MASTECTOMY           1127\n",
       "BREAST CONSERVING     755\n",
       "Name: count, dtype: int64"
      ]
     },
     "metadata": {},
     "output_type": "display_data"
    },
    {
     "name": "stdout",
     "output_type": "stream",
     "text": [
      "\n",
      "\n"
     ]
    },
    {
     "data": {
      "text/plain": [
       "cancer_type\n",
       "Breast Cancer     1903\n",
       "Breast Sarcoma       1\n",
       "Name: count, dtype: int64"
      ]
     },
     "metadata": {},
     "output_type": "display_data"
    },
    {
     "name": "stdout",
     "output_type": "stream",
     "text": [
      "\n",
      "\n"
     ]
    },
    {
     "data": {
      "text/plain": [
       "cancer_type_detailed\n",
       "Breast Invasive Ductal Carcinoma             1500\n",
       "Breast Mixed Ductal and Lobular Carcinoma     207\n",
       "Breast Invasive Lobular Carcinoma             142\n",
       "Breast Invasive Mixed Mucinous Carcinoma       22\n",
       "Breast                                         17\n",
       "Metaplastic Breast Cancer                       1\n",
       "Name: count, dtype: int64"
      ]
     },
     "metadata": {},
     "output_type": "display_data"
    },
    {
     "name": "stdout",
     "output_type": "stream",
     "text": [
      "\n",
      "\n"
     ]
    },
    {
     "data": {
      "text/plain": [
       "cellularity\n",
       "High        939\n",
       "Moderate    711\n",
       "Low         200\n",
       "Name: count, dtype: int64"
      ]
     },
     "metadata": {},
     "output_type": "display_data"
    },
    {
     "name": "stdout",
     "output_type": "stream",
     "text": [
      "\n",
      "\n"
     ]
    },
    {
     "data": {
      "text/plain": [
       "chemotherapy\n",
       "0    1508\n",
       "1     396\n",
       "Name: count, dtype: int64"
      ]
     },
     "metadata": {},
     "output_type": "display_data"
    },
    {
     "name": "stdout",
     "output_type": "stream",
     "text": [
      "\n",
      "\n"
     ]
    },
    {
     "data": {
      "text/plain": [
       "pam50_+_claudin-low_subtype\n",
       "LumA           679\n",
       "LumB           461\n",
       "Her2           220\n",
       "claudin-low    199\n",
       "Basal          199\n",
       "Normal         140\n",
       "NC               6\n",
       "Name: count, dtype: int64"
      ]
     },
     "metadata": {},
     "output_type": "display_data"
    },
    {
     "name": "stdout",
     "output_type": "stream",
     "text": [
      "\n",
      "\n"
     ]
    },
    {
     "data": {
      "text/plain": [
       "cohort\n",
       "3.0    734\n",
       "1.0    481\n",
       "2.0    286\n",
       "4.0    236\n",
       "5.0    167\n",
       "Name: count, dtype: int64"
      ]
     },
     "metadata": {},
     "output_type": "display_data"
    },
    {
     "name": "stdout",
     "output_type": "stream",
     "text": [
      "\n",
      "\n"
     ]
    },
    {
     "data": {
      "text/plain": [
       "er_status_measured_by_ihc\n",
       "Positve     1445\n",
       "Negative     429\n",
       "Name: count, dtype: int64"
      ]
     },
     "metadata": {},
     "output_type": "display_data"
    },
    {
     "name": "stdout",
     "output_type": "stream",
     "text": [
      "\n",
      "\n"
     ]
    },
    {
     "data": {
      "text/plain": [
       "er_status\n",
       "Positive    1459\n",
       "Negative     445\n",
       "Name: count, dtype: int64"
      ]
     },
     "metadata": {},
     "output_type": "display_data"
    },
    {
     "name": "stdout",
     "output_type": "stream",
     "text": [
      "\n",
      "\n"
     ]
    },
    {
     "data": {
      "text/plain": [
       "neoplasm_histologic_grade\n",
       "3.0    927\n",
       "2.0    740\n",
       "1.0    165\n",
       "Name: count, dtype: int64"
      ]
     },
     "metadata": {},
     "output_type": "display_data"
    },
    {
     "name": "stdout",
     "output_type": "stream",
     "text": [
      "\n",
      "\n"
     ]
    },
    {
     "data": {
      "text/plain": [
       "her2_status_measured_by_snp6\n",
       "NEUTRAL    1383\n",
       "GAIN        417\n",
       "LOSS        100\n",
       "UNDEF         4\n",
       "Name: count, dtype: int64"
      ]
     },
     "metadata": {},
     "output_type": "display_data"
    },
    {
     "name": "stdout",
     "output_type": "stream",
     "text": [
      "\n",
      "\n"
     ]
    },
    {
     "data": {
      "text/plain": [
       "her2_status\n",
       "Negative    1668\n",
       "Positive     236\n",
       "Name: count, dtype: int64"
      ]
     },
     "metadata": {},
     "output_type": "display_data"
    },
    {
     "name": "stdout",
     "output_type": "stream",
     "text": [
      "\n",
      "\n"
     ]
    },
    {
     "data": {
      "text/plain": [
       "tumor_other_histologic_subtype\n",
       "Ductal/NST             1454\n",
       "Mixed                   207\n",
       "Lobular                 142\n",
       "Medullary                25\n",
       "Mucinous                 22\n",
       "Tubular/ cribriform      21\n",
       "Other                    17\n",
       "Metaplastic               1\n",
       "Name: count, dtype: int64"
      ]
     },
     "metadata": {},
     "output_type": "display_data"
    },
    {
     "name": "stdout",
     "output_type": "stream",
     "text": [
      "\n",
      "\n"
     ]
    },
    {
     "data": {
      "text/plain": [
       "hormone_therapy\n",
       "1    1174\n",
       "0     730\n",
       "Name: count, dtype: int64"
      ]
     },
     "metadata": {},
     "output_type": "display_data"
    },
    {
     "name": "stdout",
     "output_type": "stream",
     "text": [
      "\n",
      "\n"
     ]
    },
    {
     "data": {
      "text/plain": [
       "inferred_menopausal_state\n",
       "Post    1493\n",
       "Pre      411\n",
       "Name: count, dtype: int64"
      ]
     },
     "metadata": {},
     "output_type": "display_data"
    },
    {
     "name": "stdout",
     "output_type": "stream",
     "text": [
      "\n",
      "\n"
     ]
    },
    {
     "data": {
      "text/plain": [
       "integrative_cluster\n",
       "8       289\n",
       "3       282\n",
       "4ER+    244\n",
       "10      219\n",
       "5       184\n",
       "7       182\n",
       "9       142\n",
       "1       132\n",
       "6        84\n",
       "4ER-     74\n",
       "2        72\n",
       "Name: count, dtype: int64"
      ]
     },
     "metadata": {},
     "output_type": "display_data"
    },
    {
     "name": "stdout",
     "output_type": "stream",
     "text": [
      "\n",
      "\n"
     ]
    },
    {
     "data": {
      "text/plain": [
       "primary_tumor_laterality\n",
       "Left     935\n",
       "Right    863\n",
       "Name: count, dtype: int64"
      ]
     },
     "metadata": {},
     "output_type": "display_data"
    },
    {
     "name": "stdout",
     "output_type": "stream",
     "text": [
      "\n",
      "\n"
     ]
    },
    {
     "data": {
      "text/plain": [
       "lymph_nodes_examined_positive\n",
       "0.0     993\n",
       "1.0     332\n",
       "2.0     163\n",
       "3.0     109\n",
       "4.0      54\n",
       "6.0      48\n",
       "5.0      43\n",
       "7.0      24\n",
       "8.0      20\n",
       "9.0      15\n",
       "14.0     15\n",
       "10.0     12\n",
       "16.0     11\n",
       "11.0     11\n",
       "12.0      8\n",
       "15.0      7\n",
       "13.0      7\n",
       "18.0      5\n",
       "22.0      4\n",
       "17.0      4\n",
       "19.0      3\n",
       "21.0      3\n",
       "24.0      2\n",
       "23.0      2\n",
       "25.0      2\n",
       "20.0      2\n",
       "41.0      1\n",
       "26.0      1\n",
       "31.0      1\n",
       "33.0      1\n",
       "45.0      1\n",
       "Name: count, dtype: int64"
      ]
     },
     "metadata": {},
     "output_type": "display_data"
    },
    {
     "name": "stdout",
     "output_type": "stream",
     "text": [
      "\n",
      "\n"
     ]
    },
    {
     "data": {
      "text/plain": [
       "mutation_count\n",
       "5.0     268\n",
       "4.0     248\n",
       "6.0     232\n",
       "3.0     229\n",
       "2.0     193\n",
       "7.0     168\n",
       "8.0     121\n",
       "1.0     107\n",
       "9.0      90\n",
       "10.0     61\n",
       "11.0     38\n",
       "12.0     25\n",
       "13.0     17\n",
       "14.0     16\n",
       "15.0     11\n",
       "16.0      8\n",
       "17.0      5\n",
       "22.0      4\n",
       "20.0      4\n",
       "19.0      2\n",
       "18.0      2\n",
       "23.0      2\n",
       "21.0      1\n",
       "28.0      1\n",
       "26.0      1\n",
       "24.0      1\n",
       "40.0      1\n",
       "46.0      1\n",
       "30.0      1\n",
       "80.0      1\n",
       "Name: count, dtype: int64"
      ]
     },
     "metadata": {},
     "output_type": "display_data"
    },
    {
     "name": "stdout",
     "output_type": "stream",
     "text": [
      "\n",
      "\n"
     ]
    },
    {
     "data": {
      "text/plain": [
       "nottingham_prognostic_index\n",
       "4.0400    84\n",
       "3.0400    70\n",
       "4.0500    58\n",
       "4.0300    56\n",
       "3.0300    53\n",
       "          ..\n",
       "3.0338     1\n",
       "4.0488     1\n",
       "4.0250     1\n",
       "6.0483     1\n",
       "5.0410     1\n",
       "Name: count, Length: 310, dtype: int64"
      ]
     },
     "metadata": {},
     "output_type": "display_data"
    },
    {
     "name": "stdout",
     "output_type": "stream",
     "text": [
      "\n",
      "\n"
     ]
    },
    {
     "data": {
      "text/plain": [
       "oncotree_code\n",
       "IDC       1500\n",
       "MDLC       207\n",
       "ILC        142\n",
       "IMMC        22\n",
       "BREAST      17\n",
       "MBC          1\n",
       "Name: count, dtype: int64"
      ]
     },
     "metadata": {},
     "output_type": "display_data"
    },
    {
     "name": "stdout",
     "output_type": "stream",
     "text": [
      "\n",
      "\n"
     ]
    },
    {
     "data": {
      "text/plain": [
       "overall_survival_months\n",
       "192.200000    4\n",
       "164.333333    3\n",
       "48.433333     3\n",
       "34.700000     3\n",
       "152.066667    3\n",
       "             ..\n",
       "175.166667    1\n",
       "208.200000    1\n",
       "44.400000     1\n",
       "185.333333    1\n",
       "58.666667     1\n",
       "Name: count, Length: 1685, dtype: int64"
      ]
     },
     "metadata": {},
     "output_type": "display_data"
    },
    {
     "name": "stdout",
     "output_type": "stream",
     "text": [
      "\n",
      "\n"
     ]
    },
    {
     "data": {
      "text/plain": [
       "overall_survival\n",
       "0    1103\n",
       "1     801\n",
       "Name: count, dtype: int64"
      ]
     },
     "metadata": {},
     "output_type": "display_data"
    },
    {
     "name": "stdout",
     "output_type": "stream",
     "text": [
      "\n",
      "\n"
     ]
    },
    {
     "data": {
      "text/plain": [
       "pr_status\n",
       "Positive    1009\n",
       "Negative     895\n",
       "Name: count, dtype: int64"
      ]
     },
     "metadata": {},
     "output_type": "display_data"
    },
    {
     "name": "stdout",
     "output_type": "stream",
     "text": [
      "\n",
      "\n"
     ]
    },
    {
     "data": {
      "text/plain": [
       "radio_therapy\n",
       "1    1137\n",
       "0     767\n",
       "Name: count, dtype: int64"
      ]
     },
     "metadata": {},
     "output_type": "display_data"
    },
    {
     "name": "stdout",
     "output_type": "stream",
     "text": [
      "\n",
      "\n"
     ]
    },
    {
     "data": {
      "text/plain": [
       "3-gene_classifier_subtype\n",
       "ER+/HER2- Low Prolif     619\n",
       "ER+/HER2- High Prolif    603\n",
       "ER-/HER2-                290\n",
       "HER2+                    188\n",
       "Name: count, dtype: int64"
      ]
     },
     "metadata": {},
     "output_type": "display_data"
    },
    {
     "name": "stdout",
     "output_type": "stream",
     "text": [
      "\n",
      "\n"
     ]
    },
    {
     "data": {
      "text/plain": [
       "tumor_size\n",
       "20.00    229\n",
       "25.00    166\n",
       "30.00    155\n",
       "15.00    147\n",
       "18.00     75\n",
       "        ... \n",
       "22.32      1\n",
       "17.70      1\n",
       "15.47      1\n",
       "24.15      1\n",
       "20.50      1\n",
       "Name: count, Length: 111, dtype: int64"
      ]
     },
     "metadata": {},
     "output_type": "display_data"
    },
    {
     "name": "stdout",
     "output_type": "stream",
     "text": [
      "\n",
      "\n"
     ]
    },
    {
     "data": {
      "text/plain": [
       "tumor_stage\n",
       "2.0    800\n",
       "1.0    475\n",
       "3.0    115\n",
       "4.0      9\n",
       "0.0      4\n",
       "Name: count, dtype: int64"
      ]
     },
     "metadata": {},
     "output_type": "display_data"
    },
    {
     "name": "stdout",
     "output_type": "stream",
     "text": [
      "\n",
      "\n"
     ]
    },
    {
     "data": {
      "text/plain": [
       "death_from_cancer\n",
       "Living                  801\n",
       "Died of Disease         622\n",
       "Died of Other Causes    480\n",
       "Name: count, dtype: int64"
      ]
     },
     "metadata": {},
     "output_type": "display_data"
    },
    {
     "name": "stdout",
     "output_type": "stream",
     "text": [
      "\n",
      "\n"
     ]
    },
    {
     "data": {
      "text/plain": [
       "brca1\n",
       " 0.0105    3\n",
       "-0.0531    3\n",
       " 0.6400    3\n",
       "-0.6104    3\n",
       " 0.0183    3\n",
       "          ..\n",
       "-0.1833    1\n",
       "-0.7626    1\n",
       "-0.5273    1\n",
       "-0.4264    1\n",
       " 2.2760    1\n",
       "Name: count, Length: 1811, dtype: int64"
      ]
     },
     "metadata": {},
     "output_type": "display_data"
    },
    {
     "name": "stdout",
     "output_type": "stream",
     "text": [
      "\n",
      "\n"
     ]
    },
    {
     "data": {
      "text/plain": [
       "brca2\n",
       "-1.0938    3\n",
       " 0.5882    2\n",
       " 0.6290    2\n",
       " 0.3272    2\n",
       "-0.2608    2\n",
       "          ..\n",
       "-1.1815    1\n",
       " 0.7333    1\n",
       "-1.0406    1\n",
       "-0.3276    1\n",
       "-1.3231    1\n",
       "Name: count, Length: 1840, dtype: int64"
      ]
     },
     "metadata": {},
     "output_type": "display_data"
    },
    {
     "name": "stdout",
     "output_type": "stream",
     "text": [
      "\n",
      "\n"
     ]
    },
    {
     "data": {
      "text/plain": [
       "palb2\n",
       " 0.9877    2\n",
       "-0.6149    2\n",
       " 0.1836    2\n",
       "-1.5326    2\n",
       "-0.3357    2\n",
       "          ..\n",
       " 1.5741    1\n",
       " 0.9461    1\n",
       " 0.5210    1\n",
       " 0.7416    1\n",
       "-1.6592    1\n",
       "Name: count, Length: 1846, dtype: int64"
      ]
     },
     "metadata": {},
     "output_type": "display_data"
    },
    {
     "name": "stdout",
     "output_type": "stream",
     "text": [
      "\n",
      "\n"
     ]
    },
    {
     "data": {
      "text/plain": [
       "pten\n",
       "-0.3519    3\n",
       "-0.2662    3\n",
       " 1.5309    2\n",
       " 0.0852    2\n",
       "-0.5324    2\n",
       "          ..\n",
       " 0.5345    1\n",
       " 1.4668    1\n",
       " 0.8066    1\n",
       " 0.8462    1\n",
       "-0.1903    1\n",
       "Name: count, Length: 1851, dtype: int64"
      ]
     },
     "metadata": {},
     "output_type": "display_data"
    },
    {
     "name": "stdout",
     "output_type": "stream",
     "text": [
      "\n",
      "\n"
     ]
    },
    {
     "data": {
      "text/plain": [
       "tp53\n",
       " 0.2023    3\n",
       " 0.2958    2\n",
       " 0.1746    2\n",
       "-0.6099    2\n",
       "-0.0822    2\n",
       "          ..\n",
       "-0.5731    1\n",
       " 1.2978    1\n",
       " 1.6072    1\n",
       " 0.4979    1\n",
       "-0.0250    1\n",
       "Name: count, Length: 1853, dtype: int64"
      ]
     },
     "metadata": {},
     "output_type": "display_data"
    },
    {
     "name": "stdout",
     "output_type": "stream",
     "text": [
      "\n",
      "\n"
     ]
    },
    {
     "data": {
      "text/plain": [
       "atm\n",
       "-0.4697    3\n",
       " 0.3244    2\n",
       "-0.4190    2\n",
       "-0.8387    2\n",
       "-0.7141    2\n",
       "          ..\n",
       "-0.5462    1\n",
       "-0.0906    1\n",
       "-1.0672    1\n",
       "-0.4951    1\n",
       " 1.3899    1\n",
       "Name: count, Length: 1848, dtype: int64"
      ]
     },
     "metadata": {},
     "output_type": "display_data"
    },
    {
     "name": "stdout",
     "output_type": "stream",
     "text": [
      "\n",
      "\n"
     ]
    },
    {
     "data": {
      "text/plain": [
       "cdh1\n",
       " 0.1331    3\n",
       " 0.2852    3\n",
       " 0.5318    2\n",
       "-0.4661    2\n",
       " 0.0221    2\n",
       "          ..\n",
       " 0.4086    1\n",
       "-0.1956    1\n",
       " 0.8972    1\n",
       " 0.3599    1\n",
       " 1.1520    1\n",
       "Name: count, Length: 1831, dtype: int64"
      ]
     },
     "metadata": {},
     "output_type": "display_data"
    },
    {
     "name": "stdout",
     "output_type": "stream",
     "text": [
      "\n",
      "\n"
     ]
    },
    {
     "data": {
      "text/plain": [
       "chek2\n",
       "-0.7409    4\n",
       "-0.0978    4\n",
       "-0.2014    3\n",
       "-0.3857    3\n",
       " 0.0948    3\n",
       "          ..\n",
       "-0.4682    1\n",
       " 2.8754    1\n",
       " 0.7614    1\n",
       " 0.1595    1\n",
       "-0.0948    1\n",
       "Name: count, Length: 1774, dtype: int64"
      ]
     },
     "metadata": {},
     "output_type": "display_data"
    },
    {
     "name": "stdout",
     "output_type": "stream",
     "text": [
      "\n",
      "\n"
     ]
    },
    {
     "data": {
      "text/plain": [
       "nbn\n",
       " 0.4885    3\n",
       "-0.5300    3\n",
       "-0.6199    3\n",
       " 0.9489    2\n",
       " 0.4411    2\n",
       "          ..\n",
       " 0.0624    1\n",
       "-0.8200    1\n",
       "-1.8199    1\n",
       "-0.8137    1\n",
       "-0.5949    1\n",
       "Name: count, Length: 1851, dtype: int64"
      ]
     },
     "metadata": {},
     "output_type": "display_data"
    },
    {
     "name": "stdout",
     "output_type": "stream",
     "text": [
      "\n",
      "\n"
     ]
    },
    {
     "data": {
      "text/plain": [
       "nf1\n",
       "-0.0130    3\n",
       "-0.4022    3\n",
       "-0.7087    3\n",
       " 0.0470    3\n",
       "-0.3292    3\n",
       "          ..\n",
       "-1.0751    1\n",
       " 2.4359    1\n",
       " 0.5289    1\n",
       "-0.5636    1\n",
       " 0.1653    1\n",
       "Name: count, Length: 1773, dtype: int64"
      ]
     },
     "metadata": {},
     "output_type": "display_data"
    },
    {
     "name": "stdout",
     "output_type": "stream",
     "text": [
      "\n",
      "\n"
     ]
    },
    {
     "data": {
      "text/plain": [
       "stk11\n",
       " 1.0143    3\n",
       " 0.0531    3\n",
       "-0.0384    3\n",
       " 1.0069    3\n",
       "-0.5854    3\n",
       "          ..\n",
       "-0.5858    1\n",
       "-0.4106    1\n",
       " 0.8084    1\n",
       "-1.2885    1\n",
       " 0.5417    1\n",
       "Name: count, Length: 1790, dtype: int64"
      ]
     },
     "metadata": {},
     "output_type": "display_data"
    },
    {
     "name": "stdout",
     "output_type": "stream",
     "text": [
      "\n",
      "\n"
     ]
    },
    {
     "data": {
      "text/plain": [
       "bard1\n",
       "-0.0262    2\n",
       "-0.6839    2\n",
       " 0.3317    2\n",
       "-0.7739    2\n",
       " 0.4756    2\n",
       "          ..\n",
       " 0.3040    1\n",
       " 0.4324    1\n",
       " 1.1050    1\n",
       " 0.2692    1\n",
       "-1.1201    1\n",
       "Name: count, Length: 1857, dtype: int64"
      ]
     },
     "metadata": {},
     "output_type": "display_data"
    },
    {
     "name": "stdout",
     "output_type": "stream",
     "text": [
      "\n",
      "\n"
     ]
    },
    {
     "data": {
      "text/plain": [
       "mlh1\n",
       "-0.0423    3\n",
       "-0.1853    2\n",
       "-0.5481    2\n",
       " 0.6221    2\n",
       " 0.7057    2\n",
       "          ..\n",
       "-0.4070    1\n",
       " 0.0173    1\n",
       " 0.8395    1\n",
       "-1.0536    1\n",
       " 1.2266    1\n",
       "Name: count, Length: 1845, dtype: int64"
      ]
     },
     "metadata": {},
     "output_type": "display_data"
    },
    {
     "name": "stdout",
     "output_type": "stream",
     "text": [
      "\n",
      "\n"
     ]
    },
    {
     "data": {
      "text/plain": [
       "msh2\n",
       " 0.0836    3\n",
       "-0.0851    3\n",
       " 0.0547    2\n",
       "-0.9877    2\n",
       "-0.1948    2\n",
       "          ..\n",
       " 0.7114    1\n",
       " 0.0650    1\n",
       "-0.1345    1\n",
       "-1.1323    1\n",
       " 0.0411    1\n",
       "Name: count, Length: 1840, dtype: int64"
      ]
     },
     "metadata": {},
     "output_type": "display_data"
    },
    {
     "name": "stdout",
     "output_type": "stream",
     "text": [
      "\n",
      "\n"
     ]
    },
    {
     "data": {
      "text/plain": [
       "msh6\n",
       " 0.5730    2\n",
       "-0.1069    2\n",
       "-0.5332    2\n",
       "-0.1906    2\n",
       " 0.1436    2\n",
       "          ..\n",
       " 0.3718    1\n",
       " 0.9245    1\n",
       "-1.7900    1\n",
       " 0.5714    1\n",
       " 1.0477    1\n",
       "Name: count, Length: 1850, dtype: int64"
      ]
     },
     "metadata": {},
     "output_type": "display_data"
    },
    {
     "name": "stdout",
     "output_type": "stream",
     "text": [
      "\n",
      "\n"
     ]
    },
    {
     "data": {
      "text/plain": [
       "pms2\n",
       " 0.1124    4\n",
       "-0.8683    3\n",
       "-0.1402    3\n",
       " 0.5860    3\n",
       " 0.1675    3\n",
       "          ..\n",
       " 0.8462    1\n",
       "-0.9470    1\n",
       "-0.2421    1\n",
       "-0.5677    1\n",
       "-0.1250    1\n",
       "Name: count, Length: 1761, dtype: int64"
      ]
     },
     "metadata": {},
     "output_type": "display_data"
    },
    {
     "name": "stdout",
     "output_type": "stream",
     "text": [
      "\n",
      "\n"
     ]
    },
    {
     "data": {
      "text/plain": [
       "epcam\n",
       "-0.0708    2\n",
       " 0.2932    2\n",
       "-0.0634    2\n",
       "-1.0511    2\n",
       "-0.4724    2\n",
       "          ..\n",
       "-0.0549    1\n",
       "-0.5677    1\n",
       "-0.1670    1\n",
       "-0.8727    1\n",
       " 2.6033    1\n",
       "Name: count, Length: 1848, dtype: int64"
      ]
     },
     "metadata": {},
     "output_type": "display_data"
    },
    {
     "name": "stdout",
     "output_type": "stream",
     "text": [
      "\n",
      "\n"
     ]
    },
    {
     "data": {
      "text/plain": [
       "rad51c\n",
       "-0.0483    3\n",
       " 0.2929    3\n",
       " 0.1819    3\n",
       " 0.1722    3\n",
       "-0.5875    3\n",
       "          ..\n",
       " 0.8501    1\n",
       "-0.2374    1\n",
       "-0.4563    1\n",
       " 0.5061    1\n",
       " 1.2270    1\n",
       "Name: count, Length: 1770, dtype: int64"
      ]
     },
     "metadata": {},
     "output_type": "display_data"
    },
    {
     "name": "stdout",
     "output_type": "stream",
     "text": [
      "\n",
      "\n"
     ]
    },
    {
     "data": {
      "text/plain": [
       "rad51d\n",
       "-0.0208    4\n",
       " 0.1077    4\n",
       " 0.3681    3\n",
       "-0.7443    3\n",
       "-0.4898    3\n",
       "          ..\n",
       "-0.9316    1\n",
       " 2.1132    1\n",
       " 1.1646    1\n",
       " 0.7659    1\n",
       "-0.3369    1\n",
       "Name: count, Length: 1761, dtype: int64"
      ]
     },
     "metadata": {},
     "output_type": "display_data"
    },
    {
     "name": "stdout",
     "output_type": "stream",
     "text": [
      "\n",
      "\n"
     ]
    },
    {
     "data": {
      "text/plain": [
       "rad50\n",
       " 0.4535    3\n",
       " 0.6535    2\n",
       "-0.1869    2\n",
       "-0.0610    2\n",
       " 0.5155    2\n",
       "          ..\n",
       "-0.5856    1\n",
       "-0.4530    1\n",
       "-0.8086    1\n",
       " 0.4974    1\n",
       " 1.2102    1\n",
       "Name: count, Length: 1846, dtype: int64"
      ]
     },
     "metadata": {},
     "output_type": "display_data"
    },
    {
     "name": "stdout",
     "output_type": "stream",
     "text": [
      "\n",
      "\n"
     ]
    },
    {
     "data": {
      "text/plain": [
       "rb1\n",
       "-0.1757    4\n",
       "-0.4649    3\n",
       "-0.2386    3\n",
       " 0.6543    3\n",
       "-0.3443    2\n",
       "          ..\n",
       " 0.2536    1\n",
       "-0.4724    1\n",
       " 0.5157    1\n",
       " 1.3477    1\n",
       " 0.8727    1\n",
       "Name: count, Length: 1799, dtype: int64"
      ]
     },
     "metadata": {},
     "output_type": "display_data"
    },
    {
     "name": "stdout",
     "output_type": "stream",
     "text": [
      "\n",
      "\n"
     ]
    },
    {
     "data": {
      "text/plain": [
       "rbl1\n",
       " 0.6916    3\n",
       "-0.1235    3\n",
       " 0.2303    3\n",
       " 2.1951    2\n",
       " 0.8841    2\n",
       "          ..\n",
       "-0.8851    1\n",
       "-0.9876    1\n",
       " 1.4397    1\n",
       " 0.1798    1\n",
       " 0.0104    1\n",
       "Name: count, Length: 1789, dtype: int64"
      ]
     },
     "metadata": {},
     "output_type": "display_data"
    },
    {
     "name": "stdout",
     "output_type": "stream",
     "text": [
      "\n",
      "\n"
     ]
    },
    {
     "data": {
      "text/plain": [
       "rbl2\n",
       " 0.2159    4\n",
       " 0.2636    4\n",
       " 0.3898    3\n",
       "-0.6944    3\n",
       " 0.0195    3\n",
       "          ..\n",
       " 0.0299    1\n",
       " 0.1767    1\n",
       "-1.3072    1\n",
       "-0.4833    1\n",
       " 1.1853    1\n",
       "Name: count, Length: 1704, dtype: int64"
      ]
     },
     "metadata": {},
     "output_type": "display_data"
    },
    {
     "name": "stdout",
     "output_type": "stream",
     "text": [
      "\n",
      "\n"
     ]
    },
    {
     "data": {
      "text/plain": [
       "ccna1\n",
       "-0.1499    3\n",
       "-0.0669    3\n",
       "-0.3640    3\n",
       "-0.5534    3\n",
       " 0.0312    3\n",
       "          ..\n",
       " 0.1476    1\n",
       "-0.0759    1\n",
       "-0.3475    1\n",
       "-0.2777    1\n",
       " 0.1034    1\n",
       "Name: count, Length: 1791, dtype: int64"
      ]
     },
     "metadata": {},
     "output_type": "display_data"
    },
    {
     "name": "stdout",
     "output_type": "stream",
     "text": [
      "\n",
      "\n"
     ]
    },
    {
     "data": {
      "text/plain": [
       "ccnb1\n",
       " 0.5461    3\n",
       " 0.7596    2\n",
       " 0.6962    2\n",
       "-0.0422    2\n",
       " 0.3516    2\n",
       "          ..\n",
       " 1.1028    1\n",
       "-0.5803    1\n",
       "-0.8789    1\n",
       " 0.4696    1\n",
       "-1.6635    1\n",
       "Name: count, Length: 1855, dtype: int64"
      ]
     },
     "metadata": {},
     "output_type": "display_data"
    },
    {
     "name": "stdout",
     "output_type": "stream",
     "text": [
      "\n",
      "\n"
     ]
    },
    {
     "data": {
      "text/plain": [
       "cdk1\n",
       "-0.3074    3\n",
       " 0.0235    3\n",
       "-0.2002    3\n",
       " 0.2325    2\n",
       " 0.0481    2\n",
       "          ..\n",
       " 0.8630    1\n",
       "-0.1917    1\n",
       "-0.7400    1\n",
       "-0.1611    1\n",
       " 0.3048    1\n",
       "Name: count, Length: 1817, dtype: int64"
      ]
     },
     "metadata": {},
     "output_type": "display_data"
    },
    {
     "name": "stdout",
     "output_type": "stream",
     "text": [
      "\n",
      "\n"
     ]
    },
    {
     "data": {
      "text/plain": [
       "ccne1\n",
       "-0.1546    2\n",
       "-0.4634    2\n",
       "-1.0595    2\n",
       " 0.1460    2\n",
       "-0.8563    2\n",
       "          ..\n",
       "-0.1712    1\n",
       "-0.8399    1\n",
       "-0.5129    1\n",
       "-0.7720    1\n",
       "-0.6273    1\n",
       "Name: count, Length: 1845, dtype: int64"
      ]
     },
     "metadata": {},
     "output_type": "display_data"
    },
    {
     "name": "stdout",
     "output_type": "stream",
     "text": [
      "\n",
      "\n"
     ]
    },
    {
     "data": {
      "text/plain": [
       "cdk2\n",
       " 0.0120    3\n",
       "-0.3193    3\n",
       " 0.1414    3\n",
       "-0.7533    3\n",
       "-0.3752    3\n",
       "          ..\n",
       " 0.1010    1\n",
       "-0.1444    1\n",
       " 0.6033    1\n",
       " 1.1822    1\n",
       "-0.3839    1\n",
       "Name: count, Length: 1707, dtype: int64"
      ]
     },
     "metadata": {},
     "output_type": "display_data"
    },
    {
     "name": "stdout",
     "output_type": "stream",
     "text": [
      "\n",
      "\n"
     ]
    },
    {
     "data": {
      "text/plain": [
       "cdc25a\n",
       " 0.4878    3\n",
       "-0.8172    3\n",
       "-0.1357    3\n",
       "-0.6248    2\n",
       "-0.4086    2\n",
       "          ..\n",
       "-0.3796    1\n",
       " 0.9969    1\n",
       " 0.3925    1\n",
       "-1.0722    1\n",
       "-0.3827    1\n",
       "Name: count, Length: 1798, dtype: int64"
      ]
     },
     "metadata": {},
     "output_type": "display_data"
    },
    {
     "name": "stdout",
     "output_type": "stream",
     "text": [
      "\n",
      "\n"
     ]
    },
    {
     "data": {
      "text/plain": [
       "ccnd1\n",
       " 1.7798    19\n",
       " 2.0010    16\n",
       " 1.1600    14\n",
       " 0.8870    14\n",
       " 0.8217    14\n",
       "           ..\n",
       "-1.7870     1\n",
       "-3.3067     1\n",
       "-2.7928     1\n",
       "-1.2206     1\n",
       "-1.0187     1\n",
       "Name: count, Length: 1074, dtype: int64"
      ]
     },
     "metadata": {},
     "output_type": "display_data"
    },
    {
     "name": "stdout",
     "output_type": "stream",
     "text": [
      "\n",
      "\n"
     ]
    },
    {
     "data": {
      "text/plain": [
       "cdk4\n",
       "-0.2863    6\n",
       "-0.1843    6\n",
       "-0.5312    6\n",
       "-0.4928    5\n",
       "-0.3598    5\n",
       "          ..\n",
       " 1.2314    1\n",
       "-1.8863    1\n",
       "-2.4795    1\n",
       "-1.0471    1\n",
       "-1.1391    1\n",
       "Name: count, Length: 1475, dtype: int64"
      ]
     },
     "metadata": {},
     "output_type": "display_data"
    },
    {
     "name": "stdout",
     "output_type": "stream",
     "text": [
      "\n",
      "\n"
     ]
    },
    {
     "data": {
      "text/plain": [
       "cdk6\n",
       "-0.6852    2\n",
       "-0.6166    2\n",
       " 0.1966    2\n",
       "-0.5587    2\n",
       "-0.2434    2\n",
       "          ..\n",
       " 0.1415    1\n",
       "-0.0075    1\n",
       "-0.8645    1\n",
       " 0.0215    1\n",
       " 0.6262    1\n",
       "Name: count, Length: 1849, dtype: int64"
      ]
     },
     "metadata": {},
     "output_type": "display_data"
    },
    {
     "name": "stdout",
     "output_type": "stream",
     "text": [
      "\n",
      "\n"
     ]
    },
    {
     "data": {
      "text/plain": [
       "ccnd2\n",
       "-0.8299    3\n",
       " 0.7869    3\n",
       "-0.7485    2\n",
       " 0.7026    2\n",
       " 0.4614    2\n",
       "          ..\n",
       " 0.4548    1\n",
       "-0.0739    1\n",
       " 0.0134    1\n",
       "-0.7720    1\n",
       " 1.1455    1\n",
       "Name: count, Length: 1846, dtype: int64"
      ]
     },
     "metadata": {},
     "output_type": "display_data"
    },
    {
     "name": "stdout",
     "output_type": "stream",
     "text": [
      "\n",
      "\n"
     ]
    },
    {
     "data": {
      "text/plain": [
       "cdkn2a\n",
       " 0.2189    4\n",
       "-0.3525    3\n",
       "-0.4164    3\n",
       "-0.3741    3\n",
       "-0.1219    3\n",
       "          ..\n",
       " 1.5959    1\n",
       "-0.6435    1\n",
       " 3.0690    1\n",
       " 2.5135    1\n",
       " 0.7799    1\n",
       "Name: count, Length: 1784, dtype: int64"
      ]
     },
     "metadata": {},
     "output_type": "display_data"
    },
    {
     "name": "stdout",
     "output_type": "stream",
     "text": [
      "\n",
      "\n"
     ]
    },
    {
     "data": {
      "text/plain": [
       "cdkn2b\n",
       " 0.1639    2\n",
       "-1.2571    2\n",
       " 0.1326    2\n",
       "-1.0428    2\n",
       " 0.7954    2\n",
       "          ..\n",
       "-0.5326    1\n",
       " 0.7745    1\n",
       "-0.2874    1\n",
       "-0.8469    1\n",
       "-0.8667    1\n",
       "Name: count, Length: 1860, dtype: int64"
      ]
     },
     "metadata": {},
     "output_type": "display_data"
    },
    {
     "name": "stdout",
     "output_type": "stream",
     "text": [
      "\n",
      "\n"
     ]
    },
    {
     "data": {
      "text/plain": [
       "myc\n",
       "-0.8727    3\n",
       "-0.5508    3\n",
       "-1.4102    2\n",
       " 0.5992    2\n",
       "-0.4978    2\n",
       "          ..\n",
       " 0.2638    1\n",
       "-1.4517    1\n",
       " 0.1449    1\n",
       "-0.8656    1\n",
       " 2.5602    1\n",
       "Name: count, Length: 1857, dtype: int64"
      ]
     },
     "metadata": {},
     "output_type": "display_data"
    },
    {
     "name": "stdout",
     "output_type": "stream",
     "text": [
      "\n",
      "\n"
     ]
    },
    {
     "data": {
      "text/plain": [
       "cdkn1a\n",
       " 1.5332    3\n",
       " 0.8227    3\n",
       " 0.2339    3\n",
       " 0.6577    2\n",
       "-1.1182    2\n",
       "          ..\n",
       "-0.1683    1\n",
       "-0.0893    1\n",
       " 0.9900    1\n",
       " 0.6606    1\n",
       " 0.8079    1\n",
       "Name: count, Length: 1850, dtype: int64"
      ]
     },
     "metadata": {},
     "output_type": "display_data"
    },
    {
     "name": "stdout",
     "output_type": "stream",
     "text": [
      "\n",
      "\n"
     ]
    },
    {
     "data": {
      "text/plain": [
       "cdkn1b\n",
       "-0.4672    3\n",
       "-0.0369    3\n",
       "-0.3940    3\n",
       " 0.9703    3\n",
       "-0.2621    3\n",
       "          ..\n",
       "-1.6627    1\n",
       " 0.4043    1\n",
       " 0.0939    1\n",
       "-0.0948    1\n",
       "-0.9494    1\n",
       "Name: count, Length: 1809, dtype: int64"
      ]
     },
     "metadata": {},
     "output_type": "display_data"
    },
    {
     "name": "stdout",
     "output_type": "stream",
     "text": [
      "\n",
      "\n"
     ]
    },
    {
     "data": {
      "text/plain": [
       "e2f1\n",
       "-0.1669    3\n",
       "-0.4035    3\n",
       " 0.1081    3\n",
       "-0.6696    2\n",
       " 0.2346    2\n",
       "          ..\n",
       " 0.4569    1\n",
       " 0.8818    1\n",
       "-1.7934    1\n",
       " 2.3934    1\n",
       "-1.7062    1\n",
       "Name: count, Length: 1824, dtype: int64"
      ]
     },
     "metadata": {},
     "output_type": "display_data"
    },
    {
     "name": "stdout",
     "output_type": "stream",
     "text": [
      "\n",
      "\n"
     ]
    },
    {
     "data": {
      "text/plain": [
       "e2f2\n",
       "-0.9406    3\n",
       "-0.1868    3\n",
       " 0.6462    3\n",
       " 0.4509    3\n",
       "-1.2103    2\n",
       "          ..\n",
       "-1.5404    1\n",
       "-1.7802    1\n",
       "-1.3456    1\n",
       " 0.1973    1\n",
       "-0.5522    1\n",
       "Name: count, Length: 1797, dtype: int64"
      ]
     },
     "metadata": {},
     "output_type": "display_data"
    },
    {
     "name": "stdout",
     "output_type": "stream",
     "text": [
      "\n",
      "\n"
     ]
    },
    {
     "data": {
      "text/plain": [
       "e2f3\n",
       "-0.0271    3\n",
       "-0.7661    2\n",
       "-0.2386    2\n",
       "-1.0352    2\n",
       " 0.6019    2\n",
       "          ..\n",
       "-0.3164    1\n",
       " 0.1169    1\n",
       "-0.6259    1\n",
       "-0.9907    1\n",
       "-1.3629    1\n",
       "Name: count, Length: 1857, dtype: int64"
      ]
     },
     "metadata": {},
     "output_type": "display_data"
    },
    {
     "name": "stdout",
     "output_type": "stream",
     "text": [
      "\n",
      "\n"
     ]
    },
    {
     "data": {
      "text/plain": [
       "e2f4\n",
       " 0.4428    4\n",
       "-0.7869    3\n",
       "-0.1844    3\n",
       "-0.8333    3\n",
       " 0.9162    3\n",
       "          ..\n",
       "-0.9886    1\n",
       " 0.5092    1\n",
       "-0.8927    1\n",
       "-1.9339    1\n",
       "-0.5037    1\n",
       "Name: count, Length: 1700, dtype: int64"
      ]
     },
     "metadata": {},
     "output_type": "display_data"
    },
    {
     "name": "stdout",
     "output_type": "stream",
     "text": [
      "\n",
      "\n"
     ]
    },
    {
     "data": {
      "text/plain": [
       "e2f5\n",
       "-0.0733    3\n",
       " 0.7426    3\n",
       "-0.2569    3\n",
       "-0.6370    3\n",
       " 0.5020    3\n",
       "          ..\n",
       "-0.7155    1\n",
       " 0.4393    1\n",
       "-0.7528    1\n",
       "-0.4445    1\n",
       " 1.8323    1\n",
       "Name: count, Length: 1782, dtype: int64"
      ]
     },
     "metadata": {},
     "output_type": "display_data"
    },
    {
     "name": "stdout",
     "output_type": "stream",
     "text": [
      "\n",
      "\n"
     ]
    },
    {
     "data": {
      "text/plain": [
       "e2f6\n",
       " 0.4549    3\n",
       "-0.8491    3\n",
       "-1.3053    2\n",
       " 0.0953    2\n",
       "-0.9546    2\n",
       "          ..\n",
       "-0.0017    1\n",
       " 0.6890    1\n",
       "-0.5152    1\n",
       " 0.5818    1\n",
       "-0.3793    1\n",
       "Name: count, Length: 1845, dtype: int64"
      ]
     },
     "metadata": {},
     "output_type": "display_data"
    },
    {
     "name": "stdout",
     "output_type": "stream",
     "text": [
      "\n",
      "\n"
     ]
    },
    {
     "data": {
      "text/plain": [
       "e2f7\n",
       "-0.2325    4\n",
       " 1.3218    3\n",
       " 0.5460    3\n",
       "-0.3302    2\n",
       "-0.7394    2\n",
       "          ..\n",
       " 1.7948    1\n",
       "-0.0476    1\n",
       " 0.0959    1\n",
       "-1.4298    1\n",
       "-1.0929    1\n",
       "Name: count, Length: 1824, dtype: int64"
      ]
     },
     "metadata": {},
     "output_type": "display_data"
    },
    {
     "name": "stdout",
     "output_type": "stream",
     "text": [
      "\n",
      "\n"
     ]
    },
    {
     "data": {
      "text/plain": [
       "e2f8\n",
       " 0.3500    3\n",
       "-0.0207    3\n",
       " 0.2144    3\n",
       "-0.1166    3\n",
       "-1.0417    3\n",
       "          ..\n",
       " 2.5799    1\n",
       "-0.3747    1\n",
       "-0.7707    1\n",
       "-1.1856    1\n",
       "-1.4254    1\n",
       "Name: count, Length: 1808, dtype: int64"
      ]
     },
     "metadata": {},
     "output_type": "display_data"
    },
    {
     "name": "stdout",
     "output_type": "stream",
     "text": [
      "\n",
      "\n"
     ]
    },
    {
     "data": {
      "text/plain": [
       "src\n",
       " 0.6035    4\n",
       "-0.2644    4\n",
       " 0.6570    3\n",
       "-0.3734    3\n",
       " 0.0245    3\n",
       "          ..\n",
       "-0.0557    1\n",
       "-0.1670    1\n",
       "-1.8325    1\n",
       "-0.5189    1\n",
       "-1.0737    1\n",
       "Name: count, Length: 1743, dtype: int64"
      ]
     },
     "metadata": {},
     "output_type": "display_data"
    },
    {
     "name": "stdout",
     "output_type": "stream",
     "text": [
      "\n",
      "\n"
     ]
    },
    {
     "data": {
      "text/plain": [
       "jak1\n",
       "-0.3341    4\n",
       "-0.1910    3\n",
       " 0.3477    3\n",
       " 0.1927    3\n",
       " 0.2133    3\n",
       "          ..\n",
       "-1.2509    1\n",
       "-1.0733    1\n",
       " 0.2633    1\n",
       " 0.6345    1\n",
       " 1.1097    1\n",
       "Name: count, Length: 1761, dtype: int64"
      ]
     },
     "metadata": {},
     "output_type": "display_data"
    },
    {
     "name": "stdout",
     "output_type": "stream",
     "text": [
      "\n",
      "\n"
     ]
    },
    {
     "data": {
      "text/plain": [
       "jak2\n",
       "-1.0428    3\n",
       "-0.1009    3\n",
       " 0.2479    3\n",
       " 0.2037    3\n",
       "-0.7602    3\n",
       "          ..\n",
       " 0.3738    1\n",
       "-0.1691    1\n",
       " 0.5868    1\n",
       " 0.7773    1\n",
       " 0.4507    1\n",
       "Name: count, Length: 1753, dtype: int64"
      ]
     },
     "metadata": {},
     "output_type": "display_data"
    },
    {
     "name": "stdout",
     "output_type": "stream",
     "text": [
      "\n",
      "\n"
     ]
    },
    {
     "data": {
      "text/plain": [
       "stat1\n",
       " 1.6720    6\n",
       " 0.8918    6\n",
       " 1.6254    5\n",
       " 2.0836    5\n",
       " 0.7719    5\n",
       "          ..\n",
       "-0.6593    1\n",
       "-0.1567    1\n",
       "-0.6665    1\n",
       "-0.0993    1\n",
       "-1.1636    1\n",
       "Name: count, Length: 1588, dtype: int64"
      ]
     },
     "metadata": {},
     "output_type": "display_data"
    },
    {
     "name": "stdout",
     "output_type": "stream",
     "text": [
      "\n",
      "\n"
     ]
    },
    {
     "data": {
      "text/plain": [
       "stat2\n",
       " 0.1770    7\n",
       " 0.0432    6\n",
       " 0.9085    6\n",
       "-0.2969    5\n",
       " 0.1225    5\n",
       "          ..\n",
       "-0.4096    1\n",
       "-1.4839    1\n",
       "-1.4518    1\n",
       "-1.1856    1\n",
       "-1.2864    1\n",
       "Name: count, Length: 1370, dtype: int64"
      ]
     },
     "metadata": {},
     "output_type": "display_data"
    },
    {
     "name": "stdout",
     "output_type": "stream",
     "text": [
      "\n",
      "\n"
     ]
    },
    {
     "data": {
      "text/plain": [
       "stat3\n",
       " 0.5841    4\n",
       " 0.2063    3\n",
       " 0.3530    3\n",
       "-0.2486    3\n",
       "-1.1008    3\n",
       "          ..\n",
       " 0.4271    1\n",
       "-0.2465    1\n",
       " 0.5145    1\n",
       "-1.4419    1\n",
       "-2.4856    1\n",
       "Name: count, Length: 1722, dtype: int64"
      ]
     },
     "metadata": {},
     "output_type": "display_data"
    },
    {
     "name": "stdout",
     "output_type": "stream",
     "text": [
      "\n",
      "\n"
     ]
    },
    {
     "data": {
      "text/plain": [
       "stat5a\n",
       " 0.4443    3\n",
       " 1.5332    3\n",
       " 0.4369    3\n",
       "-0.2576    3\n",
       " 0.8510    3\n",
       "          ..\n",
       " 3.0060    1\n",
       "-0.3306    1\n",
       " 0.6434    1\n",
       "-0.6521    1\n",
       "-0.8535    1\n",
       "Name: count, Length: 1766, dtype: int64"
      ]
     },
     "metadata": {},
     "output_type": "display_data"
    },
    {
     "name": "stdout",
     "output_type": "stream",
     "text": [
      "\n",
      "\n"
     ]
    },
    {
     "data": {
      "text/plain": [
       "stat5b\n",
       " 0.0609    3\n",
       "-1.3276    3\n",
       "-1.1215    3\n",
       " 0.1096    3\n",
       " 0.4877    3\n",
       "          ..\n",
       " 1.3548    1\n",
       "-0.6199    1\n",
       "-0.6287    1\n",
       " 0.2596    1\n",
       " 2.5773    1\n",
       "Name: count, Length: 1777, dtype: int64"
      ]
     },
     "metadata": {},
     "output_type": "display_data"
    },
    {
     "name": "stdout",
     "output_type": "stream",
     "text": [
      "\n",
      "\n"
     ]
    },
    {
     "data": {
      "text/plain": [
       "mdm2\n",
       "-0.3060    2\n",
       "-0.7474    2\n",
       " 0.2948    2\n",
       " 0.6235    2\n",
       "-0.0063    2\n",
       "          ..\n",
       " 0.3920    1\n",
       " 0.5692    1\n",
       "-0.3054    1\n",
       "-0.0699    1\n",
       "-0.2006    1\n",
       "Name: count, Length: 1838, dtype: int64"
      ]
     },
     "metadata": {},
     "output_type": "display_data"
    },
    {
     "name": "stdout",
     "output_type": "stream",
     "text": [
      "\n",
      "\n"
     ]
    },
    {
     "data": {
      "text/plain": [
       "tp53bp1\n",
       " 0.5565    3\n",
       " 0.0606    3\n",
       " 0.8746    2\n",
       "-0.0360    2\n",
       "-0.4372    2\n",
       "          ..\n",
       " 1.2126    1\n",
       " 0.2038    1\n",
       "-0.9967    1\n",
       "-0.3446    1\n",
       "-0.9702    1\n",
       "Name: count, Length: 1849, dtype: int64"
      ]
     },
     "metadata": {},
     "output_type": "display_data"
    },
    {
     "name": "stdout",
     "output_type": "stream",
     "text": [
      "\n",
      "\n"
     ]
    },
    {
     "data": {
      "text/plain": [
       "adam10\n",
       " 0.2623    4\n",
       " 0.8731    4\n",
       " 0.2244    4\n",
       " 0.7260    3\n",
       "-1.1450    3\n",
       "          ..\n",
       "-0.6972    1\n",
       "-0.1093    1\n",
       " 0.8701    1\n",
       "-0.0129    1\n",
       " 0.9512    1\n",
       "Name: count, Length: 1748, dtype: int64"
      ]
     },
     "metadata": {},
     "output_type": "display_data"
    },
    {
     "name": "stdout",
     "output_type": "stream",
     "text": [
      "\n",
      "\n"
     ]
    },
    {
     "data": {
      "text/plain": [
       "adam17\n",
       " 0.1968    4\n",
       " 0.2334    4\n",
       "-0.1663    3\n",
       " 0.0838    3\n",
       "-0.7085    3\n",
       "          ..\n",
       "-0.0144    1\n",
       " 2.1433    1\n",
       " 0.0570    1\n",
       " 0.5555    1\n",
       " 0.8721    1\n",
       "Name: count, Length: 1695, dtype: int64"
      ]
     },
     "metadata": {},
     "output_type": "display_data"
    },
    {
     "name": "stdout",
     "output_type": "stream",
     "text": [
      "\n",
      "\n"
     ]
    },
    {
     "data": {
      "text/plain": [
       "aph1a\n",
       " 0.4448    3\n",
       " 0.1851    3\n",
       " 1.4062    3\n",
       "-0.5246    3\n",
       "-0.4536    3\n",
       "          ..\n",
       " 0.6221    1\n",
       "-1.0956    1\n",
       " 0.7965    1\n",
       " 0.9800    1\n",
       " 0.2310    1\n",
       "Name: count, Length: 1774, dtype: int64"
      ]
     },
     "metadata": {},
     "output_type": "display_data"
    },
    {
     "name": "stdout",
     "output_type": "stream",
     "text": [
      "\n",
      "\n"
     ]
    },
    {
     "data": {
      "text/plain": [
       "aph1b\n",
       " 0.2104    3\n",
       "-1.2087    2\n",
       " 0.2514    2\n",
       " 0.2254    2\n",
       "-0.4187    2\n",
       "          ..\n",
       " 1.7577    1\n",
       " 0.3830    1\n",
       "-0.8761    1\n",
       " 0.5575    1\n",
       "-0.3213    1\n",
       "Name: count, Length: 1863, dtype: int64"
      ]
     },
     "metadata": {},
     "output_type": "display_data"
    },
    {
     "name": "stdout",
     "output_type": "stream",
     "text": [
      "\n",
      "\n"
     ]
    },
    {
     "data": {
      "text/plain": [
       "arrdc1\n",
       " 0.7695    3\n",
       " 0.7303    3\n",
       "-0.5997    3\n",
       "-0.1873    3\n",
       "-0.3460    3\n",
       "          ..\n",
       " 2.6273    1\n",
       " 0.5591    1\n",
       "-0.0302    1\n",
       "-0.9659    1\n",
       "-0.1524    1\n",
       "Name: count, Length: 1757, dtype: int64"
      ]
     },
     "metadata": {},
     "output_type": "display_data"
    },
    {
     "name": "stdout",
     "output_type": "stream",
     "text": [
      "\n",
      "\n"
     ]
    },
    {
     "data": {
      "text/plain": [
       "cir1\n",
       "-0.2619    4\n",
       "-0.2367    4\n",
       " 0.0265    4\n",
       " 0.1309    4\n",
       " 0.6214    3\n",
       "          ..\n",
       "-2.0181    1\n",
       " 1.1787    1\n",
       " 0.5706    1\n",
       " 0.0701    1\n",
       " 0.0407    1\n",
       "Name: count, Length: 1740, dtype: int64"
      ]
     },
     "metadata": {},
     "output_type": "display_data"
    },
    {
     "name": "stdout",
     "output_type": "stream",
     "text": [
      "\n",
      "\n"
     ]
    },
    {
     "data": {
      "text/plain": [
       "ctbp1\n",
       " 0.4172    5\n",
       " 0.4551    5\n",
       " 0.2663    4\n",
       "-0.2517    4\n",
       "-0.1077    4\n",
       "          ..\n",
       "-2.5994    1\n",
       " 0.3238    1\n",
       "-0.5366    1\n",
       "-0.9154    1\n",
       "-2.9151    1\n",
       "Name: count, Length: 1567, dtype: int64"
      ]
     },
     "metadata": {},
     "output_type": "display_data"
    },
    {
     "name": "stdout",
     "output_type": "stream",
     "text": [
      "\n",
      "\n"
     ]
    },
    {
     "data": {
      "text/plain": [
       "ctbp2\n",
       "-0.8360    3\n",
       "-0.6139    2\n",
       "-0.4318    2\n",
       "-0.8710    2\n",
       " 0.0807    2\n",
       "          ..\n",
       "-0.3622    1\n",
       " 0.8565    1\n",
       "-0.8186    1\n",
       "-1.4715    1\n",
       "-1.8737    1\n",
       "Name: count, Length: 1854, dtype: int64"
      ]
     },
     "metadata": {},
     "output_type": "display_data"
    },
    {
     "name": "stdout",
     "output_type": "stream",
     "text": [
      "\n",
      "\n"
     ]
    },
    {
     "data": {
      "text/plain": [
       "cul1\n",
       "-0.7835    4\n",
       "-0.2637    4\n",
       " 0.6381    3\n",
       " 1.3511    3\n",
       " 0.1457    3\n",
       "          ..\n",
       "-0.0467    1\n",
       "-0.6839    1\n",
       "-1.1976    1\n",
       "-0.2940    1\n",
       "-1.2112    1\n",
       "Name: count, Length: 1666, dtype: int64"
      ]
     },
     "metadata": {},
     "output_type": "display_data"
    },
    {
     "name": "stdout",
     "output_type": "stream",
     "text": [
      "\n",
      "\n"
     ]
    },
    {
     "data": {
      "text/plain": [
       "dll1\n",
       "-0.4257    3\n",
       " 0.3234    3\n",
       " 1.0584    3\n",
       " 0.1125    3\n",
       "-0.1258    3\n",
       "          ..\n",
       " 0.1778    1\n",
       "-1.7745    1\n",
       "-1.5889    1\n",
       "-1.6964    1\n",
       " 0.2016    1\n",
       "Name: count, Length: 1776, dtype: int64"
      ]
     },
     "metadata": {},
     "output_type": "display_data"
    },
    {
     "name": "stdout",
     "output_type": "stream",
     "text": [
      "\n",
      "\n"
     ]
    },
    {
     "data": {
      "text/plain": [
       "dll3\n",
       "-0.5094    4\n",
       "-0.4387    3\n",
       "-0.4513    3\n",
       "-0.4358    3\n",
       "-0.3966    3\n",
       "          ..\n",
       "-0.7466    1\n",
       "-0.1797    1\n",
       "-0.3949    1\n",
       "-0.2852    1\n",
       "-0.1307    1\n",
       "Name: count, Length: 1786, dtype: int64"
      ]
     },
     "metadata": {},
     "output_type": "display_data"
    },
    {
     "name": "stdout",
     "output_type": "stream",
     "text": [
      "\n",
      "\n"
     ]
    },
    {
     "data": {
      "text/plain": [
       "dll4\n",
       "-0.4311    3\n",
       "-0.5061    3\n",
       " 0.4018    3\n",
       " 1.8927    2\n",
       " 0.9292    2\n",
       "          ..\n",
       "-0.7574    1\n",
       "-2.2674    1\n",
       "-0.9207    1\n",
       "-1.1280    1\n",
       " 1.1867    1\n",
       "Name: count, Length: 1818, dtype: int64"
      ]
     },
     "metadata": {},
     "output_type": "display_data"
    },
    {
     "name": "stdout",
     "output_type": "stream",
     "text": [
      "\n",
      "\n"
     ]
    },
    {
     "data": {
      "text/plain": [
       "dtx1\n",
       "-0.7103    3\n",
       "-0.9584    2\n",
       " 0.5634    2\n",
       "-0.3867    2\n",
       " 0.6560    2\n",
       "          ..\n",
       "-0.4026    1\n",
       " 0.7337    1\n",
       "-1.3478    1\n",
       " 0.6299    1\n",
       " 1.7100    1\n",
       "Name: count, Length: 1823, dtype: int64"
      ]
     },
     "metadata": {},
     "output_type": "display_data"
    },
    {
     "name": "stdout",
     "output_type": "stream",
     "text": [
      "\n",
      "\n"
     ]
    },
    {
     "data": {
      "text/plain": [
       "dtx2\n",
       " 0.4256    3\n",
       "-0.7746    2\n",
       "-0.0102    2\n",
       "-0.4075    2\n",
       "-0.7034    2\n",
       "          ..\n",
       " 0.0558    1\n",
       "-0.1477    1\n",
       " 0.7912    1\n",
       " 1.0720    1\n",
       "-1.2525    1\n",
       "Name: count, Length: 1850, dtype: int64"
      ]
     },
     "metadata": {},
     "output_type": "display_data"
    },
    {
     "name": "stdout",
     "output_type": "stream",
     "text": [
      "\n",
      "\n"
     ]
    },
    {
     "data": {
      "text/plain": [
       "dtx3\n",
       "-0.7991    3\n",
       " 0.0427    3\n",
       "-0.8364    3\n",
       " 0.1913    3\n",
       "-0.3906    3\n",
       "          ..\n",
       "-0.5717    1\n",
       "-0.1044    1\n",
       "-0.1502    1\n",
       "-0.8624    1\n",
       "-0.9003    1\n",
       "Name: count, Length: 1791, dtype: int64"
      ]
     },
     "metadata": {},
     "output_type": "display_data"
    },
    {
     "name": "stdout",
     "output_type": "stream",
     "text": [
      "\n",
      "\n"
     ]
    },
    {
     "data": {
      "text/plain": [
       "dtx4\n",
       " 0.6050    3\n",
       "-0.6827    3\n",
       "-0.4057    3\n",
       "-0.4359    2\n",
       "-0.1842    2\n",
       "          ..\n",
       "-1.0707    1\n",
       " 1.1045    1\n",
       " 0.5532    1\n",
       "-1.4252    1\n",
       "-1.4997    1\n",
       "Name: count, Length: 1825, dtype: int64"
      ]
     },
     "metadata": {},
     "output_type": "display_data"
    },
    {
     "name": "stdout",
     "output_type": "stream",
     "text": [
      "\n",
      "\n"
     ]
    },
    {
     "data": {
      "text/plain": [
       "ep300\n",
       " 0.8366    3\n",
       "-0.6755    3\n",
       " 1.3582    3\n",
       " 0.6179    3\n",
       " 0.6917    3\n",
       "          ..\n",
       "-2.2534    1\n",
       " 0.8786    1\n",
       "-3.3056    1\n",
       "-0.3187    1\n",
       " 1.1061    1\n",
       "Name: count, Length: 1752, dtype: int64"
      ]
     },
     "metadata": {},
     "output_type": "display_data"
    },
    {
     "name": "stdout",
     "output_type": "stream",
     "text": [
      "\n",
      "\n"
     ]
    },
    {
     "data": {
      "text/plain": [
       "fbxw7\n",
       "-0.5661    3\n",
       " 0.5610    3\n",
       "-0.7388    3\n",
       "-0.4874    3\n",
       " 0.4939    3\n",
       "          ..\n",
       "-0.0550    1\n",
       "-0.2942    1\n",
       " 0.4491    1\n",
       " 0.0821    1\n",
       "-1.4245    1\n",
       "Name: count, Length: 1774, dtype: int64"
      ]
     },
     "metadata": {},
     "output_type": "display_data"
    },
    {
     "name": "stdout",
     "output_type": "stream",
     "text": [
      "\n",
      "\n"
     ]
    },
    {
     "data": {
      "text/plain": [
       "hdac1\n",
       " 0.2618    8\n",
       "-0.2024    7\n",
       "-0.1713    7\n",
       " 0.4370    7\n",
       " 0.0175    6\n",
       "          ..\n",
       " 1.3856    1\n",
       "-2.2359    1\n",
       "-1.1977    1\n",
       "-1.2263    1\n",
       " 0.4040    1\n",
       "Name: count, Length: 1328, dtype: int64"
      ]
     },
     "metadata": {},
     "output_type": "display_data"
    },
    {
     "name": "stdout",
     "output_type": "stream",
     "text": [
      "\n",
      "\n"
     ]
    },
    {
     "data": {
      "text/plain": [
       "hdac2\n",
       "-0.1386    5\n",
       "-0.0688    4\n",
       " 0.9755    4\n",
       " 0.0601    4\n",
       " 0.1899    4\n",
       "          ..\n",
       " 0.0861    1\n",
       "-0.8290    1\n",
       "-0.5777    1\n",
       "-1.5534    1\n",
       "-0.3374    1\n",
       "Name: count, Length: 1609, dtype: int64"
      ]
     },
     "metadata": {},
     "output_type": "display_data"
    },
    {
     "name": "stdout",
     "output_type": "stream",
     "text": [
      "\n",
      "\n"
     ]
    },
    {
     "data": {
      "text/plain": [
       "hes1\n",
       "-0.0332    3\n",
       " 0.5866    3\n",
       "-0.8381    3\n",
       "-0.1616    3\n",
       " 0.0603    3\n",
       "          ..\n",
       "-0.8593    1\n",
       " 0.2350    1\n",
       "-0.6340    1\n",
       "-0.0795    1\n",
       " 0.6595    1\n",
       "Name: count, Length: 1748, dtype: int64"
      ]
     },
     "metadata": {},
     "output_type": "display_data"
    },
    {
     "name": "stdout",
     "output_type": "stream",
     "text": [
      "\n",
      "\n"
     ]
    },
    {
     "data": {
      "text/plain": [
       "hes5\n",
       "-0.1520    3\n",
       "-0.4260    3\n",
       "-0.2558    3\n",
       "-0.4165    3\n",
       " 1.2106    3\n",
       "          ..\n",
       " 0.5849    1\n",
       " 0.9668    1\n",
       "-0.8366    1\n",
       "-0.9164    1\n",
       "-0.2735    1\n",
       "Name: count, Length: 1785, dtype: int64"
      ]
     },
     "metadata": {},
     "output_type": "display_data"
    },
    {
     "name": "stdout",
     "output_type": "stream",
     "text": [
      "\n",
      "\n"
     ]
    },
    {
     "data": {
      "text/plain": [
       "heyl\n",
       " 0.7346    4\n",
       " 0.0526    3\n",
       "-0.0563    3\n",
       "-0.3607    3\n",
       " 0.7598    3\n",
       "          ..\n",
       "-1.0497    1\n",
       "-2.0826    1\n",
       " 0.5121    1\n",
       "-0.0183    1\n",
       "-1.1804    1\n",
       "Name: count, Length: 1770, dtype: int64"
      ]
     },
     "metadata": {},
     "output_type": "display_data"
    },
    {
     "name": "stdout",
     "output_type": "stream",
     "text": [
      "\n",
      "\n"
     ]
    },
    {
     "data": {
      "text/plain": [
       "itch\n",
       "-0.5937    4\n",
       "-0.2792    4\n",
       " 0.0996    4\n",
       " 0.1697    3\n",
       " 0.9212    3\n",
       "          ..\n",
       " 1.2076    1\n",
       "-0.2701    1\n",
       "-0.7726    1\n",
       "-0.2923    1\n",
       " 0.5794    1\n",
       "Name: count, Length: 1685, dtype: int64"
      ]
     },
     "metadata": {},
     "output_type": "display_data"
    },
    {
     "name": "stdout",
     "output_type": "stream",
     "text": [
      "\n",
      "\n"
     ]
    },
    {
     "data": {
      "text/plain": [
       "jag1\n",
       " 0.0449    4\n",
       " 0.4884    3\n",
       "-0.2309    3\n",
       " 0.3803    3\n",
       " 0.9339    3\n",
       "          ..\n",
       "-1.7560    1\n",
       "-0.9215    1\n",
       "-0.3542    1\n",
       " 0.3948    1\n",
       "-1.0480    1\n",
       "Name: count, Length: 1755, dtype: int64"
      ]
     },
     "metadata": {},
     "output_type": "display_data"
    },
    {
     "name": "stdout",
     "output_type": "stream",
     "text": [
      "\n",
      "\n"
     ]
    },
    {
     "data": {
      "text/plain": [
       "jag2\n",
       "-0.4538    4\n",
       "-0.0749    3\n",
       " 1.3041    3\n",
       " 0.6493    3\n",
       " 1.1770    3\n",
       "          ..\n",
       "-0.9817    1\n",
       "-0.4607    1\n",
       "-0.0533    1\n",
       " 0.0117    1\n",
       "-0.7229    1\n",
       "Name: count, Length: 1768, dtype: int64"
      ]
     },
     "metadata": {},
     "output_type": "display_data"
    },
    {
     "name": "stdout",
     "output_type": "stream",
     "text": [
      "\n",
      "\n"
     ]
    },
    {
     "data": {
      "text/plain": [
       "kdm5a\n",
       " 0.0216    3\n",
       " 0.2001    3\n",
       "-1.6967    2\n",
       "-1.2901    2\n",
       "-0.3134    2\n",
       "          ..\n",
       "-1.0159    1\n",
       " 0.7388    1\n",
       " 0.9589    1\n",
       " 0.6602    1\n",
       " 0.7122    1\n",
       "Name: count, Length: 1861, dtype: int64"
      ]
     },
     "metadata": {},
     "output_type": "display_data"
    },
    {
     "name": "stdout",
     "output_type": "stream",
     "text": [
      "\n",
      "\n"
     ]
    },
    {
     "data": {
      "text/plain": [
       "lfng\n",
       " 0.7285    3\n",
       " 0.2059    3\n",
       " 1.8819    3\n",
       " 0.1553    3\n",
       " 0.1064    3\n",
       "          ..\n",
       "-2.0299    1\n",
       "-1.4672    1\n",
       "-1.4562    1\n",
       " 0.3350    1\n",
       "-0.5428    1\n",
       "Name: count, Length: 1720, dtype: int64"
      ]
     },
     "metadata": {},
     "output_type": "display_data"
    },
    {
     "name": "stdout",
     "output_type": "stream",
     "text": [
      "\n",
      "\n"
     ]
    },
    {
     "data": {
      "text/plain": [
       "maml1\n",
       "-0.1238    3\n",
       " 0.9454    3\n",
       " 0.4879    2\n",
       " 0.7927    2\n",
       "-0.1232    2\n",
       "          ..\n",
       "-0.5633    1\n",
       "-0.1033    1\n",
       "-1.3578    1\n",
       " 0.6608    1\n",
       " 0.4352    1\n",
       "Name: count, Length: 1865, dtype: int64"
      ]
     },
     "metadata": {},
     "output_type": "display_data"
    },
    {
     "name": "stdout",
     "output_type": "stream",
     "text": [
      "\n",
      "\n"
     ]
    },
    {
     "data": {
      "text/plain": [
       "maml2\n",
       " 0.9573    3\n",
       " 0.9917    3\n",
       "-0.5545    3\n",
       " 0.4852    3\n",
       "-0.0878    2\n",
       "          ..\n",
       "-0.5989    1\n",
       " 0.5922    1\n",
       " 0.1588    1\n",
       " 0.2636    1\n",
       "-0.2630    1\n",
       "Name: count, Length: 1814, dtype: int64"
      ]
     },
     "metadata": {},
     "output_type": "display_data"
    },
    {
     "name": "stdout",
     "output_type": "stream",
     "text": [
      "\n",
      "\n"
     ]
    },
    {
     "data": {
      "text/plain": [
       "maml3\n",
       "-0.9888    3\n",
       "-0.8255    3\n",
       "-0.7529    2\n",
       "-0.2842    2\n",
       "-0.2300    2\n",
       "          ..\n",
       "-0.4888    1\n",
       " 0.2727    1\n",
       " 0.1319    1\n",
       "-0.6711    1\n",
       "-0.4333    1\n",
       "Name: count, Length: 1828, dtype: int64"
      ]
     },
     "metadata": {},
     "output_type": "display_data"
    },
    {
     "name": "stdout",
     "output_type": "stream",
     "text": [
      "\n",
      "\n"
     ]
    },
    {
     "data": {
      "text/plain": [
       "ncor2\n",
       " 1.1174    3\n",
       " 0.1178    3\n",
       "-0.3788    2\n",
       " 0.9109    2\n",
       " 0.0529    2\n",
       "          ..\n",
       " 0.0372    1\n",
       " 0.6986    1\n",
       "-1.1432    1\n",
       " 0.1793    1\n",
       "-0.9593    1\n",
       "Name: count, Length: 1854, dtype: int64"
      ]
     },
     "metadata": {},
     "output_type": "display_data"
    },
    {
     "name": "stdout",
     "output_type": "stream",
     "text": [
      "\n",
      "\n"
     ]
    },
    {
     "data": {
      "text/plain": [
       "ncstn\n",
       "-0.0307    2\n",
       "-0.5081    2\n",
       "-0.3969    2\n",
       "-0.8327    2\n",
       "-0.7509    2\n",
       "          ..\n",
       " 0.6784    1\n",
       "-0.5456    1\n",
       " 0.9712    1\n",
       " 1.8686    1\n",
       "-0.8906    1\n",
       "Name: count, Length: 1854, dtype: int64"
      ]
     },
     "metadata": {},
     "output_type": "display_data"
    },
    {
     "name": "stdout",
     "output_type": "stream",
     "text": [
      "\n",
      "\n"
     ]
    },
    {
     "data": {
      "text/plain": [
       "notch1\n",
       " 0.3817    4\n",
       "-0.7382    4\n",
       " 0.2045    4\n",
       " 0.4662    3\n",
       "-0.2559    3\n",
       "          ..\n",
       "-0.5533    1\n",
       "-0.9072    1\n",
       "-0.7758    1\n",
       "-0.9159    1\n",
       "-1.4157    1\n",
       "Name: count, Length: 1738, dtype: int64"
      ]
     },
     "metadata": {},
     "output_type": "display_data"
    },
    {
     "name": "stdout",
     "output_type": "stream",
     "text": [
      "\n",
      "\n"
     ]
    },
    {
     "data": {
      "text/plain": [
       "notch2\n",
       "-0.2731    4\n",
       "-0.1407    3\n",
       "-0.1855    3\n",
       " 0.0833    3\n",
       "-0.0231    3\n",
       "          ..\n",
       "-1.0783    1\n",
       "-0.6348    1\n",
       " 0.9404    1\n",
       " 0.2905    1\n",
       " 0.3260    1\n",
       "Name: count, Length: 1749, dtype: int64"
      ]
     },
     "metadata": {},
     "output_type": "display_data"
    },
    {
     "name": "stdout",
     "output_type": "stream",
     "text": [
      "\n",
      "\n"
     ]
    },
    {
     "data": {
      "text/plain": [
       "notch3\n",
       "-0.5680    3\n",
       " 1.0976    2\n",
       " 0.2761    2\n",
       " 0.5264    2\n",
       " 0.2551    2\n",
       "          ..\n",
       "-0.2219    1\n",
       " 0.0827    1\n",
       "-0.8829    1\n",
       " 0.0945    1\n",
       " 0.6706    1\n",
       "Name: count, Length: 1849, dtype: int64"
      ]
     },
     "metadata": {},
     "output_type": "display_data"
    },
    {
     "name": "stdout",
     "output_type": "stream",
     "text": [
      "\n",
      "\n"
     ]
    },
    {
     "data": {
      "text/plain": [
       "nrarp\n",
       " 0.0620    4\n",
       " 0.6322    4\n",
       " 0.0198    3\n",
       " 0.0008    3\n",
       "-0.0439    3\n",
       "          ..\n",
       "-3.3006    1\n",
       " 1.7307    1\n",
       " 0.4986    1\n",
       " 1.8723    1\n",
       " 0.1444    1\n",
       "Name: count, Length: 1771, dtype: int64"
      ]
     },
     "metadata": {},
     "output_type": "display_data"
    },
    {
     "name": "stdout",
     "output_type": "stream",
     "text": [
      "\n",
      "\n"
     ]
    },
    {
     "data": {
      "text/plain": [
       "numb\n",
       " 0.0151    2\n",
       " 0.1991    2\n",
       " 0.1186    2\n",
       "-0.5272    2\n",
       " 1.3205    2\n",
       "          ..\n",
       " 1.0598    1\n",
       "-0.8890    1\n",
       " 0.6061    1\n",
       " 0.5309    1\n",
       "-2.2832    1\n",
       "Name: count, Length: 1852, dtype: int64"
      ]
     },
     "metadata": {},
     "output_type": "display_data"
    },
    {
     "name": "stdout",
     "output_type": "stream",
     "text": [
      "\n",
      "\n"
     ]
    },
    {
     "data": {
      "text/plain": [
       "numbl\n",
       "-0.5048    3\n",
       "-0.1624    3\n",
       " 0.0358    3\n",
       " 0.1317    3\n",
       " 0.5343    2\n",
       "          ..\n",
       "-1.8627    1\n",
       "-1.1772    1\n",
       "-0.7511    1\n",
       "-0.6548    1\n",
       " 0.5171    1\n",
       "Name: count, Length: 1811, dtype: int64"
      ]
     },
     "metadata": {},
     "output_type": "display_data"
    },
    {
     "name": "stdout",
     "output_type": "stream",
     "text": [
      "\n",
      "\n"
     ]
    },
    {
     "data": {
      "text/plain": [
       "psen1\n",
       " 0.3384    2\n",
       " 0.6743    2\n",
       " 0.1973    2\n",
       "-0.3160    2\n",
       "-0.5074    2\n",
       "          ..\n",
       " 0.3587    1\n",
       "-0.9040    1\n",
       "-0.9256    1\n",
       "-0.9224    1\n",
       " 0.8994    1\n",
       "Name: count, Length: 1844, dtype: int64"
      ]
     },
     "metadata": {},
     "output_type": "display_data"
    },
    {
     "name": "stdout",
     "output_type": "stream",
     "text": [
      "\n",
      "\n"
     ]
    },
    {
     "data": {
      "text/plain": [
       "psen2\n",
       " 1.0114    4\n",
       " 0.1494    4\n",
       " 1.2804    3\n",
       "-0.0946    3\n",
       "-1.0861    3\n",
       "          ..\n",
       " 0.4476    1\n",
       "-1.5110    1\n",
       "-1.1725    1\n",
       " 0.9491    1\n",
       "-1.0207    1\n",
       "Name: count, Length: 1740, dtype: int64"
      ]
     },
     "metadata": {},
     "output_type": "display_data"
    },
    {
     "name": "stdout",
     "output_type": "stream",
     "text": [
      "\n",
      "\n"
     ]
    },
    {
     "data": {
      "text/plain": [
       "psenen\n",
       "-0.6801    4\n",
       " 0.2914    4\n",
       "-0.0472    4\n",
       " 0.9234    3\n",
       "-0.4574    3\n",
       "          ..\n",
       " 0.7016    1\n",
       "-1.6194    1\n",
       " 1.8033    1\n",
       " 0.6883    1\n",
       " 1.0307    1\n",
       "Name: count, Length: 1732, dtype: int64"
      ]
     },
     "metadata": {},
     "output_type": "display_data"
    },
    {
     "name": "stdout",
     "output_type": "stream",
     "text": [
      "\n",
      "\n"
     ]
    },
    {
     "data": {
      "text/plain": [
       "rbpj\n",
       "-0.2127    3\n",
       " 0.6486    2\n",
       " 0.3065    2\n",
       " 1.0381    2\n",
       " 0.7529    2\n",
       "          ..\n",
       "-0.0928    1\n",
       "-0.3111    1\n",
       "-2.3859    1\n",
       " 0.4244    1\n",
       " 0.5866    1\n",
       "Name: count, Length: 1859, dtype: int64"
      ]
     },
     "metadata": {},
     "output_type": "display_data"
    },
    {
     "name": "stdout",
     "output_type": "stream",
     "text": [
      "\n",
      "\n"
     ]
    },
    {
     "data": {
      "text/plain": [
       "rbpjl\n",
       "-0.5796    3\n",
       " 0.4381    3\n",
       " 0.1627    3\n",
       "-1.0807    3\n",
       " 0.0845    3\n",
       "          ..\n",
       " 0.1187    1\n",
       " 1.6328    1\n",
       " 0.1836    1\n",
       " 0.5986    1\n",
       "-0.0714    1\n",
       "Name: count, Length: 1809, dtype: int64"
      ]
     },
     "metadata": {},
     "output_type": "display_data"
    },
    {
     "name": "stdout",
     "output_type": "stream",
     "text": [
      "\n",
      "\n"
     ]
    },
    {
     "data": {
      "text/plain": [
       "rfng\n",
       " 1.1133    3\n",
       " 0.3751    3\n",
       "-0.1192    2\n",
       "-0.7310    2\n",
       " 0.1660    2\n",
       "          ..\n",
       "-0.5805    1\n",
       "-1.4741    1\n",
       "-0.7714    1\n",
       " 1.6445    1\n",
       " 0.8660    1\n",
       "Name: count, Length: 1849, dtype: int64"
      ]
     },
     "metadata": {},
     "output_type": "display_data"
    },
    {
     "name": "stdout",
     "output_type": "stream",
     "text": [
      "\n",
      "\n"
     ]
    },
    {
     "data": {
      "text/plain": [
       "snw1\n",
       " 0.6515    3\n",
       " 0.5283    3\n",
       "-0.1670    2\n",
       "-0.0266    2\n",
       "-0.2544    2\n",
       "          ..\n",
       " 0.9913    1\n",
       "-1.0229    1\n",
       "-1.2423    1\n",
       "-0.2396    1\n",
       " 0.3831    1\n",
       "Name: count, Length: 1838, dtype: int64"
      ]
     },
     "metadata": {},
     "output_type": "display_data"
    },
    {
     "name": "stdout",
     "output_type": "stream",
     "text": [
      "\n",
      "\n"
     ]
    },
    {
     "data": {
      "text/plain": [
       "spen\n",
       " 0.5580    5\n",
       " 0.5296    5\n",
       " 0.0570    5\n",
       "-0.2738    4\n",
       " 1.1532    4\n",
       "          ..\n",
       "-0.4700    1\n",
       " 0.2605    1\n",
       "-1.4206    1\n",
       "-0.0784    1\n",
       "-2.8894    1\n",
       "Name: count, Length: 1589, dtype: int64"
      ]
     },
     "metadata": {},
     "output_type": "display_data"
    },
    {
     "name": "stdout",
     "output_type": "stream",
     "text": [
      "\n",
      "\n"
     ]
    },
    {
     "data": {
      "text/plain": [
       "hes2\n",
       "-0.2525    3\n",
       "-0.4878    3\n",
       "-0.7339    2\n",
       " 0.1758    2\n",
       "-0.5953    2\n",
       "          ..\n",
       "-0.3626    1\n",
       "-0.1008    1\n",
       "-0.3677    1\n",
       "-0.0013    1\n",
       "-0.3139    1\n",
       "Name: count, Length: 1851, dtype: int64"
      ]
     },
     "metadata": {},
     "output_type": "display_data"
    },
    {
     "name": "stdout",
     "output_type": "stream",
     "text": [
      "\n",
      "\n"
     ]
    },
    {
     "data": {
      "text/plain": [
       "hes4\n",
       " 0.1787    6\n",
       " 0.1439    5\n",
       "-0.0306    4\n",
       " 0.9587    4\n",
       " 1.0926    4\n",
       "          ..\n",
       "-2.4545    1\n",
       "-0.4777    1\n",
       "-0.0612    1\n",
       "-0.9030    1\n",
       "-3.4575    1\n",
       "Name: count, Length: 1548, dtype: int64"
      ]
     },
     "metadata": {},
     "output_type": "display_data"
    },
    {
     "name": "stdout",
     "output_type": "stream",
     "text": [
      "\n",
      "\n"
     ]
    },
    {
     "data": {
      "text/plain": [
       "hes7\n",
       "-1.9479    13\n",
       "-1.1926    13\n",
       "-1.4232     9\n",
       "-1.8125     9\n",
       "-2.1517     8\n",
       "           ..\n",
       "-0.4057     1\n",
       "-0.0876     1\n",
       " 0.0836     1\n",
       " 0.3427     1\n",
       " 1.1626     1\n",
       "Name: count, Length: 1511, dtype: int64"
      ]
     },
     "metadata": {},
     "output_type": "display_data"
    },
    {
     "name": "stdout",
     "output_type": "stream",
     "text": [
      "\n",
      "\n"
     ]
    },
    {
     "data": {
      "text/plain": [
       "hey1\n",
       " 0.1650    4\n",
       " 0.0334    3\n",
       "-0.2011    3\n",
       "-0.4619    3\n",
       " 0.2174    3\n",
       "          ..\n",
       " 0.3879    1\n",
       "-0.2490    1\n",
       "-1.5496    1\n",
       "-0.3872    1\n",
       "-0.7177    1\n",
       "Name: count, Length: 1756, dtype: int64"
      ]
     },
     "metadata": {},
     "output_type": "display_data"
    },
    {
     "name": "stdout",
     "output_type": "stream",
     "text": [
      "\n",
      "\n"
     ]
    },
    {
     "data": {
      "text/plain": [
       "hey2\n",
       "-0.1370    3\n",
       "-0.2863    3\n",
       " 0.1149    3\n",
       "-0.1188    3\n",
       "-0.4051    3\n",
       "          ..\n",
       "-0.3031    1\n",
       "-0.2966    1\n",
       "-0.7458    1\n",
       "-1.0282    1\n",
       "-1.0207    1\n",
       "Name: count, Length: 1789, dtype: int64"
      ]
     },
     "metadata": {},
     "output_type": "display_data"
    },
    {
     "name": "stdout",
     "output_type": "stream",
     "text": [
      "\n",
      "\n"
     ]
    },
    {
     "data": {
      "text/plain": [
       "acvr1\n",
       "-0.1663    4\n",
       " 0.1186    4\n",
       " 0.0487    4\n",
       "-0.4207    4\n",
       "-0.9123    3\n",
       "          ..\n",
       "-2.5150    1\n",
       " 0.2375    1\n",
       "-2.0035    1\n",
       "-0.3336    1\n",
       " 1.0455    1\n",
       "Name: count, Length: 1670, dtype: int64"
      ]
     },
     "metadata": {},
     "output_type": "display_data"
    },
    {
     "name": "stdout",
     "output_type": "stream",
     "text": [
      "\n",
      "\n"
     ]
    },
    {
     "data": {
      "text/plain": [
       "acvr1b\n",
       " 0.4826    5\n",
       " 0.7706    5\n",
       " 0.2726    4\n",
       " 0.3858    4\n",
       " 0.4041    4\n",
       "          ..\n",
       " 2.0786    1\n",
       " 0.6626    1\n",
       "-1.2848    1\n",
       "-1.7817    1\n",
       "-0.9114    1\n",
       "Name: count, Length: 1640, dtype: int64"
      ]
     },
     "metadata": {},
     "output_type": "display_data"
    },
    {
     "name": "stdout",
     "output_type": "stream",
     "text": [
      "\n",
      "\n"
     ]
    },
    {
     "data": {
      "text/plain": [
       "acvr1c\n",
       " 0.2038    3\n",
       "-0.5696    3\n",
       "-1.0868    2\n",
       "-0.7294    2\n",
       " 0.6777    2\n",
       "          ..\n",
       " 0.2532    1\n",
       " 0.1830    1\n",
       " 0.7170    1\n",
       " 0.7903    1\n",
       "-0.1142    1\n",
       "Name: count, Length: 1821, dtype: int64"
      ]
     },
     "metadata": {},
     "output_type": "display_data"
    },
    {
     "name": "stdout",
     "output_type": "stream",
     "text": [
      "\n",
      "\n"
     ]
    },
    {
     "data": {
      "text/plain": [
       "acvr2a\n",
       " 1.0874    3\n",
       " 2.5022    3\n",
       " 0.2847    3\n",
       " 0.3973    3\n",
       " 0.3786    3\n",
       "          ..\n",
       " 1.1962    1\n",
       "-0.5768    1\n",
       " 1.4370    1\n",
       "-0.3170    1\n",
       " 2.9200    1\n",
       "Name: count, Length: 1750, dtype: int64"
      ]
     },
     "metadata": {},
     "output_type": "display_data"
    },
    {
     "name": "stdout",
     "output_type": "stream",
     "text": [
      "\n",
      "\n"
     ]
    },
    {
     "data": {
      "text/plain": [
       "acvr2b\n",
       "-0.4892    3\n",
       "-0.5658    3\n",
       "-0.0426    3\n",
       "-0.6371    2\n",
       " 0.4275    2\n",
       "          ..\n",
       "-1.0408    1\n",
       " 0.5000    1\n",
       "-1.3725    1\n",
       "-0.3282    1\n",
       "-1.4007    1\n",
       "Name: count, Length: 1826, dtype: int64"
      ]
     },
     "metadata": {},
     "output_type": "display_data"
    },
    {
     "name": "stdout",
     "output_type": "stream",
     "text": [
      "\n",
      "\n"
     ]
    },
    {
     "data": {
      "text/plain": [
       "acvrl1\n",
       "-0.3662    3\n",
       "-0.1587    3\n",
       "-0.2735    3\n",
       "-0.3155    3\n",
       "-0.4926    3\n",
       "          ..\n",
       " 0.3830    1\n",
       " 1.4827    1\n",
       " 1.0271    1\n",
       " 0.3262    1\n",
       "-0.4673    1\n",
       "Name: count, Length: 1769, dtype: int64"
      ]
     },
     "metadata": {},
     "output_type": "display_data"
    },
    {
     "name": "stdout",
     "output_type": "stream",
     "text": [
      "\n",
      "\n"
     ]
    },
    {
     "data": {
      "text/plain": [
       "akt1\n",
       "-0.1849    2\n",
       "-0.8425    2\n",
       "-1.2285    2\n",
       "-0.7473    2\n",
       "-0.4732    2\n",
       "          ..\n",
       "-1.2160    1\n",
       "-0.2466    1\n",
       " 0.8136    1\n",
       "-1.8493    1\n",
       "-1.1280    1\n",
       "Name: count, Length: 1857, dtype: int64"
      ]
     },
     "metadata": {},
     "output_type": "display_data"
    },
    {
     "name": "stdout",
     "output_type": "stream",
     "text": [
      "\n",
      "\n"
     ]
    },
    {
     "data": {
      "text/plain": [
       "akt1s1\n",
       " 0.3073    3\n",
       " 0.1029    3\n",
       "-0.1437    3\n",
       "-0.1902    2\n",
       " 0.7038    2\n",
       "          ..\n",
       " 0.3616    1\n",
       "-0.7214    1\n",
       "-1.2016    1\n",
       " 3.0019    1\n",
       " 0.9243    1\n",
       "Name: count, Length: 1821, dtype: int64"
      ]
     },
     "metadata": {},
     "output_type": "display_data"
    },
    {
     "name": "stdout",
     "output_type": "stream",
     "text": [
      "\n",
      "\n"
     ]
    },
    {
     "data": {
      "text/plain": [
       "akt2\n",
       " 0.5122    3\n",
       "-0.2839    3\n",
       " 0.5278    3\n",
       "-0.0516    2\n",
       " 0.4667    2\n",
       "          ..\n",
       " 0.0716    1\n",
       "-0.7070    1\n",
       "-0.6513    1\n",
       "-1.1174    1\n",
       " 0.2391    1\n",
       "Name: count, Length: 1809, dtype: int64"
      ]
     },
     "metadata": {},
     "output_type": "display_data"
    },
    {
     "name": "stdout",
     "output_type": "stream",
     "text": [
      "\n",
      "\n"
     ]
    },
    {
     "data": {
      "text/plain": [
       "apaf1\n",
       "-0.6404    4\n",
       " 0.3470    4\n",
       " 0.1093    4\n",
       "-0.0748    3\n",
       "-0.2532    3\n",
       "          ..\n",
       "-0.0086    1\n",
       " 0.8134    1\n",
       "-2.2419    1\n",
       "-0.4487    1\n",
       " 0.4518    1\n",
       "Name: count, Length: 1695, dtype: int64"
      ]
     },
     "metadata": {},
     "output_type": "display_data"
    },
    {
     "name": "stdout",
     "output_type": "stream",
     "text": [
      "\n",
      "\n"
     ]
    },
    {
     "data": {
      "text/plain": [
       "arl11\n",
       "-1.1767    3\n",
       "-0.2930    2\n",
       "-0.2151    2\n",
       "-0.4657    2\n",
       "-0.1250    2\n",
       "          ..\n",
       "-0.7920    1\n",
       "-0.4666    1\n",
       "-1.8359    1\n",
       "-0.5253    1\n",
       " 0.0771    1\n",
       "Name: count, Length: 1832, dtype: int64"
      ]
     },
     "metadata": {},
     "output_type": "display_data"
    },
    {
     "name": "stdout",
     "output_type": "stream",
     "text": [
      "\n",
      "\n"
     ]
    },
    {
     "data": {
      "text/plain": [
       "atr\n",
       "-0.6701    3\n",
       "-0.4359    3\n",
       " 0.8971    2\n",
       " 0.6570    2\n",
       "-0.2772    2\n",
       "          ..\n",
       "-1.0723    1\n",
       "-0.1543    1\n",
       " 0.3487    1\n",
       " 0.0414    1\n",
       "-0.5627    1\n",
       "Name: count, Length: 1840, dtype: int64"
      ]
     },
     "metadata": {},
     "output_type": "display_data"
    },
    {
     "name": "stdout",
     "output_type": "stream",
     "text": [
      "\n",
      "\n"
     ]
    },
    {
     "data": {
      "text/plain": [
       "aurka\n",
       "-0.0031    2\n",
       " 0.6802    2\n",
       "-0.9179    2\n",
       " 0.2705    2\n",
       " 0.4993    2\n",
       "          ..\n",
       "-0.7987    1\n",
       "-1.0250    1\n",
       "-1.7058    1\n",
       " 1.7443    1\n",
       " 0.4379    1\n",
       "Name: count, Length: 1858, dtype: int64"
      ]
     },
     "metadata": {},
     "output_type": "display_data"
    },
    {
     "name": "stdout",
     "output_type": "stream",
     "text": [
      "\n",
      "\n"
     ]
    },
    {
     "data": {
      "text/plain": [
       "bad\n",
       "-0.7631    3\n",
       " 0.6605    2\n",
       " 1.1474    2\n",
       "-0.2870    2\n",
       "-0.7565    2\n",
       "          ..\n",
       "-0.4369    1\n",
       " 1.0487    1\n",
       "-0.0904    1\n",
       "-0.1646    1\n",
       " 1.4754    1\n",
       "Name: count, Length: 1858, dtype: int64"
      ]
     },
     "metadata": {},
     "output_type": "display_data"
    },
    {
     "name": "stdout",
     "output_type": "stream",
     "text": [
      "\n",
      "\n"
     ]
    },
    {
     "data": {
      "text/plain": [
       "bcl2\n",
       " 0.4761    3\n",
       " 0.4980    2\n",
       " 0.0002    2\n",
       "-0.7571    2\n",
       " 0.3739    2\n",
       "          ..\n",
       " 0.7516    1\n",
       " 0.3150    1\n",
       "-1.7437    1\n",
       " 1.2134    1\n",
       "-1.0655    1\n",
       "Name: count, Length: 1863, dtype: int64"
      ]
     },
     "metadata": {},
     "output_type": "display_data"
    },
    {
     "name": "stdout",
     "output_type": "stream",
     "text": [
      "\n",
      "\n"
     ]
    },
    {
     "data": {
      "text/plain": [
       "bcl2l1\n",
       "-0.0884    7\n",
       "-0.0943    6\n",
       " 0.8962    6\n",
       " 0.6199    6\n",
       " 0.8600    6\n",
       "          ..\n",
       "-1.3812    1\n",
       "-0.8017    1\n",
       "-1.4369    1\n",
       "-1.0814    1\n",
       " 0.0431    1\n",
       "Name: count, Length: 1343, dtype: int64"
      ]
     },
     "metadata": {},
     "output_type": "display_data"
    },
    {
     "name": "stdout",
     "output_type": "stream",
     "text": [
      "\n",
      "\n"
     ]
    },
    {
     "data": {
      "text/plain": [
       "bmp10\n",
       "-0.1753    3\n",
       "-0.6230    3\n",
       "-0.8780    3\n",
       "-0.1365    2\n",
       " 0.7378    2\n",
       "          ..\n",
       "-0.3196    1\n",
       " 0.2489    1\n",
       " 0.0082    1\n",
       "-1.4592    1\n",
       "-1.6487    1\n",
       "Name: count, Length: 1811, dtype: int64"
      ]
     },
     "metadata": {},
     "output_type": "display_data"
    },
    {
     "name": "stdout",
     "output_type": "stream",
     "text": [
      "\n",
      "\n"
     ]
    },
    {
     "data": {
      "text/plain": [
       "bmp15\n",
       "-0.9530    2\n",
       "-0.7486    2\n",
       " 1.3079    2\n",
       " 0.7246    2\n",
       "-1.4688    2\n",
       "          ..\n",
       "-0.9000    1\n",
       " 0.2316    1\n",
       " 1.2471    1\n",
       "-0.0854    1\n",
       " 1.0055    1\n",
       "Name: count, Length: 1859, dtype: int64"
      ]
     },
     "metadata": {},
     "output_type": "display_data"
    },
    {
     "name": "stdout",
     "output_type": "stream",
     "text": [
      "\n",
      "\n"
     ]
    },
    {
     "data": {
      "text/plain": [
       "bmp2\n",
       " 0.3915    3\n",
       "-0.1787    3\n",
       "-0.6035    3\n",
       "-0.2301    3\n",
       "-0.4511    2\n",
       "          ..\n",
       " 0.7460    1\n",
       "-0.4902    1\n",
       "-0.1928    1\n",
       "-0.8457    1\n",
       "-1.1003    1\n",
       "Name: count, Length: 1786, dtype: int64"
      ]
     },
     "metadata": {},
     "output_type": "display_data"
    },
    {
     "name": "stdout",
     "output_type": "stream",
     "text": [
      "\n",
      "\n"
     ]
    },
    {
     "data": {
      "text/plain": [
       "bmp3\n",
       " 0.2806    3\n",
       "-0.3227    3\n",
       " 0.3176    3\n",
       " 0.3328    2\n",
       "-0.5473    2\n",
       "          ..\n",
       "-1.1321    1\n",
       " 0.4729    1\n",
       "-0.8556    1\n",
       "-0.8881    1\n",
       "-1.4096    1\n",
       "Name: count, Length: 1836, dtype: int64"
      ]
     },
     "metadata": {},
     "output_type": "display_data"
    },
    {
     "name": "stdout",
     "output_type": "stream",
     "text": [
      "\n",
      "\n"
     ]
    },
    {
     "data": {
      "text/plain": [
       "bmp4\n",
       " 0.2855    3\n",
       " 0.9281    3\n",
       "-0.5787    3\n",
       " 1.2200    3\n",
       " 0.5833    3\n",
       "          ..\n",
       "-1.6250    1\n",
       "-0.8042    1\n",
       " 0.4490    1\n",
       "-0.0366    1\n",
       " 0.4442    1\n",
       "Name: count, Length: 1822, dtype: int64"
      ]
     },
     "metadata": {},
     "output_type": "display_data"
    },
    {
     "name": "stdout",
     "output_type": "stream",
     "text": [
      "\n",
      "\n"
     ]
    },
    {
     "data": {
      "text/plain": [
       "bmp5\n",
       "-0.0546    4\n",
       " 0.1694    3\n",
       "-0.2742    3\n",
       " 0.0002    2\n",
       "-0.2766    2\n",
       "          ..\n",
       " 5.3552    1\n",
       "-0.7339    1\n",
       "-0.5413    1\n",
       " 0.0549    1\n",
       "-0.2788    1\n",
       "Name: count, Length: 1803, dtype: int64"
      ]
     },
     "metadata": {},
     "output_type": "display_data"
    },
    {
     "name": "stdout",
     "output_type": "stream",
     "text": [
      "\n",
      "\n"
     ]
    },
    {
     "data": {
      "text/plain": [
       "bmp6\n",
       " 0.2968    3\n",
       " 0.2909    3\n",
       " 0.2366    3\n",
       " 0.6204    3\n",
       "-0.0347    3\n",
       "          ..\n",
       " 0.2618    1\n",
       "-1.3833    1\n",
       "-1.3514    1\n",
       "-0.3031    1\n",
       "-0.3346    1\n",
       "Name: count, Length: 1797, dtype: int64"
      ]
     },
     "metadata": {},
     "output_type": "display_data"
    },
    {
     "name": "stdout",
     "output_type": "stream",
     "text": [
      "\n",
      "\n"
     ]
    },
    {
     "data": {
      "text/plain": [
       "bmp7\n",
       "-0.3347    3\n",
       "-0.5906    3\n",
       "-0.6242    3\n",
       "-0.7283    2\n",
       "-0.4586    2\n",
       "          ..\n",
       "-0.9267    1\n",
       "-0.7321    1\n",
       "-0.4538    1\n",
       "-0.7451    1\n",
       "-0.8378    1\n",
       "Name: count, Length: 1799, dtype: int64"
      ]
     },
     "metadata": {},
     "output_type": "display_data"
    },
    {
     "name": "stdout",
     "output_type": "stream",
     "text": [
      "\n",
      "\n"
     ]
    },
    {
     "data": {
      "text/plain": [
       "bmpr1a\n",
       "-0.2510    2\n",
       " 0.0826    2\n",
       " 0.8733    2\n",
       "-0.1675    2\n",
       " 1.0454    2\n",
       "          ..\n",
       " 0.4044    1\n",
       " 0.7257    1\n",
       "-0.3276    1\n",
       " 1.8315    1\n",
       "-0.4856    1\n",
       "Name: count, Length: 1856, dtype: int64"
      ]
     },
     "metadata": {},
     "output_type": "display_data"
    },
    {
     "name": "stdout",
     "output_type": "stream",
     "text": [
      "\n",
      "\n"
     ]
    },
    {
     "data": {
      "text/plain": [
       "bmpr1b\n",
       "-0.9073    4\n",
       "-0.7726    3\n",
       "-0.9141    3\n",
       " 1.5108    3\n",
       "-0.8207    3\n",
       "          ..\n",
       "-1.0298    1\n",
       "-0.4867    1\n",
       " 0.4623    1\n",
       " 0.5569    1\n",
       "-0.8505    1\n",
       "Name: count, Length: 1755, dtype: int64"
      ]
     },
     "metadata": {},
     "output_type": "display_data"
    },
    {
     "name": "stdout",
     "output_type": "stream",
     "text": [
      "\n",
      "\n"
     ]
    },
    {
     "data": {
      "text/plain": [
       "bmpr2\n",
       "-0.6905    4\n",
       "-0.3413    4\n",
       "-0.4763    3\n",
       "-0.1162    3\n",
       " 0.2977    3\n",
       "          ..\n",
       " 1.7894    1\n",
       " 0.1759    1\n",
       " 0.6367    1\n",
       " 2.6002    1\n",
       "-0.9578    1\n",
       "Name: count, Length: 1726, dtype: int64"
      ]
     },
     "metadata": {},
     "output_type": "display_data"
    },
    {
     "name": "stdout",
     "output_type": "stream",
     "text": [
      "\n",
      "\n"
     ]
    },
    {
     "data": {
      "text/plain": [
       "braf\n",
       "-0.6458    3\n",
       " 0.0206    2\n",
       "-0.6162    2\n",
       "-0.2409    2\n",
       " 0.3357    2\n",
       "          ..\n",
       " 0.2777    1\n",
       "-0.4965    1\n",
       "-1.2395    1\n",
       " 0.8995    1\n",
       " 1.3157    1\n",
       "Name: count, Length: 1847, dtype: int64"
      ]
     },
     "metadata": {},
     "output_type": "display_data"
    },
    {
     "name": "stdout",
     "output_type": "stream",
     "text": [
      "\n",
      "\n"
     ]
    },
    {
     "data": {
      "text/plain": [
       "casp10\n",
       "-0.3918    2\n",
       " 0.5552    2\n",
       "-0.4349    2\n",
       "-0.0350    2\n",
       " 1.0104    2\n",
       "          ..\n",
       "-0.5048    1\n",
       "-1.4116    1\n",
       "-0.8438    1\n",
       "-0.1528    1\n",
       " 1.4058    1\n",
       "Name: count, Length: 1856, dtype: int64"
      ]
     },
     "metadata": {},
     "output_type": "display_data"
    },
    {
     "name": "stdout",
     "output_type": "stream",
     "text": [
      "\n",
      "\n"
     ]
    },
    {
     "data": {
      "text/plain": [
       "casp3\n",
       "-0.0202    4\n",
       " 0.7373    4\n",
       " 0.2603    4\n",
       "-0.4869    4\n",
       "-0.6451    4\n",
       "          ..\n",
       " 0.7416    1\n",
       "-2.5206    1\n",
       " 1.1662    1\n",
       "-0.0843    1\n",
       "-1.2287    1\n",
       "Name: count, Length: 1673, dtype: int64"
      ]
     },
     "metadata": {},
     "output_type": "display_data"
    },
    {
     "name": "stdout",
     "output_type": "stream",
     "text": [
      "\n",
      "\n"
     ]
    },
    {
     "data": {
      "text/plain": [
       "casp6\n",
       " 0.4132    3\n",
       "-0.4783    3\n",
       "-0.3665    3\n",
       "-0.1826    3\n",
       " 0.0252    3\n",
       "          ..\n",
       "-0.8356    1\n",
       " 2.1428    1\n",
       " 0.6531    1\n",
       " 2.2965    1\n",
       " 0.4298    1\n",
       "Name: count, Length: 1775, dtype: int64"
      ]
     },
     "metadata": {},
     "output_type": "display_data"
    },
    {
     "name": "stdout",
     "output_type": "stream",
     "text": [
      "\n",
      "\n"
     ]
    },
    {
     "data": {
      "text/plain": [
       "casp7\n",
       "-0.5930    3\n",
       "-0.2461    3\n",
       "-1.1016    3\n",
       "-1.0854    3\n",
       "-0.1792    2\n",
       "          ..\n",
       " 0.6586    1\n",
       " 0.3126    1\n",
       "-0.2036    1\n",
       "-0.3301    1\n",
       " 0.6657    1\n",
       "Name: count, Length: 1847, dtype: int64"
      ]
     },
     "metadata": {},
     "output_type": "display_data"
    },
    {
     "name": "stdout",
     "output_type": "stream",
     "text": [
      "\n",
      "\n"
     ]
    },
    {
     "data": {
      "text/plain": [
       "casp8\n",
       " 0.5126    4\n",
       " 0.2876    3\n",
       " 0.8020    2\n",
       " 0.4862    2\n",
       " 1.1160    2\n",
       "          ..\n",
       " 0.9098    1\n",
       "-0.4328    1\n",
       "-0.7752    1\n",
       "-0.1439    1\n",
       " 0.0026    1\n",
       "Name: count, Length: 1817, dtype: int64"
      ]
     },
     "metadata": {},
     "output_type": "display_data"
    },
    {
     "name": "stdout",
     "output_type": "stream",
     "text": [
      "\n",
      "\n"
     ]
    },
    {
     "data": {
      "text/plain": [
       "casp9\n",
       " 0.5566    3\n",
       " 0.8822    3\n",
       " 0.8847    3\n",
       " 0.3502    3\n",
       "-0.7530    3\n",
       "          ..\n",
       "-0.0776    1\n",
       " 0.2999    1\n",
       "-0.1352    1\n",
       "-1.0242    1\n",
       " 0.7313    1\n",
       "Name: count, Length: 1799, dtype: int64"
      ]
     },
     "metadata": {},
     "output_type": "display_data"
    },
    {
     "name": "stdout",
     "output_type": "stream",
     "text": [
      "\n",
      "\n"
     ]
    },
    {
     "data": {
      "text/plain": [
       "chek1\n",
       "-0.1566    3\n",
       "-0.6379    3\n",
       "-0.1327    3\n",
       " 1.8660    3\n",
       " 0.2392    3\n",
       "          ..\n",
       " 0.2570    1\n",
       "-0.6528    1\n",
       " 0.0568    1\n",
       "-1.6052    1\n",
       " 0.6765    1\n",
       "Name: count, Length: 1795, dtype: int64"
      ]
     },
     "metadata": {},
     "output_type": "display_data"
    },
    {
     "name": "stdout",
     "output_type": "stream",
     "text": [
      "\n",
      "\n"
     ]
    },
    {
     "data": {
      "text/plain": [
       "csf1\n",
       "-0.0836    3\n",
       "-0.5628    3\n",
       " 1.0944    2\n",
       "-0.4904    2\n",
       " 0.2103    2\n",
       "          ..\n",
       " 0.7339    1\n",
       "-0.2838    1\n",
       "-1.4376    1\n",
       "-0.5758    1\n",
       "-1.0805    1\n",
       "Name: count, Length: 1850, dtype: int64"
      ]
     },
     "metadata": {},
     "output_type": "display_data"
    },
    {
     "name": "stdout",
     "output_type": "stream",
     "text": [
      "\n",
      "\n"
     ]
    },
    {
     "data": {
      "text/plain": [
       "csf1r\n",
       " 0.7657    6\n",
       " 0.8553    6\n",
       " 0.6562    5\n",
       " 0.8764    5\n",
       " 0.7276    4\n",
       "          ..\n",
       " 1.9517    1\n",
       " 0.0014    1\n",
       "-1.2873    1\n",
       "-0.0652    1\n",
       "-1.6427    1\n",
       "Name: count, Length: 1591, dtype: int64"
      ]
     },
     "metadata": {},
     "output_type": "display_data"
    },
    {
     "name": "stdout",
     "output_type": "stream",
     "text": [
      "\n",
      "\n"
     ]
    },
    {
     "data": {
      "text/plain": [
       "cxcl8\n",
       "-0.7379    3\n",
       "-0.6755    2\n",
       "-0.1061    2\n",
       "-0.1002    2\n",
       "-0.9546    2\n",
       "          ..\n",
       " 1.2709    1\n",
       " 0.2298    1\n",
       "-0.5917    1\n",
       " 0.3561    1\n",
       " 1.1889    1\n",
       "Name: count, Length: 1847, dtype: int64"
      ]
     },
     "metadata": {},
     "output_type": "display_data"
    },
    {
     "name": "stdout",
     "output_type": "stream",
     "text": [
      "\n",
      "\n"
     ]
    },
    {
     "data": {
      "text/plain": [
       "cxcr1\n",
       "-0.8132    3\n",
       " 0.4452    3\n",
       "-0.3414    3\n",
       " 0.9954    3\n",
       "-0.5571    2\n",
       "          ..\n",
       " 0.4375    1\n",
       "-0.2017    1\n",
       "-1.1663    1\n",
       "-0.3433    1\n",
       "-0.6918    1\n",
       "Name: count, Length: 1827, dtype: int64"
      ]
     },
     "metadata": {},
     "output_type": "display_data"
    },
    {
     "name": "stdout",
     "output_type": "stream",
     "text": [
      "\n",
      "\n"
     ]
    },
    {
     "data": {
      "text/plain": [
       "cxcr2\n",
       " 0.4815    3\n",
       " 0.0750    3\n",
       "-0.7563    2\n",
       "-0.6211    2\n",
       " 1.3941    2\n",
       "          ..\n",
       "-0.1546    1\n",
       "-0.4025    1\n",
       " 0.8387    1\n",
       "-1.7187    1\n",
       "-0.3433    1\n",
       "Name: count, Length: 1835, dtype: int64"
      ]
     },
     "metadata": {},
     "output_type": "display_data"
    },
    {
     "name": "stdout",
     "output_type": "stream",
     "text": [
      "\n",
      "\n"
     ]
    },
    {
     "data": {
      "text/plain": [
       "dab2\n",
       " 0.0368    5\n",
       "-0.0806    5\n",
       "-0.5030    4\n",
       "-0.6524    4\n",
       " 0.0404    4\n",
       "          ..\n",
       "-1.7131    1\n",
       "-0.9773    1\n",
       "-0.3809    1\n",
       "-0.7475    1\n",
       "-0.1359    1\n",
       "Name: count, Length: 1602, dtype: int64"
      ]
     },
     "metadata": {},
     "output_type": "display_data"
    },
    {
     "name": "stdout",
     "output_type": "stream",
     "text": [
      "\n",
      "\n"
     ]
    },
    {
     "data": {
      "text/plain": [
       "diras3\n",
       "-0.1878    3\n",
       " 0.1778    3\n",
       "-0.0364    3\n",
       "-0.0209    3\n",
       "-0.2135    3\n",
       "          ..\n",
       "-0.2478    1\n",
       "-0.4769    1\n",
       "-0.8861    1\n",
       "-0.0193    1\n",
       "-0.6512    1\n",
       "Name: count, Length: 1808, dtype: int64"
      ]
     },
     "metadata": {},
     "output_type": "display_data"
    },
    {
     "name": "stdout",
     "output_type": "stream",
     "text": [
      "\n",
      "\n"
     ]
    },
    {
     "data": {
      "text/plain": [
       "dlec1\n",
       "-0.2299    3\n",
       " 0.0747    2\n",
       "-0.9866    2\n",
       "-0.8992    2\n",
       "-0.6423    2\n",
       "          ..\n",
       "-0.3322    1\n",
       "-0.4821    1\n",
       "-0.7849    1\n",
       "-1.3885    1\n",
       "-0.1673    1\n",
       "Name: count, Length: 1840, dtype: int64"
      ]
     },
     "metadata": {},
     "output_type": "display_data"
    },
    {
     "name": "stdout",
     "output_type": "stream",
     "text": [
      "\n",
      "\n"
     ]
    },
    {
     "data": {
      "text/plain": [
       "dph1\n",
       " 0.7662    3\n",
       "-0.2480    2\n",
       " 0.5166    2\n",
       "-1.2094    2\n",
       "-0.0256    2\n",
       "          ..\n",
       "-0.4229    1\n",
       "-1.1666    1\n",
       "-1.7734    1\n",
       " 1.4767    1\n",
       " 1.1179    1\n",
       "Name: count, Length: 1855, dtype: int64"
      ]
     },
     "metadata": {},
     "output_type": "display_data"
    },
    {
     "name": "stdout",
     "output_type": "stream",
     "text": [
      "\n",
      "\n"
     ]
    },
    {
     "data": {
      "text/plain": [
       "egfr\n",
       "-0.5906    3\n",
       "-0.4493    3\n",
       "-0.3000    2\n",
       "-0.4550    2\n",
       "-0.3862    2\n",
       "          ..\n",
       "-0.3361    1\n",
       "-0.6832    1\n",
       "-0.8643    1\n",
       "-0.0867    1\n",
       "-1.0020    1\n",
       "Name: count, Length: 1826, dtype: int64"
      ]
     },
     "metadata": {},
     "output_type": "display_data"
    },
    {
     "name": "stdout",
     "output_type": "stream",
     "text": [
      "\n",
      "\n"
     ]
    },
    {
     "data": {
      "text/plain": [
       "eif4e\n",
       " 0.1813    3\n",
       " 1.1490    2\n",
       "-0.1891    2\n",
       "-0.0589    2\n",
       " 0.7791    2\n",
       "          ..\n",
       " 0.3669    1\n",
       "-0.2217    1\n",
       "-1.7151    1\n",
       " 0.5026    1\n",
       "-0.8705    1\n",
       "Name: count, Length: 1867, dtype: int64"
      ]
     },
     "metadata": {},
     "output_type": "display_data"
    },
    {
     "name": "stdout",
     "output_type": "stream",
     "text": [
      "\n",
      "\n"
     ]
    },
    {
     "data": {
      "text/plain": [
       "eif4ebp1\n",
       " 0.0152    3\n",
       "-0.6395    3\n",
       "-0.5948    2\n",
       " 0.0430    2\n",
       "-0.8621    2\n",
       "          ..\n",
       " 0.4803    1\n",
       "-0.4715    1\n",
       " 0.0526    1\n",
       "-0.9215    1\n",
       "-0.4258    1\n",
       "Name: count, Length: 1824, dtype: int64"
      ]
     },
     "metadata": {},
     "output_type": "display_data"
    },
    {
     "name": "stdout",
     "output_type": "stream",
     "text": [
      "\n",
      "\n"
     ]
    },
    {
     "data": {
      "text/plain": [
       "eif5a2\n",
       "-0.1901    5\n",
       "-0.5962    4\n",
       " 0.4967    3\n",
       "-0.1394    3\n",
       "-0.0379    3\n",
       "          ..\n",
       " 1.8223    1\n",
       "-0.9300    1\n",
       "-0.2992    1\n",
       " 1.7935    1\n",
       " 2.9378    1\n",
       "Name: count, Length: 1754, dtype: int64"
      ]
     },
     "metadata": {},
     "output_type": "display_data"
    },
    {
     "name": "stdout",
     "output_type": "stream",
     "text": [
      "\n",
      "\n"
     ]
    },
    {
     "data": {
      "text/plain": [
       "erbb2\n",
       " 2.7258    16\n",
       "-0.2626     3\n",
       " 2.6306     3\n",
       "-0.1575     2\n",
       "-0.6461     2\n",
       "           ..\n",
       "-0.5820     1\n",
       "-0.3389     1\n",
       " 1.0849     1\n",
       "-0.0560     1\n",
       "-1.5860     1\n",
       "Name: count, Length: 1816, dtype: int64"
      ]
     },
     "metadata": {},
     "output_type": "display_data"
    },
    {
     "name": "stdout",
     "output_type": "stream",
     "text": [
      "\n",
      "\n"
     ]
    },
    {
     "data": {
      "text/plain": [
       "erbb3\n",
       " 0.3047    5\n",
       " 1.0448    5\n",
       " 0.5525    4\n",
       " 0.2191    4\n",
       " 0.7457    4\n",
       "          ..\n",
       "-1.0197    1\n",
       "-1.5932    1\n",
       "-0.4764    1\n",
       " 0.5686    1\n",
       "-1.3489    1\n",
       "Name: count, Length: 1640, dtype: int64"
      ]
     },
     "metadata": {},
     "output_type": "display_data"
    },
    {
     "name": "stdout",
     "output_type": "stream",
     "text": [
      "\n",
      "\n"
     ]
    },
    {
     "data": {
      "text/plain": [
       "erbb4\n",
       "-0.3094    4\n",
       " 0.3790    3\n",
       "-0.1035    3\n",
       "-0.1007    3\n",
       " 0.1126    3\n",
       "          ..\n",
       " 1.6036    1\n",
       " 0.4150    1\n",
       "-0.8366    1\n",
       "-0.8312    1\n",
       "-0.8288    1\n",
       "Name: count, Length: 1793, dtype: int64"
      ]
     },
     "metadata": {},
     "output_type": "display_data"
    },
    {
     "name": "stdout",
     "output_type": "stream",
     "text": [
      "\n",
      "\n"
     ]
    },
    {
     "data": {
      "text/plain": [
       "fas\n",
       "-0.2137    3\n",
       "-0.7533    3\n",
       " 0.8583    3\n",
       " 0.2263    3\n",
       "-0.0526    3\n",
       "          ..\n",
       " 0.2366    1\n",
       " 0.5912    1\n",
       "-0.7255    1\n",
       "-0.5215    1\n",
       "-0.4012    1\n",
       "Name: count, Length: 1829, dtype: int64"
      ]
     },
     "metadata": {},
     "output_type": "display_data"
    },
    {
     "name": "stdout",
     "output_type": "stream",
     "text": [
      "\n",
      "\n"
     ]
    },
    {
     "data": {
      "text/plain": [
       "fgf1\n",
       " 0.3491    3\n",
       " 0.1699    2\n",
       "-0.5206    2\n",
       "-0.1747    2\n",
       "-0.1661    2\n",
       "          ..\n",
       " 1.3690    1\n",
       "-1.0069    1\n",
       "-1.9341    1\n",
       "-0.2908    1\n",
       " 1.0671    1\n",
       "Name: count, Length: 1850, dtype: int64"
      ]
     },
     "metadata": {},
     "output_type": "display_data"
    },
    {
     "name": "stdout",
     "output_type": "stream",
     "text": [
      "\n",
      "\n"
     ]
    },
    {
     "data": {
      "text/plain": [
       "fgfr1\n",
       "-0.2442    3\n",
       "-0.4155    3\n",
       "-0.3106    2\n",
       "-0.6835    2\n",
       "-0.1143    2\n",
       "          ..\n",
       "-1.0996    1\n",
       "-0.5309    1\n",
       "-0.6550    1\n",
       "-0.6559    1\n",
       "-0.6897    1\n",
       "Name: count, Length: 1843, dtype: int64"
      ]
     },
     "metadata": {},
     "output_type": "display_data"
    },
    {
     "name": "stdout",
     "output_type": "stream",
     "text": [
      "\n",
      "\n"
     ]
    },
    {
     "data": {
      "text/plain": [
       "folr1\n",
       "-0.7914    3\n",
       "-0.6607    3\n",
       "-0.8222    3\n",
       "-0.6852    3\n",
       "-0.7707    3\n",
       "          ..\n",
       " 3.3520    1\n",
       " 2.9582    1\n",
       " 1.2731    1\n",
       "-0.5116    1\n",
       "-0.7140    1\n",
       "Name: count, Length: 1799, dtype: int64"
      ]
     },
     "metadata": {},
     "output_type": "display_data"
    },
    {
     "name": "stdout",
     "output_type": "stream",
     "text": [
      "\n",
      "\n"
     ]
    },
    {
     "data": {
      "text/plain": [
       "folr2\n",
       "-0.7255    3\n",
       " 0.7050    3\n",
       "-0.0451    3\n",
       " 0.8846    3\n",
       " 0.0644    3\n",
       "          ..\n",
       "-1.2530    1\n",
       " 0.3390    1\n",
       "-0.5446    1\n",
       " 0.6999    1\n",
       " 1.0893    1\n",
       "Name: count, Length: 1793, dtype: int64"
      ]
     },
     "metadata": {},
     "output_type": "display_data"
    },
    {
     "name": "stdout",
     "output_type": "stream",
     "text": [
      "\n",
      "\n"
     ]
    },
    {
     "data": {
      "text/plain": [
       "folr3\n",
       " 0.4592    3\n",
       " 0.7323    2\n",
       "-0.5578    2\n",
       "-0.2505    2\n",
       "-0.4377    2\n",
       "          ..\n",
       "-0.0114    1\n",
       "-0.9456    1\n",
       "-1.6120    1\n",
       "-0.3064    1\n",
       "-0.1047    1\n",
       "Name: count, Length: 1834, dtype: int64"
      ]
     },
     "metadata": {},
     "output_type": "display_data"
    },
    {
     "name": "stdout",
     "output_type": "stream",
     "text": [
      "\n",
      "\n"
     ]
    },
    {
     "data": {
      "text/plain": [
       "foxo1\n",
       "-0.2710    3\n",
       " 0.8782    3\n",
       " 0.5299    3\n",
       "-1.0827    3\n",
       "-0.6338    3\n",
       "          ..\n",
       " 0.2161    1\n",
       " 0.3122    1\n",
       " 0.4475    1\n",
       "-0.2614    1\n",
       "-1.0694    1\n",
       "Name: count, Length: 1768, dtype: int64"
      ]
     },
     "metadata": {},
     "output_type": "display_data"
    },
    {
     "name": "stdout",
     "output_type": "stream",
     "text": [
      "\n",
      "\n"
     ]
    },
    {
     "data": {
      "text/plain": [
       "foxo3\n",
       "-0.2779    3\n",
       " 0.7552    3\n",
       "-1.1900    2\n",
       "-0.0256    2\n",
       " 1.0054    2\n",
       "          ..\n",
       " 0.4556    1\n",
       "-0.0315    1\n",
       " 1.0018    1\n",
       " 0.0648    1\n",
       " 0.9213    1\n",
       "Name: count, Length: 1857, dtype: int64"
      ]
     },
     "metadata": {},
     "output_type": "display_data"
    },
    {
     "name": "stdout",
     "output_type": "stream",
     "text": [
      "\n",
      "\n"
     ]
    },
    {
     "data": {
      "text/plain": [
       "gdf11\n",
       "-0.2090    4\n",
       "-0.5138    4\n",
       " 0.2254    3\n",
       "-0.5876    3\n",
       " 0.4221    3\n",
       "          ..\n",
       "-0.9878    1\n",
       "-0.3828    1\n",
       " 0.1695    1\n",
       "-0.4508    1\n",
       "-0.0571    1\n",
       "Name: count, Length: 1762, dtype: int64"
      ]
     },
     "metadata": {},
     "output_type": "display_data"
    },
    {
     "name": "stdout",
     "output_type": "stream",
     "text": [
      "\n",
      "\n"
     ]
    },
    {
     "data": {
      "text/plain": [
       "gdf2\n",
       "-0.5110    3\n",
       " 0.2599    3\n",
       "-0.6058    3\n",
       "-1.6721    3\n",
       "-1.5095    3\n",
       "          ..\n",
       "-2.1967    1\n",
       " 0.0990    1\n",
       "-0.9539    1\n",
       " 0.7252    1\n",
       " 1.7318    1\n",
       "Name: count, Length: 1803, dtype: int64"
      ]
     },
     "metadata": {},
     "output_type": "display_data"
    },
    {
     "name": "stdout",
     "output_type": "stream",
     "text": [
      "\n",
      "\n"
     ]
    },
    {
     "data": {
      "text/plain": [
       "gsk3b\n",
       " 0.0346    4\n",
       "-0.5464    4\n",
       "-0.8071    3\n",
       "-0.3629    3\n",
       "-0.3238    3\n",
       "          ..\n",
       " 0.9536    1\n",
       "-0.5774    1\n",
       " 1.9470    1\n",
       "-0.2651    1\n",
       " 1.0286    1\n",
       "Name: count, Length: 1728, dtype: int64"
      ]
     },
     "metadata": {},
     "output_type": "display_data"
    },
    {
     "name": "stdout",
     "output_type": "stream",
     "text": [
      "\n",
      "\n"
     ]
    },
    {
     "data": {
      "text/plain": [
       "hif1a\n",
       " 0.4707    3\n",
       "-0.3132    3\n",
       "-0.5316    2\n",
       "-0.3719    2\n",
       "-0.2489    2\n",
       "          ..\n",
       " 0.3470    1\n",
       " 0.7913    1\n",
       "-1.2255    1\n",
       "-0.2276    1\n",
       " 2.6680    1\n",
       "Name: count, Length: 1850, dtype: int64"
      ]
     },
     "metadata": {},
     "output_type": "display_data"
    },
    {
     "name": "stdout",
     "output_type": "stream",
     "text": [
      "\n",
      "\n"
     ]
    },
    {
     "data": {
      "text/plain": [
       "hla-g\n",
       "-0.1689    4\n",
       "-0.2074    3\n",
       " 0.3005    3\n",
       "-0.7614    3\n",
       "-0.8256    3\n",
       "          ..\n",
       " 0.0241    1\n",
       "-0.5435    1\n",
       "-1.3309    1\n",
       " 2.8322    1\n",
       "-1.0020    1\n",
       "Name: count, Length: 1776, dtype: int64"
      ]
     },
     "metadata": {},
     "output_type": "display_data"
    },
    {
     "name": "stdout",
     "output_type": "stream",
     "text": [
      "\n",
      "\n"
     ]
    },
    {
     "data": {
      "text/plain": [
       "hras\n",
       "-0.0221    2\n",
       "-1.3952    2\n",
       " 0.0138    2\n",
       "-0.4625    2\n",
       "-0.6304    2\n",
       "          ..\n",
       "-1.3931    1\n",
       "-0.2710    1\n",
       "-1.1059    1\n",
       "-0.8036    1\n",
       "-0.9923    1\n",
       "Name: count, Length: 1857, dtype: int64"
      ]
     },
     "metadata": {},
     "output_type": "display_data"
    },
    {
     "name": "stdout",
     "output_type": "stream",
     "text": [
      "\n",
      "\n"
     ]
    },
    {
     "data": {
      "text/plain": [
       "igf1\n",
       "-0.6965    3\n",
       " 0.0023    2\n",
       " 1.7127    2\n",
       " 0.2500    2\n",
       "-0.2705    2\n",
       "          ..\n",
       " 0.7003    1\n",
       "-0.6128    1\n",
       "-0.8402    1\n",
       " 0.7087    1\n",
       " 0.9947    1\n",
       "Name: count, Length: 1841, dtype: int64"
      ]
     },
     "metadata": {},
     "output_type": "display_data"
    },
    {
     "name": "stdout",
     "output_type": "stream",
     "text": [
      "\n",
      "\n"
     ]
    },
    {
     "data": {
      "text/plain": [
       "igf1r\n",
       "-0.1625    2\n",
       "-0.3232    2\n",
       "-0.7278    2\n",
       " 0.8221    2\n",
       "-0.3354    2\n",
       "          ..\n",
       " 0.5422    1\n",
       "-1.7740    1\n",
       "-0.9367    1\n",
       "-1.8745    1\n",
       "-0.5671    1\n",
       "Name: count, Length: 1848, dtype: int64"
      ]
     },
     "metadata": {},
     "output_type": "display_data"
    },
    {
     "name": "stdout",
     "output_type": "stream",
     "text": [
      "\n",
      "\n"
     ]
    },
    {
     "data": {
      "text/plain": [
       "inha\n",
       " 0.0902    3\n",
       " 0.2927    3\n",
       "-0.5790    3\n",
       "-0.5837    3\n",
       "-0.4709    2\n",
       "          ..\n",
       "-0.6025    1\n",
       "-0.1388    1\n",
       "-0.3765    1\n",
       "-0.7027    1\n",
       "-0.3277    1\n",
       "Name: count, Length: 1800, dtype: int64"
      ]
     },
     "metadata": {},
     "output_type": "display_data"
    },
    {
     "name": "stdout",
     "output_type": "stream",
     "text": [
      "\n",
      "\n"
     ]
    },
    {
     "data": {
      "text/plain": [
       "inhba\n",
       " 0.1036    3\n",
       "-0.5010    3\n",
       "-0.7233    3\n",
       "-0.7969    3\n",
       "-1.0351    3\n",
       "          ..\n",
       "-0.2365    1\n",
       " 0.9399    1\n",
       " 0.8828    1\n",
       " 0.0370    1\n",
       "-0.6449    1\n",
       "Name: count, Length: 1810, dtype: int64"
      ]
     },
     "metadata": {},
     "output_type": "display_data"
    },
    {
     "name": "stdout",
     "output_type": "stream",
     "text": [
      "\n",
      "\n"
     ]
    },
    {
     "data": {
      "text/plain": [
       "inhbc\n",
       "-0.1582    4\n",
       " 0.5972    3\n",
       "-0.1122    3\n",
       "-1.0359    3\n",
       "-1.3604    3\n",
       "          ..\n",
       "-0.1729    1\n",
       " 0.3245    1\n",
       "-1.1392    1\n",
       " 0.5986    1\n",
       " 1.1332    1\n",
       "Name: count, Length: 1792, dtype: int64"
      ]
     },
     "metadata": {},
     "output_type": "display_data"
    },
    {
     "name": "stdout",
     "output_type": "stream",
     "text": [
      "\n",
      "\n"
     ]
    },
    {
     "data": {
      "text/plain": [
       "itgav\n",
       " 0.1188    4\n",
       "-0.2523    3\n",
       "-0.0556    3\n",
       " 0.5845    3\n",
       " 0.5833    3\n",
       "          ..\n",
       "-0.9374    1\n",
       " 0.1202    1\n",
       "-1.0691    1\n",
       " 1.7202    1\n",
       " 1.0856    1\n",
       "Name: count, Length: 1730, dtype: int64"
      ]
     },
     "metadata": {},
     "output_type": "display_data"
    },
    {
     "name": "stdout",
     "output_type": "stream",
     "text": [
      "\n",
      "\n"
     ]
    },
    {
     "data": {
      "text/plain": [
       "itgb3\n",
       "-0.7438    3\n",
       "-0.1742    3\n",
       " 0.0859    2\n",
       " 0.2531    2\n",
       " 0.1553    2\n",
       "          ..\n",
       " 0.0801    1\n",
       "-0.9053    1\n",
       "-0.1970    1\n",
       "-0.4678    1\n",
       " 0.8094    1\n",
       "Name: count, Length: 1837, dtype: int64"
      ]
     },
     "metadata": {},
     "output_type": "display_data"
    },
    {
     "name": "stdout",
     "output_type": "stream",
     "text": [
      "\n",
      "\n"
     ]
    },
    {
     "data": {
      "text/plain": [
       "izumo1r\n",
       "-1.6478    3\n",
       "-0.0272    3\n",
       "-0.5973    3\n",
       " 0.1745    3\n",
       "-0.1281    3\n",
       "          ..\n",
       " 0.6936    1\n",
       " 2.8956    1\n",
       " 0.0753    1\n",
       "-1.4040    1\n",
       "-0.0876    1\n",
       "Name: count, Length: 1796, dtype: int64"
      ]
     },
     "metadata": {},
     "output_type": "display_data"
    },
    {
     "name": "stdout",
     "output_type": "stream",
     "text": [
      "\n",
      "\n"
     ]
    },
    {
     "data": {
      "text/plain": [
       "kdr\n",
       "-0.5422    3\n",
       "-0.1258    3\n",
       " 0.3263    2\n",
       " 0.4050    2\n",
       " 1.1465    2\n",
       "          ..\n",
       "-1.6717    1\n",
       "-1.9925    1\n",
       " 0.8849    1\n",
       "-0.6525    1\n",
       " 2.7183    1\n",
       "Name: count, Length: 1809, dtype: int64"
      ]
     },
     "metadata": {},
     "output_type": "display_data"
    },
    {
     "name": "stdout",
     "output_type": "stream",
     "text": [
      "\n",
      "\n"
     ]
    },
    {
     "data": {
      "text/plain": [
       "kit\n",
       "-0.4208    3\n",
       " 1.0513    3\n",
       " 0.9752    2\n",
       "-1.2182    2\n",
       " 0.7840    2\n",
       "          ..\n",
       "-0.8783    1\n",
       "-0.1722    1\n",
       "-0.2550    1\n",
       " 0.1907    1\n",
       "-0.0270    1\n",
       "Name: count, Length: 1817, dtype: int64"
      ]
     },
     "metadata": {},
     "output_type": "display_data"
    },
    {
     "name": "stdout",
     "output_type": "stream",
     "text": [
      "\n",
      "\n"
     ]
    },
    {
     "data": {
      "text/plain": [
       "kras\n",
       "-0.4952    4\n",
       "-0.1263    4\n",
       "-0.1371    4\n",
       "-0.2694    3\n",
       "-0.7322    3\n",
       "          ..\n",
       "-1.4116    1\n",
       " 0.0222    1\n",
       " 2.3113    1\n",
       "-0.0442    1\n",
       "-1.4786    1\n",
       "Name: count, Length: 1709, dtype: int64"
      ]
     },
     "metadata": {},
     "output_type": "display_data"
    },
    {
     "name": "stdout",
     "output_type": "stream",
     "text": [
      "\n",
      "\n"
     ]
    },
    {
     "data": {
      "text/plain": [
       "map2k1\n",
       " 0.1061    3\n",
       " 0.1813    3\n",
       "-0.1657    3\n",
       "-0.2294    3\n",
       " 0.9124    2\n",
       "          ..\n",
       "-0.3731    1\n",
       "-0.5043    1\n",
       "-0.6139    1\n",
       " 0.1339    1\n",
       " 1.7187    1\n",
       "Name: count, Length: 1844, dtype: int64"
      ]
     },
     "metadata": {},
     "output_type": "display_data"
    },
    {
     "name": "stdout",
     "output_type": "stream",
     "text": [
      "\n",
      "\n"
     ]
    },
    {
     "data": {
      "text/plain": [
       "map2k2\n",
       " 0.8830    3\n",
       "-0.0912    2\n",
       " 0.5118    2\n",
       "-0.4925    2\n",
       "-0.2681    2\n",
       "          ..\n",
       "-1.0404    1\n",
       "-0.2634    1\n",
       "-0.1210    1\n",
       " 1.0354    1\n",
       "-0.2701    1\n",
       "Name: count, Length: 1843, dtype: int64"
      ]
     },
     "metadata": {},
     "output_type": "display_data"
    },
    {
     "name": "stdout",
     "output_type": "stream",
     "text": [
      "\n",
      "\n"
     ]
    },
    {
     "data": {
      "text/plain": [
       "map2k3\n",
       "-0.1505    2\n",
       " 0.3154    2\n",
       " 0.4029    2\n",
       " 0.4389    2\n",
       "-0.3719    2\n",
       "          ..\n",
       " 0.0664    1\n",
       " 0.2559    1\n",
       " 0.4574    1\n",
       " 0.8348    1\n",
       " 0.2579    1\n",
       "Name: count, Length: 1849, dtype: int64"
      ]
     },
     "metadata": {},
     "output_type": "display_data"
    },
    {
     "name": "stdout",
     "output_type": "stream",
     "text": [
      "\n",
      "\n"
     ]
    },
    {
     "data": {
      "text/plain": [
       "map2k4\n",
       "-0.1737    3\n",
       "-0.3906    3\n",
       " 0.0370    3\n",
       " 0.9150    2\n",
       "-0.2353    2\n",
       "          ..\n",
       "-0.2283    1\n",
       " 2.1032    1\n",
       " 2.3532    1\n",
       " 0.8157    1\n",
       " 0.0505    1\n",
       "Name: count, Length: 1835, dtype: int64"
      ]
     },
     "metadata": {},
     "output_type": "display_data"
    },
    {
     "name": "stdout",
     "output_type": "stream",
     "text": [
      "\n",
      "\n"
     ]
    },
    {
     "data": {
      "text/plain": [
       "map2k5\n",
       " 0.7180    4\n",
       " 0.2272    3\n",
       " 0.1689    3\n",
       " 0.6984    3\n",
       " 0.5238    3\n",
       "          ..\n",
       " 1.3248    1\n",
       "-0.4982    1\n",
       " 0.9541    1\n",
       " 0.1261    1\n",
       "-0.8898    1\n",
       "Name: count, Length: 1708, dtype: int64"
      ]
     },
     "metadata": {},
     "output_type": "display_data"
    },
    {
     "name": "stdout",
     "output_type": "stream",
     "text": [
      "\n",
      "\n"
     ]
    },
    {
     "data": {
      "text/plain": [
       "map3k1\n",
       " 0.4279    4\n",
       " 0.5819    3\n",
       "-1.2699    3\n",
       "-0.5729    3\n",
       "-0.6510    3\n",
       "          ..\n",
       "-0.2302    1\n",
       "-0.5738    1\n",
       "-1.6653    1\n",
       "-1.5617    1\n",
       "-1.0723    1\n",
       "Name: count, Length: 1745, dtype: int64"
      ]
     },
     "metadata": {},
     "output_type": "display_data"
    },
    {
     "name": "stdout",
     "output_type": "stream",
     "text": [
      "\n",
      "\n"
     ]
    },
    {
     "data": {
      "text/plain": [
       "map3k3\n",
       " 0.1057    5\n",
       "-0.3443    4\n",
       " 0.3551    4\n",
       " 0.1690    4\n",
       "-0.1863    4\n",
       "          ..\n",
       "-3.0748    1\n",
       "-2.5699    1\n",
       "-1.1366    1\n",
       "-1.4124    1\n",
       "-0.4503    1\n",
       "Name: count, Length: 1695, dtype: int64"
      ]
     },
     "metadata": {},
     "output_type": "display_data"
    },
    {
     "name": "stdout",
     "output_type": "stream",
     "text": [
      "\n",
      "\n"
     ]
    },
    {
     "data": {
      "text/plain": [
       "map3k4\n",
       " 0.3394    4\n",
       " 0.5536    4\n",
       " 0.9223    4\n",
       " 0.4911    4\n",
       " 0.8036    3\n",
       "          ..\n",
       " 0.3922    1\n",
       " 0.2554    1\n",
       "-1.0201    1\n",
       "-1.3162    1\n",
       "-1.6140    1\n",
       "Name: count, Length: 1700, dtype: int64"
      ]
     },
     "metadata": {},
     "output_type": "display_data"
    },
    {
     "name": "stdout",
     "output_type": "stream",
     "text": [
      "\n",
      "\n"
     ]
    },
    {
     "data": {
      "text/plain": [
       "map3k5\n",
       "-0.4889    3\n",
       " 0.3674    3\n",
       "-0.2326    3\n",
       "-0.4555    3\n",
       " 1.3451    3\n",
       "          ..\n",
       "-0.5738    1\n",
       "-0.6702    1\n",
       " 0.0451    1\n",
       " 1.4399    1\n",
       "-0.0716    1\n",
       "Name: count, Length: 1771, dtype: int64"
      ]
     },
     "metadata": {},
     "output_type": "display_data"
    },
    {
     "name": "stdout",
     "output_type": "stream",
     "text": [
      "\n",
      "\n"
     ]
    },
    {
     "data": {
      "text/plain": [
       "mapk1\n",
       " 1.0405    3\n",
       " 0.2444    3\n",
       " 0.0027    3\n",
       " 0.0227    3\n",
       "-0.0893    3\n",
       "          ..\n",
       "-0.7856    1\n",
       "-0.1101    1\n",
       "-0.2123    1\n",
       "-0.2200    1\n",
       "-0.6141    1\n",
       "Name: count, Length: 1754, dtype: int64"
      ]
     },
     "metadata": {},
     "output_type": "display_data"
    },
    {
     "name": "stdout",
     "output_type": "stream",
     "text": [
      "\n",
      "\n"
     ]
    },
    {
     "data": {
      "text/plain": [
       "mapk12\n",
       "-1.0427    2\n",
       " 1.1311    2\n",
       "-0.2164    2\n",
       "-0.7340    2\n",
       "-0.2362    2\n",
       "          ..\n",
       "-0.7188    1\n",
       "-0.5391    1\n",
       "-0.0989    1\n",
       " 0.3536    1\n",
       " 1.3188    1\n",
       "Name: count, Length: 1822, dtype: int64"
      ]
     },
     "metadata": {},
     "output_type": "display_data"
    },
    {
     "name": "stdout",
     "output_type": "stream",
     "text": [
      "\n",
      "\n"
     ]
    },
    {
     "data": {
      "text/plain": [
       "mapk14\n",
       "-0.5778    3\n",
       " 1.0269    2\n",
       " 1.6137    2\n",
       " 1.4673    2\n",
       " 0.0249    2\n",
       "          ..\n",
       " 2.1055    1\n",
       "-0.1077    1\n",
       "-1.0704    1\n",
       "-0.0755    1\n",
       "-0.5933    1\n",
       "Name: count, Length: 1838, dtype: int64"
      ]
     },
     "metadata": {},
     "output_type": "display_data"
    },
    {
     "name": "stdout",
     "output_type": "stream",
     "text": [
      "\n",
      "\n"
     ]
    },
    {
     "data": {
      "text/plain": [
       "mapk3\n",
       " 0.1501    4\n",
       "-0.4399    4\n",
       "-0.5584    4\n",
       " 0.7638    4\n",
       "-0.3312    4\n",
       "          ..\n",
       "-0.4869    1\n",
       "-0.7159    1\n",
       "-0.3950    1\n",
       "-0.0347    1\n",
       " 0.6167    1\n",
       "Name: count, Length: 1630, dtype: int64"
      ]
     },
     "metadata": {},
     "output_type": "display_data"
    },
    {
     "name": "stdout",
     "output_type": "stream",
     "text": [
      "\n",
      "\n"
     ]
    },
    {
     "data": {
      "text/plain": [
       "mapk4\n",
       "-0.4706    3\n",
       "-0.3013    3\n",
       "-0.1315    3\n",
       "-0.0862    3\n",
       "-0.4813    3\n",
       "          ..\n",
       "-0.1912    1\n",
       "-0.2736    1\n",
       " 0.2712    1\n",
       "-0.2345    1\n",
       "-0.5147    1\n",
       "Name: count, Length: 1808, dtype: int64"
      ]
     },
     "metadata": {},
     "output_type": "display_data"
    },
    {
     "name": "stdout",
     "output_type": "stream",
     "text": [
      "\n",
      "\n"
     ]
    },
    {
     "data": {
      "text/plain": [
       "mapk6\n",
       " 0.1970    2\n",
       "-0.9340    2\n",
       "-0.0799    2\n",
       "-0.3350    2\n",
       " 0.6800    2\n",
       "          ..\n",
       "-0.2662    1\n",
       " 0.0777    1\n",
       " 0.0626    1\n",
       "-1.0074    1\n",
       " 1.6078    1\n",
       "Name: count, Length: 1850, dtype: int64"
      ]
     },
     "metadata": {},
     "output_type": "display_data"
    },
    {
     "name": "stdout",
     "output_type": "stream",
     "text": [
      "\n",
      "\n"
     ]
    },
    {
     "data": {
      "text/plain": [
       "mapk7\n",
       " 0.2689    4\n",
       "-1.0091    3\n",
       "-0.0600    3\n",
       "-0.0019    3\n",
       " 0.4556    3\n",
       "          ..\n",
       " 0.7894    1\n",
       " 1.2450    1\n",
       " 0.7348    1\n",
       "-0.0245    1\n",
       "-0.1244    1\n",
       "Name: count, Length: 1720, dtype: int64"
      ]
     },
     "metadata": {},
     "output_type": "display_data"
    },
    {
     "name": "stdout",
     "output_type": "stream",
     "text": [
      "\n",
      "\n"
     ]
    },
    {
     "data": {
      "text/plain": [
       "mapk8\n",
       "-0.3996    2\n",
       "-0.0733    2\n",
       " 0.5329    2\n",
       " 0.2263    2\n",
       "-0.2359    2\n",
       "          ..\n",
       "-0.2269    1\n",
       "-0.2082    1\n",
       " 0.1783    1\n",
       "-0.3449    1\n",
       " 2.3882    1\n",
       "Name: count, Length: 1861, dtype: int64"
      ]
     },
     "metadata": {},
     "output_type": "display_data"
    },
    {
     "name": "stdout",
     "output_type": "stream",
     "text": [
      "\n",
      "\n"
     ]
    },
    {
     "data": {
      "text/plain": [
       "mapk9\n",
       " 0.3240    4\n",
       " 0.0275    3\n",
       "-0.2714    3\n",
       " 0.6044    3\n",
       "-0.0720    3\n",
       "          ..\n",
       "-0.1097    1\n",
       "-0.5473    1\n",
       " 0.2893    1\n",
       " 1.2004    1\n",
       "-0.1896    1\n",
       "Name: count, Length: 1723, dtype: int64"
      ]
     },
     "metadata": {},
     "output_type": "display_data"
    },
    {
     "name": "stdout",
     "output_type": "stream",
     "text": [
      "\n",
      "\n"
     ]
    },
    {
     "data": {
      "text/plain": [
       "mdc1\n",
       "-0.2146    4\n",
       " 0.3694    4\n",
       "-0.0118    4\n",
       " 0.6713    3\n",
       "-0.3047    3\n",
       "          ..\n",
       "-1.3563    1\n",
       " 2.4496    1\n",
       " 1.5594    1\n",
       "-0.4859    1\n",
       "-0.7529    1\n",
       "Name: count, Length: 1691, dtype: int64"
      ]
     },
     "metadata": {},
     "output_type": "display_data"
    },
    {
     "name": "stdout",
     "output_type": "stream",
     "text": [
      "\n",
      "\n"
     ]
    },
    {
     "data": {
      "text/plain": [
       "mlst8\n",
       "-0.7864    4\n",
       " 0.0001    4\n",
       " 0.7893    4\n",
       "-0.0091    4\n",
       " 0.0235    3\n",
       "          ..\n",
       "-0.3351    1\n",
       "-0.2748    1\n",
       "-2.6505    1\n",
       "-1.8599    1\n",
       "-0.9919    1\n",
       "Name: count, Length: 1712, dtype: int64"
      ]
     },
     "metadata": {},
     "output_type": "display_data"
    },
    {
     "name": "stdout",
     "output_type": "stream",
     "text": [
      "\n",
      "\n"
     ]
    },
    {
     "data": {
      "text/plain": [
       "mmp1\n",
       "-0.4698    4\n",
       "-0.3976    3\n",
       " 0.1823    3\n",
       "-0.6608    3\n",
       "-0.2951    3\n",
       "          ..\n",
       "-0.3927    1\n",
       "-0.5971    1\n",
       " 0.4573    1\n",
       " 1.6784    1\n",
       "-0.5334    1\n",
       "Name: count, Length: 1789, dtype: int64"
      ]
     },
     "metadata": {},
     "output_type": "display_data"
    },
    {
     "name": "stdout",
     "output_type": "stream",
     "text": [
      "\n",
      "\n"
     ]
    },
    {
     "data": {
      "text/plain": [
       "mmp10\n",
       "-0.6254    3\n",
       "-0.4613    3\n",
       "-0.2819    3\n",
       "-0.6118    3\n",
       "-0.6721    3\n",
       "          ..\n",
       " 0.4412    1\n",
       "-0.3257    1\n",
       "-0.7909    1\n",
       "-0.5488    1\n",
       " 0.3663    1\n",
       "Name: count, Length: 1796, dtype: int64"
      ]
     },
     "metadata": {},
     "output_type": "display_data"
    },
    {
     "name": "stdout",
     "output_type": "stream",
     "text": [
      "\n",
      "\n"
     ]
    },
    {
     "data": {
      "text/plain": [
       "mmp11\n",
       " 0.6340    3\n",
       " 0.3775    2\n",
       "-0.6932    2\n",
       " 0.6129    2\n",
       " 0.0822    2\n",
       "          ..\n",
       "-0.2587    1\n",
       " 1.2424    1\n",
       " 0.6311    1\n",
       " 0.3999    1\n",
       " 0.1539    1\n",
       "Name: count, Length: 1846, dtype: int64"
      ]
     },
     "metadata": {},
     "output_type": "display_data"
    },
    {
     "name": "stdout",
     "output_type": "stream",
     "text": [
      "\n",
      "\n"
     ]
    },
    {
     "data": {
      "text/plain": [
       "mmp12\n",
       "-0.5477    4\n",
       "-0.4098    3\n",
       "-0.7432    3\n",
       "-0.5300    3\n",
       "-0.5988    3\n",
       "          ..\n",
       "-0.5406    1\n",
       " 2.1447    1\n",
       " 1.4030    1\n",
       "-0.5306    1\n",
       "-0.3124    1\n",
       "Name: count, Length: 1765, dtype: int64"
      ]
     },
     "metadata": {},
     "output_type": "display_data"
    },
    {
     "name": "stdout",
     "output_type": "stream",
     "text": [
      "\n",
      "\n"
     ]
    },
    {
     "data": {
      "text/plain": [
       "mmp13\n",
       "-0.7383    3\n",
       "-0.7748    2\n",
       " 0.2511    2\n",
       "-0.7860    2\n",
       "-0.7471    2\n",
       "          ..\n",
       "-0.2170    1\n",
       " 2.0770    1\n",
       "-0.2438    1\n",
       "-0.7334    1\n",
       "-0.1206    1\n",
       "Name: count, Length: 1817, dtype: int64"
      ]
     },
     "metadata": {},
     "output_type": "display_data"
    },
    {
     "name": "stdout",
     "output_type": "stream",
     "text": [
      "\n",
      "\n"
     ]
    },
    {
     "data": {
      "text/plain": [
       "mmp14\n",
       " 0.4227    3\n",
       "-0.1025    3\n",
       "-0.4337    3\n",
       " 0.4508    3\n",
       " 0.1511    3\n",
       "          ..\n",
       " 1.2583    1\n",
       "-0.2002    1\n",
       " 1.4027    1\n",
       " 0.4836    1\n",
       " 1.1893    1\n",
       "Name: count, Length: 1817, dtype: int64"
      ]
     },
     "metadata": {},
     "output_type": "display_data"
    },
    {
     "name": "stdout",
     "output_type": "stream",
     "text": [
      "\n",
      "\n"
     ]
    },
    {
     "data": {
      "text/plain": [
       "mmp15\n",
       " 0.1005    3\n",
       "-1.0109    3\n",
       "-0.7470    3\n",
       "-0.3769    3\n",
       "-0.7058    3\n",
       "          ..\n",
       " 0.0535    1\n",
       "-0.4261    1\n",
       " 0.3123    1\n",
       "-0.8373    1\n",
       "-1.2360    1\n",
       "Name: count, Length: 1784, dtype: int64"
      ]
     },
     "metadata": {},
     "output_type": "display_data"
    },
    {
     "name": "stdout",
     "output_type": "stream",
     "text": [
      "\n",
      "\n"
     ]
    },
    {
     "data": {
      "text/plain": [
       "mmp16\n",
       " 0.3500    4\n",
       " 0.5451    3\n",
       "-0.3141    2\n",
       "-1.1878    2\n",
       " 0.5877    2\n",
       "          ..\n",
       " 0.9816    1\n",
       "-0.2744    1\n",
       " 0.6987    1\n",
       " 0.1328    1\n",
       " 0.9059    1\n",
       "Name: count, Length: 1829, dtype: int64"
      ]
     },
     "metadata": {},
     "output_type": "display_data"
    },
    {
     "name": "stdout",
     "output_type": "stream",
     "text": [
      "\n",
      "\n"
     ]
    },
    {
     "data": {
      "text/plain": [
       "mmp17\n",
       "-1.5942    3\n",
       " 0.6998    3\n",
       "-0.4786    3\n",
       " 0.0071    3\n",
       "-0.8019    2\n",
       "          ..\n",
       "-0.2298    1\n",
       "-0.6602    1\n",
       "-1.7736    1\n",
       " 0.2661    1\n",
       " 1.5513    1\n",
       "Name: count, Length: 1826, dtype: int64"
      ]
     },
     "metadata": {},
     "output_type": "display_data"
    },
    {
     "name": "stdout",
     "output_type": "stream",
     "text": [
      "\n",
      "\n"
     ]
    },
    {
     "data": {
      "text/plain": [
       "mmp19\n",
       "-0.3412    3\n",
       "-0.4221    3\n",
       "-0.5584    2\n",
       "-0.2782    2\n",
       " 0.5069    2\n",
       "          ..\n",
       " 2.3656    1\n",
       "-1.4546    1\n",
       " 2.4256    1\n",
       " 0.8375    1\n",
       " 0.9866    1\n",
       "Name: count, Length: 1842, dtype: int64"
      ]
     },
     "metadata": {},
     "output_type": "display_data"
    },
    {
     "name": "stdout",
     "output_type": "stream",
     "text": [
      "\n",
      "\n"
     ]
    },
    {
     "data": {
      "text/plain": [
       "mmp2\n",
       "-0.6923    3\n",
       " 0.0929    2\n",
       "-1.1817    2\n",
       "-0.7482    2\n",
       " 0.1856    2\n",
       "          ..\n",
       "-0.3430    1\n",
       "-0.1795    1\n",
       " 0.0127    1\n",
       "-0.6798    1\n",
       " 0.9728    1\n",
       "Name: count, Length: 1852, dtype: int64"
      ]
     },
     "metadata": {},
     "output_type": "display_data"
    },
    {
     "name": "stdout",
     "output_type": "stream",
     "text": [
      "\n",
      "\n"
     ]
    },
    {
     "data": {
      "text/plain": [
       "mmp21\n",
       "-0.1963    4\n",
       " 1.6754    2\n",
       "-0.6521    2\n",
       "-0.7143    2\n",
       " 0.3138    2\n",
       "          ..\n",
       " 1.1320    1\n",
       "-0.4448    1\n",
       "-0.7840    1\n",
       "-0.3364    1\n",
       "-0.7845    1\n",
       "Name: count, Length: 1821, dtype: int64"
      ]
     },
     "metadata": {},
     "output_type": "display_data"
    },
    {
     "name": "stdout",
     "output_type": "stream",
     "text": [
      "\n",
      "\n"
     ]
    },
    {
     "data": {
      "text/plain": [
       "mmp23b\n",
       " 1.1892    3\n",
       "-0.6581    2\n",
       "-0.7825    2\n",
       "-1.2872    2\n",
       "-0.2973    2\n",
       "          ..\n",
       " 0.9594    1\n",
       "-0.0178    1\n",
       "-1.2568    1\n",
       " 1.9400    1\n",
       " 0.9411    1\n",
       "Name: count, Length: 1833, dtype: int64"
      ]
     },
     "metadata": {},
     "output_type": "display_data"
    },
    {
     "name": "stdout",
     "output_type": "stream",
     "text": [
      "\n",
      "\n"
     ]
    },
    {
     "data": {
      "text/plain": [
       "mmp24\n",
       "-0.7833    3\n",
       "-0.5114    3\n",
       "-0.2579    3\n",
       "-0.1862    3\n",
       "-0.2520    3\n",
       "          ..\n",
       "-0.3284    1\n",
       "-0.8539    1\n",
       "-0.7383    1\n",
       " 0.1137    1\n",
       " 0.2549    1\n",
       "Name: count, Length: 1809, dtype: int64"
      ]
     },
     "metadata": {},
     "output_type": "display_data"
    },
    {
     "name": "stdout",
     "output_type": "stream",
     "text": [
      "\n",
      "\n"
     ]
    },
    {
     "data": {
      "text/plain": [
       "mmp25\n",
       "-0.2811    4\n",
       "-0.3292    3\n",
       "-0.2336    3\n",
       "-0.8445    2\n",
       "-0.7873    2\n",
       "          ..\n",
       "-0.5695    1\n",
       "-0.1043    1\n",
       "-1.0603    1\n",
       " 0.0571    1\n",
       " 2.8068    1\n",
       "Name: count, Length: 1813, dtype: int64"
      ]
     },
     "metadata": {},
     "output_type": "display_data"
    },
    {
     "name": "stdout",
     "output_type": "stream",
     "text": [
      "\n",
      "\n"
     ]
    },
    {
     "data": {
      "text/plain": [
       "mmp26\n",
       "-0.1017    3\n",
       " 0.3735    3\n",
       "-1.1255    2\n",
       "-0.6695    2\n",
       "-0.0296    2\n",
       "          ..\n",
       "-0.6640    1\n",
       " 0.1116    1\n",
       "-1.2560    1\n",
       " 0.9824    1\n",
       " 0.5214    1\n",
       "Name: count, Length: 1803, dtype: int64"
      ]
     },
     "metadata": {},
     "output_type": "display_data"
    },
    {
     "name": "stdout",
     "output_type": "stream",
     "text": [
      "\n",
      "\n"
     ]
    },
    {
     "data": {
      "text/plain": [
       "mmp27\n",
       "-0.0461    3\n",
       "-0.4293    3\n",
       "-0.6856    3\n",
       "-0.7604    2\n",
       "-0.2105    2\n",
       "          ..\n",
       "-0.2314    1\n",
       "-1.4376    1\n",
       " 0.1339    1\n",
       " 0.4469    1\n",
       " 0.8679    1\n",
       "Name: count, Length: 1814, dtype: int64"
      ]
     },
     "metadata": {},
     "output_type": "display_data"
    },
    {
     "name": "stdout",
     "output_type": "stream",
     "text": [
      "\n",
      "\n"
     ]
    },
    {
     "data": {
      "text/plain": [
       "mmp28\n",
       " 0.7105    3\n",
       "-0.5118    3\n",
       "-0.3605    3\n",
       "-0.0007    2\n",
       "-0.6225    2\n",
       "          ..\n",
       "-0.9231    1\n",
       "-1.3531    1\n",
       " 2.5399    1\n",
       "-0.3095    1\n",
       "-0.2670    1\n",
       "Name: count, Length: 1811, dtype: int64"
      ]
     },
     "metadata": {},
     "output_type": "display_data"
    },
    {
     "name": "stdout",
     "output_type": "stream",
     "text": [
      "\n",
      "\n"
     ]
    },
    {
     "data": {
      "text/plain": [
       "mmp3\n",
       "-0.5032    3\n",
       "-0.5137    3\n",
       " 0.3192    3\n",
       " 0.0119    3\n",
       "-0.1168    3\n",
       "          ..\n",
       "-0.4633    1\n",
       "-0.0697    1\n",
       " 2.0915    1\n",
       " 2.3851    1\n",
       " 1.9140    1\n",
       "Name: count, Length: 1818, dtype: int64"
      ]
     },
     "metadata": {},
     "output_type": "display_data"
    },
    {
     "name": "stdout",
     "output_type": "stream",
     "text": [
      "\n",
      "\n"
     ]
    },
    {
     "data": {
      "text/plain": [
       "mmp7\n",
       " 2.6422    7\n",
       " 2.7194    6\n",
       " 2.8227    6\n",
       " 2.2256    3\n",
       "-0.5520    3\n",
       "          ..\n",
       " 0.1983    1\n",
       " 1.5830    1\n",
       "-1.2219    1\n",
       "-0.0054    1\n",
       "-0.1554    1\n",
       "Name: count, Length: 1785, dtype: int64"
      ]
     },
     "metadata": {},
     "output_type": "display_data"
    },
    {
     "name": "stdout",
     "output_type": "stream",
     "text": [
      "\n",
      "\n"
     ]
    },
    {
     "data": {
      "text/plain": [
       "mmp9\n",
       " 1.5245    5\n",
       " 1.9192    4\n",
       " 0.4812    3\n",
       " 0.4643    3\n",
       " 1.4088    3\n",
       "          ..\n",
       "-0.8483    1\n",
       "-1.6625    1\n",
       " 0.8590    1\n",
       "-0.7551    1\n",
       "-0.7623    1\n",
       "Name: count, Length: 1735, dtype: int64"
      ]
     },
     "metadata": {},
     "output_type": "display_data"
    },
    {
     "name": "stdout",
     "output_type": "stream",
     "text": [
      "\n",
      "\n"
     ]
    },
    {
     "data": {
      "text/plain": [
       "mtor\n",
       " 0.1025    5\n",
       " 0.0904    5\n",
       " 0.6318    4\n",
       "-0.6843    4\n",
       " 0.4117    4\n",
       "          ..\n",
       " 1.5143    1\n",
       "-0.1717    1\n",
       " 0.6904    1\n",
       "-0.7581    1\n",
       "-1.8715    1\n",
       "Name: count, Length: 1623, dtype: int64"
      ]
     },
     "metadata": {},
     "output_type": "display_data"
    },
    {
     "name": "stdout",
     "output_type": "stream",
     "text": [
      "\n",
      "\n"
     ]
    },
    {
     "data": {
      "text/plain": [
       "nfkb1\n",
       " 0.3893    8\n",
       "-0.0448    7\n",
       "-0.4946    6\n",
       " 0.5111    6\n",
       " 0.1032    6\n",
       "          ..\n",
       "-1.2378    1\n",
       "-1.7628    1\n",
       " 2.4004    1\n",
       "-1.7284    1\n",
       "-0.5036    1\n",
       "Name: count, Length: 1338, dtype: int64"
      ]
     },
     "metadata": {},
     "output_type": "display_data"
    },
    {
     "name": "stdout",
     "output_type": "stream",
     "text": [
      "\n",
      "\n"
     ]
    },
    {
     "data": {
      "text/plain": [
       "nfkb2\n",
       "-0.1036    4\n",
       "-0.3960    3\n",
       "-0.5846    3\n",
       "-0.2016    3\n",
       "-0.4355    3\n",
       "          ..\n",
       "-1.2237    1\n",
       "-0.4680    1\n",
       " 0.6173    1\n",
       " 0.7248    1\n",
       "-1.4002    1\n",
       "Name: count, Length: 1752, dtype: int64"
      ]
     },
     "metadata": {},
     "output_type": "display_data"
    },
    {
     "name": "stdout",
     "output_type": "stream",
     "text": [
      "\n",
      "\n"
     ]
    },
    {
     "data": {
      "text/plain": [
       "opcml\n",
       "-0.2582    3\n",
       "-0.0783    3\n",
       "-0.2411    2\n",
       " 0.0185    2\n",
       " 0.0081    2\n",
       "          ..\n",
       " 0.5791    1\n",
       " 0.0751    1\n",
       " 0.0940    1\n",
       " 0.6416    1\n",
       " 0.1492    1\n",
       "Name: count, Length: 1845, dtype: int64"
      ]
     },
     "metadata": {},
     "output_type": "display_data"
    },
    {
     "name": "stdout",
     "output_type": "stream",
     "text": [
      "\n",
      "\n"
     ]
    },
    {
     "data": {
      "text/plain": [
       "pdgfa\n",
       "-0.6697    3\n",
       "-0.3136    2\n",
       "-0.0208    2\n",
       "-0.6853    2\n",
       " 0.2852    2\n",
       "          ..\n",
       " 1.1136    1\n",
       " 0.8790    1\n",
       "-1.9526    1\n",
       " 0.3920    1\n",
       " 1.0340    1\n",
       "Name: count, Length: 1855, dtype: int64"
      ]
     },
     "metadata": {},
     "output_type": "display_data"
    },
    {
     "name": "stdout",
     "output_type": "stream",
     "text": [
      "\n",
      "\n"
     ]
    },
    {
     "data": {
      "text/plain": [
       "pdgfb\n",
       " 0.6221    4\n",
       "-0.7363    3\n",
       "-0.4320    3\n",
       "-0.0983    3\n",
       "-0.5505    3\n",
       "          ..\n",
       " 1.8807    1\n",
       "-0.9588    1\n",
       "-0.1154    1\n",
       "-0.6494    1\n",
       " 0.1029    1\n",
       "Name: count, Length: 1779, dtype: int64"
      ]
     },
     "metadata": {},
     "output_type": "display_data"
    },
    {
     "name": "stdout",
     "output_type": "stream",
     "text": [
      "\n",
      "\n"
     ]
    },
    {
     "data": {
      "text/plain": [
       "pdgfra\n",
       " 0.9471    3\n",
       " 0.5177    2\n",
       "-0.3518    2\n",
       " 1.6745    2\n",
       "-0.3523    2\n",
       "          ..\n",
       "-0.4554    1\n",
       " 0.3940    1\n",
       "-0.6895    1\n",
       " 0.3007    1\n",
       " 1.1543    1\n",
       "Name: count, Length: 1847, dtype: int64"
      ]
     },
     "metadata": {},
     "output_type": "display_data"
    },
    {
     "name": "stdout",
     "output_type": "stream",
     "text": [
      "\n",
      "\n"
     ]
    },
    {
     "data": {
      "text/plain": [
       "pdgfrb\n",
       " 0.5797    5\n",
       " 1.3131    5\n",
       "-0.0564    4\n",
       "-0.2115    4\n",
       " 1.0124    4\n",
       "          ..\n",
       "-1.1967    1\n",
       "-1.0483    1\n",
       " 0.8009    1\n",
       "-2.3184    1\n",
       "-1.1434    1\n",
       "Name: count, Length: 1574, dtype: int64"
      ]
     },
     "metadata": {},
     "output_type": "display_data"
    },
    {
     "name": "stdout",
     "output_type": "stream",
     "text": [
      "\n",
      "\n"
     ]
    },
    {
     "data": {
      "text/plain": [
       "pdpk1\n",
       " 0.1728    3\n",
       "-0.2227    3\n",
       "-0.5302    3\n",
       " 0.5959    3\n",
       "-0.4350    3\n",
       "          ..\n",
       " 0.3709    1\n",
       "-0.6472    1\n",
       "-1.7508    1\n",
       " 0.7813    1\n",
       " 0.4006    1\n",
       "Name: count, Length: 1774, dtype: int64"
      ]
     },
     "metadata": {},
     "output_type": "display_data"
    },
    {
     "name": "stdout",
     "output_type": "stream",
     "text": [
      "\n",
      "\n"
     ]
    },
    {
     "data": {
      "text/plain": [
       "peg3\n",
       "-0.4475    3\n",
       " 2.3088    3\n",
       " 0.0615    3\n",
       "-0.0431    3\n",
       " 0.0444    3\n",
       "          ..\n",
       "-1.0179    1\n",
       "-0.7651    1\n",
       "-1.1976    1\n",
       "-0.1985    1\n",
       "-0.4775    1\n",
       "Name: count, Length: 1800, dtype: int64"
      ]
     },
     "metadata": {},
     "output_type": "display_data"
    },
    {
     "name": "stdout",
     "output_type": "stream",
     "text": [
      "\n",
      "\n"
     ]
    },
    {
     "data": {
      "text/plain": [
       "pik3ca\n",
       "-0.1988    3\n",
       " 0.9848    3\n",
       " 0.5125    3\n",
       " 0.1184    3\n",
       "-0.1296    3\n",
       "          ..\n",
       " 0.7057    1\n",
       " 0.7344    1\n",
       "-1.0043    1\n",
       " 0.5366    1\n",
       " 0.4340    1\n",
       "Name: count, Length: 1799, dtype: int64"
      ]
     },
     "metadata": {},
     "output_type": "display_data"
    },
    {
     "name": "stdout",
     "output_type": "stream",
     "text": [
      "\n",
      "\n"
     ]
    },
    {
     "data": {
      "text/plain": [
       "pik3r1\n",
       " 1.0725    4\n",
       " 0.5879    4\n",
       "-0.2231    3\n",
       "-0.1948    3\n",
       " 1.0892    3\n",
       "          ..\n",
       "-0.3679    1\n",
       "-0.6030    1\n",
       "-0.8911    1\n",
       " 1.2078    1\n",
       " 1.4926    1\n",
       "Name: count, Length: 1731, dtype: int64"
      ]
     },
     "metadata": {},
     "output_type": "display_data"
    },
    {
     "name": "stdout",
     "output_type": "stream",
     "text": [
      "\n",
      "\n"
     ]
    },
    {
     "data": {
      "text/plain": [
       "pik3r2\n",
       " 0.2554    9\n",
       "-0.2437    7\n",
       " 0.6892    7\n",
       "-0.0861    6\n",
       " 0.1861    5\n",
       "          ..\n",
       " 1.3238    1\n",
       "-0.4140    1\n",
       " 0.2015    1\n",
       "-1.2179    1\n",
       " 0.6127    1\n",
       "Name: count, Length: 1431, dtype: int64"
      ]
     },
     "metadata": {},
     "output_type": "display_data"
    },
    {
     "name": "stdout",
     "output_type": "stream",
     "text": [
      "\n",
      "\n"
     ]
    },
    {
     "data": {
      "text/plain": [
       "plagl1\n",
       "-0.0391    3\n",
       "-0.0944    2\n",
       "-0.2385    2\n",
       " 0.3338    2\n",
       "-0.0435    2\n",
       "          ..\n",
       " 1.6896    1\n",
       " 0.4468    1\n",
       "-0.1698    1\n",
       "-1.0088    1\n",
       "-0.7038    1\n",
       "Name: count, Length: 1843, dtype: int64"
      ]
     },
     "metadata": {},
     "output_type": "display_data"
    },
    {
     "name": "stdout",
     "output_type": "stream",
     "text": [
      "\n",
      "\n"
     ]
    },
    {
     "data": {
      "text/plain": [
       "ptk2\n",
       "-0.8603    2\n",
       "-1.0863    2\n",
       "-1.5952    2\n",
       " 0.1140    2\n",
       " 1.3099    2\n",
       "          ..\n",
       "-0.5102    1\n",
       "-0.8437    1\n",
       "-0.6601    1\n",
       " 1.9670    1\n",
       "-0.6830    1\n",
       "Name: count, Length: 1851, dtype: int64"
      ]
     },
     "metadata": {},
     "output_type": "display_data"
    },
    {
     "name": "stdout",
     "output_type": "stream",
     "text": [
      "\n",
      "\n"
     ]
    },
    {
     "data": {
      "text/plain": [
       "rab25\n",
       " 0.3797    5\n",
       " 0.3525    5\n",
       " 0.7495    4\n",
       " 0.2387    4\n",
       " 0.5436    4\n",
       "          ..\n",
       "-0.3997    1\n",
       " 1.0636    1\n",
       "-1.0443    1\n",
       " 1.2496    1\n",
       "-1.2761    1\n",
       "Name: count, Length: 1509, dtype: int64"
      ]
     },
     "metadata": {},
     "output_type": "display_data"
    },
    {
     "name": "stdout",
     "output_type": "stream",
     "text": [
      "\n",
      "\n"
     ]
    },
    {
     "data": {
      "text/plain": [
       "rad51\n",
       " 0.8944    3\n",
       "-0.0671    3\n",
       " 0.1320    3\n",
       "-0.3333    2\n",
       "-0.2118    2\n",
       "          ..\n",
       " 1.9730    1\n",
       " 0.9115    1\n",
       "-0.7700    1\n",
       "-1.6662    1\n",
       " 0.2756    1\n",
       "Name: count, Length: 1837, dtype: int64"
      ]
     },
     "metadata": {},
     "output_type": "display_data"
    },
    {
     "name": "stdout",
     "output_type": "stream",
     "text": [
      "\n",
      "\n"
     ]
    },
    {
     "data": {
      "text/plain": [
       "raf1\n",
       "-0.4873    5\n",
       " 0.8686    4\n",
       " 0.4240    3\n",
       "-1.9274    3\n",
       " 0.5058    3\n",
       "          ..\n",
       "-1.5908    1\n",
       " 0.2124    1\n",
       " 1.5444    1\n",
       " 0.9382    1\n",
       "-1.5506    1\n",
       "Name: count, Length: 1674, dtype: int64"
      ]
     },
     "metadata": {},
     "output_type": "display_data"
    },
    {
     "name": "stdout",
     "output_type": "stream",
     "text": [
      "\n",
      "\n"
     ]
    },
    {
     "data": {
      "text/plain": [
       "rassf1\n",
       "-0.0778    3\n",
       "-0.1352    3\n",
       "-0.5189    3\n",
       " 0.5479    3\n",
       "-0.0291    3\n",
       "          ..\n",
       " 0.6811    1\n",
       "-0.5061    1\n",
       "-1.0232    1\n",
       " 0.4192    1\n",
       " 1.5891    1\n",
       "Name: count, Length: 1749, dtype: int64"
      ]
     },
     "metadata": {},
     "output_type": "display_data"
    },
    {
     "name": "stdout",
     "output_type": "stream",
     "text": [
      "\n",
      "\n"
     ]
    },
    {
     "data": {
      "text/plain": [
       "rheb\n",
       "-0.3357    3\n",
       " 0.5478    3\n",
       " 0.0324    3\n",
       "-0.1512    2\n",
       "-0.2138    2\n",
       "          ..\n",
       " 2.7791    1\n",
       " 0.8028    1\n",
       " 0.2083    1\n",
       "-1.1585    1\n",
       " 0.0115    1\n",
       "Name: count, Length: 1849, dtype: int64"
      ]
     },
     "metadata": {},
     "output_type": "display_data"
    },
    {
     "name": "stdout",
     "output_type": "stream",
     "text": [
      "\n",
      "\n"
     ]
    },
    {
     "data": {
      "text/plain": [
       "rictor\n",
       "-0.0430    3\n",
       " 0.5980    3\n",
       "-0.2167    3\n",
       "-0.5111    3\n",
       "-0.6756    2\n",
       "          ..\n",
       " 2.5220    1\n",
       "-1.8046    1\n",
       "-0.3236    1\n",
       "-0.0053    1\n",
       " 0.7869    1\n",
       "Name: count, Length: 1823, dtype: int64"
      ]
     },
     "metadata": {},
     "output_type": "display_data"
    },
    {
     "name": "stdout",
     "output_type": "stream",
     "text": [
      "\n",
      "\n"
     ]
    },
    {
     "data": {
      "text/plain": [
       "rps6\n",
       "-0.7996    3\n",
       "-0.3626    3\n",
       " 1.4534    2\n",
       " 0.2925    2\n",
       "-0.4956    2\n",
       "          ..\n",
       " 1.2336    1\n",
       " 0.6338    1\n",
       "-3.7024    1\n",
       " 0.9271    1\n",
       " 2.6797    1\n",
       "Name: count, Length: 1866, dtype: int64"
      ]
     },
     "metadata": {},
     "output_type": "display_data"
    },
    {
     "name": "stdout",
     "output_type": "stream",
     "text": [
      "\n",
      "\n"
     ]
    },
    {
     "data": {
      "text/plain": [
       "rps6ka1\n",
       "-0.8900    3\n",
       "-0.8210    3\n",
       " 0.3970    3\n",
       "-0.6388    3\n",
       "-0.2470    3\n",
       "          ..\n",
       "-1.2070    1\n",
       "-0.9801    1\n",
       "-0.8251    1\n",
       "-1.1217    1\n",
       "-1.7290    1\n",
       "Name: count, Length: 1760, dtype: int64"
      ]
     },
     "metadata": {},
     "output_type": "display_data"
    },
    {
     "name": "stdout",
     "output_type": "stream",
     "text": [
      "\n",
      "\n"
     ]
    },
    {
     "data": {
      "text/plain": [
       "rps6ka2\n",
       " 0.1029    3\n",
       "-0.7573    3\n",
       " 0.6972    3\n",
       " 1.2175    3\n",
       "-1.1373    3\n",
       "          ..\n",
       "-1.3913    1\n",
       " 0.1352    1\n",
       "-0.2049    1\n",
       "-1.7154    1\n",
       " 0.6942    1\n",
       "Name: count, Length: 1761, dtype: int64"
      ]
     },
     "metadata": {},
     "output_type": "display_data"
    },
    {
     "name": "stdout",
     "output_type": "stream",
     "text": [
      "\n",
      "\n"
     ]
    },
    {
     "data": {
      "text/plain": [
       "rps6kb1\n",
       "-0.0412    3\n",
       "-0.3458    3\n",
       "-0.3125    3\n",
       "-0.2977    3\n",
       " 0.1012    3\n",
       "          ..\n",
       "-0.2177    1\n",
       " 0.0778    1\n",
       "-0.4805    1\n",
       " 0.7101    1\n",
       " 0.0822    1\n",
       "Name: count, Length: 1840, dtype: int64"
      ]
     },
     "metadata": {},
     "output_type": "display_data"
    },
    {
     "name": "stdout",
     "output_type": "stream",
     "text": [
      "\n",
      "\n"
     ]
    },
    {
     "data": {
      "text/plain": [
       "rps6kb2\n",
       "-0.8012    3\n",
       "-0.0909    3\n",
       " 0.2593    2\n",
       " 0.2703    2\n",
       " 0.4940    2\n",
       "          ..\n",
       "-0.6483    1\n",
       "-0.7745    1\n",
       " 0.3055    1\n",
       " 1.0393    1\n",
       "-0.0742    1\n",
       "Name: count, Length: 1853, dtype: int64"
      ]
     },
     "metadata": {},
     "output_type": "display_data"
    },
    {
     "name": "stdout",
     "output_type": "stream",
     "text": [
      "\n",
      "\n"
     ]
    },
    {
     "data": {
      "text/plain": [
       "rptor\n",
       "-1.0263    3\n",
       "-0.1732    3\n",
       "-0.1977    3\n",
       "-0.4548    3\n",
       "-1.2004    3\n",
       "          ..\n",
       " 0.8634    1\n",
       "-1.0883    1\n",
       "-0.5461    1\n",
       "-0.3012    1\n",
       "-1.0888    1\n",
       "Name: count, Length: 1819, dtype: int64"
      ]
     },
     "metadata": {},
     "output_type": "display_data"
    },
    {
     "name": "stdout",
     "output_type": "stream",
     "text": [
      "\n",
      "\n"
     ]
    },
    {
     "data": {
      "text/plain": [
       "slc19a1\n",
       "-0.3401    4\n",
       " 0.1519    3\n",
       "-0.4284    3\n",
       " 0.1954    3\n",
       "-0.5090    3\n",
       "          ..\n",
       "-0.0677    1\n",
       "-0.9257    1\n",
       "-0.9923    1\n",
       " 0.2990    1\n",
       "-1.1284    1\n",
       "Name: count, Length: 1790, dtype: int64"
      ]
     },
     "metadata": {},
     "output_type": "display_data"
    },
    {
     "name": "stdout",
     "output_type": "stream",
     "text": [
      "\n",
      "\n"
     ]
    },
    {
     "data": {
      "text/plain": [
       "smad1\n",
       "-1.6101    3\n",
       "-0.9749    3\n",
       " 0.2311    3\n",
       "-0.4914    2\n",
       " 0.6552    2\n",
       "          ..\n",
       " 0.2901    1\n",
       " 0.7306    1\n",
       " 0.6043    1\n",
       "-1.4669    1\n",
       "-0.0464    1\n",
       "Name: count, Length: 1855, dtype: int64"
      ]
     },
     "metadata": {},
     "output_type": "display_data"
    },
    {
     "name": "stdout",
     "output_type": "stream",
     "text": [
      "\n",
      "\n"
     ]
    },
    {
     "data": {
      "text/plain": [
       "smad2\n",
       " 0.0398    2\n",
       " 0.9298    2\n",
       " 0.0400    2\n",
       "-0.5811    2\n",
       " 0.9535    2\n",
       "          ..\n",
       "-0.6690    1\n",
       "-0.7804    1\n",
       "-0.7170    1\n",
       " 0.2832    1\n",
       " 0.5649    1\n",
       "Name: count, Length: 1831, dtype: int64"
      ]
     },
     "metadata": {},
     "output_type": "display_data"
    },
    {
     "name": "stdout",
     "output_type": "stream",
     "text": [
      "\n",
      "\n"
     ]
    },
    {
     "data": {
      "text/plain": [
       "smad3\n",
       "-0.0400    3\n",
       " 1.0778    3\n",
       "-0.3201    3\n",
       "-0.1949    3\n",
       " 0.6279    3\n",
       "          ..\n",
       "-0.1739    1\n",
       "-0.6582    1\n",
       "-1.2094    1\n",
       "-0.8799    1\n",
       "-0.7129    1\n",
       "Name: count, Length: 1741, dtype: int64"
      ]
     },
     "metadata": {},
     "output_type": "display_data"
    },
    {
     "name": "stdout",
     "output_type": "stream",
     "text": [
      "\n",
      "\n"
     ]
    },
    {
     "data": {
      "text/plain": [
       "smad4\n",
       "-0.2832    4\n",
       "-0.4048    4\n",
       " 0.4031    3\n",
       " 0.9196    3\n",
       "-0.0418    3\n",
       "          ..\n",
       "-1.1120    1\n",
       " 0.2522    1\n",
       " 0.6818    1\n",
       " 1.1945    1\n",
       " 0.1512    1\n",
       "Name: count, Length: 1687, dtype: int64"
      ]
     },
     "metadata": {},
     "output_type": "display_data"
    },
    {
     "name": "stdout",
     "output_type": "stream",
     "text": [
      "\n",
      "\n"
     ]
    },
    {
     "data": {
      "text/plain": [
       "smad5\n",
       "-0.0263    3\n",
       "-0.1896    3\n",
       " 0.4913    3\n",
       "-0.1416    3\n",
       "-0.2119    3\n",
       "          ..\n",
       " 0.0120    1\n",
       "-0.3084    1\n",
       "-0.4610    1\n",
       " 0.8599    1\n",
       " 7.3425    1\n",
       "Name: count, Length: 1798, dtype: int64"
      ]
     },
     "metadata": {},
     "output_type": "display_data"
    },
    {
     "name": "stdout",
     "output_type": "stream",
     "text": [
      "\n",
      "\n"
     ]
    },
    {
     "data": {
      "text/plain": [
       "smad6\n",
       " 0.2181    3\n",
       "-0.7976    2\n",
       "-0.0572    2\n",
       " 0.5532    2\n",
       "-0.1727    2\n",
       "          ..\n",
       "-0.4721    1\n",
       "-0.5675    1\n",
       "-0.4545    1\n",
       " 0.1511    1\n",
       " 1.0090    1\n",
       "Name: count, Length: 1853, dtype: int64"
      ]
     },
     "metadata": {},
     "output_type": "display_data"
    },
    {
     "name": "stdout",
     "output_type": "stream",
     "text": [
      "\n",
      "\n"
     ]
    },
    {
     "data": {
      "text/plain": [
       "smad7\n",
       "-0.4549    3\n",
       " 0.3281    3\n",
       "-0.2933    2\n",
       " 0.4046    2\n",
       "-0.1775    2\n",
       "          ..\n",
       " 0.5221    1\n",
       "-1.2279    1\n",
       "-0.5334    1\n",
       "-1.1679    1\n",
       "-1.4484    1\n",
       "Name: count, Length: 1850, dtype: int64"
      ]
     },
     "metadata": {},
     "output_type": "display_data"
    },
    {
     "name": "stdout",
     "output_type": "stream",
     "text": [
      "\n",
      "\n"
     ]
    },
    {
     "data": {
      "text/plain": [
       "smad9\n",
       "-0.5515    3\n",
       "-0.2928    3\n",
       "-0.6977    3\n",
       "-0.0087    3\n",
       " 0.2552    3\n",
       "          ..\n",
       " 0.7703    1\n",
       " 0.4972    1\n",
       " 1.3399    1\n",
       " 2.4895    1\n",
       "-1.1240    1\n",
       "Name: count, Length: 1779, dtype: int64"
      ]
     },
     "metadata": {},
     "output_type": "display_data"
    },
    {
     "name": "stdout",
     "output_type": "stream",
     "text": [
      "\n",
      "\n"
     ]
    },
    {
     "data": {
      "text/plain": [
       "sptbn1\n",
       " 0.4385    4\n",
       " 0.3873    4\n",
       " 0.2152    3\n",
       " 0.7326    3\n",
       " 1.2392    3\n",
       "          ..\n",
       " 0.8914    1\n",
       " 1.0632    1\n",
       "-0.4602    1\n",
       "-0.8986    1\n",
       " 0.8485    1\n",
       "Name: count, Length: 1723, dtype: int64"
      ]
     },
     "metadata": {},
     "output_type": "display_data"
    },
    {
     "name": "stdout",
     "output_type": "stream",
     "text": [
      "\n",
      "\n"
     ]
    },
    {
     "data": {
      "text/plain": [
       "terc\n",
       "-0.1504    3\n",
       "-0.2121    3\n",
       "-0.6973    3\n",
       "-0.1136    3\n",
       "-0.2957    2\n",
       "          ..\n",
       "-0.1691    1\n",
       "-0.7583    1\n",
       "-0.8084    1\n",
       "-0.2890    1\n",
       "-0.6549    1\n",
       "Name: count, Length: 1831, dtype: int64"
      ]
     },
     "metadata": {},
     "output_type": "display_data"
    },
    {
     "name": "stdout",
     "output_type": "stream",
     "text": [
      "\n",
      "\n"
     ]
    },
    {
     "data": {
      "text/plain": [
       "tert\n",
       "-0.3337    3\n",
       "-1.1469    3\n",
       "-1.4429    3\n",
       "-1.2903    3\n",
       "-0.9562    3\n",
       "          ..\n",
       "-1.5396    1\n",
       " 0.9596    1\n",
       " 0.3256    1\n",
       " 0.1922    1\n",
       "-0.8181    1\n",
       "Name: count, Length: 1832, dtype: int64"
      ]
     },
     "metadata": {},
     "output_type": "display_data"
    },
    {
     "name": "stdout",
     "output_type": "stream",
     "text": [
      "\n",
      "\n"
     ]
    },
    {
     "data": {
      "text/plain": [
       "tgfb1\n",
       "-0.9684    3\n",
       "-0.4181    3\n",
       " 0.7073    2\n",
       "-0.8936    2\n",
       "-0.5252    2\n",
       "          ..\n",
       " 0.8077    1\n",
       " 1.1197    1\n",
       "-0.2309    1\n",
       "-0.5224    1\n",
       " 0.2977    1\n",
       "Name: count, Length: 1812, dtype: int64"
      ]
     },
     "metadata": {},
     "output_type": "display_data"
    },
    {
     "name": "stdout",
     "output_type": "stream",
     "text": [
      "\n",
      "\n"
     ]
    },
    {
     "data": {
      "text/plain": [
       "tgfb2\n",
       " 0.0245    3\n",
       "-0.7148    3\n",
       "-0.4754    3\n",
       "-0.3976    3\n",
       "-0.2300    2\n",
       "          ..\n",
       "-0.5938    1\n",
       "-0.4784    1\n",
       " 0.7296    1\n",
       " 0.5378    1\n",
       " 2.5760    1\n",
       "Name: count, Length: 1806, dtype: int64"
      ]
     },
     "metadata": {},
     "output_type": "display_data"
    },
    {
     "name": "stdout",
     "output_type": "stream",
     "text": [
      "\n",
      "\n"
     ]
    },
    {
     "data": {
      "text/plain": [
       "tgfb3\n",
       " 0.0799    3\n",
       " 0.7774    2\n",
       " 1.1768    2\n",
       " 0.1797    2\n",
       " 1.2864    2\n",
       "          ..\n",
       " 1.2830    1\n",
       " 1.0783    1\n",
       " 0.4075    1\n",
       "-0.4217    1\n",
       "-0.6720    1\n",
       "Name: count, Length: 1854, dtype: int64"
      ]
     },
     "metadata": {},
     "output_type": "display_data"
    },
    {
     "name": "stdout",
     "output_type": "stream",
     "text": [
      "\n",
      "\n"
     ]
    },
    {
     "data": {
      "text/plain": [
       "tgfbr1\n",
       "-0.0014    3\n",
       "-0.8106    3\n",
       " 0.9600    3\n",
       "-0.8389    2\n",
       " 0.6433    2\n",
       "          ..\n",
       " 0.0554    1\n",
       " 0.4038    1\n",
       "-0.1568    1\n",
       "-0.9396    1\n",
       " 3.7320    1\n",
       "Name: count, Length: 1836, dtype: int64"
      ]
     },
     "metadata": {},
     "output_type": "display_data"
    },
    {
     "name": "stdout",
     "output_type": "stream",
     "text": [
      "\n",
      "\n"
     ]
    },
    {
     "data": {
      "text/plain": [
       "tgfbr2\n",
       " 0.0593    4\n",
       " 0.5883    4\n",
       " 0.1888    3\n",
       " 0.0027    3\n",
       " 1.6477    3\n",
       "          ..\n",
       "-0.6911    1\n",
       "-1.5439    1\n",
       " 1.2735    1\n",
       "-0.8468    1\n",
       "-0.7390    1\n",
       "Name: count, Length: 1731, dtype: int64"
      ]
     },
     "metadata": {},
     "output_type": "display_data"
    },
    {
     "name": "stdout",
     "output_type": "stream",
     "text": [
      "\n",
      "\n"
     ]
    },
    {
     "data": {
      "text/plain": [
       "tgfbr3\n",
       " 1.0797    5\n",
       "-0.0669    3\n",
       " 0.0069    3\n",
       "-0.4529    3\n",
       " 1.2801    3\n",
       "          ..\n",
       "-0.6916    1\n",
       " 0.3319    1\n",
       "-0.3789    1\n",
       "-1.2918    1\n",
       " 0.0974    1\n",
       "Name: count, Length: 1784, dtype: int64"
      ]
     },
     "metadata": {},
     "output_type": "display_data"
    },
    {
     "name": "stdout",
     "output_type": "stream",
     "text": [
      "\n",
      "\n"
     ]
    },
    {
     "data": {
      "text/plain": [
       "tsc1\n",
       " 0.2773    4\n",
       " 0.0903    4\n",
       "-0.2682    4\n",
       "-0.2147    4\n",
       "-0.1408    4\n",
       "          ..\n",
       "-0.1208    1\n",
       "-0.7416    1\n",
       " 0.6911    1\n",
       "-1.6943    1\n",
       " 0.0623    1\n",
       "Name: count, Length: 1727, dtype: int64"
      ]
     },
     "metadata": {},
     "output_type": "display_data"
    },
    {
     "name": "stdout",
     "output_type": "stream",
     "text": [
      "\n",
      "\n"
     ]
    },
    {
     "data": {
      "text/plain": [
       "tsc2\n",
       " 0.4697    2\n",
       "-0.5715    2\n",
       "-0.5523    2\n",
       "-0.0686    2\n",
       "-0.3993    2\n",
       "          ..\n",
       " 0.1355    1\n",
       "-1.0050    1\n",
       " 0.7815    1\n",
       " 0.2785    1\n",
       "-0.6485    1\n",
       "Name: count, Length: 1855, dtype: int64"
      ]
     },
     "metadata": {},
     "output_type": "display_data"
    },
    {
     "name": "stdout",
     "output_type": "stream",
     "text": [
      "\n",
      "\n"
     ]
    },
    {
     "data": {
      "text/plain": [
       "vegfa\n",
       " 0.2739    4\n",
       "-0.1867    3\n",
       " 0.1000    3\n",
       "-0.3890    3\n",
       "-0.3712    3\n",
       "          ..\n",
       " 0.9686    1\n",
       "-0.8293    1\n",
       "-1.5999    1\n",
       "-0.7624    1\n",
       " 0.4129    1\n",
       "Name: count, Length: 1773, dtype: int64"
      ]
     },
     "metadata": {},
     "output_type": "display_data"
    },
    {
     "name": "stdout",
     "output_type": "stream",
     "text": [
      "\n",
      "\n"
     ]
    },
    {
     "data": {
      "text/plain": [
       "vegfb\n",
       " 0.7677    11\n",
       " 0.3067    11\n",
       " 0.6828    10\n",
       " 0.2721    10\n",
       " 0.2954     9\n",
       "           ..\n",
       "-1.2614     1\n",
       "-1.0588     1\n",
       "-1.9875     1\n",
       "-1.0587     1\n",
       " 0.7390     1\n",
       "Name: count, Length: 1168, dtype: int64"
      ]
     },
     "metadata": {},
     "output_type": "display_data"
    },
    {
     "name": "stdout",
     "output_type": "stream",
     "text": [
      "\n",
      "\n"
     ]
    },
    {
     "data": {
      "text/plain": [
       "wfdc2\n",
       " 0.2526    3\n",
       "-0.9646    3\n",
       " 0.5210    3\n",
       "-0.5433    2\n",
       "-0.8483    2\n",
       "          ..\n",
       "-1.3643    1\n",
       "-0.9019    1\n",
       "-1.2952    1\n",
       " 0.3765    1\n",
       "-0.0897    1\n",
       "Name: count, Length: 1825, dtype: int64"
      ]
     },
     "metadata": {},
     "output_type": "display_data"
    },
    {
     "name": "stdout",
     "output_type": "stream",
     "text": [
      "\n",
      "\n"
     ]
    },
    {
     "data": {
      "text/plain": [
       "wwox\n",
       "-0.9668    3\n",
       "-0.3634    3\n",
       " 0.2512    3\n",
       "-0.1471    3\n",
       "-0.4591    3\n",
       "          ..\n",
       "-0.8276    1\n",
       "-0.9603    1\n",
       "-0.8056    1\n",
       " 0.1609    1\n",
       "-0.4584    1\n",
       "Name: count, Length: 1798, dtype: int64"
      ]
     },
     "metadata": {},
     "output_type": "display_data"
    },
    {
     "name": "stdout",
     "output_type": "stream",
     "text": [
      "\n",
      "\n"
     ]
    },
    {
     "data": {
      "text/plain": [
       "zfyve9\n",
       "-0.2212    3\n",
       "-0.5835    2\n",
       " 0.5616    2\n",
       " 0.5191    2\n",
       " 0.4484    2\n",
       "          ..\n",
       " 0.2035    1\n",
       "-0.6692    1\n",
       "-0.2260    1\n",
       " 0.0227    1\n",
       "-0.3960    1\n",
       "Name: count, Length: 1859, dtype: int64"
      ]
     },
     "metadata": {},
     "output_type": "display_data"
    },
    {
     "name": "stdout",
     "output_type": "stream",
     "text": [
      "\n",
      "\n"
     ]
    },
    {
     "data": {
      "text/plain": [
       "arid1a\n",
       " 0.4715    5\n",
       " 0.6389    4\n",
       " 0.8990    4\n",
       "-0.1532    4\n",
       " 0.6978    4\n",
       "          ..\n",
       "-0.3293    1\n",
       " 1.0454    1\n",
       " 0.4066    1\n",
       "-1.8769    1\n",
       "-1.6076    1\n",
       "Name: count, Length: 1607, dtype: int64"
      ]
     },
     "metadata": {},
     "output_type": "display_data"
    },
    {
     "name": "stdout",
     "output_type": "stream",
     "text": [
      "\n",
      "\n"
     ]
    },
    {
     "data": {
      "text/plain": [
       "arid1b\n",
       " 0.7554    3\n",
       " 0.6432    2\n",
       "-0.8460    2\n",
       "-0.1880    2\n",
       "-0.3717    2\n",
       "          ..\n",
       "-0.3011    1\n",
       " 0.8329    1\n",
       " 1.3189    1\n",
       "-0.8340    1\n",
       "-0.2649    1\n",
       "Name: count, Length: 1825, dtype: int64"
      ]
     },
     "metadata": {},
     "output_type": "display_data"
    },
    {
     "name": "stdout",
     "output_type": "stream",
     "text": [
      "\n",
      "\n"
     ]
    },
    {
     "data": {
      "text/plain": [
       "cbfb\n",
       "-0.1646    4\n",
       "-0.9136    4\n",
       "-0.8155    4\n",
       " 0.4529    3\n",
       " 0.7032    3\n",
       "          ..\n",
       "-0.9172    1\n",
       " 1.1890    1\n",
       "-0.2441    1\n",
       " 0.9163    1\n",
       " 0.3507    1\n",
       "Name: count, Length: 1717, dtype: int64"
      ]
     },
     "metadata": {},
     "output_type": "display_data"
    },
    {
     "name": "stdout",
     "output_type": "stream",
     "text": [
      "\n",
      "\n"
     ]
    },
    {
     "data": {
      "text/plain": [
       "gata3\n",
       " 0.6298    3\n",
       " 0.5884    3\n",
       "-0.0364    3\n",
       " 0.0279    2\n",
       " 0.6207    2\n",
       "          ..\n",
       " 0.5747    1\n",
       " 0.0789    1\n",
       "-0.0888    1\n",
       " 1.0072    1\n",
       " 1.1502    1\n",
       "Name: count, Length: 1835, dtype: int64"
      ]
     },
     "metadata": {},
     "output_type": "display_data"
    },
    {
     "name": "stdout",
     "output_type": "stream",
     "text": [
      "\n",
      "\n"
     ]
    },
    {
     "data": {
      "text/plain": [
       "kmt2c\n",
       " 0.4806    2\n",
       "-0.1388    2\n",
       "-0.7213    2\n",
       " 0.0757    2\n",
       " 0.0620    2\n",
       "          ..\n",
       "-0.5827    1\n",
       "-0.5502    1\n",
       " 0.8801    1\n",
       "-0.1246    1\n",
       "-0.9045    1\n",
       "Name: count, Length: 1855, dtype: int64"
      ]
     },
     "metadata": {},
     "output_type": "display_data"
    },
    {
     "name": "stdout",
     "output_type": "stream",
     "text": [
      "\n",
      "\n"
     ]
    },
    {
     "data": {
      "text/plain": [
       "kmt2d\n",
       " 0.4183    3\n",
       " 0.2722    3\n",
       "-0.9579    3\n",
       " 1.1483    2\n",
       "-1.1316    2\n",
       "          ..\n",
       "-1.0809    1\n",
       " 0.3345    1\n",
       " 0.7348    1\n",
       "-0.7959    1\n",
       "-0.0285    1\n",
       "Name: count, Length: 1833, dtype: int64"
      ]
     },
     "metadata": {},
     "output_type": "display_data"
    },
    {
     "name": "stdout",
     "output_type": "stream",
     "text": [
      "\n",
      "\n"
     ]
    },
    {
     "data": {
      "text/plain": [
       "myh9\n",
       "-0.3922    3\n",
       "-0.1816    3\n",
       "-0.2082    2\n",
       "-0.0606    2\n",
       "-0.4811    2\n",
       "          ..\n",
       "-2.0827    1\n",
       "-1.6163    1\n",
       "-0.6529    1\n",
       "-0.8714    1\n",
       " 0.2852    1\n",
       "Name: count, Length: 1839, dtype: int64"
      ]
     },
     "metadata": {},
     "output_type": "display_data"
    },
    {
     "name": "stdout",
     "output_type": "stream",
     "text": [
      "\n",
      "\n"
     ]
    },
    {
     "data": {
      "text/plain": [
       "ncor1\n",
       " 0.4376    3\n",
       "-0.0090    2\n",
       " 0.0575    2\n",
       " 0.7777    2\n",
       "-0.5058    2\n",
       "          ..\n",
       " 1.3895    1\n",
       " 0.4384    1\n",
       " 0.4840    1\n",
       "-0.5728    1\n",
       " 0.0553    1\n",
       "Name: count, Length: 1849, dtype: int64"
      ]
     },
     "metadata": {},
     "output_type": "display_data"
    },
    {
     "name": "stdout",
     "output_type": "stream",
     "text": [
      "\n",
      "\n"
     ]
    },
    {
     "data": {
      "text/plain": [
       "pde4dip\n",
       "-0.1856    3\n",
       "-0.3429    3\n",
       "-0.9341    2\n",
       "-0.6510    2\n",
       "-0.8569    2\n",
       "          ..\n",
       " 0.8041    1\n",
       "-1.6946    1\n",
       "-1.0743    1\n",
       " 1.3945    1\n",
       "-0.2415    1\n",
       "Name: count, Length: 1853, dtype: int64"
      ]
     },
     "metadata": {},
     "output_type": "display_data"
    },
    {
     "name": "stdout",
     "output_type": "stream",
     "text": [
      "\n",
      "\n"
     ]
    },
    {
     "data": {
      "text/plain": [
       "ptprd\n",
       "-0.5723    3\n",
       "-0.8348    2\n",
       "-0.2074    2\n",
       "-0.1178    2\n",
       "-0.6360    2\n",
       "          ..\n",
       "-0.6095    1\n",
       "-1.2767    1\n",
       "-0.7641    1\n",
       " 0.0610    1\n",
       " 1.6772    1\n",
       "Name: count, Length: 1818, dtype: int64"
      ]
     },
     "metadata": {},
     "output_type": "display_data"
    },
    {
     "name": "stdout",
     "output_type": "stream",
     "text": [
      "\n",
      "\n"
     ]
    },
    {
     "data": {
      "text/plain": [
       "ros1\n",
       "-1.3891    3\n",
       "-0.7047    3\n",
       " 0.2250    3\n",
       " 0.3936    3\n",
       "-0.9177    3\n",
       "          ..\n",
       "-0.7415    1\n",
       "-0.7235    1\n",
       "-0.1729    1\n",
       "-0.3752    1\n",
       "-0.7001    1\n",
       "Name: count, Length: 1804, dtype: int64"
      ]
     },
     "metadata": {},
     "output_type": "display_data"
    },
    {
     "name": "stdout",
     "output_type": "stream",
     "text": [
      "\n",
      "\n"
     ]
    },
    {
     "data": {
      "text/plain": [
       "runx1\n",
       " 1.3065    4\n",
       " 0.4320    4\n",
       "-0.7225    3\n",
       "-0.1972    3\n",
       "-0.5606    3\n",
       "          ..\n",
       " 0.8967    1\n",
       "-1.0802    1\n",
       " 1.0997    1\n",
       "-0.7713    1\n",
       "-0.6859    1\n",
       "Name: count, Length: 1709, dtype: int64"
      ]
     },
     "metadata": {},
     "output_type": "display_data"
    },
    {
     "name": "stdout",
     "output_type": "stream",
     "text": [
      "\n",
      "\n"
     ]
    },
    {
     "data": {
      "text/plain": [
       "tbx3\n",
       " 0.4563    4\n",
       " 0.0218    3\n",
       "-0.6982    3\n",
       "-0.3982    3\n",
       " 0.4905    3\n",
       "          ..\n",
       "-1.0533    1\n",
       "-1.1788    1\n",
       "-0.6079    1\n",
       "-0.5875    1\n",
       "-0.4023    1\n",
       "Name: count, Length: 1802, dtype: int64"
      ]
     },
     "metadata": {},
     "output_type": "display_data"
    },
    {
     "name": "stdout",
     "output_type": "stream",
     "text": [
      "\n",
      "\n"
     ]
    },
    {
     "data": {
      "text/plain": [
       "abcb1\n",
       "-0.1112    3\n",
       "-0.4968    3\n",
       " 0.7687    3\n",
       "-0.8729    3\n",
       "-0.7230    3\n",
       "          ..\n",
       " 0.2089    1\n",
       " 0.7944    1\n",
       "-0.5752    1\n",
       " 1.6958    1\n",
       "-0.0829    1\n",
       "Name: count, Length: 1812, dtype: int64"
      ]
     },
     "metadata": {},
     "output_type": "display_data"
    },
    {
     "name": "stdout",
     "output_type": "stream",
     "text": [
      "\n",
      "\n"
     ]
    },
    {
     "data": {
      "text/plain": [
       "abcb11\n",
       "-0.3757    3\n",
       "-0.2587    2\n",
       "-1.1825    2\n",
       " 0.0412    2\n",
       " 0.8134    2\n",
       "          ..\n",
       " 0.9158    1\n",
       " 1.3951    1\n",
       "-0.0263    1\n",
       " 0.3619    1\n",
       "-0.8474    1\n",
       "Name: count, Length: 1846, dtype: int64"
      ]
     },
     "metadata": {},
     "output_type": "display_data"
    },
    {
     "name": "stdout",
     "output_type": "stream",
     "text": [
      "\n",
      "\n"
     ]
    },
    {
     "data": {
      "text/plain": [
       "abcc1\n",
       " 0.4539    3\n",
       " 0.1915    3\n",
       " 1.0410    3\n",
       " 0.4030    3\n",
       " 0.3591    3\n",
       "          ..\n",
       " 0.0753    1\n",
       " 0.1093    1\n",
       "-0.3334    1\n",
       " 0.8140    1\n",
       "-0.9110    1\n",
       "Name: count, Length: 1769, dtype: int64"
      ]
     },
     "metadata": {},
     "output_type": "display_data"
    },
    {
     "name": "stdout",
     "output_type": "stream",
     "text": [
      "\n",
      "\n"
     ]
    },
    {
     "data": {
      "text/plain": [
       "abcc10\n",
       "-0.0296    5\n",
       "-0.4191    3\n",
       "-0.6052    3\n",
       " 0.0403    3\n",
       "-0.0671    3\n",
       "          ..\n",
       "-2.2314    1\n",
       "-1.5105    1\n",
       "-0.9940    1\n",
       " 0.1719    1\n",
       "-2.2280    1\n",
       "Name: count, Length: 1757, dtype: int64"
      ]
     },
     "metadata": {},
     "output_type": "display_data"
    },
    {
     "name": "stdout",
     "output_type": "stream",
     "text": [
      "\n",
      "\n"
     ]
    },
    {
     "data": {
      "text/plain": [
       "bbc3\n",
       " 0.0440    3\n",
       "-0.0323    3\n",
       "-0.9438    3\n",
       " 0.5606    2\n",
       "-0.2032    2\n",
       "          ..\n",
       "-0.4909    1\n",
       "-0.5136    1\n",
       "-0.9269    1\n",
       "-0.1501    1\n",
       "-0.2122    1\n",
       "Name: count, Length: 1855, dtype: int64"
      ]
     },
     "metadata": {},
     "output_type": "display_data"
    },
    {
     "name": "stdout",
     "output_type": "stream",
     "text": [
      "\n",
      "\n"
     ]
    },
    {
     "data": {
      "text/plain": [
       "bmf\n",
       "-0.3608    5\n",
       " 0.0536    3\n",
       " 0.1412    3\n",
       "-0.7433    2\n",
       "-0.6016    2\n",
       "          ..\n",
       " 0.5019    1\n",
       "-0.8094    1\n",
       "-0.6048    1\n",
       " 4.6187    1\n",
       "-1.1679    1\n",
       "Name: count, Length: 1762, dtype: int64"
      ]
     },
     "metadata": {},
     "output_type": "display_data"
    },
    {
     "name": "stdout",
     "output_type": "stream",
     "text": [
      "\n",
      "\n"
     ]
    },
    {
     "data": {
      "text/plain": [
       "cyp2c8\n",
       "-0.5112    3\n",
       "-0.5464    3\n",
       "-0.5497    3\n",
       "-0.2594    3\n",
       " 0.2327    3\n",
       "          ..\n",
       "-1.1466    1\n",
       " 0.4015    1\n",
       "-0.3249    1\n",
       "-1.2560    1\n",
       "-0.0835    1\n",
       "Name: count, Length: 1801, dtype: int64"
      ]
     },
     "metadata": {},
     "output_type": "display_data"
    },
    {
     "name": "stdout",
     "output_type": "stream",
     "text": [
      "\n",
      "\n"
     ]
    },
    {
     "data": {
      "text/plain": [
       "cyp3a4\n",
       " 0.3541    3\n",
       " 0.1896    3\n",
       "-0.6733    3\n",
       " 1.4070    3\n",
       "-0.3767    3\n",
       "          ..\n",
       " 1.2785    1\n",
       "-0.3933    1\n",
       " 1.8020    1\n",
       " 0.5153    1\n",
       "-0.6957    1\n",
       "Name: count, Length: 1828, dtype: int64"
      ]
     },
     "metadata": {},
     "output_type": "display_data"
    },
    {
     "name": "stdout",
     "output_type": "stream",
     "text": [
      "\n",
      "\n"
     ]
    },
    {
     "data": {
      "text/plain": [
       "fgf2\n",
       "-0.0420    3\n",
       "-0.7138    3\n",
       "-0.1196    2\n",
       " 0.7649    2\n",
       "-0.3929    2\n",
       "          ..\n",
       "-0.2428    1\n",
       " 0.6910    1\n",
       " 2.6319    1\n",
       "-0.8732    1\n",
       " 0.0401    1\n",
       "Name: count, Length: 1830, dtype: int64"
      ]
     },
     "metadata": {},
     "output_type": "display_data"
    },
    {
     "name": "stdout",
     "output_type": "stream",
     "text": [
      "\n",
      "\n"
     ]
    },
    {
     "data": {
      "text/plain": [
       "fn1\n",
       "-0.9856    3\n",
       "-0.9693    3\n",
       "-0.1363    2\n",
       "-0.7306    2\n",
       " 0.4658    2\n",
       "          ..\n",
       " 1.8379    1\n",
       "-1.4895    1\n",
       "-0.8735    1\n",
       "-0.4456    1\n",
       "-0.2988    1\n",
       "Name: count, Length: 1840, dtype: int64"
      ]
     },
     "metadata": {},
     "output_type": "display_data"
    },
    {
     "name": "stdout",
     "output_type": "stream",
     "text": [
      "\n",
      "\n"
     ]
    },
    {
     "data": {
      "text/plain": [
       "map2\n",
       "-0.6494    4\n",
       "-0.5236    3\n",
       " 0.4214    3\n",
       " 0.3793    3\n",
       "-0.4565    3\n",
       "          ..\n",
       "-0.0701    1\n",
       "-1.3104    1\n",
       " 0.3113    1\n",
       "-0.7553    1\n",
       "-0.2147    1\n",
       "Name: count, Length: 1809, dtype: int64"
      ]
     },
     "metadata": {},
     "output_type": "display_data"
    },
    {
     "name": "stdout",
     "output_type": "stream",
     "text": [
      "\n",
      "\n"
     ]
    },
    {
     "data": {
      "text/plain": [
       "map4\n",
       " 1.3784    2\n",
       "-0.1904    2\n",
       " 0.8129    2\n",
       "-0.5470    2\n",
       "-0.2383    2\n",
       "          ..\n",
       "-0.4344    1\n",
       " 1.1500    1\n",
       " 0.5332    1\n",
       " 1.4692    1\n",
       " 0.3064    1\n",
       "Name: count, Length: 1837, dtype: int64"
      ]
     },
     "metadata": {},
     "output_type": "display_data"
    },
    {
     "name": "stdout",
     "output_type": "stream",
     "text": [
      "\n",
      "\n"
     ]
    },
    {
     "data": {
      "text/plain": [
       "mapt\n",
       " 0.3260    3\n",
       " 0.5216    2\n",
       "-0.0127    2\n",
       " 0.5268    2\n",
       " 0.2643    2\n",
       "          ..\n",
       " 0.6241    1\n",
       " 0.6793    1\n",
       "-0.3779    1\n",
       " 1.4033    1\n",
       "-0.5550    1\n",
       "Name: count, Length: 1864, dtype: int64"
      ]
     },
     "metadata": {},
     "output_type": "display_data"
    },
    {
     "name": "stdout",
     "output_type": "stream",
     "text": [
      "\n",
      "\n"
     ]
    },
    {
     "data": {
      "text/plain": [
       "nr1i2\n",
       "-0.3859    3\n",
       "-0.2454    3\n",
       "-0.1306    2\n",
       "-0.9371    2\n",
       " 0.8846    2\n",
       "          ..\n",
       " 0.6606    1\n",
       "-1.4025    1\n",
       " 1.0764    1\n",
       "-3.0958    1\n",
       " 0.1498    1\n",
       "Name: count, Length: 1831, dtype: int64"
      ]
     },
     "metadata": {},
     "output_type": "display_data"
    },
    {
     "name": "stdout",
     "output_type": "stream",
     "text": [
      "\n",
      "\n"
     ]
    },
    {
     "data": {
      "text/plain": [
       "slco1b3\n",
       "-0.4105    3\n",
       " 0.0402    3\n",
       "-0.2064    3\n",
       "-0.9067    3\n",
       "-0.1932    3\n",
       "          ..\n",
       "-0.8538    1\n",
       " 0.8211    1\n",
       " 0.8428    1\n",
       "-1.1899    1\n",
       " 0.0551    1\n",
       "Name: count, Length: 1803, dtype: int64"
      ]
     },
     "metadata": {},
     "output_type": "display_data"
    },
    {
     "name": "stdout",
     "output_type": "stream",
     "text": [
      "\n",
      "\n"
     ]
    },
    {
     "data": {
      "text/plain": [
       "tubb1\n",
       " 0.5506    3\n",
       " 0.1957    3\n",
       " 0.1286    3\n",
       " 0.3881    2\n",
       "-0.1743    2\n",
       "          ..\n",
       " 0.2664    1\n",
       " 0.9346    1\n",
       " 0.2427    1\n",
       " 5.8910    1\n",
       " 0.8192    1\n",
       "Name: count, Length: 1827, dtype: int64"
      ]
     },
     "metadata": {},
     "output_type": "display_data"
    },
    {
     "name": "stdout",
     "output_type": "stream",
     "text": [
      "\n",
      "\n"
     ]
    },
    {
     "data": {
      "text/plain": [
       "tubb4a\n",
       "-0.5262    3\n",
       "-0.1359    3\n",
       " 0.0162    3\n",
       "-0.4025    3\n",
       "-0.0581    3\n",
       "          ..\n",
       "-0.5835    1\n",
       "-0.4715    1\n",
       " 0.2101    1\n",
       " 0.6544    1\n",
       "-0.2729    1\n",
       "Name: count, Length: 1801, dtype: int64"
      ]
     },
     "metadata": {},
     "output_type": "display_data"
    },
    {
     "name": "stdout",
     "output_type": "stream",
     "text": [
      "\n",
      "\n"
     ]
    },
    {
     "data": {
      "text/plain": [
       "tubb4b\n",
       "-0.6708    3\n",
       "-0.5203    3\n",
       " 0.5325    3\n",
       "-0.0552    2\n",
       "-1.0039    2\n",
       "          ..\n",
       " 0.5009    1\n",
       "-0.8221    1\n",
       " 0.3994    1\n",
       " 1.5628    1\n",
       " 0.6464    1\n",
       "Name: count, Length: 1843, dtype: int64"
      ]
     },
     "metadata": {},
     "output_type": "display_data"
    },
    {
     "name": "stdout",
     "output_type": "stream",
     "text": [
      "\n",
      "\n"
     ]
    },
    {
     "data": {
      "text/plain": [
       "twist1\n",
       " 0.8064    2\n",
       " 0.1525    2\n",
       " 1.0405    2\n",
       "-0.1207    2\n",
       "-0.7491    2\n",
       "          ..\n",
       "-1.0485    1\n",
       "-0.0333    1\n",
       "-0.5019    1\n",
       " 0.1919    1\n",
       "-0.1821    1\n",
       "Name: count, Length: 1848, dtype: int64"
      ]
     },
     "metadata": {},
     "output_type": "display_data"
    },
    {
     "name": "stdout",
     "output_type": "stream",
     "text": [
      "\n",
      "\n"
     ]
    },
    {
     "data": {
      "text/plain": [
       "adgra2\n",
       "-0.3852    4\n",
       " 0.7697    3\n",
       "-0.4744    3\n",
       " 0.0165    3\n",
       "-0.1193    3\n",
       "          ..\n",
       " 0.0799    1\n",
       "-0.8538    1\n",
       " 0.0053    1\n",
       " 1.4948    1\n",
       "-0.8402    1\n",
       "Name: count, Length: 1777, dtype: int64"
      ]
     },
     "metadata": {},
     "output_type": "display_data"
    },
    {
     "name": "stdout",
     "output_type": "stream",
     "text": [
      "\n",
      "\n"
     ]
    },
    {
     "data": {
      "text/plain": [
       "afdn\n",
       "-0.2360    5\n",
       " 0.7229    3\n",
       " 1.2461    3\n",
       "-0.8190    3\n",
       " 0.1430    3\n",
       "          ..\n",
       "-1.9869    1\n",
       "-1.0027    1\n",
       " 0.6730    1\n",
       "-0.2947    1\n",
       "-0.0571    1\n",
       "Name: count, Length: 1729, dtype: int64"
      ]
     },
     "metadata": {},
     "output_type": "display_data"
    },
    {
     "name": "stdout",
     "output_type": "stream",
     "text": [
      "\n",
      "\n"
     ]
    },
    {
     "data": {
      "text/plain": [
       "aff2\n",
       " 0.0274    3\n",
       "-1.1019    2\n",
       "-0.0307    2\n",
       "-0.0894    2\n",
       "-0.1442    2\n",
       "          ..\n",
       "-1.3775    1\n",
       "-0.3435    1\n",
       " 0.8497    1\n",
       " 0.2532    1\n",
       "-1.9783    1\n",
       "Name: count, Length: 1854, dtype: int64"
      ]
     },
     "metadata": {},
     "output_type": "display_data"
    },
    {
     "name": "stdout",
     "output_type": "stream",
     "text": [
      "\n",
      "\n"
     ]
    },
    {
     "data": {
      "text/plain": [
       "agmo\n",
       " 0.6276    3\n",
       " 0.5775    2\n",
       "-0.6994    2\n",
       "-1.7454    2\n",
       " 0.5731    2\n",
       "          ..\n",
       "-0.4627    1\n",
       " 0.7610    1\n",
       " 1.0742    1\n",
       "-0.1067    1\n",
       " 0.4559    1\n",
       "Name: count, Length: 1818, dtype: int64"
      ]
     },
     "metadata": {},
     "output_type": "display_data"
    },
    {
     "name": "stdout",
     "output_type": "stream",
     "text": [
      "\n",
      "\n"
     ]
    },
    {
     "data": {
      "text/plain": [
       "agtr2\n",
       "-0.5670    3\n",
       " 0.2553    2\n",
       "-0.4687    2\n",
       "-0.1696    2\n",
       "-0.4322    2\n",
       "          ..\n",
       "-1.9185    1\n",
       "-0.7857    1\n",
       "-0.4705    1\n",
       "-1.0031    1\n",
       " 0.3925    1\n",
       "Name: count, Length: 1848, dtype: int64"
      ]
     },
     "metadata": {},
     "output_type": "display_data"
    },
    {
     "name": "stdout",
     "output_type": "stream",
     "text": [
      "\n",
      "\n"
     ]
    },
    {
     "data": {
      "text/plain": [
       "ahnak\n",
       " 0.4478    12\n",
       " 1.4406    10\n",
       " 0.4769    10\n",
       " 1.2935    10\n",
       " 0.6986    10\n",
       "           ..\n",
       "-0.0657     1\n",
       "-5.1320     1\n",
       "-3.8140     1\n",
       "-1.1272     1\n",
       "-1.2906     1\n",
       "Name: count, Length: 1130, dtype: int64"
      ]
     },
     "metadata": {},
     "output_type": "display_data"
    },
    {
     "name": "stdout",
     "output_type": "stream",
     "text": [
      "\n",
      "\n"
     ]
    },
    {
     "data": {
      "text/plain": [
       "ahnak2\n",
       " 1.0401    4\n",
       " 0.0199    3\n",
       " 0.4054    3\n",
       "-0.8961    3\n",
       " 0.3354    3\n",
       "          ..\n",
       " 0.7190    1\n",
       "-3.0203    1\n",
       " 0.1219    1\n",
       "-0.8450    1\n",
       "-0.7059    1\n",
       "Name: count, Length: 1764, dtype: int64"
      ]
     },
     "metadata": {},
     "output_type": "display_data"
    },
    {
     "name": "stdout",
     "output_type": "stream",
     "text": [
      "\n",
      "\n"
     ]
    },
    {
     "data": {
      "text/plain": [
       "akap9\n",
       "-0.1390    2\n",
       "-0.8876    2\n",
       "-0.5628    2\n",
       "-0.8308    2\n",
       "-1.0559    2\n",
       "          ..\n",
       "-1.8295    1\n",
       " 0.4616    1\n",
       " 1.4591    1\n",
       " 0.6305    1\n",
       " 0.5566    1\n",
       "Name: count, Length: 1852, dtype: int64"
      ]
     },
     "metadata": {},
     "output_type": "display_data"
    },
    {
     "name": "stdout",
     "output_type": "stream",
     "text": [
      "\n",
      "\n"
     ]
    },
    {
     "data": {
      "text/plain": [
       "alk\n",
       " 0.7962    3\n",
       " 0.3552    3\n",
       "-0.5307    3\n",
       "-0.1822    3\n",
       " 0.7670    2\n",
       "          ..\n",
       "-1.6015    1\n",
       "-0.6070    1\n",
       "-1.3015    1\n",
       "-0.5437    1\n",
       "-0.3880    1\n",
       "Name: count, Length: 1815, dtype: int64"
      ]
     },
     "metadata": {},
     "output_type": "display_data"
    },
    {
     "name": "stdout",
     "output_type": "stream",
     "text": [
      "\n",
      "\n"
     ]
    },
    {
     "data": {
      "text/plain": [
       "apc\n",
       "-0.7382    3\n",
       " 0.2601    2\n",
       "-1.5738    2\n",
       " 0.4462    2\n",
       " 0.3736    2\n",
       "          ..\n",
       " 0.7611    1\n",
       "-1.8482    1\n",
       " 0.7228    1\n",
       " 0.8414    1\n",
       "-0.5377    1\n",
       "Name: count, Length: 1848, dtype: int64"
      ]
     },
     "metadata": {},
     "output_type": "display_data"
    },
    {
     "name": "stdout",
     "output_type": "stream",
     "text": [
      "\n",
      "\n"
     ]
    },
    {
     "data": {
      "text/plain": [
       "arid2\n",
       "-0.3990    3\n",
       " 0.6663    3\n",
       " 0.5112    3\n",
       " 0.4928    3\n",
       " 0.0194    3\n",
       "          ..\n",
       " 3.2546    1\n",
       " 2.2988    1\n",
       " 1.0845    1\n",
       " 2.6831    1\n",
       " 2.0526    1\n",
       "Name: count, Length: 1771, dtype: int64"
      ]
     },
     "metadata": {},
     "output_type": "display_data"
    },
    {
     "name": "stdout",
     "output_type": "stream",
     "text": [
      "\n",
      "\n"
     ]
    },
    {
     "data": {
      "text/plain": [
       "arid5b\n",
       " 0.9568    4\n",
       "-0.1058    4\n",
       " 0.6798    4\n",
       " 0.2715    4\n",
       " 0.0218    3\n",
       "          ..\n",
       " 1.7774    1\n",
       "-0.2469    1\n",
       "-0.1406    1\n",
       "-1.5438    1\n",
       "-0.2603    1\n",
       "Name: count, Length: 1686, dtype: int64"
      ]
     },
     "metadata": {},
     "output_type": "display_data"
    },
    {
     "name": "stdout",
     "output_type": "stream",
     "text": [
      "\n",
      "\n"
     ]
    },
    {
     "data": {
      "text/plain": [
       "asxl1\n",
       " 0.2838    4\n",
       " 0.9798    4\n",
       "-0.3556    3\n",
       " 0.2683    3\n",
       "-0.2723    3\n",
       "          ..\n",
       " 4.3485    1\n",
       "-0.0616    1\n",
       " 1.5399    1\n",
       "-0.0535    1\n",
       "-0.2488    1\n",
       "Name: count, Length: 1701, dtype: int64"
      ]
     },
     "metadata": {},
     "output_type": "display_data"
    },
    {
     "name": "stdout",
     "output_type": "stream",
     "text": [
      "\n",
      "\n"
     ]
    },
    {
     "data": {
      "text/plain": [
       "asxl2\n",
       " 0.4168    4\n",
       "-0.5013    4\n",
       "-0.2588    4\n",
       " 0.1167    3\n",
       "-0.0179    3\n",
       "          ..\n",
       "-0.0029    1\n",
       " 2.3142    1\n",
       "-0.5195    1\n",
       " 0.4240    1\n",
       "-0.1171    1\n",
       "Name: count, Length: 1648, dtype: int64"
      ]
     },
     "metadata": {},
     "output_type": "display_data"
    },
    {
     "name": "stdout",
     "output_type": "stream",
     "text": [
      "\n",
      "\n"
     ]
    },
    {
     "data": {
      "text/plain": [
       "bap1\n",
       " 0.2520    5\n",
       "-0.4423    4\n",
       " 0.1841    4\n",
       " 0.1981    3\n",
       "-0.8497    3\n",
       "          ..\n",
       "-1.8010    1\n",
       "-0.5647    1\n",
       "-0.6133    1\n",
       "-1.4650    1\n",
       "-2.5524    1\n",
       "Name: count, Length: 1690, dtype: int64"
      ]
     },
     "metadata": {},
     "output_type": "display_data"
    },
    {
     "name": "stdout",
     "output_type": "stream",
     "text": [
      "\n",
      "\n"
     ]
    },
    {
     "data": {
      "text/plain": [
       "bcas3\n",
       " 0.4308    4\n",
       " 0.1450    3\n",
       " 1.4734    3\n",
       " 0.1082    3\n",
       " 0.0722    3\n",
       "          ..\n",
       " 1.8046    1\n",
       "-0.9601    1\n",
       "-0.4301    1\n",
       "-0.3183    1\n",
       "-1.1052    1\n",
       "Name: count, Length: 1781, dtype: int64"
      ]
     },
     "metadata": {},
     "output_type": "display_data"
    },
    {
     "name": "stdout",
     "output_type": "stream",
     "text": [
      "\n",
      "\n"
     ]
    },
    {
     "data": {
      "text/plain": [
       "birc6\n",
       " 1.5140    4\n",
       "-0.0285    3\n",
       " 0.6152    3\n",
       " 0.0578    3\n",
       "-0.3720    3\n",
       "          ..\n",
       " 0.3325    1\n",
       "-1.6593    1\n",
       "-2.1706    1\n",
       "-1.2759    1\n",
       " 0.1053    1\n",
       "Name: count, Length: 1715, dtype: int64"
      ]
     },
     "metadata": {},
     "output_type": "display_data"
    },
    {
     "name": "stdout",
     "output_type": "stream",
     "text": [
      "\n",
      "\n"
     ]
    },
    {
     "data": {
      "text/plain": [
       "cacna2d3\n",
       " 0.0525    3\n",
       " 0.2774    3\n",
       "-0.8804    3\n",
       "-0.4144    2\n",
       " 1.5058    2\n",
       "          ..\n",
       " 0.4926    1\n",
       " 0.4900    1\n",
       "-0.2351    1\n",
       "-0.0867    1\n",
       "-0.2400    1\n",
       "Name: count, Length: 1831, dtype: int64"
      ]
     },
     "metadata": {},
     "output_type": "display_data"
    },
    {
     "name": "stdout",
     "output_type": "stream",
     "text": [
      "\n",
      "\n"
     ]
    },
    {
     "data": {
      "text/plain": [
       "ccnd3\n",
       " 0.5352    8\n",
       " 0.7646    7\n",
       " 0.6196    7\n",
       " 0.9193    6\n",
       " 0.6133    6\n",
       "          ..\n",
       " 0.9890    1\n",
       "-0.1435    1\n",
       "-2.9481    1\n",
       "-0.5549    1\n",
       "-0.8966    1\n",
       "Name: count, Length: 1387, dtype: int64"
      ]
     },
     "metadata": {},
     "output_type": "display_data"
    },
    {
     "name": "stdout",
     "output_type": "stream",
     "text": [
      "\n",
      "\n"
     ]
    },
    {
     "data": {
      "text/plain": [
       "chd1\n",
       "-0.4275    3\n",
       " 0.1121    3\n",
       "-0.0069    3\n",
       "-0.2043    3\n",
       "-0.4880    3\n",
       "          ..\n",
       "-0.1997    1\n",
       "-2.2349    1\n",
       "-0.3401    1\n",
       " 0.8478    1\n",
       " 1.0964    1\n",
       "Name: count, Length: 1754, dtype: int64"
      ]
     },
     "metadata": {},
     "output_type": "display_data"
    },
    {
     "name": "stdout",
     "output_type": "stream",
     "text": [
      "\n",
      "\n"
     ]
    },
    {
     "data": {
      "text/plain": [
       "clk3\n",
       " 0.4482    3\n",
       "-0.7820    2\n",
       " 0.2364    2\n",
       "-0.1090    2\n",
       "-0.7437    2\n",
       "          ..\n",
       "-0.8054    1\n",
       "-0.2633    1\n",
       "-0.1245    1\n",
       "-1.4199    1\n",
       "-0.4585    1\n",
       "Name: count, Length: 1854, dtype: int64"
      ]
     },
     "metadata": {},
     "output_type": "display_data"
    },
    {
     "name": "stdout",
     "output_type": "stream",
     "text": [
      "\n",
      "\n"
     ]
    },
    {
     "data": {
      "text/plain": [
       "clrn2\n",
       "-0.1773    4\n",
       " 0.8863    3\n",
       "-0.1478    3\n",
       " 0.2826    3\n",
       "-0.4942    2\n",
       "          ..\n",
       " 0.4055    1\n",
       " 0.0451    1\n",
       "-0.1463    1\n",
       " 1.6690    1\n",
       " 0.8923    1\n",
       "Name: count, Length: 1826, dtype: int64"
      ]
     },
     "metadata": {},
     "output_type": "display_data"
    },
    {
     "name": "stdout",
     "output_type": "stream",
     "text": [
      "\n",
      "\n"
     ]
    },
    {
     "data": {
      "text/plain": [
       "col12a1\n",
       " 0.2997    3\n",
       " 0.0897    3\n",
       " 0.6883    3\n",
       " 0.8606    3\n",
       "-0.1245    3\n",
       "          ..\n",
       "-2.1436    1\n",
       "-1.7786    1\n",
       "-0.3159    1\n",
       " 1.5556    1\n",
       " 1.0075    1\n",
       "Name: count, Length: 1765, dtype: int64"
      ]
     },
     "metadata": {},
     "output_type": "display_data"
    },
    {
     "name": "stdout",
     "output_type": "stream",
     "text": [
      "\n",
      "\n"
     ]
    },
    {
     "data": {
      "text/plain": [
       "col22a1\n",
       "-0.6234    3\n",
       "-0.5254    3\n",
       "-0.8187    3\n",
       "-0.4751    3\n",
       " 0.4324    3\n",
       "          ..\n",
       "-0.8653    1\n",
       " 1.9748    1\n",
       "-0.8020    1\n",
       " 0.0915    1\n",
       "-0.6594    1\n",
       "Name: count, Length: 1786, dtype: int64"
      ]
     },
     "metadata": {},
     "output_type": "display_data"
    },
    {
     "name": "stdout",
     "output_type": "stream",
     "text": [
      "\n",
      "\n"
     ]
    },
    {
     "data": {
      "text/plain": [
       "col6a3\n",
       " 0.4213    7\n",
       " 1.2848    6\n",
       " 0.9434    6\n",
       " 1.4414    6\n",
       " 1.4243    6\n",
       "          ..\n",
       " 0.0864    1\n",
       "-0.7002    1\n",
       "-0.8322    1\n",
       "-0.4126    1\n",
       " 0.9192    1\n",
       "Name: count, Length: 1447, dtype: int64"
      ]
     },
     "metadata": {},
     "output_type": "display_data"
    },
    {
     "name": "stdout",
     "output_type": "stream",
     "text": [
      "\n",
      "\n"
     ]
    },
    {
     "data": {
      "text/plain": [
       "ctcf\n",
       "-0.1200    4\n",
       "-0.6114    4\n",
       " 0.6720    4\n",
       " 0.2566    4\n",
       "-0.1244    4\n",
       "          ..\n",
       "-3.6480    1\n",
       "-2.4122    1\n",
       "-1.5998    1\n",
       "-0.6998    1\n",
       "-2.5166    1\n",
       "Name: count, Length: 1674, dtype: int64"
      ]
     },
     "metadata": {},
     "output_type": "display_data"
    },
    {
     "name": "stdout",
     "output_type": "stream",
     "text": [
      "\n",
      "\n"
     ]
    },
    {
     "data": {
      "text/plain": [
       "ctnna1\n",
       " 0.2731    2\n",
       "-0.6179    2\n",
       "-0.1541    2\n",
       " 0.7004    2\n",
       "-0.0652    2\n",
       "          ..\n",
       " 0.6614    1\n",
       " 0.5309    1\n",
       " 0.6008    1\n",
       "-0.2622    1\n",
       "-1.2060    1\n",
       "Name: count, Length: 1861, dtype: int64"
      ]
     },
     "metadata": {},
     "output_type": "display_data"
    },
    {
     "name": "stdout",
     "output_type": "stream",
     "text": [
      "\n",
      "\n"
     ]
    },
    {
     "data": {
      "text/plain": [
       "ctnna3\n",
       " 0.6372    3\n",
       " 0.7661    3\n",
       "-1.5702    3\n",
       "-2.0837    3\n",
       "-1.3012    3\n",
       "          ..\n",
       "-0.3811    1\n",
       "-0.6302    1\n",
       "-0.7604    1\n",
       "-0.5831    1\n",
       "-2.1291    1\n",
       "Name: count, Length: 1798, dtype: int64"
      ]
     },
     "metadata": {},
     "output_type": "display_data"
    },
    {
     "name": "stdout",
     "output_type": "stream",
     "text": [
      "\n",
      "\n"
     ]
    },
    {
     "data": {
      "text/plain": [
       "dnah11\n",
       " 0.1872    3\n",
       "-0.5709    3\n",
       "-0.2118    3\n",
       "-0.6074    3\n",
       "-0.3221    2\n",
       "          ..\n",
       "-0.2073    1\n",
       "-0.1641    1\n",
       " 0.1344    1\n",
       " 2.3901    1\n",
       "-0.5451    1\n",
       "Name: count, Length: 1792, dtype: int64"
      ]
     },
     "metadata": {},
     "output_type": "display_data"
    },
    {
     "name": "stdout",
     "output_type": "stream",
     "text": [
      "\n",
      "\n"
     ]
    },
    {
     "data": {
      "text/plain": [
       "dnah2\n",
       "-0.3000    4\n",
       "-0.2102    3\n",
       "-0.0632    3\n",
       "-0.2690    3\n",
       " 1.3695    3\n",
       "          ..\n",
       "-1.1014    1\n",
       "-1.1824    1\n",
       "-1.0962    1\n",
       "-1.0761    1\n",
       "-0.0033    1\n",
       "Name: count, Length: 1822, dtype: int64"
      ]
     },
     "metadata": {},
     "output_type": "display_data"
    },
    {
     "name": "stdout",
     "output_type": "stream",
     "text": [
      "\n",
      "\n"
     ]
    },
    {
     "data": {
      "text/plain": [
       "dnah5\n",
       " 0.8019    3\n",
       " 0.2376    3\n",
       " 0.8572    3\n",
       "-0.2191    3\n",
       " 0.1261    3\n",
       "          ..\n",
       " 1.5454    1\n",
       " 0.6865    1\n",
       " 0.1821    1\n",
       " 2.3246    1\n",
       " 0.5783    1\n",
       "Name: count, Length: 1805, dtype: int64"
      ]
     },
     "metadata": {},
     "output_type": "display_data"
    },
    {
     "name": "stdout",
     "output_type": "stream",
     "text": [
      "\n",
      "\n"
     ]
    },
    {
     "data": {
      "text/plain": [
       "dtwd2\n",
       " 0.5500    3\n",
       "-0.5521    3\n",
       "-0.6037    3\n",
       " 0.1619    3\n",
       " 0.4408    3\n",
       "          ..\n",
       "-1.1545    1\n",
       "-0.6987    1\n",
       " 1.5954    1\n",
       " 0.9895    1\n",
       "-0.6186    1\n",
       "Name: count, Length: 1794, dtype: int64"
      ]
     },
     "metadata": {},
     "output_type": "display_data"
    },
    {
     "name": "stdout",
     "output_type": "stream",
     "text": [
      "\n",
      "\n"
     ]
    },
    {
     "data": {
      "text/plain": [
       "fam20c\n",
       " 0.7040    2\n",
       " 0.3635    2\n",
       " 0.2070    2\n",
       "-0.2506    2\n",
       "-0.4656    2\n",
       "          ..\n",
       "-0.2991    1\n",
       "-0.0273    1\n",
       " 0.5584    1\n",
       "-0.4605    1\n",
       " 0.0820    1\n",
       "Name: count, Length: 1843, dtype: int64"
      ]
     },
     "metadata": {},
     "output_type": "display_data"
    },
    {
     "name": "stdout",
     "output_type": "stream",
     "text": [
      "\n",
      "\n"
     ]
    },
    {
     "data": {
      "text/plain": [
       "fanca\n",
       "-0.2859    3\n",
       " 0.6295    2\n",
       "-0.8916    2\n",
       " 0.3674    2\n",
       " 0.5861    2\n",
       "          ..\n",
       "-0.5323    1\n",
       "-1.4142    1\n",
       " 1.4848    1\n",
       "-1.7743    1\n",
       " 3.6021    1\n",
       "Name: count, Length: 1858, dtype: int64"
      ]
     },
     "metadata": {},
     "output_type": "display_data"
    },
    {
     "name": "stdout",
     "output_type": "stream",
     "text": [
      "\n",
      "\n"
     ]
    },
    {
     "data": {
      "text/plain": [
       "fancd2\n",
       " 0.0398    3\n",
       "-0.8635    2\n",
       "-0.2590    2\n",
       "-0.3493    2\n",
       " 0.0940    2\n",
       "          ..\n",
       "-0.6019    1\n",
       "-0.0743    1\n",
       "-1.6969    1\n",
       " 0.9681    1\n",
       " 1.4419    1\n",
       "Name: count, Length: 1856, dtype: int64"
      ]
     },
     "metadata": {},
     "output_type": "display_data"
    },
    {
     "name": "stdout",
     "output_type": "stream",
     "text": [
      "\n",
      "\n"
     ]
    },
    {
     "data": {
      "text/plain": [
       "flt3\n",
       "-0.5629    3\n",
       "-0.6533    2\n",
       "-0.5461    2\n",
       "-0.4196    2\n",
       "-0.3521    2\n",
       "          ..\n",
       "-0.1903    1\n",
       " 1.9676    1\n",
       "-0.1167    1\n",
       " 0.9310    1\n",
       "-0.1103    1\n",
       "Name: count, Length: 1830, dtype: int64"
      ]
     },
     "metadata": {},
     "output_type": "display_data"
    },
    {
     "name": "stdout",
     "output_type": "stream",
     "text": [
      "\n",
      "\n"
     ]
    },
    {
     "data": {
      "text/plain": [
       "foxp1\n",
       "-0.2222    3\n",
       "-0.2959    3\n",
       " 0.8963    3\n",
       "-0.4835    2\n",
       " 1.0643    2\n",
       "          ..\n",
       " 0.9997    1\n",
       " 2.1118    1\n",
       " 1.7792    1\n",
       "-0.3099    1\n",
       " 1.6298    1\n",
       "Name: count, Length: 1847, dtype: int64"
      ]
     },
     "metadata": {},
     "output_type": "display_data"
    },
    {
     "name": "stdout",
     "output_type": "stream",
     "text": [
      "\n",
      "\n"
     ]
    },
    {
     "data": {
      "text/plain": [
       "frmd3\n",
       "-0.0375    3\n",
       "-0.4693    3\n",
       "-0.1819    3\n",
       "-0.4569    3\n",
       "-0.9730    3\n",
       "          ..\n",
       " 2.2705    1\n",
       "-0.7820    1\n",
       "-0.8521    1\n",
       "-0.2495    1\n",
       "-0.6137    1\n",
       "Name: count, Length: 1769, dtype: int64"
      ]
     },
     "metadata": {},
     "output_type": "display_data"
    },
    {
     "name": "stdout",
     "output_type": "stream",
     "text": [
      "\n",
      "\n"
     ]
    },
    {
     "data": {
      "text/plain": [
       "gh1\n",
       "-0.5029    3\n",
       "-0.5508    2\n",
       "-0.0230    2\n",
       "-0.7351    2\n",
       "-0.1893    2\n",
       "          ..\n",
       "-0.9506    1\n",
       " 0.7970    1\n",
       " 0.7818    1\n",
       " 0.0103    1\n",
       " 1.8232    1\n",
       "Name: count, Length: 1854, dtype: int64"
      ]
     },
     "metadata": {},
     "output_type": "display_data"
    },
    {
     "name": "stdout",
     "output_type": "stream",
     "text": [
      "\n",
      "\n"
     ]
    },
    {
     "data": {
      "text/plain": [
       "gldc\n",
       "-0.6669    4\n",
       "-0.5791    4\n",
       "-0.4822    3\n",
       "-0.3913    3\n",
       "-0.1735    3\n",
       "          ..\n",
       "-0.7283    1\n",
       "-0.2990    1\n",
       " 1.6744    1\n",
       "-0.7664    1\n",
       " 3.9959    1\n",
       "Name: count, Length: 1759, dtype: int64"
      ]
     },
     "metadata": {},
     "output_type": "display_data"
    },
    {
     "name": "stdout",
     "output_type": "stream",
     "text": [
      "\n",
      "\n"
     ]
    },
    {
     "data": {
      "text/plain": [
       "gpr32\n",
       "-0.4208    3\n",
       "-0.2002    3\n",
       " 0.4003    2\n",
       " 0.4867    2\n",
       "-0.5423    2\n",
       "          ..\n",
       " 0.9426    1\n",
       "-0.8730    1\n",
       "-0.1092    1\n",
       "-1.9546    1\n",
       "-2.0799    1\n",
       "Name: count, Length: 1854, dtype: int64"
      ]
     },
     "metadata": {},
     "output_type": "display_data"
    },
    {
     "name": "stdout",
     "output_type": "stream",
     "text": [
      "\n",
      "\n"
     ]
    },
    {
     "data": {
      "text/plain": [
       "gps2\n",
       "-0.0101    3\n",
       " 0.2634    3\n",
       " 0.5416    2\n",
       "-0.3383    2\n",
       "-0.6812    2\n",
       "          ..\n",
       " 0.1666    1\n",
       "-1.2059    1\n",
       " 1.4520    1\n",
       "-2.6234    1\n",
       "-3.8118    1\n",
       "Name: count, Length: 1850, dtype: int64"
      ]
     },
     "metadata": {},
     "output_type": "display_data"
    },
    {
     "name": "stdout",
     "output_type": "stream",
     "text": [
      "\n",
      "\n"
     ]
    },
    {
     "data": {
      "text/plain": [
       "hdac9\n",
       " 0.2183    4\n",
       " 0.3397    3\n",
       " 0.2166    3\n",
       " 0.4668    2\n",
       "-0.1522    2\n",
       "          ..\n",
       "-1.3925    1\n",
       "-2.4277    1\n",
       "-1.4352    1\n",
       "-0.8815    1\n",
       "-1.2318    1\n",
       "Name: count, Length: 1817, dtype: int64"
      ]
     },
     "metadata": {},
     "output_type": "display_data"
    },
    {
     "name": "stdout",
     "output_type": "stream",
     "text": [
      "\n",
      "\n"
     ]
    },
    {
     "data": {
      "text/plain": [
       "herc2\n",
       "-0.4675    5\n",
       "-0.2234    4\n",
       "-0.2608    4\n",
       " 0.5894    4\n",
       " 0.3574    4\n",
       "          ..\n",
       "-1.7701    1\n",
       "-1.8877    1\n",
       "-1.8785    1\n",
       "-1.5625    1\n",
       "-2.7329    1\n",
       "Name: count, Length: 1644, dtype: int64"
      ]
     },
     "metadata": {},
     "output_type": "display_data"
    },
    {
     "name": "stdout",
     "output_type": "stream",
     "text": [
      "\n",
      "\n"
     ]
    },
    {
     "data": {
      "text/plain": [
       "hist1h2bc\n",
       "-0.2578    3\n",
       "-1.0132    3\n",
       "-0.5759    3\n",
       " 0.2267    2\n",
       "-0.1292    2\n",
       "          ..\n",
       "-0.5144    1\n",
       " 1.4025    1\n",
       "-1.0473    1\n",
       " 0.7881    1\n",
       "-0.7918    1\n",
       "Name: count, Length: 1837, dtype: int64"
      ]
     },
     "metadata": {},
     "output_type": "display_data"
    },
    {
     "name": "stdout",
     "output_type": "stream",
     "text": [
      "\n",
      "\n"
     ]
    },
    {
     "data": {
      "text/plain": [
       "kdm3a\n",
       " 0.3257    3\n",
       " 0.6127    3\n",
       "-0.5301    3\n",
       " 0.3801    3\n",
       " 1.1224    3\n",
       "          ..\n",
       "-0.7418    1\n",
       " 0.3631    1\n",
       "-0.4826    1\n",
       "-0.3764    1\n",
       "-0.9621    1\n",
       "Name: count, Length: 1773, dtype: int64"
      ]
     },
     "metadata": {},
     "output_type": "display_data"
    },
    {
     "name": "stdout",
     "output_type": "stream",
     "text": [
      "\n",
      "\n"
     ]
    },
    {
     "data": {
      "text/plain": [
       "kdm6a\n",
       " 0.2597    3\n",
       "-0.4113    2\n",
       " 0.0252    2\n",
       "-0.3067    2\n",
       " 1.2691    2\n",
       "          ..\n",
       " 0.8801    1\n",
       " 0.4725    1\n",
       " 0.8534    1\n",
       "-0.7769    1\n",
       "-1.6662    1\n",
       "Name: count, Length: 1845, dtype: int64"
      ]
     },
     "metadata": {},
     "output_type": "display_data"
    },
    {
     "name": "stdout",
     "output_type": "stream",
     "text": [
      "\n",
      "\n"
     ]
    },
    {
     "data": {
      "text/plain": [
       "klrg1\n",
       " 0.2641    5\n",
       "-0.5019    3\n",
       "-0.5070    3\n",
       "-0.9547    2\n",
       " 0.4115    2\n",
       "          ..\n",
       " 0.2710    1\n",
       "-0.3271    1\n",
       "-0.6201    1\n",
       " 0.4321    1\n",
       "-1.1526    1\n",
       "Name: count, Length: 1797, dtype: int64"
      ]
     },
     "metadata": {},
     "output_type": "display_data"
    },
    {
     "name": "stdout",
     "output_type": "stream",
     "text": [
      "\n",
      "\n"
     ]
    },
    {
     "data": {
      "text/plain": [
       "l1cam\n",
       " 0.2142    3\n",
       "-0.6765    3\n",
       "-0.1083    3\n",
       "-0.2071    3\n",
       "-0.4943    2\n",
       "          ..\n",
       "-0.6009    1\n",
       "-0.7748    1\n",
       " 0.4177    1\n",
       " 0.2603    1\n",
       " 0.0090    1\n",
       "Name: count, Length: 1831, dtype: int64"
      ]
     },
     "metadata": {},
     "output_type": "display_data"
    },
    {
     "name": "stdout",
     "output_type": "stream",
     "text": [
      "\n",
      "\n"
     ]
    },
    {
     "data": {
      "text/plain": [
       "lama2\n",
       "-1.3408    3\n",
       " 1.2454    2\n",
       "-0.1695    2\n",
       " 0.9036    2\n",
       " 0.6309    2\n",
       "          ..\n",
       "-0.0119    1\n",
       "-0.0050    1\n",
       " 0.7460    1\n",
       "-0.7009    1\n",
       " 0.5025    1\n",
       "Name: count, Length: 1848, dtype: int64"
      ]
     },
     "metadata": {},
     "output_type": "display_data"
    },
    {
     "name": "stdout",
     "output_type": "stream",
     "text": [
      "\n",
      "\n"
     ]
    },
    {
     "data": {
      "text/plain": [
       "lamb3\n",
       " 0.4570    3\n",
       "-0.7700    3\n",
       "-0.7463    3\n",
       " 0.4221    3\n",
       " 0.4319    3\n",
       "          ..\n",
       "-0.0763    1\n",
       " 1.6647    1\n",
       "-0.4257    1\n",
       "-0.8186    1\n",
       "-1.1956    1\n",
       "Name: count, Length: 1806, dtype: int64"
      ]
     },
     "metadata": {},
     "output_type": "display_data"
    },
    {
     "name": "stdout",
     "output_type": "stream",
     "text": [
      "\n",
      "\n"
     ]
    },
    {
     "data": {
      "text/plain": [
       "large1\n",
       "-0.2171    4\n",
       " 0.5577    3\n",
       " 0.7221    3\n",
       " 0.5210    3\n",
       "-0.4130    3\n",
       "          ..\n",
       "-1.0707    1\n",
       " 1.7853    1\n",
       " 0.7059    1\n",
       "-1.7117    1\n",
       " 0.4881    1\n",
       "Name: count, Length: 1740, dtype: int64"
      ]
     },
     "metadata": {},
     "output_type": "display_data"
    },
    {
     "name": "stdout",
     "output_type": "stream",
     "text": [
      "\n",
      "\n"
     ]
    },
    {
     "data": {
      "text/plain": [
       "ldlrap1\n",
       "-0.6713    4\n",
       " 0.6069    4\n",
       "-0.0550    3\n",
       " 0.2072    3\n",
       "-0.2591    3\n",
       "          ..\n",
       "-0.4375    1\n",
       " 0.3146    1\n",
       "-1.0274    1\n",
       " 1.4607    1\n",
       "-0.7206    1\n",
       "Name: count, Length: 1747, dtype: int64"
      ]
     },
     "metadata": {},
     "output_type": "display_data"
    },
    {
     "name": "stdout",
     "output_type": "stream",
     "text": [
      "\n",
      "\n"
     ]
    },
    {
     "data": {
      "text/plain": [
       "lifr\n",
       "-1.2667    3\n",
       " 0.2916    3\n",
       "-0.0504    2\n",
       "-0.1307    2\n",
       "-0.5433    2\n",
       "          ..\n",
       "-0.1556    1\n",
       " 0.2659    1\n",
       "-0.4275    1\n",
       "-0.2593    1\n",
       " 4.3701    1\n",
       "Name: count, Length: 1848, dtype: int64"
      ]
     },
     "metadata": {},
     "output_type": "display_data"
    },
    {
     "name": "stdout",
     "output_type": "stream",
     "text": [
      "\n",
      "\n"
     ]
    },
    {
     "data": {
      "text/plain": [
       "lipi\n",
       "-0.4853    3\n",
       "-0.2434    3\n",
       "-0.4252    3\n",
       " 0.2853    3\n",
       "-0.5764    3\n",
       "          ..\n",
       " 0.9700    1\n",
       "-0.7452    1\n",
       " 1.2793    1\n",
       "-0.0902    1\n",
       " 0.1227    1\n",
       "Name: count, Length: 1801, dtype: int64"
      ]
     },
     "metadata": {},
     "output_type": "display_data"
    },
    {
     "name": "stdout",
     "output_type": "stream",
     "text": [
      "\n",
      "\n"
     ]
    },
    {
     "data": {
      "text/plain": [
       "magea8\n",
       "-0.2797     3\n",
       "-0.0305     3\n",
       "-0.1169     3\n",
       " 0.2663     3\n",
       "-0.1738     3\n",
       "           ..\n",
       "-0.1942     1\n",
       "-0.5654     1\n",
       " 11.3981    1\n",
       "-0.4743     1\n",
       "-0.2498     1\n",
       "Name: count, Length: 1757, dtype: int64"
      ]
     },
     "metadata": {},
     "output_type": "display_data"
    },
    {
     "name": "stdout",
     "output_type": "stream",
     "text": [
      "\n",
      "\n"
     ]
    },
    {
     "data": {
      "text/plain": [
       "map3k10\n",
       " 0.1790    2\n",
       " 0.3240    2\n",
       "-0.2426    2\n",
       "-0.5831    2\n",
       " 0.2402    2\n",
       "          ..\n",
       "-0.1232    1\n",
       "-1.8154    1\n",
       "-0.5068    1\n",
       "-2.2286    1\n",
       " 0.1114    1\n",
       "Name: count, Length: 1836, dtype: int64"
      ]
     },
     "metadata": {},
     "output_type": "display_data"
    },
    {
     "name": "stdout",
     "output_type": "stream",
     "text": [
      "\n",
      "\n"
     ]
    },
    {
     "data": {
      "text/plain": [
       "map3k13\n",
       " 0.2523    3\n",
       " 0.1534    3\n",
       "-0.7849    3\n",
       "-0.5689    3\n",
       " 0.3828    3\n",
       "          ..\n",
       " 3.1925    1\n",
       " 1.9576    1\n",
       " 0.3625    1\n",
       "-0.5811    1\n",
       "-1.0446    1\n",
       "Name: count, Length: 1800, dtype: int64"
      ]
     },
     "metadata": {},
     "output_type": "display_data"
    },
    {
     "name": "stdout",
     "output_type": "stream",
     "text": [
      "\n",
      "\n"
     ]
    },
    {
     "data": {
      "text/plain": [
       "men1\n",
       "-0.0990    3\n",
       " 0.2707    2\n",
       "-0.2910    2\n",
       "-0.6418    2\n",
       "-0.3888    2\n",
       "          ..\n",
       "-0.5980    1\n",
       "-1.6972    1\n",
       "-1.3671    1\n",
       " 0.9575    1\n",
       "-2.4937    1\n",
       "Name: count, Length: 1858, dtype: int64"
      ]
     },
     "metadata": {},
     "output_type": "display_data"
    },
    {
     "name": "stdout",
     "output_type": "stream",
     "text": [
      "\n",
      "\n"
     ]
    },
    {
     "data": {
      "text/plain": [
       "mtap\n",
       "-0.2331    3\n",
       " 0.4925    3\n",
       "-0.4618    3\n",
       " 0.4308    3\n",
       " 0.3523    3\n",
       "          ..\n",
       " 2.9468    1\n",
       " 0.6301    1\n",
       " 1.7477    1\n",
       " 1.4816    1\n",
       " 1.9954    1\n",
       "Name: count, Length: 1724, dtype: int64"
      ]
     },
     "metadata": {},
     "output_type": "display_data"
    },
    {
     "name": "stdout",
     "output_type": "stream",
     "text": [
      "\n",
      "\n"
     ]
    },
    {
     "data": {
      "text/plain": [
       "muc16\n",
       "-0.5638    3\n",
       "-0.5597    3\n",
       "-0.5736    3\n",
       "-0.4921    3\n",
       "-0.8336    3\n",
       "          ..\n",
       "-0.7805    1\n",
       "-0.2404    1\n",
       " 1.0715    1\n",
       "-0.4231    1\n",
       " 2.2705    1\n",
       "Name: count, Length: 1782, dtype: int64"
      ]
     },
     "metadata": {},
     "output_type": "display_data"
    },
    {
     "name": "stdout",
     "output_type": "stream",
     "text": [
      "\n",
      "\n"
     ]
    },
    {
     "data": {
      "text/plain": [
       "myo1a\n",
       "-0.1091    3\n",
       "-0.5737    3\n",
       " 0.3822    3\n",
       " 0.4453    3\n",
       " 0.4167    3\n",
       "          ..\n",
       "-0.6620    1\n",
       "-0.9913    1\n",
       "-0.2350    1\n",
       " 1.4126    1\n",
       " 0.2174    1\n",
       "Name: count, Length: 1790, dtype: int64"
      ]
     },
     "metadata": {},
     "output_type": "display_data"
    },
    {
     "name": "stdout",
     "output_type": "stream",
     "text": [
      "\n",
      "\n"
     ]
    },
    {
     "data": {
      "text/plain": [
       "myo3a\n",
       "-0.2880    3\n",
       "-0.8225    3\n",
       " 0.2651    3\n",
       "-1.0321    3\n",
       "-0.4046    3\n",
       "          ..\n",
       " 0.0977    1\n",
       "-1.0477    1\n",
       "-1.0948    1\n",
       " 0.0659    1\n",
       "-0.2659    1\n",
       "Name: count, Length: 1782, dtype: int64"
      ]
     },
     "metadata": {},
     "output_type": "display_data"
    },
    {
     "name": "stdout",
     "output_type": "stream",
     "text": [
      "\n",
      "\n"
     ]
    },
    {
     "data": {
      "text/plain": [
       "ncoa3\n",
       "-0.2147    4\n",
       "-1.2923    4\n",
       "-0.8637    3\n",
       "-0.1272    3\n",
       " 0.0084    3\n",
       "          ..\n",
       " 2.0519    1\n",
       " 1.3244    1\n",
       "-0.0524    1\n",
       " 0.2443    1\n",
       " 1.0509    1\n",
       "Name: count, Length: 1690, dtype: int64"
      ]
     },
     "metadata": {},
     "output_type": "display_data"
    },
    {
     "name": "stdout",
     "output_type": "stream",
     "text": [
      "\n",
      "\n"
     ]
    },
    {
     "data": {
      "text/plain": [
       "nek1\n",
       "-0.5753    4\n",
       "-0.3168    3\n",
       "-1.2475    3\n",
       " 0.7129    3\n",
       " 0.6384    3\n",
       "          ..\n",
       " 0.7646    1\n",
       " 1.1395    1\n",
       " 0.2067    1\n",
       "-1.2197    1\n",
       "-0.7678    1\n",
       "Name: count, Length: 1743, dtype: int64"
      ]
     },
     "metadata": {},
     "output_type": "display_data"
    },
    {
     "name": "stdout",
     "output_type": "stream",
     "text": [
      "\n",
      "\n"
     ]
    },
    {
     "data": {
      "text/plain": [
       "nf2\n",
       "-0.9939    3\n",
       " 1.0873    3\n",
       " 1.1690    3\n",
       " 0.0638    3\n",
       " 1.2921    2\n",
       "          ..\n",
       "-0.3640    1\n",
       "-1.8867    1\n",
       " 3.1095    1\n",
       "-0.1947    1\n",
       " 0.3052    1\n",
       "Name: count, Length: 1833, dtype: int64"
      ]
     },
     "metadata": {},
     "output_type": "display_data"
    },
    {
     "name": "stdout",
     "output_type": "stream",
     "text": [
      "\n",
      "\n"
     ]
    },
    {
     "data": {
      "text/plain": [
       "npnt\n",
       " 0.1837    3\n",
       " 2.2232    3\n",
       "-0.6806    3\n",
       " 0.0720    2\n",
       "-0.2954    2\n",
       "          ..\n",
       "-1.1430    1\n",
       "-0.7121    1\n",
       "-0.5292    1\n",
       " 0.1345    1\n",
       " 0.3241    1\n",
       "Name: count, Length: 1817, dtype: int64"
      ]
     },
     "metadata": {},
     "output_type": "display_data"
    },
    {
     "name": "stdout",
     "output_type": "stream",
     "text": [
      "\n",
      "\n"
     ]
    },
    {
     "data": {
      "text/plain": [
       "nr2f1\n",
       "-0.0579    3\n",
       " 1.5565    3\n",
       "-0.3894    3\n",
       " 1.0220    2\n",
       "-0.8912    2\n",
       "          ..\n",
       "-0.4201    1\n",
       "-0.2080    1\n",
       " 0.3093    1\n",
       " 3.4383    1\n",
       "-0.4449    1\n",
       "Name: count, Length: 1797, dtype: int64"
      ]
     },
     "metadata": {},
     "output_type": "display_data"
    },
    {
     "name": "stdout",
     "output_type": "stream",
     "text": [
      "\n",
      "\n"
     ]
    },
    {
     "data": {
      "text/plain": [
       "nr3c1\n",
       "-0.0124    3\n",
       "-0.4219    3\n",
       " 0.4063    3\n",
       "-0.1932    3\n",
       " 0.5611    3\n",
       "          ..\n",
       "-0.5488    1\n",
       " 0.2823    1\n",
       "-1.2109    1\n",
       " 2.2562    1\n",
       "-0.2109    1\n",
       "Name: count, Length: 1785, dtype: int64"
      ]
     },
     "metadata": {},
     "output_type": "display_data"
    },
    {
     "name": "stdout",
     "output_type": "stream",
     "text": [
      "\n",
      "\n"
     ]
    },
    {
     "data": {
      "text/plain": [
       "nras\n",
       "-0.1483    4\n",
       "-0.4560    4\n",
       "-0.0342    4\n",
       "-0.6028    3\n",
       " 0.1617    3\n",
       "          ..\n",
       "-0.3590    1\n",
       "-0.9114    1\n",
       "-1.7027    1\n",
       " 1.1762    1\n",
       " 1.3277    1\n",
       "Name: count, Length: 1735, dtype: int64"
      ]
     },
     "metadata": {},
     "output_type": "display_data"
    },
    {
     "name": "stdout",
     "output_type": "stream",
     "text": [
      "\n",
      "\n"
     ]
    },
    {
     "data": {
      "text/plain": [
       "nrg3\n",
       "-0.1323    3\n",
       " 0.1561    2\n",
       " 0.4071    2\n",
       "-0.7897    2\n",
       "-0.4414    2\n",
       "          ..\n",
       "-1.2779    1\n",
       "-0.9132    1\n",
       " 0.5125    1\n",
       "-0.6138    1\n",
       "-0.2289    1\n",
       "Name: count, Length: 1812, dtype: int64"
      ]
     },
     "metadata": {},
     "output_type": "display_data"
    },
    {
     "name": "stdout",
     "output_type": "stream",
     "text": [
      "\n",
      "\n"
     ]
    },
    {
     "data": {
      "text/plain": [
       "nt5e\n",
       "-0.7380    3\n",
       " 0.2918    2\n",
       " 0.4460    2\n",
       " 0.3609    2\n",
       "-0.6958    2\n",
       "          ..\n",
       "-0.8236    1\n",
       "-0.5686    1\n",
       " 0.0476    1\n",
       " 0.5675    1\n",
       " 1.7567    1\n",
       "Name: count, Length: 1841, dtype: int64"
      ]
     },
     "metadata": {},
     "output_type": "display_data"
    },
    {
     "name": "stdout",
     "output_type": "stream",
     "text": [
      "\n",
      "\n"
     ]
    },
    {
     "data": {
      "text/plain": [
       "or6a2\n",
       " 0.6068    3\n",
       "-0.6788    3\n",
       "-0.5990    3\n",
       "-0.7067    3\n",
       "-0.9736    3\n",
       "          ..\n",
       "-0.1317    1\n",
       "-0.1195    1\n",
       "-0.1055    1\n",
       " 0.2740    1\n",
       "-0.0552    1\n",
       "Name: count, Length: 1813, dtype: int64"
      ]
     },
     "metadata": {},
     "output_type": "display_data"
    },
    {
     "name": "stdout",
     "output_type": "stream",
     "text": [
      "\n",
      "\n"
     ]
    },
    {
     "data": {
      "text/plain": [
       "palld\n",
       "-0.5817    2\n",
       " 0.5737    2\n",
       " 0.7694    2\n",
       " 0.7096    2\n",
       "-0.9097    2\n",
       "          ..\n",
       " 1.0493    1\n",
       " 0.4586    1\n",
       " 0.2730    1\n",
       "-2.7537    1\n",
       "-0.4821    1\n",
       "Name: count, Length: 1851, dtype: int64"
      ]
     },
     "metadata": {},
     "output_type": "display_data"
    },
    {
     "name": "stdout",
     "output_type": "stream",
     "text": [
      "\n",
      "\n"
     ]
    },
    {
     "data": {
      "text/plain": [
       "pbrm1\n",
       "-0.3436    4\n",
       "-0.5393    4\n",
       " 0.0738    4\n",
       " 0.0370    4\n",
       "-1.0420    3\n",
       "          ..\n",
       " 1.2404    1\n",
       "-0.3449    1\n",
       " 0.8009    1\n",
       "-0.5814    1\n",
       "-0.7712    1\n",
       "Name: count, Length: 1685, dtype: int64"
      ]
     },
     "metadata": {},
     "output_type": "display_data"
    },
    {
     "name": "stdout",
     "output_type": "stream",
     "text": [
      "\n",
      "\n"
     ]
    },
    {
     "data": {
      "text/plain": [
       "ppp2cb\n",
       " 0.4989    3\n",
       "-0.4057    2\n",
       "-1.0486    2\n",
       "-0.2755    2\n",
       "-0.6364    2\n",
       "          ..\n",
       "-0.1740    1\n",
       "-0.1390    1\n",
       "-1.3739    1\n",
       " 0.6023    1\n",
       " 0.2598    1\n",
       "Name: count, Length: 1847, dtype: int64"
      ]
     },
     "metadata": {},
     "output_type": "display_data"
    },
    {
     "name": "stdout",
     "output_type": "stream",
     "text": [
      "\n",
      "\n"
     ]
    },
    {
     "data": {
      "text/plain": [
       "ppp2r2a\n",
       " 0.2590    3\n",
       " 0.5266    2\n",
       " 0.2982    2\n",
       "-0.8418    2\n",
       " 0.6153    2\n",
       "          ..\n",
       " 1.3720    1\n",
       " 1.0048    1\n",
       " 0.8015    1\n",
       "-1.4509    1\n",
       " 2.9911    1\n",
       "Name: count, Length: 1856, dtype: int64"
      ]
     },
     "metadata": {},
     "output_type": "display_data"
    },
    {
     "name": "stdout",
     "output_type": "stream",
     "text": [
      "\n",
      "\n"
     ]
    },
    {
     "data": {
      "text/plain": [
       "prkacg\n",
       " 1.3945    3\n",
       " 0.8960    3\n",
       " 0.2360    3\n",
       " 0.5186    3\n",
       " 0.8597    3\n",
       "          ..\n",
       " 0.6690    1\n",
       " 0.0730    1\n",
       "-1.0536    1\n",
       " 1.8157    1\n",
       "-0.4891    1\n",
       "Name: count, Length: 1797, dtype: int64"
      ]
     },
     "metadata": {},
     "output_type": "display_data"
    },
    {
     "name": "stdout",
     "output_type": "stream",
     "text": [
      "\n",
      "\n"
     ]
    },
    {
     "data": {
      "text/plain": [
       "prkce\n",
       " 0.5370    3\n",
       "-0.9014    3\n",
       "-0.4725    3\n",
       " 0.5450    3\n",
       " 0.7328    3\n",
       "          ..\n",
       " 1.0551    1\n",
       "-0.5801    1\n",
       " 1.3678    1\n",
       "-1.3488    1\n",
       "-0.5843    1\n",
       "Name: count, Length: 1807, dtype: int64"
      ]
     },
     "metadata": {},
     "output_type": "display_data"
    },
    {
     "name": "stdout",
     "output_type": "stream",
     "text": [
      "\n",
      "\n"
     ]
    },
    {
     "data": {
      "text/plain": [
       "prkcq\n",
       " 0.1473    5\n",
       " 0.3263    4\n",
       " 1.2774    3\n",
       "-0.6831    3\n",
       "-0.5757    3\n",
       "          ..\n",
       "-0.8490    1\n",
       "-0.0277    1\n",
       " 2.7134    1\n",
       " 1.0919    1\n",
       " 0.3109    1\n",
       "Name: count, Length: 1711, dtype: int64"
      ]
     },
     "metadata": {},
     "output_type": "display_data"
    },
    {
     "name": "stdout",
     "output_type": "stream",
     "text": [
      "\n",
      "\n"
     ]
    },
    {
     "data": {
      "text/plain": [
       "prkcz\n",
       " 0.2669    2\n",
       " 0.5007    2\n",
       " 0.5705    2\n",
       "-0.2762    2\n",
       " 0.6279    2\n",
       "          ..\n",
       " 0.4189    1\n",
       "-0.3357    1\n",
       "-0.3870    1\n",
       " 0.1007    1\n",
       "-2.2004    1\n",
       "Name: count, Length: 1848, dtype: int64"
      ]
     },
     "metadata": {},
     "output_type": "display_data"
    },
    {
     "name": "stdout",
     "output_type": "stream",
     "text": [
      "\n",
      "\n"
     ]
    },
    {
     "data": {
      "text/plain": [
       "prkg1\n",
       "-0.0774    3\n",
       "-0.4461    3\n",
       " 0.2065    3\n",
       "-0.3850    3\n",
       "-0.5107    3\n",
       "          ..\n",
       "-0.7903    1\n",
       " 0.2918    1\n",
       " 0.3659    1\n",
       "-0.1156    1\n",
       " 0.1783    1\n",
       "Name: count, Length: 1815, dtype: int64"
      ]
     },
     "metadata": {},
     "output_type": "display_data"
    },
    {
     "name": "stdout",
     "output_type": "stream",
     "text": [
      "\n",
      "\n"
     ]
    },
    {
     "data": {
      "text/plain": [
       "prps2\n",
       " 1.4028    3\n",
       "-1.1243    2\n",
       " 0.4236    2\n",
       " 0.2955    2\n",
       " 0.2297    2\n",
       "          ..\n",
       "-0.4272    1\n",
       "-0.2696    1\n",
       " 0.9900    1\n",
       " 0.0975    1\n",
       " 0.1930    1\n",
       "Name: count, Length: 1853, dtype: int64"
      ]
     },
     "metadata": {},
     "output_type": "display_data"
    },
    {
     "name": "stdout",
     "output_type": "stream",
     "text": [
      "\n",
      "\n"
     ]
    },
    {
     "data": {
      "text/plain": [
       "prr16\n",
       "-0.7108    4\n",
       "-0.6835    3\n",
       "-0.0715    3\n",
       " 0.0798    3\n",
       " 0.0282    3\n",
       "          ..\n",
       "-0.0003    1\n",
       "-0.6045    1\n",
       " 0.2157    1\n",
       " 0.4280    1\n",
       "-0.4772    1\n",
       "Name: count, Length: 1731, dtype: int64"
      ]
     },
     "metadata": {},
     "output_type": "display_data"
    },
    {
     "name": "stdout",
     "output_type": "stream",
     "text": [
      "\n",
      "\n"
     ]
    },
    {
     "data": {
      "text/plain": [
       "ptpn22\n",
       "-0.5211    3\n",
       "-0.3056    3\n",
       "-0.7495    3\n",
       "-0.0839    3\n",
       " 0.1737    2\n",
       "          ..\n",
       " 3.4069    1\n",
       " 5.4646    1\n",
       "-0.9505    1\n",
       " 1.2199    1\n",
       "-0.7120    1\n",
       "Name: count, Length: 1835, dtype: int64"
      ]
     },
     "metadata": {},
     "output_type": "display_data"
    },
    {
     "name": "stdout",
     "output_type": "stream",
     "text": [
      "\n",
      "\n"
     ]
    },
    {
     "data": {
      "text/plain": [
       "ptprm\n",
       "-0.5092    3\n",
       " 0.2648    2\n",
       "-0.9109    2\n",
       "-0.5582    2\n",
       " 0.5672    2\n",
       "          ..\n",
       " 1.4302    1\n",
       " 0.5150    1\n",
       " 1.3320    1\n",
       "-0.1558    1\n",
       "-1.3099    1\n",
       "Name: count, Length: 1844, dtype: int64"
      ]
     },
     "metadata": {},
     "output_type": "display_data"
    },
    {
     "name": "stdout",
     "output_type": "stream",
     "text": [
      "\n",
      "\n"
     ]
    },
    {
     "data": {
      "text/plain": [
       "rasgef1b\n",
       "-0.6344    3\n",
       "-0.6616    3\n",
       " 0.0792    3\n",
       "-0.0307    3\n",
       " 0.2710    2\n",
       "          ..\n",
       "-0.1864    1\n",
       "-1.6098    1\n",
       "-2.0866    1\n",
       "-0.7928    1\n",
       "-0.2682    1\n",
       "Name: count, Length: 1856, dtype: int64"
      ]
     },
     "metadata": {},
     "output_type": "display_data"
    },
    {
     "name": "stdout",
     "output_type": "stream",
     "text": [
      "\n",
      "\n"
     ]
    },
    {
     "data": {
      "text/plain": [
       "rpgr\n",
       " 0.4199    3\n",
       " 1.2812    2\n",
       "-0.1440    2\n",
       " 0.2273    2\n",
       " 0.0445    2\n",
       "          ..\n",
       "-2.0312    1\n",
       " 0.5312    1\n",
       "-0.2481    1\n",
       " 0.1412    1\n",
       " 1.3755    1\n",
       "Name: count, Length: 1846, dtype: int64"
      ]
     },
     "metadata": {},
     "output_type": "display_data"
    },
    {
     "name": "stdout",
     "output_type": "stream",
     "text": [
      "\n",
      "\n"
     ]
    },
    {
     "data": {
      "text/plain": [
       "ryr2\n",
       "-0.8813    3\n",
       "-0.3817    3\n",
       "-0.5959    3\n",
       "-0.1854    3\n",
       "-0.1429    3\n",
       "          ..\n",
       "-0.7383    1\n",
       "-0.5409    1\n",
       " 0.8964    1\n",
       " 1.1023    1\n",
       " 0.4685    1\n",
       "Name: count, Length: 1817, dtype: int64"
      ]
     },
     "metadata": {},
     "output_type": "display_data"
    },
    {
     "name": "stdout",
     "output_type": "stream",
     "text": [
      "\n",
      "\n"
     ]
    },
    {
     "data": {
      "text/plain": [
       "sbno1\n",
       "-1.3168    3\n",
       " 0.4819    3\n",
       " 0.5796    3\n",
       " 1.3550    3\n",
       "-0.3590    3\n",
       "          ..\n",
       " 1.9429    1\n",
       "-0.0403    1\n",
       "-1.1892    1\n",
       "-0.7977    1\n",
       " 0.4667    1\n",
       "Name: count, Length: 1817, dtype: int64"
      ]
     },
     "metadata": {},
     "output_type": "display_data"
    },
    {
     "name": "stdout",
     "output_type": "stream",
     "text": [
      "\n",
      "\n"
     ]
    },
    {
     "data": {
      "text/plain": [
       "setd1a\n",
       "-0.5184    4\n",
       "-0.2713    3\n",
       " 0.6180    3\n",
       "-0.5245    3\n",
       "-1.0449    3\n",
       "          ..\n",
       "-0.0913    1\n",
       " 0.4629    1\n",
       "-0.3655    1\n",
       " 1.3251    1\n",
       "-1.1653    1\n",
       "Name: count, Length: 1724, dtype: int64"
      ]
     },
     "metadata": {},
     "output_type": "display_data"
    },
    {
     "name": "stdout",
     "output_type": "stream",
     "text": [
      "\n",
      "\n"
     ]
    },
    {
     "data": {
      "text/plain": [
       "setd2\n",
       " 0.4623    7\n",
       " 0.3374    5\n",
       " 1.1548    5\n",
       "-0.9820    5\n",
       "-0.1867    5\n",
       "          ..\n",
       "-1.7167    1\n",
       "-0.5893    1\n",
       " 0.4192    1\n",
       " 1.1985    1\n",
       "-0.4740    1\n",
       "Name: count, Length: 1591, dtype: int64"
      ]
     },
     "metadata": {},
     "output_type": "display_data"
    },
    {
     "name": "stdout",
     "output_type": "stream",
     "text": [
      "\n",
      "\n"
     ]
    },
    {
     "data": {
      "text/plain": [
       "setdb1\n",
       "-0.1723    4\n",
       "-0.4558    3\n",
       "-0.2017    3\n",
       "-0.0614    3\n",
       "-0.7225    3\n",
       "          ..\n",
       " 0.4201    1\n",
       "-1.2531    1\n",
       " 1.3457    1\n",
       " 0.0319    1\n",
       " 0.4611    1\n",
       "Name: count, Length: 1725, dtype: int64"
      ]
     },
     "metadata": {},
     "output_type": "display_data"
    },
    {
     "name": "stdout",
     "output_type": "stream",
     "text": [
      "\n",
      "\n"
     ]
    },
    {
     "data": {
      "text/plain": [
       "sf3b1\n",
       " 0.4429    3\n",
       "-0.6237    3\n",
       "-0.2224    3\n",
       "-0.4118    3\n",
       "-0.7648    3\n",
       "          ..\n",
       "-1.1006    1\n",
       " 0.2933    1\n",
       " 1.2132    1\n",
       " 0.4558    1\n",
       " 0.5412    1\n",
       "Name: count, Length: 1744, dtype: int64"
      ]
     },
     "metadata": {},
     "output_type": "display_data"
    },
    {
     "name": "stdout",
     "output_type": "stream",
     "text": [
      "\n",
      "\n"
     ]
    },
    {
     "data": {
      "text/plain": [
       "sgcd\n",
       " 0.2708    3\n",
       "-0.4588    3\n",
       " 0.6559    2\n",
       "-1.3817    2\n",
       " 0.5113    2\n",
       "          ..\n",
       "-0.1307    1\n",
       " 0.5419    1\n",
       " 0.6302    1\n",
       "-1.0188    1\n",
       "-0.8167    1\n",
       "Name: count, Length: 1837, dtype: int64"
      ]
     },
     "metadata": {},
     "output_type": "display_data"
    },
    {
     "name": "stdout",
     "output_type": "stream",
     "text": [
      "\n",
      "\n"
     ]
    },
    {
     "data": {
      "text/plain": [
       "shank2\n",
       "-0.2660    3\n",
       "-0.1353    2\n",
       "-0.1252    2\n",
       "-0.0253    2\n",
       " 0.3122    2\n",
       "          ..\n",
       "-0.5877    1\n",
       "-0.2236    1\n",
       "-1.1336    1\n",
       " 0.5618    1\n",
       " 0.8421    1\n",
       "Name: count, Length: 1846, dtype: int64"
      ]
     },
     "metadata": {},
     "output_type": "display_data"
    },
    {
     "name": "stdout",
     "output_type": "stream",
     "text": [
      "\n",
      "\n"
     ]
    },
    {
     "data": {
      "text/plain": [
       "siah1\n",
       " 0.7165    3\n",
       " 0.4703    3\n",
       "-1.2737    2\n",
       "-0.5841    2\n",
       "-0.6077    2\n",
       "          ..\n",
       "-1.2834    1\n",
       "-0.6078    1\n",
       "-1.3869    1\n",
       " 0.3344    1\n",
       " 0.6431    1\n",
       "Name: count, Length: 1858, dtype: int64"
      ]
     },
     "metadata": {},
     "output_type": "display_data"
    },
    {
     "name": "stdout",
     "output_type": "stream",
     "text": [
      "\n",
      "\n"
     ]
    },
    {
     "data": {
      "text/plain": [
       "sik1\n",
       "-0.3858    4\n",
       " 0.4984    3\n",
       " 0.6489    3\n",
       " 0.6974    3\n",
       "-0.3318    3\n",
       "          ..\n",
       "-0.4079    1\n",
       "-0.7990    1\n",
       "-0.6633    1\n",
       "-0.8039    1\n",
       "-0.7601    1\n",
       "Name: count, Length: 1805, dtype: int64"
      ]
     },
     "metadata": {},
     "output_type": "display_data"
    },
    {
     "name": "stdout",
     "output_type": "stream",
     "text": [
      "\n",
      "\n"
     ]
    },
    {
     "data": {
      "text/plain": [
       "sik2\n",
       "-0.1520    3\n",
       "-0.3461    3\n",
       "-0.1721    3\n",
       " 0.3052    3\n",
       " 0.2599    3\n",
       "          ..\n",
       "-0.2632    1\n",
       " 1.1031    1\n",
       " 0.1694    1\n",
       " 3.2174    1\n",
       "-0.7527    1\n",
       "Name: count, Length: 1804, dtype: int64"
      ]
     },
     "metadata": {},
     "output_type": "display_data"
    },
    {
     "name": "stdout",
     "output_type": "stream",
     "text": [
      "\n",
      "\n"
     ]
    },
    {
     "data": {
      "text/plain": [
       "smarcb1\n",
       " 0.5565    5\n",
       " 0.1811    4\n",
       " 0.1410    4\n",
       " 0.8805    3\n",
       " 0.2681    3\n",
       "          ..\n",
       "-0.8380    1\n",
       " 0.0457    1\n",
       "-0.1851    1\n",
       "-0.5270    1\n",
       "-0.2761    1\n",
       "Name: count, Length: 1714, dtype: int64"
      ]
     },
     "metadata": {},
     "output_type": "display_data"
    },
    {
     "name": "stdout",
     "output_type": "stream",
     "text": [
      "\n",
      "\n"
     ]
    },
    {
     "data": {
      "text/plain": [
       "smarcc1\n",
       "-0.0327    5\n",
       "-0.1668    4\n",
       " 0.0379    4\n",
       "-0.2012    4\n",
       " 0.9620    3\n",
       "          ..\n",
       " 0.3920    1\n",
       " 0.8520    1\n",
       "-1.3130    1\n",
       "-1.5930    1\n",
       "-0.5566    1\n",
       "Name: count, Length: 1635, dtype: int64"
      ]
     },
     "metadata": {},
     "output_type": "display_data"
    },
    {
     "name": "stdout",
     "output_type": "stream",
     "text": [
      "\n",
      "\n"
     ]
    },
    {
     "data": {
      "text/plain": [
       "smarcc2\n",
       " 0.6552    5\n",
       "-0.5057    4\n",
       "-0.0991    4\n",
       " 0.4724    4\n",
       " 0.5733    4\n",
       "          ..\n",
       "-0.2341    1\n",
       " 0.2401    1\n",
       "-2.3825    1\n",
       " 0.0250    1\n",
       " 1.3924    1\n",
       "Name: count, Length: 1660, dtype: int64"
      ]
     },
     "metadata": {},
     "output_type": "display_data"
    },
    {
     "name": "stdout",
     "output_type": "stream",
     "text": [
      "\n",
      "\n"
     ]
    },
    {
     "data": {
      "text/plain": [
       "smarcd1\n",
       " 0.6586    5\n",
       "-0.2325    5\n",
       "-0.3066    4\n",
       " 0.3865    4\n",
       " 0.2004    4\n",
       "          ..\n",
       " 0.6334    1\n",
       "-0.4402    1\n",
       "-2.1842    1\n",
       "-1.4518    1\n",
       "-4.2925    1\n",
       "Name: count, Length: 1578, dtype: int64"
      ]
     },
     "metadata": {},
     "output_type": "display_data"
    },
    {
     "name": "stdout",
     "output_type": "stream",
     "text": [
      "\n",
      "\n"
     ]
    },
    {
     "data": {
      "text/plain": [
       "spaca1\n",
       "-0.6664    3\n",
       " 1.1473    3\n",
       "-2.0518    2\n",
       " 0.3624    2\n",
       "-0.5843    2\n",
       "          ..\n",
       "-0.5380    1\n",
       " 0.9710    1\n",
       " 2.7585    1\n",
       "-1.2563    1\n",
       "-1.9015    1\n",
       "Name: count, Length: 1838, dtype: int64"
      ]
     },
     "metadata": {},
     "output_type": "display_data"
    },
    {
     "name": "stdout",
     "output_type": "stream",
     "text": [
      "\n",
      "\n"
     ]
    },
    {
     "data": {
      "text/plain": [
       "stab2\n",
       "-0.6456    4\n",
       " 0.8944    3\n",
       "-0.4168    3\n",
       "-0.5441    3\n",
       " 0.2971    2\n",
       "          ..\n",
       "-0.2454    1\n",
       "-0.6759    1\n",
       " 0.1233    1\n",
       "-0.1959    1\n",
       " 0.9259    1\n",
       "Name: count, Length: 1822, dtype: int64"
      ]
     },
     "metadata": {},
     "output_type": "display_data"
    },
    {
     "name": "stdout",
     "output_type": "stream",
     "text": [
      "\n",
      "\n"
     ]
    },
    {
     "data": {
      "text/plain": [
       "stmn2\n",
       "-0.6741    3\n",
       "-0.2424    3\n",
       "-0.3045    3\n",
       "-0.0101    3\n",
       "-0.1306    3\n",
       "          ..\n",
       "-1.2428    1\n",
       " 0.0267    1\n",
       " 0.9161    1\n",
       "-0.7121    1\n",
       "-0.0367    1\n",
       "Name: count, Length: 1799, dtype: int64"
      ]
     },
     "metadata": {},
     "output_type": "display_data"
    },
    {
     "name": "stdout",
     "output_type": "stream",
     "text": [
      "\n",
      "\n"
     ]
    },
    {
     "data": {
      "text/plain": [
       "syne1\n",
       "-0.0802    3\n",
       "-0.2022    3\n",
       " 0.4072    3\n",
       " 0.2061    3\n",
       "-1.0705    3\n",
       "          ..\n",
       " 1.3693    1\n",
       "-0.8401    1\n",
       " 0.7768    1\n",
       "-0.4021    1\n",
       " 1.9326    1\n",
       "Name: count, Length: 1790, dtype: int64"
      ]
     },
     "metadata": {},
     "output_type": "display_data"
    },
    {
     "name": "stdout",
     "output_type": "stream",
     "text": [
      "\n",
      "\n"
     ]
    },
    {
     "data": {
      "text/plain": [
       "taf1\n",
       " 0.7454    3\n",
       " 0.0188    3\n",
       " 0.3422    2\n",
       " 0.0580    2\n",
       "-0.6062    2\n",
       "          ..\n",
       " 0.1032    1\n",
       " 1.0211    1\n",
       " 0.0263    1\n",
       " 1.2421    1\n",
       " 0.7653    1\n",
       "Name: count, Length: 1867, dtype: int64"
      ]
     },
     "metadata": {},
     "output_type": "display_data"
    },
    {
     "name": "stdout",
     "output_type": "stream",
     "text": [
      "\n",
      "\n"
     ]
    },
    {
     "data": {
      "text/plain": [
       "taf4b\n",
       " 0.1122    2\n",
       "-0.7613    2\n",
       " 0.3149    2\n",
       "-0.4876    2\n",
       "-0.6901    2\n",
       "          ..\n",
       " 0.1641    1\n",
       " 1.1738    1\n",
       "-0.6932    1\n",
       " 0.2971    1\n",
       "-0.4821    1\n",
       "Name: count, Length: 1841, dtype: int64"
      ]
     },
     "metadata": {},
     "output_type": "display_data"
    },
    {
     "name": "stdout",
     "output_type": "stream",
     "text": [
      "\n",
      "\n"
     ]
    },
    {
     "data": {
      "text/plain": [
       "tbl1xr1\n",
       "-0.0549    3\n",
       "-0.3716    3\n",
       "-0.1364    2\n",
       "-0.7599    2\n",
       " 0.0721    2\n",
       "          ..\n",
       " 0.9895    1\n",
       "-0.2097    1\n",
       "-0.1838    1\n",
       "-0.1903    1\n",
       "-0.1359    1\n",
       "Name: count, Length: 1852, dtype: int64"
      ]
     },
     "metadata": {},
     "output_type": "display_data"
    },
    {
     "name": "stdout",
     "output_type": "stream",
     "text": [
      "\n",
      "\n"
     ]
    },
    {
     "data": {
      "text/plain": [
       "tg\n",
       "-0.6242    4\n",
       " 0.5864    3\n",
       " 0.2242    3\n",
       " 0.1740    2\n",
       "-0.9088    2\n",
       "          ..\n",
       "-1.3085    1\n",
       "-0.3633    1\n",
       " 0.1407    1\n",
       "-1.8377    1\n",
       "-1.5250    1\n",
       "Name: count, Length: 1823, dtype: int64"
      ]
     },
     "metadata": {},
     "output_type": "display_data"
    },
    {
     "name": "stdout",
     "output_type": "stream",
     "text": [
      "\n",
      "\n"
     ]
    },
    {
     "data": {
      "text/plain": [
       "thada\n",
       " 1.0515    5\n",
       "-0.0483    4\n",
       " 0.5903    4\n",
       " 0.1598    3\n",
       " 0.0332    3\n",
       "          ..\n",
       " 2.6353    1\n",
       " 0.6808    1\n",
       " 3.9524    1\n",
       " 1.3408    1\n",
       " 0.7389    1\n",
       "Name: count, Length: 1719, dtype: int64"
      ]
     },
     "metadata": {},
     "output_type": "display_data"
    },
    {
     "name": "stdout",
     "output_type": "stream",
     "text": [
      "\n",
      "\n"
     ]
    },
    {
     "data": {
      "text/plain": [
       "thsd7a\n",
       "-0.4117    2\n",
       " 0.8627    2\n",
       " 0.5202    2\n",
       "-0.7745    2\n",
       "-0.8935    2\n",
       "          ..\n",
       "-0.1592    1\n",
       " 0.0560    1\n",
       "-0.8552    1\n",
       " 1.2793    1\n",
       "-2.1255    1\n",
       "Name: count, Length: 1849, dtype: int64"
      ]
     },
     "metadata": {},
     "output_type": "display_data"
    },
    {
     "name": "stdout",
     "output_type": "stream",
     "text": [
      "\n",
      "\n"
     ]
    },
    {
     "data": {
      "text/plain": [
       "ttyh1\n",
       "-0.3330    4\n",
       "-0.6005    4\n",
       "-0.3443    3\n",
       "-0.5156    3\n",
       "-0.5360    3\n",
       "          ..\n",
       "-0.5353    1\n",
       "-0.6829    1\n",
       "-0.5432    1\n",
       " 0.0007    1\n",
       "-0.2000    1\n",
       "Name: count, Length: 1746, dtype: int64"
      ]
     },
     "metadata": {},
     "output_type": "display_data"
    },
    {
     "name": "stdout",
     "output_type": "stream",
     "text": [
      "\n",
      "\n"
     ]
    },
    {
     "data": {
      "text/plain": [
       "ubr5\n",
       " 0.3481    4\n",
       "-0.4023    3\n",
       "-0.0237    3\n",
       "-0.9585    3\n",
       " 0.3434    3\n",
       "          ..\n",
       "-1.8821    1\n",
       " 2.3181    1\n",
       " 1.2712    1\n",
       " 1.7019    1\n",
       "-0.7047    1\n",
       "Name: count, Length: 1708, dtype: int64"
      ]
     },
     "metadata": {},
     "output_type": "display_data"
    },
    {
     "name": "stdout",
     "output_type": "stream",
     "text": [
      "\n",
      "\n"
     ]
    },
    {
     "data": {
      "text/plain": [
       "ush2a\n",
       " 0.4606    3\n",
       " 1.4694    3\n",
       "-0.0744    3\n",
       "-0.6875    2\n",
       "-0.6043    2\n",
       "          ..\n",
       "-0.0177    1\n",
       " 0.7146    1\n",
       " 0.6120    1\n",
       "-0.4917    1\n",
       " 1.2919    1\n",
       "Name: count, Length: 1842, dtype: int64"
      ]
     },
     "metadata": {},
     "output_type": "display_data"
    },
    {
     "name": "stdout",
     "output_type": "stream",
     "text": [
      "\n",
      "\n"
     ]
    },
    {
     "data": {
      "text/plain": [
       "usp9x\n",
       "-0.2525    3\n",
       "-0.5477    3\n",
       " 0.4729    2\n",
       " 0.0319    2\n",
       " 0.4204    2\n",
       "          ..\n",
       " 3.4843    1\n",
       " 0.1610    1\n",
       "-0.3862    1\n",
       "-0.8285    1\n",
       " 1.9115    1\n",
       "Name: count, Length: 1854, dtype: int64"
      ]
     },
     "metadata": {},
     "output_type": "display_data"
    },
    {
     "name": "stdout",
     "output_type": "stream",
     "text": [
      "\n",
      "\n"
     ]
    },
    {
     "data": {
      "text/plain": [
       "utrn\n",
       " 0.0688    3\n",
       " 0.9973    3\n",
       " 0.4880    3\n",
       " 0.0947    3\n",
       " 1.0270    3\n",
       "          ..\n",
       "-0.6085    1\n",
       "-2.7801    1\n",
       "-0.6572    1\n",
       " 1.2571    1\n",
       " 1.0252    1\n",
       "Name: count, Length: 1773, dtype: int64"
      ]
     },
     "metadata": {},
     "output_type": "display_data"
    },
    {
     "name": "stdout",
     "output_type": "stream",
     "text": [
      "\n",
      "\n"
     ]
    },
    {
     "data": {
      "text/plain": [
       "zfp36l1\n",
       " 0.6703    4\n",
       " 0.6956    3\n",
       " 0.2996    3\n",
       " 0.8153    3\n",
       " 0.3772    3\n",
       "          ..\n",
       " 0.5940    1\n",
       "-0.6725    1\n",
       "-0.4488    1\n",
       "-1.7818    1\n",
       "-0.3177    1\n",
       "Name: count, Length: 1758, dtype: int64"
      ]
     },
     "metadata": {},
     "output_type": "display_data"
    },
    {
     "name": "stdout",
     "output_type": "stream",
     "text": [
      "\n",
      "\n"
     ]
    },
    {
     "data": {
      "text/plain": [
       "ackr3\n",
       " 0.5523    3\n",
       "-0.5408    3\n",
       "-0.1581    3\n",
       "-0.1299    3\n",
       " 0.2116    3\n",
       "          ..\n",
       "-1.1882    1\n",
       " 0.5057    1\n",
       "-1.1416    1\n",
       "-0.7129    1\n",
       " 1.9395    1\n",
       "Name: count, Length: 1775, dtype: int64"
      ]
     },
     "metadata": {},
     "output_type": "display_data"
    },
    {
     "name": "stdout",
     "output_type": "stream",
     "text": [
      "\n",
      "\n"
     ]
    },
    {
     "data": {
      "text/plain": [
       "akr1c1\n",
       "-0.2687    2\n",
       "-0.3362    2\n",
       "-0.5315    2\n",
       "-0.1148    2\n",
       "-1.1689    2\n",
       "          ..\n",
       " 0.0391    1\n",
       "-1.4457    1\n",
       " 1.1953    1\n",
       " 0.5711    1\n",
       " 1.1264    1\n",
       "Name: count, Length: 1853, dtype: int64"
      ]
     },
     "metadata": {},
     "output_type": "display_data"
    },
    {
     "name": "stdout",
     "output_type": "stream",
     "text": [
      "\n",
      "\n"
     ]
    },
    {
     "data": {
      "text/plain": [
       "akr1c2\n",
       "-0.7526    3\n",
       " 0.5736    2\n",
       "-0.4398    2\n",
       "-0.7945    2\n",
       "-1.1703    2\n",
       "          ..\n",
       "-0.4171    1\n",
       " 3.9065    1\n",
       "-0.0788    1\n",
       " 0.4137    1\n",
       " 3.4442    1\n",
       "Name: count, Length: 1840, dtype: int64"
      ]
     },
     "metadata": {},
     "output_type": "display_data"
    },
    {
     "name": "stdout",
     "output_type": "stream",
     "text": [
      "\n",
      "\n"
     ]
    },
    {
     "data": {
      "text/plain": [
       "akr1c3\n",
       "-0.4293    4\n",
       " 0.7797    3\n",
       "-1.2364    3\n",
       "-0.7939    3\n",
       "-0.4218    3\n",
       "          ..\n",
       " 0.2026    1\n",
       "-0.2041    1\n",
       "-0.8045    1\n",
       " 2.1687    1\n",
       "-1.5525    1\n",
       "Name: count, Length: 1780, dtype: int64"
      ]
     },
     "metadata": {},
     "output_type": "display_data"
    },
    {
     "name": "stdout",
     "output_type": "stream",
     "text": [
      "\n",
      "\n"
     ]
    },
    {
     "data": {
      "text/plain": [
       "akr1c4\n",
       "-0.2120    3\n",
       "-0.8711    2\n",
       "-0.4853    2\n",
       "-0.1669    2\n",
       " 0.2448    2\n",
       "          ..\n",
       " 0.3090    1\n",
       "-0.5151    1\n",
       " 4.7263    1\n",
       "-0.5772    1\n",
       "-1.0265    1\n",
       "Name: count, Length: 1843, dtype: int64"
      ]
     },
     "metadata": {},
     "output_type": "display_data"
    },
    {
     "name": "stdout",
     "output_type": "stream",
     "text": [
      "\n",
      "\n"
     ]
    },
    {
     "data": {
      "text/plain": [
       "akt3\n",
       " 0.2949    3\n",
       " 0.5906    3\n",
       " 0.0537    3\n",
       " 0.3124    3\n",
       "-1.0288    2\n",
       "          ..\n",
       " 1.7585    1\n",
       " 0.1043    1\n",
       "-0.9882    1\n",
       "-0.0838    1\n",
       " 0.7053    1\n",
       "Name: count, Length: 1830, dtype: int64"
      ]
     },
     "metadata": {},
     "output_type": "display_data"
    },
    {
     "name": "stdout",
     "output_type": "stream",
     "text": [
      "\n",
      "\n"
     ]
    },
    {
     "data": {
      "text/plain": [
       "ar\n",
       " 0.6590    3\n",
       "-0.0300    3\n",
       " 1.1536    2\n",
       "-0.4153    2\n",
       "-0.0929    2\n",
       "          ..\n",
       "-0.1250    1\n",
       " 1.7153    1\n",
       "-0.2300    1\n",
       " 0.6426    1\n",
       " 0.2559    1\n",
       "Name: count, Length: 1853, dtype: int64"
      ]
     },
     "metadata": {},
     "output_type": "display_data"
    },
    {
     "name": "stdout",
     "output_type": "stream",
     "text": [
      "\n",
      "\n"
     ]
    },
    {
     "data": {
      "text/plain": [
       "bche\n",
       " 0.0854    3\n",
       "-0.1564    3\n",
       "-0.4167    3\n",
       "-0.2700    3\n",
       "-0.1053    3\n",
       "          ..\n",
       "-0.5706    1\n",
       " 0.4251    1\n",
       "-0.4838    1\n",
       "-0.7156    1\n",
       "-0.1902    1\n",
       "Name: count, Length: 1771, dtype: int64"
      ]
     },
     "metadata": {},
     "output_type": "display_data"
    },
    {
     "name": "stdout",
     "output_type": "stream",
     "text": [
      "\n",
      "\n"
     ]
    },
    {
     "data": {
      "text/plain": [
       "cdk8\n",
       " 0.4590    3\n",
       " 0.6514    2\n",
       " 0.8985    2\n",
       "-1.4038    2\n",
       "-0.7146    2\n",
       "          ..\n",
       "-1.3881    1\n",
       " 0.9323    1\n",
       "-0.3143    1\n",
       "-1.2726    1\n",
       " 0.5619    1\n",
       "Name: count, Length: 1862, dtype: int64"
      ]
     },
     "metadata": {},
     "output_type": "display_data"
    },
    {
     "name": "stdout",
     "output_type": "stream",
     "text": [
      "\n",
      "\n"
     ]
    },
    {
     "data": {
      "text/plain": [
       "cdkn2c\n",
       " 0.0169    3\n",
       "-0.0523    3\n",
       " 0.1701    3\n",
       "-0.4452    3\n",
       "-0.6835    2\n",
       "          ..\n",
       " 0.3676    1\n",
       " 0.7031    1\n",
       "-0.6451    1\n",
       " 1.0524    1\n",
       " 3.4664    1\n",
       "Name: count, Length: 1832, dtype: int64"
      ]
     },
     "metadata": {},
     "output_type": "display_data"
    },
    {
     "name": "stdout",
     "output_type": "stream",
     "text": [
      "\n",
      "\n"
     ]
    },
    {
     "data": {
      "text/plain": [
       "cyb5a\n",
       " 0.2182    2\n",
       " 0.2598    2\n",
       " 0.1295    2\n",
       " 0.5639    2\n",
       " 0.7578    2\n",
       "          ..\n",
       " 0.4530    1\n",
       "-0.0581    1\n",
       " 0.7703    1\n",
       " 0.4559    1\n",
       "-0.6110    1\n",
       "Name: count, Length: 1846, dtype: int64"
      ]
     },
     "metadata": {},
     "output_type": "display_data"
    },
    {
     "name": "stdout",
     "output_type": "stream",
     "text": [
      "\n",
      "\n"
     ]
    },
    {
     "data": {
      "text/plain": [
       "cyp11a1\n",
       "-0.3546    5\n",
       "-0.3564    3\n",
       "-0.7406    3\n",
       " 1.0304    3\n",
       "-0.5707    3\n",
       "          ..\n",
       "-0.2692    1\n",
       "-0.3715    1\n",
       "-0.9359    1\n",
       "-0.3204    1\n",
       "-0.4617    1\n",
       "Name: count, Length: 1758, dtype: int64"
      ]
     },
     "metadata": {},
     "output_type": "display_data"
    },
    {
     "name": "stdout",
     "output_type": "stream",
     "text": [
      "\n",
      "\n"
     ]
    },
    {
     "data": {
      "text/plain": [
       "cyp11b2\n",
       "-0.1640    3\n",
       "-1.0250    3\n",
       "-0.5097    3\n",
       "-0.3935    3\n",
       " 0.5606    3\n",
       "          ..\n",
       "-0.5058    1\n",
       "-1.0135    1\n",
       "-0.7836    1\n",
       "-1.3045    1\n",
       " 0.3739    1\n",
       "Name: count, Length: 1811, dtype: int64"
      ]
     },
     "metadata": {},
     "output_type": "display_data"
    },
    {
     "name": "stdout",
     "output_type": "stream",
     "text": [
      "\n",
      "\n"
     ]
    },
    {
     "data": {
      "text/plain": [
       "cyp17a1\n",
       " 0.0279    3\n",
       "-0.9402    3\n",
       " 0.0717    2\n",
       "-0.5289    2\n",
       "-0.2728    2\n",
       "          ..\n",
       "-0.1952    1\n",
       " 1.3018    1\n",
       " 0.8970    1\n",
       "-1.1499    1\n",
       "-0.6769    1\n",
       "Name: count, Length: 1849, dtype: int64"
      ]
     },
     "metadata": {},
     "output_type": "display_data"
    },
    {
     "name": "stdout",
     "output_type": "stream",
     "text": [
      "\n",
      "\n"
     ]
    },
    {
     "data": {
      "text/plain": [
       "cyp19a1\n",
       " 0.6270    2\n",
       "-0.0122    2\n",
       " 1.0054    2\n",
       " 0.5565    2\n",
       "-0.7245    2\n",
       "          ..\n",
       "-0.9329    1\n",
       "-0.2248    1\n",
       " 0.4514    1\n",
       "-0.8722    1\n",
       "-0.0929    1\n",
       "Name: count, Length: 1848, dtype: int64"
      ]
     },
     "metadata": {},
     "output_type": "display_data"
    },
    {
     "name": "stdout",
     "output_type": "stream",
     "text": [
      "\n",
      "\n"
     ]
    },
    {
     "data": {
      "text/plain": [
       "cyp21a2\n",
       "-0.8447    3\n",
       " 0.8190    3\n",
       " 0.8185    3\n",
       "-0.6381    3\n",
       "-0.2533    3\n",
       "          ..\n",
       " 1.0389    1\n",
       " 0.5214    1\n",
       "-0.9635    1\n",
       " 0.3641    1\n",
       " 1.7520    1\n",
       "Name: count, Length: 1829, dtype: int64"
      ]
     },
     "metadata": {},
     "output_type": "display_data"
    },
    {
     "name": "stdout",
     "output_type": "stream",
     "text": [
      "\n",
      "\n"
     ]
    },
    {
     "data": {
      "text/plain": [
       "cyp3a43\n",
       "-0.2850    4\n",
       "-0.3096    3\n",
       " 0.4234    2\n",
       "-0.2014    2\n",
       "-1.0849    2\n",
       "          ..\n",
       " 1.1678    1\n",
       " 0.7189    1\n",
       "-0.1954    1\n",
       " 0.7257    1\n",
       "-0.4805    1\n",
       "Name: count, Length: 1828, dtype: int64"
      ]
     },
     "metadata": {},
     "output_type": "display_data"
    },
    {
     "name": "stdout",
     "output_type": "stream",
     "text": [
      "\n",
      "\n"
     ]
    },
    {
     "data": {
      "text/plain": [
       "cyp3a5\n",
       "-0.0215    2\n",
       " 0.3046    2\n",
       " 0.1433    2\n",
       " 0.3590    2\n",
       " 0.4652    2\n",
       "          ..\n",
       "-0.3986    1\n",
       " 0.0343    1\n",
       " 0.2887    1\n",
       "-0.5430    1\n",
       "-0.4545    1\n",
       "Name: count, Length: 1832, dtype: int64"
      ]
     },
     "metadata": {},
     "output_type": "display_data"
    },
    {
     "name": "stdout",
     "output_type": "stream",
     "text": [
      "\n",
      "\n"
     ]
    },
    {
     "data": {
      "text/plain": [
       "cyp3a7\n",
       " 0.0098    3\n",
       "-0.7049    2\n",
       " 0.0128    2\n",
       " 0.0198    2\n",
       " 0.0777    2\n",
       "          ..\n",
       " 0.0511    1\n",
       " 0.2084    1\n",
       " 0.2828    1\n",
       " 1.0914    1\n",
       " 1.9106    1\n",
       "Name: count, Length: 1853, dtype: int64"
      ]
     },
     "metadata": {},
     "output_type": "display_data"
    },
    {
     "name": "stdout",
     "output_type": "stream",
     "text": [
      "\n",
      "\n"
     ]
    },
    {
     "data": {
      "text/plain": [
       "ddc\n",
       "-0.4746    3\n",
       "-0.4638    3\n",
       "-0.1420    3\n",
       "-0.4426    3\n",
       "-0.2483    3\n",
       "          ..\n",
       "-0.3958    1\n",
       "-0.5615    1\n",
       " 0.0835    1\n",
       "-0.3028    1\n",
       " 1.4152    1\n",
       "Name: count, Length: 1740, dtype: int64"
      ]
     },
     "metadata": {},
     "output_type": "display_data"
    },
    {
     "name": "stdout",
     "output_type": "stream",
     "text": [
      "\n",
      "\n"
     ]
    },
    {
     "data": {
      "text/plain": [
       "hes6\n",
       "-0.7879    4\n",
       "-0.4589    3\n",
       "-0.6704    3\n",
       "-0.3729    3\n",
       "-0.2537    3\n",
       "          ..\n",
       "-1.4316    1\n",
       " 0.2636    1\n",
       "-0.4471    1\n",
       "-0.0961    1\n",
       "-0.8010    1\n",
       "Name: count, Length: 1806, dtype: int64"
      ]
     },
     "metadata": {},
     "output_type": "display_data"
    },
    {
     "name": "stdout",
     "output_type": "stream",
     "text": [
      "\n",
      "\n"
     ]
    },
    {
     "data": {
      "text/plain": [
       "hsd17b1\n",
       " 0.4437    3\n",
       "-0.2627    2\n",
       "-0.3652    2\n",
       "-0.0687    2\n",
       " 0.4733    2\n",
       "          ..\n",
       "-0.4399    1\n",
       " 0.0690    1\n",
       "-0.0369    1\n",
       " 0.7927    1\n",
       " 3.0639    1\n",
       "Name: count, Length: 1827, dtype: int64"
      ]
     },
     "metadata": {},
     "output_type": "display_data"
    },
    {
     "name": "stdout",
     "output_type": "stream",
     "text": [
      "\n",
      "\n"
     ]
    },
    {
     "data": {
      "text/plain": [
       "hsd17b10\n",
       " 0.3124    3\n",
       " 0.1016    2\n",
       "-0.9059    2\n",
       " 0.7390    2\n",
       "-0.5984    2\n",
       "          ..\n",
       "-1.1368    1\n",
       " 0.9047    1\n",
       "-0.7209    1\n",
       " 0.7033    1\n",
       " 2.4569    1\n",
       "Name: count, Length: 1865, dtype: int64"
      ]
     },
     "metadata": {},
     "output_type": "display_data"
    },
    {
     "name": "stdout",
     "output_type": "stream",
     "text": [
      "\n",
      "\n"
     ]
    },
    {
     "data": {
      "text/plain": [
       "hsd17b11\n",
       " 0.2456    3\n",
       "-0.8336    3\n",
       " 0.5225    3\n",
       " 0.5129    3\n",
       " 0.4889    3\n",
       "          ..\n",
       "-0.3513    1\n",
       " 0.5460    1\n",
       "-0.2903    1\n",
       "-1.4725    1\n",
       "-0.6275    1\n",
       "Name: count, Length: 1809, dtype: int64"
      ]
     },
     "metadata": {},
     "output_type": "display_data"
    },
    {
     "name": "stdout",
     "output_type": "stream",
     "text": [
      "\n",
      "\n"
     ]
    },
    {
     "data": {
      "text/plain": [
       "hsd17b12\n",
       "-0.2971    2\n",
       "-0.4926    2\n",
       "-0.0837    2\n",
       "-0.3888    2\n",
       "-0.3162    2\n",
       "          ..\n",
       " 0.4861    1\n",
       "-0.4030    1\n",
       " 0.8226    1\n",
       "-1.3944    1\n",
       " 1.7409    1\n",
       "Name: count, Length: 1855, dtype: int64"
      ]
     },
     "metadata": {},
     "output_type": "display_data"
    },
    {
     "name": "stdout",
     "output_type": "stream",
     "text": [
      "\n",
      "\n"
     ]
    },
    {
     "data": {
      "text/plain": [
       "hsd17b13\n",
       "-0.7686    3\n",
       " 0.0918    3\n",
       " 0.0073    3\n",
       "-0.5752    3\n",
       "-0.0291    2\n",
       "          ..\n",
       "-0.0943    1\n",
       " 1.5355    1\n",
       " 8.8731    1\n",
       "-0.6826    1\n",
       " 0.4674    1\n",
       "Name: count, Length: 1830, dtype: int64"
      ]
     },
     "metadata": {},
     "output_type": "display_data"
    },
    {
     "name": "stdout",
     "output_type": "stream",
     "text": [
      "\n",
      "\n"
     ]
    },
    {
     "data": {
      "text/plain": [
       "hsd17b14\n",
       "-0.8929    3\n",
       "-0.1493    3\n",
       "-1.1612    3\n",
       "-0.9989    3\n",
       " 1.2275    3\n",
       "          ..\n",
       " 0.7590    1\n",
       "-0.6494    1\n",
       " 0.7706    1\n",
       " 0.1711    1\n",
       "-1.3155    1\n",
       "Name: count, Length: 1775, dtype: int64"
      ]
     },
     "metadata": {},
     "output_type": "display_data"
    },
    {
     "name": "stdout",
     "output_type": "stream",
     "text": [
      "\n",
      "\n"
     ]
    },
    {
     "data": {
      "text/plain": [
       "hsd17b2\n",
       "-0.3555    4\n",
       "-0.8539    3\n",
       "-0.6083    3\n",
       "-0.7178    3\n",
       "-0.5116    3\n",
       "          ..\n",
       " 0.5702    1\n",
       "-0.4257    1\n",
       "-0.5562    1\n",
       "-0.5624    1\n",
       "-0.3444    1\n",
       "Name: count, Length: 1796, dtype: int64"
      ]
     },
     "metadata": {},
     "output_type": "display_data"
    },
    {
     "name": "stdout",
     "output_type": "stream",
     "text": [
      "\n",
      "\n"
     ]
    },
    {
     "data": {
      "text/plain": [
       "hsd17b3\n",
       "-0.0941    3\n",
       " 0.6689    2\n",
       " 0.3862    2\n",
       "-0.2049    2\n",
       " 0.7454    2\n",
       "          ..\n",
       " 0.4051    1\n",
       "-0.8448    1\n",
       " 0.9907    1\n",
       "-0.5658    1\n",
       "-0.0511    1\n",
       "Name: count, Length: 1833, dtype: int64"
      ]
     },
     "metadata": {},
     "output_type": "display_data"
    },
    {
     "name": "stdout",
     "output_type": "stream",
     "text": [
      "\n",
      "\n"
     ]
    },
    {
     "data": {
      "text/plain": [
       "hsd17b4\n",
       "-0.4665    2\n",
       "-0.1593    2\n",
       " 0.0062    2\n",
       " 1.0624    2\n",
       " 0.1167    2\n",
       "          ..\n",
       "-1.3992    1\n",
       "-0.5038    1\n",
       " 0.8660    1\n",
       " 0.5512    1\n",
       "-1.2693    1\n",
       "Name: count, Length: 1861, dtype: int64"
      ]
     },
     "metadata": {},
     "output_type": "display_data"
    },
    {
     "name": "stdout",
     "output_type": "stream",
     "text": [
      "\n",
      "\n"
     ]
    },
    {
     "data": {
      "text/plain": [
       "hsd17b6\n",
       "-0.3486    3\n",
       "-0.8018    3\n",
       "-0.1664    3\n",
       " 0.4466    3\n",
       "-1.0402    3\n",
       "          ..\n",
       "-1.0629    1\n",
       " 0.2640    1\n",
       "-1.4668    1\n",
       "-0.0347    1\n",
       "-1.1310    1\n",
       "Name: count, Length: 1813, dtype: int64"
      ]
     },
     "metadata": {},
     "output_type": "display_data"
    },
    {
     "name": "stdout",
     "output_type": "stream",
     "text": [
      "\n",
      "\n"
     ]
    },
    {
     "data": {
      "text/plain": [
       "hsd17b7\n",
       "-0.2751    3\n",
       " 0.0458    3\n",
       " 0.6271    3\n",
       "-0.7227    2\n",
       "-0.6312    2\n",
       "          ..\n",
       "-0.7591    1\n",
       "-0.7505    1\n",
       "-0.2299    1\n",
       " 1.6860    1\n",
       "-1.5656    1\n",
       "Name: count, Length: 1851, dtype: int64"
      ]
     },
     "metadata": {},
     "output_type": "display_data"
    },
    {
     "name": "stdout",
     "output_type": "stream",
     "text": [
      "\n",
      "\n"
     ]
    },
    {
     "data": {
      "text/plain": [
       "hsd17b8\n",
       "-0.2351    2\n",
       " 0.3111    2\n",
       " 0.3718    2\n",
       " 0.2398    2\n",
       "-0.0705    2\n",
       "          ..\n",
       " 0.6205    1\n",
       " 1.1394    1\n",
       "-0.4507    1\n",
       " 0.9370    1\n",
       " 0.9888    1\n",
       "Name: count, Length: 1849, dtype: int64"
      ]
     },
     "metadata": {},
     "output_type": "display_data"
    },
    {
     "name": "stdout",
     "output_type": "stream",
     "text": [
      "\n",
      "\n"
     ]
    },
    {
     "data": {
      "text/plain": [
       "hsd3b1\n",
       "-0.5501    3\n",
       " 0.6054    2\n",
       " 0.1803    2\n",
       "-0.4156    2\n",
       "-0.1175    2\n",
       "          ..\n",
       "-0.0816    1\n",
       " 1.4142    1\n",
       "-0.4421    1\n",
       "-1.4536    1\n",
       " 0.1320    1\n",
       "Name: count, Length: 1846, dtype: int64"
      ]
     },
     "metadata": {},
     "output_type": "display_data"
    },
    {
     "name": "stdout",
     "output_type": "stream",
     "text": [
      "\n",
      "\n"
     ]
    },
    {
     "data": {
      "text/plain": [
       "hsd3b2\n",
       " 0.1736    3\n",
       "-0.3339    3\n",
       "-0.8212    2\n",
       "-0.2562    2\n",
       "-2.1607    2\n",
       "          ..\n",
       "-2.0459    1\n",
       " 0.8331    1\n",
       "-0.9145    1\n",
       " 0.2811    1\n",
       " 1.8754    1\n",
       "Name: count, Length: 1814, dtype: int64"
      ]
     },
     "metadata": {},
     "output_type": "display_data"
    },
    {
     "name": "stdout",
     "output_type": "stream",
     "text": [
      "\n",
      "\n"
     ]
    },
    {
     "data": {
      "text/plain": [
       "hsd3b7\n",
       " 0.2241    3\n",
       "-0.2510    3\n",
       "-0.7015    3\n",
       "-0.9379    3\n",
       "-0.2293    3\n",
       "          ..\n",
       "-0.4801    1\n",
       "-0.9899    1\n",
       " 0.0705    1\n",
       "-1.2995    1\n",
       " 0.3730    1\n",
       "Name: count, Length: 1773, dtype: int64"
      ]
     },
     "metadata": {},
     "output_type": "display_data"
    },
    {
     "name": "stdout",
     "output_type": "stream",
     "text": [
      "\n",
      "\n"
     ]
    },
    {
     "data": {
      "text/plain": [
       "mecom\n",
       "-0.4608    3\n",
       " 0.2825    3\n",
       " 0.1498    3\n",
       "-0.6926    3\n",
       "-0.5474    3\n",
       "          ..\n",
       " 1.5743    1\n",
       " 1.9440    1\n",
       "-0.3873    1\n",
       "-0.3078    1\n",
       " 1.1211    1\n",
       "Name: count, Length: 1777, dtype: int64"
      ]
     },
     "metadata": {},
     "output_type": "display_data"
    },
    {
     "name": "stdout",
     "output_type": "stream",
     "text": [
      "\n",
      "\n"
     ]
    },
    {
     "data": {
      "text/plain": [
       "met\n",
       "-0.5763    3\n",
       " 0.0646    2\n",
       "-0.2348    2\n",
       "-0.8180    2\n",
       " 0.6160    2\n",
       "          ..\n",
       " 1.3614    1\n",
       "-1.0450    1\n",
       "-0.8373    1\n",
       "-1.0191    1\n",
       " 0.1674    1\n",
       "Name: count, Length: 1823, dtype: int64"
      ]
     },
     "metadata": {},
     "output_type": "display_data"
    },
    {
     "name": "stdout",
     "output_type": "stream",
     "text": [
      "\n",
      "\n"
     ]
    },
    {
     "data": {
      "text/plain": [
       "ncoa2\n",
       " 0.1881    4\n",
       " 1.5090    3\n",
       " 0.3885    3\n",
       "-0.0472    3\n",
       " 0.9907    3\n",
       "          ..\n",
       "-0.0743    1\n",
       "-0.8998    1\n",
       "-0.4020    1\n",
       "-0.4616    1\n",
       "-0.0442    1\n",
       "Name: count, Length: 1806, dtype: int64"
      ]
     },
     "metadata": {},
     "output_type": "display_data"
    },
    {
     "name": "stdout",
     "output_type": "stream",
     "text": [
      "\n",
      "\n"
     ]
    },
    {
     "data": {
      "text/plain": [
       "nrip1\n",
       "-0.4745    4\n",
       " 1.3803    4\n",
       "-0.2920    4\n",
       "-0.1392    3\n",
       "-0.0832    3\n",
       "          ..\n",
       " 1.3275    1\n",
       " 0.7751    1\n",
       " 0.4651    1\n",
       "-0.7033    1\n",
       " 0.6354    1\n",
       "Name: count, Length: 1686, dtype: int64"
      ]
     },
     "metadata": {},
     "output_type": "display_data"
    },
    {
     "name": "stdout",
     "output_type": "stream",
     "text": [
      "\n",
      "\n"
     ]
    },
    {
     "data": {
      "text/plain": [
       "pik3r3\n",
       "-0.5957    3\n",
       " 0.2983    3\n",
       " 0.1889    3\n",
       "-0.4081    3\n",
       " 1.0748    3\n",
       "          ..\n",
       " 0.1750    1\n",
       " 0.4366    1\n",
       " 1.3432    1\n",
       " 0.7128    1\n",
       "-0.8232    1\n",
       "Name: count, Length: 1780, dtype: int64"
      ]
     },
     "metadata": {},
     "output_type": "display_data"
    },
    {
     "name": "stdout",
     "output_type": "stream",
     "text": [
      "\n",
      "\n"
     ]
    },
    {
     "data": {
      "text/plain": [
       "prkci\n",
       " 0.2471    3\n",
       " 0.5363    2\n",
       "-1.3560    2\n",
       "-0.0812    2\n",
       "-0.7614    2\n",
       "          ..\n",
       " 1.2158    1\n",
       " 0.0917    1\n",
       "-0.7925    1\n",
       "-0.7889    1\n",
       " 1.3255    1\n",
       "Name: count, Length: 1849, dtype: int64"
      ]
     },
     "metadata": {},
     "output_type": "display_data"
    },
    {
     "name": "stdout",
     "output_type": "stream",
     "text": [
      "\n",
      "\n"
     ]
    },
    {
     "data": {
      "text/plain": [
       "prkd1\n",
       " 0.7718    4\n",
       " 1.0665    3\n",
       "-0.7502    3\n",
       "-0.0859    3\n",
       " 0.4229    2\n",
       "          ..\n",
       "-1.2325    1\n",
       "-1.7350    1\n",
       " 0.5054    1\n",
       "-0.4272    1\n",
       " 0.1564    1\n",
       "Name: count, Length: 1805, dtype: int64"
      ]
     },
     "metadata": {},
     "output_type": "display_data"
    },
    {
     "name": "stdout",
     "output_type": "stream",
     "text": [
      "\n",
      "\n"
     ]
    },
    {
     "data": {
      "text/plain": [
       "ran\n",
       "-0.0119    3\n",
       " 0.3926    2\n",
       "-1.2944    2\n",
       " 0.8396    2\n",
       " 1.6116    2\n",
       "          ..\n",
       "-0.4053    1\n",
       " 0.8457    1\n",
       "-0.0256    1\n",
       "-0.9587    1\n",
       "-2.4204    1\n",
       "Name: count, Length: 1849, dtype: int64"
      ]
     },
     "metadata": {},
     "output_type": "display_data"
    },
    {
     "name": "stdout",
     "output_type": "stream",
     "text": [
      "\n",
      "\n"
     ]
    },
    {
     "data": {
      "text/plain": [
       "rdh5\n",
       "-0.6603    3\n",
       "-0.7423    3\n",
       "-0.5606    2\n",
       "-0.1129    2\n",
       " 0.3542    2\n",
       "          ..\n",
       " 0.3280    1\n",
       "-0.8737    1\n",
       " 0.4157    1\n",
       "-0.2795    1\n",
       "-1.0118    1\n",
       "Name: count, Length: 1837, dtype: int64"
      ]
     },
     "metadata": {},
     "output_type": "display_data"
    },
    {
     "name": "stdout",
     "output_type": "stream",
     "text": [
      "\n",
      "\n"
     ]
    },
    {
     "data": {
      "text/plain": [
       "sdc4\n",
       " 0.5278    3\n",
       "-0.2405    3\n",
       "-0.8957    2\n",
       " 0.5462    2\n",
       " 0.5783    2\n",
       "          ..\n",
       "-1.5347    1\n",
       " 0.0817    1\n",
       " 1.1601    1\n",
       " 1.0883    1\n",
       "-0.7629    1\n",
       "Name: count, Length: 1856, dtype: int64"
      ]
     },
     "metadata": {},
     "output_type": "display_data"
    },
    {
     "name": "stdout",
     "output_type": "stream",
     "text": [
      "\n",
      "\n"
     ]
    },
    {
     "data": {
      "text/plain": [
       "serpini1\n",
       "-0.3056    4\n",
       "-0.5940    4\n",
       "-0.2156    3\n",
       "-0.5794    3\n",
       " 1.3699    3\n",
       "          ..\n",
       "-0.3107    1\n",
       "-0.0384    1\n",
       "-0.2590    1\n",
       " 0.4241    1\n",
       " 0.7382    1\n",
       "Name: count, Length: 1810, dtype: int64"
      ]
     },
     "metadata": {},
     "output_type": "display_data"
    },
    {
     "name": "stdout",
     "output_type": "stream",
     "text": [
      "\n",
      "\n"
     ]
    },
    {
     "data": {
      "text/plain": [
       "shbg\n",
       "-0.4459    3\n",
       " 0.4443    3\n",
       "-0.0278    2\n",
       "-0.9033    2\n",
       "-0.5091    2\n",
       "          ..\n",
       " 0.1788    1\n",
       "-0.9430    1\n",
       " 1.7214    1\n",
       " 0.9248    1\n",
       "-1.3100    1\n",
       "Name: count, Length: 1827, dtype: int64"
      ]
     },
     "metadata": {},
     "output_type": "display_data"
    },
    {
     "name": "stdout",
     "output_type": "stream",
     "text": [
      "\n",
      "\n"
     ]
    },
    {
     "data": {
      "text/plain": [
       "slc29a1\n",
       " 0.7604    3\n",
       "-1.1618    3\n",
       "-1.2708    3\n",
       "-0.1538    3\n",
       " 0.5399    3\n",
       "          ..\n",
       " 0.0678    1\n",
       "-0.4579    1\n",
       "-0.5992    1\n",
       "-3.7262    1\n",
       "-0.2706    1\n",
       "Name: count, Length: 1748, dtype: int64"
      ]
     },
     "metadata": {},
     "output_type": "display_data"
    },
    {
     "name": "stdout",
     "output_type": "stream",
     "text": [
      "\n",
      "\n"
     ]
    },
    {
     "data": {
      "text/plain": [
       "sox9\n",
       "0.2459    3\n",
       "1.1993    3\n",
       "1.0325    3\n",
       "0.4827    3\n",
       "0.4822    3\n",
       "         ..\n",
       "1.4322    1\n",
       "1.1850    1\n",
       "0.9543    1\n",
       "0.7475    1\n",
       "1.2473    1\n",
       "Name: count, Length: 1795, dtype: int64"
      ]
     },
     "metadata": {},
     "output_type": "display_data"
    },
    {
     "name": "stdout",
     "output_type": "stream",
     "text": [
      "\n",
      "\n"
     ]
    },
    {
     "data": {
      "text/plain": [
       "spry2\n",
       "-0.6125    3\n",
       " 0.1826    3\n",
       "-0.8610    3\n",
       "-1.3394    2\n",
       "-0.2062    2\n",
       "          ..\n",
       "-0.9346    1\n",
       "-0.5941    1\n",
       "-0.4553    1\n",
       "-0.8165    1\n",
       " 2.4064    1\n",
       "Name: count, Length: 1800, dtype: int64"
      ]
     },
     "metadata": {},
     "output_type": "display_data"
    },
    {
     "name": "stdout",
     "output_type": "stream",
     "text": [
      "\n",
      "\n"
     ]
    },
    {
     "data": {
      "text/plain": [
       "srd5a1\n",
       "-0.1760    3\n",
       "-0.3766    3\n",
       "-0.1650    2\n",
       "-0.2298    2\n",
       "-0.8761    2\n",
       "          ..\n",
       "-0.4793    1\n",
       "-0.5901    1\n",
       "-0.3569    1\n",
       " 0.6487    1\n",
       "-1.1877    1\n",
       "Name: count, Length: 1839, dtype: int64"
      ]
     },
     "metadata": {},
     "output_type": "display_data"
    },
    {
     "name": "stdout",
     "output_type": "stream",
     "text": [
      "\n",
      "\n"
     ]
    },
    {
     "data": {
      "text/plain": [
       "srd5a2\n",
       "-0.5242    3\n",
       " 0.4534    3\n",
       "-0.1907    3\n",
       " 0.0727    3\n",
       "-0.1985    2\n",
       "          ..\n",
       " 1.3122    1\n",
       "-0.3396    1\n",
       "-0.6755    1\n",
       "-0.2174    1\n",
       " 0.8299    1\n",
       "Name: count, Length: 1836, dtype: int64"
      ]
     },
     "metadata": {},
     "output_type": "display_data"
    },
    {
     "name": "stdout",
     "output_type": "stream",
     "text": [
      "\n",
      "\n"
     ]
    },
    {
     "data": {
      "text/plain": [
       "srd5a3\n",
       " 0.0360    3\n",
       "-0.4182    3\n",
       " 0.2461    3\n",
       " 0.2840    2\n",
       "-0.1851    2\n",
       "          ..\n",
       " 0.0014    1\n",
       "-0.0297    1\n",
       "-0.7172    1\n",
       "-0.5869    1\n",
       "-0.3156    1\n",
       "Name: count, Length: 1796, dtype: int64"
      ]
     },
     "metadata": {},
     "output_type": "display_data"
    },
    {
     "name": "stdout",
     "output_type": "stream",
     "text": [
      "\n",
      "\n"
     ]
    },
    {
     "data": {
      "text/plain": [
       "st7\n",
       "-0.0235    3\n",
       " 0.2358    2\n",
       "-0.4423    2\n",
       " 0.9538    2\n",
       " 2.3003    2\n",
       "          ..\n",
       " 2.0668    1\n",
       " 0.8978    1\n",
       " 1.0608    1\n",
       " 0.1880    1\n",
       " 0.8828    1\n",
       "Name: count, Length: 1854, dtype: int64"
      ]
     },
     "metadata": {},
     "output_type": "display_data"
    },
    {
     "name": "stdout",
     "output_type": "stream",
     "text": [
      "\n",
      "\n"
     ]
    },
    {
     "data": {
      "text/plain": [
       "star\n",
       " 0.0404    3\n",
       "-0.4667    2\n",
       "-0.8882    2\n",
       " 0.3998    2\n",
       " 0.2151    2\n",
       "          ..\n",
       " 0.0005    1\n",
       " 0.9297    1\n",
       "-0.2620    1\n",
       " 0.1695    1\n",
       "-0.2302    1\n",
       "Name: count, Length: 1847, dtype: int64"
      ]
     },
     "metadata": {},
     "output_type": "display_data"
    },
    {
     "name": "stdout",
     "output_type": "stream",
     "text": [
      "\n",
      "\n"
     ]
    },
    {
     "data": {
      "text/plain": [
       "tnk2\n",
       " 0.9976    4\n",
       "-0.4910    4\n",
       " 0.4222    4\n",
       "-0.7088    3\n",
       "-0.2607    3\n",
       "          ..\n",
       "-0.4272    1\n",
       "-0.6861    1\n",
       "-0.9008    1\n",
       "-0.6899    1\n",
       " 0.9121    1\n",
       "Name: count, Length: 1669, dtype: int64"
      ]
     },
     "metadata": {},
     "output_type": "display_data"
    },
    {
     "name": "stdout",
     "output_type": "stream",
     "text": [
      "\n",
      "\n"
     ]
    },
    {
     "data": {
      "text/plain": [
       "tulp4\n",
       "-0.4377    4\n",
       "-0.0026    4\n",
       " 0.5257    4\n",
       " 0.6805    4\n",
       "-0.7068    3\n",
       "          ..\n",
       " 2.6430    1\n",
       "-1.4887    1\n",
       "-2.0675    1\n",
       "-1.2704    1\n",
       "-0.5036    1\n",
       "Name: count, Length: 1714, dtype: int64"
      ]
     },
     "metadata": {},
     "output_type": "display_data"
    },
    {
     "name": "stdout",
     "output_type": "stream",
     "text": [
      "\n",
      "\n"
     ]
    },
    {
     "data": {
      "text/plain": [
       "ugt2b15\n",
       "-0.3290    3\n",
       "-0.4949    3\n",
       "-0.1737    3\n",
       "-0.7146    2\n",
       "-0.7073    2\n",
       "          ..\n",
       "-0.5056    1\n",
       " 0.1557    1\n",
       "-0.6575    1\n",
       " 1.6405    1\n",
       " 1.3470    1\n",
       "Name: count, Length: 1794, dtype: int64"
      ]
     },
     "metadata": {},
     "output_type": "display_data"
    },
    {
     "name": "stdout",
     "output_type": "stream",
     "text": [
      "\n",
      "\n"
     ]
    },
    {
     "data": {
      "text/plain": [
       "ugt2b17\n",
       "-0.4039    5\n",
       "-0.4519    3\n",
       " 0.3605    3\n",
       "-0.4643    3\n",
       "-0.8262    3\n",
       "          ..\n",
       "-0.8307    1\n",
       " 0.2615    1\n",
       " 1.0192    1\n",
       "-0.1071    1\n",
       "-1.0515    1\n",
       "Name: count, Length: 1785, dtype: int64"
      ]
     },
     "metadata": {},
     "output_type": "display_data"
    },
    {
     "name": "stdout",
     "output_type": "stream",
     "text": [
      "\n",
      "\n"
     ]
    },
    {
     "data": {
      "text/plain": [
       "ugt2b7\n",
       "-0.8403    3\n",
       "-0.8506    3\n",
       "-0.7032    3\n",
       "-0.7342    3\n",
       "-0.8569    3\n",
       "          ..\n",
       " 1.3061    1\n",
       "-0.7035    1\n",
       " 0.8416    1\n",
       " 0.7334    1\n",
       "-0.6895    1\n",
       "Name: count, Length: 1790, dtype: int64"
      ]
     },
     "metadata": {},
     "output_type": "display_data"
    },
    {
     "name": "stdout",
     "output_type": "stream",
     "text": [
      "\n",
      "\n"
     ]
    },
    {
     "data": {
      "text/plain": [
       "pik3ca_mut\n",
       "0               1109\n",
       "H1047R           285\n",
       "E545K            127\n",
       "E542K             72\n",
       "N345K             42\n",
       "                ... \n",
       "N345K T727K        1\n",
       "E103_V105del       1\n",
       "N345I              1\n",
       "A1035T             1\n",
       "W11C               1\n",
       "Name: count, Length: 160, dtype: int64"
      ]
     },
     "metadata": {},
     "output_type": "display_data"
    },
    {
     "name": "stdout",
     "output_type": "stream",
     "text": [
      "\n",
      "\n"
     ]
    },
    {
     "data": {
      "text/plain": [
       "tp53_mut\n",
       "0             1245\n",
       "R175H           34\n",
       "R248Q           20\n",
       "R248W           17\n",
       "R213*           15\n",
       "              ... \n",
       "K132N E62*       1\n",
       "K291*            1\n",
       "H179D            1\n",
       "P67Qfs*56        1\n",
       "I255S            1\n",
       "Name: count, Length: 343, dtype: int64"
      ]
     },
     "metadata": {},
     "output_type": "display_data"
    },
    {
     "name": "stdout",
     "output_type": "stream",
     "text": [
      "\n",
      "\n"
     ]
    },
    {
     "data": {
      "text/plain": [
       "muc16_mut\n",
       "0                1578\n",
       "L7102F              5\n",
       "T7149A              4\n",
       "D4992G              3\n",
       "V8260M              3\n",
       "                 ... \n",
       "E1761D              1\n",
       "A4577T              1\n",
       "I4280V T3821S       1\n",
       "T8057R              1\n",
       "A10542V             1\n",
       "Name: count, Length: 298, dtype: int64"
      ]
     },
     "metadata": {},
     "output_type": "display_data"
    },
    {
     "name": "stdout",
     "output_type": "stream",
     "text": [
      "\n",
      "\n"
     ]
    },
    {
     "data": {
      "text/plain": [
       "ahnak2_mut\n",
       "0         1593\n",
       "V2061L      34\n",
       "G812A        5\n",
       "E1678Q       3\n",
       "G400S        3\n",
       "          ... \n",
       "D3680E       1\n",
       "E3009K       1\n",
       "D4340N       1\n",
       "G746C        1\n",
       "V3102M       1\n",
       "Name: count, Length: 248, dtype: int64"
      ]
     },
     "metadata": {},
     "output_type": "display_data"
    },
    {
     "name": "stdout",
     "output_type": "stream",
     "text": [
      "\n",
      "\n"
     ]
    },
    {
     "data": {
      "text/plain": [
       "kmt2c_mut\n",
       "0              1670\n",
       "Q2128P            3\n",
       "H1424=            3\n",
       "P3555T            3\n",
       "M1819T            2\n",
       "               ... \n",
       "L1773Pfs*2        1\n",
       "R4139*            1\n",
       "Q2354Hfs*11       1\n",
       "P2502Lfs*13       1\n",
       "S1745Ifs*4        1\n",
       "Name: count, Length: 222, dtype: int64"
      ]
     },
     "metadata": {},
     "output_type": "display_data"
    },
    {
     "name": "stdout",
     "output_type": "stream",
     "text": [
      "\n",
      "\n"
     ]
    },
    {
     "data": {
      "text/plain": [
       "syne1_mut\n",
       "0                1672\n",
       "D4637N              7\n",
       "R1344Q I2386V       5\n",
       "D8448N              4\n",
       "G7638D              3\n",
       "                 ... \n",
       "V4706I              1\n",
       "S6062L              1\n",
       "E1193D              1\n",
       "R4997S              1\n",
       "A1216G              1\n",
       "Name: count, Length: 200, dtype: int64"
      ]
     },
     "metadata": {},
     "output_type": "display_data"
    },
    {
     "name": "stdout",
     "output_type": "stream",
     "text": [
      "\n",
      "\n"
     ]
    },
    {
     "data": {
      "text/plain": [
       "gata3_mut\n",
       "0                         1674\n",
       "X308_splice                 59\n",
       "M293K                        9\n",
       "X350_splice                  5\n",
       "D335Gfs*17                   5\n",
       "                          ... \n",
       "Y290Lfs*14                   1\n",
       "R305P                        1\n",
       "Q56*                         1\n",
       "M356Lfs*35                   1\n",
       "S404Kfs*104 L94Pfs*117       1\n",
       "Name: count, Length: 128, dtype: int64"
      ]
     },
     "metadata": {},
     "output_type": "display_data"
    },
    {
     "name": "stdout",
     "output_type": "stream",
     "text": [
      "\n",
      "\n"
     ]
    },
    {
     "data": {
      "text/plain": [
       "map3k1_mut\n",
       "0                          1706\n",
       "G102R                         2\n",
       "Q1199*                        2\n",
       "R763Cfs*35                    2\n",
       "Q700*                         2\n",
       "                           ... \n",
       "V361Dfs*23                    1\n",
       "Y1276*                        1\n",
       "H1367Sfs*12 L1006Dfs*74       1\n",
       "T542A                         1\n",
       "R1482*                        1\n",
       "Name: count, Length: 194, dtype: int64"
      ]
     },
     "metadata": {},
     "output_type": "display_data"
    },
    {
     "name": "stdout",
     "output_type": "stream",
     "text": [
      "\n",
      "\n"
     ]
    },
    {
     "data": {
      "text/plain": [
       "ahnak_mut\n",
       "0               1728\n",
       "G5496E             5\n",
       "G2655V             4\n",
       "M1982I             3\n",
       "L3100V             2\n",
       "                ... \n",
       "V4921I             1\n",
       "G365V              1\n",
       "P3957S             1\n",
       "M4131L E595G       1\n",
       "R5779C             1\n",
       "Name: count, Length: 153, dtype: int64"
      ]
     },
     "metadata": {},
     "output_type": "display_data"
    },
    {
     "name": "stdout",
     "output_type": "stream",
     "text": [
      "\n",
      "\n"
     ]
    },
    {
     "data": {
      "text/plain": [
       "dnah11_mut\n",
       "0         1729\n",
       "P4211L       6\n",
       "P232L        5\n",
       "T1428A       5\n",
       "S2963Y       4\n",
       "          ... \n",
       "H3766D       1\n",
       "Y1629H       1\n",
       "L4262P       1\n",
       "E2883*       1\n",
       "E4173K       1\n",
       "Name: count, Length: 154, dtype: int64"
      ]
     },
     "metadata": {},
     "output_type": "display_data"
    },
    {
     "name": "stdout",
     "output_type": "stream",
     "text": [
      "\n",
      "\n"
     ]
    },
    {
     "data": {
      "text/plain": [
       "cdh1_mut\n",
       "0                  1732\n",
       "Q23*                 11\n",
       "Q610*                 6\n",
       "T115Nfs*53            3\n",
       "X379_splice           3\n",
       "                   ... \n",
       "V384Gfs*3             1\n",
       "S337Ffs*12            1\n",
       "E283Tfs*4 S280A       1\n",
       "A411Gfs*8             1\n",
       "W156Lfs*12            1\n",
       "Name: count, Length: 140, dtype: int64"
      ]
     },
     "metadata": {},
     "output_type": "display_data"
    },
    {
     "name": "stdout",
     "output_type": "stream",
     "text": [
      "\n",
      "\n"
     ]
    },
    {
     "data": {
      "text/plain": [
       "dnah2_mut\n",
       "0         1754\n",
       "R837C        4\n",
       "T1263M       3\n",
       "D2160V       3\n",
       "C411F        3\n",
       "          ... \n",
       "F1334Y       1\n",
       "M3858V       1\n",
       "I1095T       1\n",
       "Y3765H       1\n",
       "R3923C       1\n",
       "Name: count, Length: 129, dtype: int64"
      ]
     },
     "metadata": {},
     "output_type": "display_data"
    },
    {
     "name": "stdout",
     "output_type": "stream",
     "text": [
      "\n",
      "\n"
     ]
    },
    {
     "data": {
      "text/plain": [
       "kmt2d_mut\n",
       "0                1764\n",
       "P3794S              4\n",
       "Q2170E              3\n",
       "P3671A              2\n",
       "Q3905L              2\n",
       "                 ... \n",
       "N3067S              1\n",
       "A2983S P2775S       1\n",
       "M2833L              1\n",
       "T1246M              1\n",
       "P2931A              1\n",
       "Name: count, Length: 129, dtype: int64"
      ]
     },
     "metadata": {},
     "output_type": "display_data"
    },
    {
     "name": "stdout",
     "output_type": "stream",
     "text": [
      "\n",
      "\n"
     ]
    },
    {
     "data": {
      "text/plain": [
       "ush2a_mut\n",
       "0         1765\n",
       "P196S        3\n",
       "G4838R       2\n",
       "P1076S       2\n",
       "A3975T       2\n",
       "          ... \n",
       "V4523A       1\n",
       "D993V        1\n",
       "R4843K       1\n",
       "W2693*       1\n",
       "P321L        1\n",
       "Name: count, Length: 134, dtype: int64"
      ]
     },
     "metadata": {},
     "output_type": "display_data"
    },
    {
     "name": "stdout",
     "output_type": "stream",
     "text": [
      "\n",
      "\n"
     ]
    },
    {
     "data": {
      "text/plain": [
       "ryr2_mut\n",
       "0                1769\n",
       "V873M               2\n",
       "N1551S              2\n",
       "S1295G              2\n",
       "X3646_splice        2\n",
       "                 ... \n",
       "E2415D              1\n",
       "E899*               1\n",
       "N2386K              1\n",
       "R2931C              1\n",
       "S3592F P3579S       1\n",
       "Name: count, Length: 132, dtype: int64"
      ]
     },
     "metadata": {},
     "output_type": "display_data"
    },
    {
     "name": "stdout",
     "output_type": "stream",
     "text": [
      "\n",
      "\n"
     ]
    },
    {
     "data": {
      "text/plain": [
       "dnah5_mut\n",
       "0                1772\n",
       "R3000Q              3\n",
       "L123F               2\n",
       "P1603T              2\n",
       "F4392C              2\n",
       "                 ... \n",
       "E3376A              1\n",
       "T238M I4117V        1\n",
       "K1060M              1\n",
       "R2416H              1\n",
       "Q2577E Q1374E       1\n",
       "Name: count, Length: 125, dtype: int64"
      ]
     },
     "metadata": {},
     "output_type": "display_data"
    },
    {
     "name": "stdout",
     "output_type": "stream",
     "text": [
      "\n",
      "\n"
     ]
    },
    {
     "data": {
      "text/plain": [
       "herc2_mut\n",
       "0                           1776\n",
       "H4640R                         5\n",
       "N4553T                         4\n",
       "K1849R                         4\n",
       "I4091T                         3\n",
       "                            ... \n",
       "V2795*                         1\n",
       "T3331M                         1\n",
       "S2481F H361= L1346Cfs*60       1\n",
       "T4672M                         1\n",
       "P1888S                         1\n",
       "Name: count, Length: 109, dtype: int64"
      ]
     },
     "metadata": {},
     "output_type": "display_data"
    },
    {
     "name": "stdout",
     "output_type": "stream",
     "text": [
      "\n",
      "\n"
     ]
    },
    {
     "data": {
      "text/plain": [
       "pde4dip_mut\n",
       "0                 1786\n",
       "A1324S               4\n",
       "R2117Q               3\n",
       "Q573P R1378Q         3\n",
       "M1006V               2\n",
       "                  ... \n",
       "S1127I               1\n",
       "P993L                1\n",
       "R2145T               1\n",
       "A1916S               1\n",
       "K1507_T1509del       1\n",
       "Name: count, Length: 100, dtype: int64"
      ]
     },
     "metadata": {},
     "output_type": "display_data"
    },
    {
     "name": "stdout",
     "output_type": "stream",
     "text": [
      "\n",
      "\n"
     ]
    },
    {
     "data": {
      "text/plain": [
       "akap9_mut\n",
       "0         1787\n",
       "S1028N       2\n",
       "Q2591H       2\n",
       "T1683M       2\n",
       "C1144R       2\n",
       "          ... \n",
       "T938A        1\n",
       "I107V        1\n",
       "Q2093*       1\n",
       "Q1351R       1\n",
       "F3857L       1\n",
       "Name: count, Length: 109, dtype: int64"
      ]
     },
     "metadata": {},
     "output_type": "display_data"
    },
    {
     "name": "stdout",
     "output_type": "stream",
     "text": [
      "\n",
      "\n"
     ]
    },
    {
     "data": {
      "text/plain": [
       "tg_mut\n",
       "0         1790\n",
       "R152H        3\n",
       "D2001N       3\n",
       "P1623R       3\n",
       "V73M         2\n",
       "          ... \n",
       "H2486L       1\n",
       "S18L         1\n",
       "L2547Q       1\n",
       "K441E        1\n",
       "A2401V       1\n",
       "Name: count, Length: 104, dtype: int64"
      ]
     },
     "metadata": {},
     "output_type": "display_data"
    },
    {
     "name": "stdout",
     "output_type": "stream",
     "text": [
      "\n",
      "\n"
     ]
    },
    {
     "data": {
      "text/plain": [
       "birc6_mut\n",
       "0         1797\n",
       "G4833D       2\n",
       "L3166=       2\n",
       "S3044G       2\n",
       "V1047I       2\n",
       "          ... \n",
       "T2551M       1\n",
       "H226Y        1\n",
       "H3574Q       1\n",
       "H3161Y       1\n",
       "N2532S       1\n",
       "Name: count, Length: 102, dtype: int64"
      ]
     },
     "metadata": {},
     "output_type": "display_data"
    },
    {
     "name": "stdout",
     "output_type": "stream",
     "text": [
      "\n",
      "\n"
     ]
    },
    {
     "data": {
      "text/plain": [
       "utrn_mut\n",
       "0         1802\n",
       "N611S        6\n",
       "S145L        3\n",
       "V235I        2\n",
       "V1460I       2\n",
       "          ... \n",
       "T2444M       1\n",
       "E421V        1\n",
       "T2945A       1\n",
       "R1718C       1\n",
       "Q1990E       1\n",
       "Name: count, Length: 91, dtype: int64"
      ]
     },
     "metadata": {},
     "output_type": "display_data"
    },
    {
     "name": "stdout",
     "output_type": "stream",
     "text": [
      "\n",
      "\n"
     ]
    },
    {
     "data": {
      "text/plain": [
       "tbx3_mut\n",
       "0                       1803\n",
       "S371I                      2\n",
       "S615A                      2\n",
       "N211T                      2\n",
       "D295del                    2\n",
       "                        ... \n",
       "D367N                      1\n",
       "Y284C                      1\n",
       "I724Gfs*163 L721P          1\n",
       "L272Ffs*11                 1\n",
       "H437Qfs*2 H581Tfs*51       1\n",
       "Name: count, Length: 98, dtype: int64"
      ]
     },
     "metadata": {},
     "output_type": "display_data"
    },
    {
     "name": "stdout",
     "output_type": "stream",
     "text": [
      "\n",
      "\n"
     ]
    },
    {
     "data": {
      "text/plain": [
       "col6a3_mut\n",
       "0         1807\n",
       "A259V        3\n",
       "R1301Q       2\n",
       "D1350N       2\n",
       "D410N        2\n",
       "          ... \n",
       "G1842V       1\n",
       "I353V        1\n",
       "D2617N       1\n",
       "E2072G       1\n",
       "P1104L       1\n",
       "Name: count, Length: 87, dtype: int64"
      ]
     },
     "metadata": {},
     "output_type": "display_data"
    },
    {
     "name": "stdout",
     "output_type": "stream",
     "text": [
      "\n",
      "\n"
     ]
    },
    {
     "data": {
      "text/plain": [
       "arid1a_mut\n",
       "0              1808\n",
       "Q611*             2\n",
       "L1831V            2\n",
       "Q393*             2\n",
       "P533S             2\n",
       "               ... \n",
       "N2220S            1\n",
       "M1673Ifs*16       1\n",
       "V2041A            1\n",
       "A900T             1\n",
       "Y1572*            1\n",
       "Name: count, Length: 90, dtype: int64"
      ]
     },
     "metadata": {},
     "output_type": "display_data"
    },
    {
     "name": "stdout",
     "output_type": "stream",
     "text": [
      "\n",
      "\n"
     ]
    },
    {
     "data": {
      "text/plain": [
       "lama2_mut\n",
       "0               1809\n",
       "Q2043R             4\n",
       "I1210V             2\n",
       "E308K              2\n",
       "A5T                2\n",
       "                ... \n",
       "T780I              1\n",
       "D3013A             1\n",
       "P2359S             1\n",
       "R185C              1\n",
       "G1824S T546I       1\n",
       "Name: count, Length: 87, dtype: int64"
      ]
     },
     "metadata": {},
     "output_type": "display_data"
    },
    {
     "name": "stdout",
     "output_type": "stream",
     "text": [
      "\n",
      "\n"
     ]
    },
    {
     "data": {
      "text/plain": [
       "notch1_mut\n",
       "0                        1809\n",
       "T311A                       7\n",
       "P743T                       2\n",
       "G661S                       2\n",
       "R176Q                       2\n",
       "                         ... \n",
       "R207H                       1\n",
       "S1004L                      1\n",
       "G1034_G1039del Q2386R       1\n",
       "A2077T                      1\n",
       "N1482D                      1\n",
       "Name: count, Length: 83, dtype: int64"
      ]
     },
     "metadata": {},
     "output_type": "display_data"
    },
    {
     "name": "stdout",
     "output_type": "stream",
     "text": [
      "\n",
      "\n"
     ]
    },
    {
     "data": {
      "text/plain": [
       "cbfb_mut\n",
       "0             1812\n",
       "X55_splice      20\n",
       "R35P             3\n",
       "L138*            2\n",
       "Q41*             2\n",
       "              ... \n",
       "A99Vfs*3         1\n",
       "S72Gfs*8         1\n",
       "Y96Ifs*20        1\n",
       "A56V             1\n",
       "C107F            1\n",
       "Name: count, Length: 66, dtype: int64"
      ]
     },
     "metadata": {},
     "output_type": "display_data"
    },
    {
     "name": "stdout",
     "output_type": "stream",
     "text": [
      "\n",
      "\n"
     ]
    },
    {
     "data": {
      "text/plain": [
       "ncor2_mut\n",
       "0                    1815\n",
       "A688V                   3\n",
       "R1716C                  3\n",
       "H1876Y                  2\n",
       "S1838_G1839insAAS       2\n",
       "                     ... \n",
       "P957_Q958insHP          1\n",
       "T35M                    1\n",
       "P2105L                  1\n",
       "R2244Q                  1\n",
       "T1891M                  1\n",
       "Name: count, Length: 83, dtype: int64"
      ]
     },
     "metadata": {},
     "output_type": "display_data"
    },
    {
     "name": "stdout",
     "output_type": "stream",
     "text": [
      "\n",
      "\n"
     ]
    },
    {
     "data": {
      "text/plain": [
       "col12a1_mut\n",
       "0                          1822\n",
       "S2861N                        3\n",
       "P2944L                        3\n",
       "T2408M                        2\n",
       "R1834Q                        2\n",
       "                           ... \n",
       "A2772T                        1\n",
       "P125Qfs*14 E122_K123del       1\n",
       "G1802R                        1\n",
       "L2982V                        1\n",
       "E570K                         1\n",
       "Name: count, Length: 76, dtype: int64"
      ]
     },
     "metadata": {},
     "output_type": "display_data"
    },
    {
     "name": "stdout",
     "output_type": "stream",
     "text": [
      "\n",
      "\n"
     ]
    },
    {
     "data": {
      "text/plain": [
       "col22a1_mut\n",
       "0         1824\n",
       "D500H        7\n",
       "L159P        2\n",
       "S1284C       2\n",
       "R167G        2\n",
       "          ... \n",
       "R1365H       1\n",
       "N220K        1\n",
       "G1037V       1\n",
       "R785=        1\n",
       "M1461V       1\n",
       "Name: count, Length: 70, dtype: int64"
      ]
     },
     "metadata": {},
     "output_type": "display_data"
    },
    {
     "name": "stdout",
     "output_type": "stream",
     "text": [
      "\n",
      "\n"
     ]
    },
    {
     "data": {
      "text/plain": [
       "pten_mut\n",
       "0                        1825\n",
       "X70_splice                  2\n",
       "Y336*                       2\n",
       "Y176C                       2\n",
       "Q245*                       2\n",
       "                         ... \n",
       "P204Qfs*17 D326Tfs*18       1\n",
       "L320Ffs*25 R378Ifs*37       1\n",
       "R130G                       1\n",
       "F243Lfs*6                   1\n",
       "S370Tfs*45                  1\n",
       "Name: count, Length: 73, dtype: int64"
      ]
     },
     "metadata": {},
     "output_type": "display_data"
    },
    {
     "name": "stdout",
     "output_type": "stream",
     "text": [
      "\n",
      "\n"
     ]
    },
    {
     "data": {
      "text/plain": [
       "akt1_mut\n",
       "0                           1826\n",
       "E17K                          63\n",
       "L52R                           4\n",
       "W80R                           2\n",
       "E94K                           1\n",
       "D323G                          1\n",
       "Q79_W80insSGPGPTPSSSAACR       1\n",
       "L235=                          1\n",
       "G303S                          1\n",
       "Q79K                           1\n",
       "M446I                          1\n",
       "R174C                          1\n",
       "M227T                          1\n",
       "Name: count, dtype: int64"
      ]
     },
     "metadata": {},
     "output_type": "display_data"
    },
    {
     "name": "stdout",
     "output_type": "stream",
     "text": [
      "\n",
      "\n"
     ]
    },
    {
     "data": {
      "text/plain": [
       "atr_mut\n",
       "0                 1827\n",
       "T1469A               3\n",
       "E1986_P1990del       2\n",
       "M1996T               2\n",
       "I1753V               2\n",
       "                  ... \n",
       "R433H                1\n",
       "M1175T               1\n",
       "R2606Q               1\n",
       "I2267V               1\n",
       "R177Q                1\n",
       "Name: count, Length: 73, dtype: int64"
      ]
     },
     "metadata": {},
     "output_type": "display_data"
    },
    {
     "name": "stdout",
     "output_type": "stream",
     "text": [
      "\n",
      "\n"
     ]
    },
    {
     "data": {
      "text/plain": [
       "thada_mut\n",
       "0                     1827\n",
       "E1925K                   5\n",
       "T1085M                   3\n",
       "R923Q                    3\n",
       "V1129M                   2\n",
       "                      ... \n",
       "M1820I                   1\n",
       "E349G                    1\n",
       "R1905H                   1\n",
       "E1825D N383S S328N       1\n",
       "T1911A                   1\n",
       "Name: count, Length: 67, dtype: int64"
      ]
     },
     "metadata": {},
     "output_type": "display_data"
    },
    {
     "name": "stdout",
     "output_type": "stream",
     "text": [
      "\n",
      "\n"
     ]
    },
    {
     "data": {
      "text/plain": [
       "ncor1_mut\n",
       "0              1828\n",
       "V1542M            2\n",
       "G1168=            2\n",
       "S903*             1\n",
       "S1562Afs*53       1\n",
       "               ... \n",
       "T1304Qfs*57       1\n",
       "I2401T            1\n",
       "S2070L            1\n",
       "R564Sfs*25        1\n",
       "R1794*            1\n",
       "Name: count, Length: 75, dtype: int64"
      ]
     },
     "metadata": {},
     "output_type": "display_data"
    },
    {
     "name": "stdout",
     "output_type": "stream",
     "text": [
      "\n",
      "\n"
     ]
    },
    {
     "data": {
      "text/plain": [
       "stab2_mut\n",
       "0         1829\n",
       "R1200W       3\n",
       "E1388K       3\n",
       "G2018R       3\n",
       "I1816M       2\n",
       "          ... \n",
       "N2486K       1\n",
       "M448K        1\n",
       "L1616S       1\n",
       "R2291Q       1\n",
       "R1938W       1\n",
       "Name: count, Length: 69, dtype: int64"
      ]
     },
     "metadata": {},
     "output_type": "display_data"
    },
    {
     "name": "stdout",
     "output_type": "stream",
     "text": [
      "\n",
      "\n"
     ]
    },
    {
     "data": {
      "text/plain": [
       "myh9_mut\n",
       "0              1833\n",
       "N470S             4\n",
       "A864V             2\n",
       "X720_splice       2\n",
       "K1793R            2\n",
       "               ... \n",
       "V1285G            1\n",
       "N434S             1\n",
       "L1509V            1\n",
       "R1932H            1\n",
       "Q466R             1\n",
       "Name: count, Length: 66, dtype: int64"
      ]
     },
     "metadata": {},
     "output_type": "display_data"
    },
    {
     "name": "stdout",
     "output_type": "stream",
     "text": [
      "\n",
      "\n"
     ]
    },
    {
     "data": {
      "text/plain": [
       "runx1_mut\n",
       "0              1835\n",
       "X178_splice       3\n",
       "M25K              3\n",
       "S73F              2\n",
       "X242_splice       2\n",
       "               ... \n",
       "T296M             1\n",
       "S342Ffs*231       1\n",
       "S418Afs*149       1\n",
       "G143R             1\n",
       "G143V             1\n",
       "Name: count, Length: 64, dtype: int64"
      ]
     },
     "metadata": {},
     "output_type": "display_data"
    },
    {
     "name": "stdout",
     "output_type": "stream",
     "text": [
      "\n",
      "\n"
     ]
    },
    {
     "data": {
      "text/plain": [
       "nf1_mut\n",
       "0             1836\n",
       "Y2285Tfs*5       3\n",
       "Q756*            2\n",
       "R1241*           2\n",
       "L925*            1\n",
       "              ... \n",
       "G1758V           1\n",
       "V2436M           1\n",
       "W1685*           1\n",
       "S1100*           1\n",
       "L1623P           1\n",
       "Name: count, Length: 65, dtype: int64"
      ]
     },
     "metadata": {},
     "output_type": "display_data"
    },
    {
     "name": "stdout",
     "output_type": "stream",
     "text": [
      "\n",
      "\n"
     ]
    },
    {
     "data": {
      "text/plain": [
       "map2k4_mut\n",
       "0                    1840\n",
       "S184L                   6\n",
       "R110*                   3\n",
       "R304*                   2\n",
       "R228K                   2\n",
       "S257F                   2\n",
       "Q316*                   2\n",
       "R281*                   2\n",
       "X212_splice             2\n",
       "H227D                   1\n",
       "W291*                   1\n",
       "S83*                    1\n",
       "X297_splice             1\n",
       "N234S                   1\n",
       "T318Rfs*3               1\n",
       "Q69*                    1\n",
       "Y160Ifs*14              1\n",
       "R334Sfs*19              1\n",
       "E141Rfs*16              1\n",
       "I200T                   1\n",
       "S257T                   1\n",
       "R132Efs*20              1\n",
       "K244Sfs*32              1\n",
       "D197Gfs*46              1\n",
       "X272_splice             1\n",
       "Y113*                   1\n",
       "X73_splice              1\n",
       "S292Kfs*8               1\n",
       "G252*                   1\n",
       "X363_splice             1\n",
       "P392L                   1\n",
       "I258Yfs*10              1\n",
       "W175*                   1\n",
       "E221Kfs*3               1\n",
       "R134W                   1\n",
       "X347_splice             1\n",
       "F185Lfs*12              1\n",
       "D285Y                   1\n",
       "X229_splice             1\n",
       "G106Efs*22              1\n",
       "F48Lfs*14               1\n",
       "L254P                   1\n",
       "X362_splice             1\n",
       "Y160*                   1\n",
       "S339N                   1\n",
       "L219V                   1\n",
       "X211_splice A374V       1\n",
       "S280L                   1\n",
       "X211_splice             1\n",
       "P277R                   1\n",
       "A3_P4insCLLYT           1\n",
       "D186G                   1\n",
       "Name: count, dtype: int64"
      ]
     },
     "metadata": {},
     "output_type": "display_data"
    },
    {
     "name": "stdout",
     "output_type": "stream",
     "text": [
      "\n",
      "\n"
     ]
    },
    {
     "data": {
      "text/plain": [
       "ros1_mut\n",
       "0                        1844\n",
       "Y382H                       4\n",
       "R2039H                      2\n",
       "P937=                       2\n",
       "Q291P                       2\n",
       "L1209*                      2\n",
       "K1026M F942L                2\n",
       "P2182S P2183L               1\n",
       "Q911*                       1\n",
       "S1463R                      1\n",
       "G1839C                      1\n",
       "R2042Q                      1\n",
       "T931I                       1\n",
       "V1142I                      1\n",
       "Y419H                       1\n",
       "X1285_splice                1\n",
       "G549D E290Q                 1\n",
       "Y91C                        1\n",
       "R2126W D1450G               1\n",
       "R448H                       1\n",
       "F1123I                      1\n",
       "D1988V                      1\n",
       "Q1091E                      1\n",
       "R2126Q                      1\n",
       "E271K                       1\n",
       "T1782P                      1\n",
       "A1443G                      1\n",
       "D2247V                      1\n",
       "C1329F                      1\n",
       "M1436I                      1\n",
       "T2207A                      1\n",
       "T722M                       1\n",
       "G2282D                      1\n",
       "S79L                        1\n",
       "H989R                       1\n",
       "Q966E                       1\n",
       "A1043T                      1\n",
       "S398*                       1\n",
       "G1962E                      1\n",
       "D331N                       1\n",
       "T1525S                      1\n",
       "R863Hfs*25 R863Sfs*20       1\n",
       "N2220I                      1\n",
       "Q520*                       1\n",
       "K945N                       1\n",
       "N507D                       1\n",
       "A1907T                      1\n",
       "R1592G                      1\n",
       "R1942W                      1\n",
       "X1040_splice                1\n",
       "N1322K                      1\n",
       "L848W                       1\n",
       "N1211T                      1\n",
       "Name: count, dtype: int64"
      ]
     },
     "metadata": {},
     "output_type": "display_data"
    },
    {
     "name": "stdout",
     "output_type": "stream",
     "text": [
      "\n",
      "\n"
     ]
    },
    {
     "data": {
      "text/plain": [
       "lamb3_mut\n",
       "0              1845\n",
       "A590V             2\n",
       "D547N             2\n",
       "R366W             2\n",
       "R1135W            2\n",
       "R747S             2\n",
       "R598C             2\n",
       "R878C             2\n",
       "P679L             2\n",
       "R1023W            2\n",
       "K628N             1\n",
       "L839V             1\n",
       "R574H             1\n",
       "R988Q             1\n",
       "S1107T            1\n",
       "Q880H             1\n",
       "I516V             1\n",
       "N944S             1\n",
       "R552H             1\n",
       "R593W             1\n",
       "E403K             1\n",
       "P304L             1\n",
       "G254S             1\n",
       "G525A             1\n",
       "V145A             1\n",
       "M1141T            1\n",
       "P520T             1\n",
       "G561R             1\n",
       "E883K             1\n",
       "A237T             1\n",
       "R598H             1\n",
       "A729S             1\n",
       "R539Q T872N       1\n",
       "R218K             1\n",
       "C796Y             1\n",
       "A607T             1\n",
       "A596V             1\n",
       "R556H             1\n",
       "S719G             1\n",
       "R258H             1\n",
       "R972*             1\n",
       "L1134R            1\n",
       "S236T             1\n",
       "R593Q             1\n",
       "R183C             1\n",
       "M194I             1\n",
       "R889W             1\n",
       "R746W             1\n",
       "R840Q             1\n",
       "R144Q             1\n",
       "R367H             1\n",
       "Name: count, dtype: int64"
      ]
     },
     "metadata": {},
     "output_type": "display_data"
    },
    {
     "name": "stdout",
     "output_type": "stream",
     "text": [
      "\n",
      "\n"
     ]
    },
    {
     "data": {
      "text/plain": [
       "arid1b_mut\n",
       "0             1845\n",
       "D1728del         7\n",
       "M900I            2\n",
       "G223del          2\n",
       "A767T            2\n",
       "E1815K           1\n",
       "K1741N           1\n",
       "I1589M           1\n",
       "S1222I           1\n",
       "S497T            1\n",
       "R2199H           1\n",
       "G1019S           1\n",
       "N734S            1\n",
       "W1059C           1\n",
       "P2171L           1\n",
       "V2106I           1\n",
       "E1147*           1\n",
       "P488L            1\n",
       "G2207S           1\n",
       "G1437S           1\n",
       "S41F             1\n",
       "Q1134*           1\n",
       "E1988Q           1\n",
       "A1757V           1\n",
       "R1832H           1\n",
       "P787A            1\n",
       "I560T            1\n",
       "P1563L           1\n",
       "E1049G           1\n",
       "E1736K           1\n",
       "L768F            1\n",
       "D1914E           1\n",
       "E652D            1\n",
       "R927Vfs*10       1\n",
       "R1455C           1\n",
       "I1776V           1\n",
       "A9T              1\n",
       "Q1315H           1\n",
       "N138S            1\n",
       "T1529M           1\n",
       "H98R             1\n",
       "Q2127Kfs*5       1\n",
       "A2137T           1\n",
       "P1476L           1\n",
       "P753L            1\n",
       "S946Tfs*9        1\n",
       "G1882E           1\n",
       "Q1342L           1\n",
       "R1521C           1\n",
       "G748S            1\n",
       "I1406V           1\n",
       "Name: count, dtype: int64"
      ]
     },
     "metadata": {},
     "output_type": "display_data"
    },
    {
     "name": "stdout",
     "output_type": "stream",
     "text": [
      "\n",
      "\n"
     ]
    },
    {
     "data": {
      "text/plain": [
       "erbb2_mut\n",
       "0                    1846\n",
       "L755S                  10\n",
       "D769Y                   4\n",
       "L755_T759del            4\n",
       "P523S                   3\n",
       "P122L                   2\n",
       "V777L                   2\n",
       "R929W                   2\n",
       "V842I                   2\n",
       "V777L G727A             2\n",
       "T479M                   1\n",
       "E770_A771insGIRD        1\n",
       "S609C                   1\n",
       "A1039T                  1\n",
       "Y64F                    1\n",
       "R288Q                   1\n",
       "R203P                   1\n",
       "D873G                   1\n",
       "R47C                    1\n",
       "D808E                   1\n",
       "S310F E139Sfs*11        1\n",
       "X408_splice             1\n",
       "P232S                   1\n",
       "V777L T862A             1\n",
       "P579L                   1\n",
       "V842I L755S P416T       1\n",
       "D277H                   1\n",
       "D639E                   1\n",
       "V1128I                  1\n",
       "R34W                    1\n",
       "S609F                   1\n",
       "L869R                   1\n",
       "I767M                   1\n",
       "I435L                   1\n",
       "S310F                   1\n",
       "G778_S779insLPS         1\n",
       "R897G                   1\n",
       "Name: count, dtype: int64"
      ]
     },
     "metadata": {},
     "output_type": "display_data"
    },
    {
     "name": "stdout",
     "output_type": "stream",
     "text": [
      "\n",
      "\n"
     ]
    },
    {
     "data": {
      "text/plain": [
       "sf3b1_mut\n",
       "0                        1846\n",
       "K700E                      36\n",
       "K666T                       2\n",
       "K741E                       1\n",
       "G742D                       1\n",
       "R238H                       1\n",
       "D894N                       1\n",
       "G751V                       1\n",
       "A263V                       1\n",
       "I58V                        1\n",
       "L1141R                      1\n",
       "Y765H                       1\n",
       "V352I                       1\n",
       "R132H                       1\n",
       "K700Gfs*30 Q699Hfs*16       1\n",
       "E180K                       1\n",
       "K666E                       1\n",
       "A899V                       1\n",
       "S851C                       1\n",
       "R1259Q                      1\n",
       "N626H                       1\n",
       "W658S                       1\n",
       "R425*                       1\n",
       "Name: count, dtype: int64"
      ]
     },
     "metadata": {},
     "output_type": "display_data"
    },
    {
     "name": "stdout",
     "output_type": "stream",
     "text": [
      "\n",
      "\n"
     ]
    },
    {
     "data": {
      "text/plain": [
       "shank2_mut\n",
       "0                                                                  1847\n",
       "A1350T                                                                2\n",
       "K917N                                                                 2\n",
       "V1229I                                                                2\n",
       "Q929R                                                                 2\n",
       "A1187V                                                                1\n",
       "N1091Y                                                                1\n",
       "S1132F S1135F                                                         1\n",
       "E407Q                                                                 1\n",
       "G231R                                                                 1\n",
       "R219H                                                                 1\n",
       "E506D                                                                 1\n",
       "R425W                                                                 1\n",
       "Y140*                                                                 1\n",
       "A1261P                                                                1\n",
       "A1276T                                                                1\n",
       "D172N                                                                 1\n",
       "I193V                                                                 1\n",
       "H270Y                                                                 1\n",
       "K1425E                                                                1\n",
       "G194R                                                                 1\n",
       "F104L                                                                 1\n",
       "X391_splice                                                           1\n",
       "T162=                                                                 1\n",
       "Y622*                                                                 1\n",
       "S20Y                                                                  1\n",
       "P1207L                                                                1\n",
       "P200A                                                                 1\n",
       "V147M                                                                 1\n",
       "R1293G                                                                1\n",
       "P428L                                                                 1\n",
       "D1186H                                                                1\n",
       "E287K                                                                 1\n",
       "T237A                                                                 1\n",
       "A189S                                                                 1\n",
       "E675D R574T                                                           1\n",
       "R27Q                                                                  1\n",
       "R73Q                                                                  1\n",
       "G299R                                                                 1\n",
       "R64C                                                                  1\n",
       "A416V                                                                 1\n",
       "E987K                                                                 1\n",
       "A34T                                                                  1\n",
       "E312Q                                                                 1\n",
       "D1057G                                                                1\n",
       "R111H                                                                 1\n",
       "R1118Q                                                                1\n",
       "A1202T                                                                1\n",
       "D1194N D1043H D963Y M960I E900Q D1149H D1082N E731K D642N G705V       1\n",
       "A279G                                                                 1\n",
       "R3H                                                                   1\n",
       "E198= R38Q                                                            1\n",
       "T446M                                                                 1\n",
       "P535T                                                                 1\n",
       "Name: count, dtype: int64"
      ]
     },
     "metadata": {},
     "output_type": "display_data"
    },
    {
     "name": "stdout",
     "output_type": "stream",
     "text": [
      "\n",
      "\n"
     ]
    },
    {
     "data": {
      "text/plain": [
       "ep300_mut\n",
       "0                1850\n",
       "P930L               2\n",
       "P802L               2\n",
       "E1011K              2\n",
       "X587_splice         1\n",
       "G663V               1\n",
       "Y751C               1\n",
       "L2393V              1\n",
       "M2015I              1\n",
       "T1775A T1868M       1\n",
       "M289I               1\n",
       "T132S               1\n",
       "R1599C              1\n",
       "P691R               1\n",
       "M1959I              1\n",
       "Q341*               1\n",
       "Q912R               1\n",
       "*2415Yext*30        1\n",
       "Y638C               1\n",
       "S815C               1\n",
       "T845S               1\n",
       "N1575S              1\n",
       "M506I               1\n",
       "Q895R               1\n",
       "L1600F              1\n",
       "R728Q               1\n",
       "E1536Q              1\n",
       "E1011Q              1\n",
       "P691L               1\n",
       "R504W               1\n",
       "N1126S              1\n",
       "G752A               1\n",
       "M1942R              1\n",
       "A877V               1\n",
       "G750D               1\n",
       "S2309P              1\n",
       "P2176S              1\n",
       "G2198R              1\n",
       "M2170V              1\n",
       "Q2369K              1\n",
       "P250R               1\n",
       "R1821*              1\n",
       "S35A                1\n",
       "K1542E              1\n",
       "T1533del            1\n",
       "H735Q               1\n",
       "I1185V              1\n",
       "G787S               1\n",
       "T2045A              1\n",
       "H2172Q              1\n",
       "S384*               1\n",
       "G269C               1\n",
       "Name: count, dtype: int64"
      ]
     },
     "metadata": {},
     "output_type": "display_data"
    },
    {
     "name": "stdout",
     "output_type": "stream",
     "text": [
      "\n",
      "\n"
     ]
    },
    {
     "data": {
      "text/plain": [
       "ptprd_mut\n",
       "0               1850\n",
       "Y751F              3\n",
       "G1719W             2\n",
       "R1178G             1\n",
       "S387L              1\n",
       "N1673K             1\n",
       "D1017N             1\n",
       "G567W              1\n",
       "P1530L             1\n",
       "P53T               1\n",
       "T1738N             1\n",
       "G1825S             1\n",
       "D1353H             1\n",
       "V917I              1\n",
       "D201G              1\n",
       "S623Y              1\n",
       "S218Y              1\n",
       "T998K              1\n",
       "P519A              1\n",
       "D1262N             1\n",
       "A1518T             1\n",
       "I1260V             1\n",
       "R1730Q             1\n",
       "L840F              1\n",
       "R1396L             1\n",
       "V1694I P792A       1\n",
       "V892I              1\n",
       "A1391T             1\n",
       "F1436S             1\n",
       "I913V              1\n",
       "T978A              1\n",
       "R28Q               1\n",
       "G567A              1\n",
       "E1135K             1\n",
       "G920R              1\n",
       "A1885T             1\n",
       "S405T              1\n",
       "R733C              1\n",
       "R1674H             1\n",
       "V973F              1\n",
       "R1151H             1\n",
       "F1024S             1\n",
       "R174H              1\n",
       "E1639D             1\n",
       "I1192V             1\n",
       "E644K              1\n",
       "P845S              1\n",
       "N837I              1\n",
       "H1195R             1\n",
       "L11delinsRF        1\n",
       "D848Y              1\n",
       "I951V              1\n",
       "Name: count, dtype: int64"
      ]
     },
     "metadata": {},
     "output_type": "display_data"
    },
    {
     "name": "stdout",
     "output_type": "stream",
     "text": [
      "\n",
      "\n"
     ]
    },
    {
     "data": {
      "text/plain": [
       "usp9x_mut\n",
       "0                    1850\n",
       "Q640H                   3\n",
       "G1890E                  2\n",
       "I126M I1239S            2\n",
       "S2521C                  2\n",
       "M1478I                  1\n",
       "Y1953C                  1\n",
       "I1404Lfs*24             1\n",
       "Q605Ffs*7               1\n",
       "Q2436*                  1\n",
       "R1368Sfs*2              1\n",
       "A1809Nfs*5              1\n",
       "M1926I                  1\n",
       "Q676E                   1\n",
       "N2295S                  1\n",
       "H1116R                  1\n",
       "G1481A                  1\n",
       "P44L                    1\n",
       "S588I P2399A            1\n",
       "C2075Y                  1\n",
       "D122G                   1\n",
       "D2497N Q1194*           1\n",
       "I1467L D718Efs*16       1\n",
       "E1764K                  1\n",
       "X2325_splice            1\n",
       "D667G                   1\n",
       "C1286*                  1\n",
       "A944T                   1\n",
       "P1105S                  1\n",
       "R146=                   1\n",
       "P2267S                  1\n",
       "Q1980P                  1\n",
       "G2423R                  1\n",
       "C918G                   1\n",
       "L1869F                  1\n",
       "L1321*                  1\n",
       "P1484S                  1\n",
       "V1473I                  1\n",
       "I1519R                  1\n",
       "S1209*                  1\n",
       "Q32H                    1\n",
       "E1856K                  1\n",
       "R1366K                  1\n",
       "V2529M                  1\n",
       "T327Kfs*7               1\n",
       "V654L                   1\n",
       "S593T                   1\n",
       "N2095D                  1\n",
       "G938S                   1\n",
       "H610Y                   1\n",
       "Name: count, dtype: int64"
      ]
     },
     "metadata": {},
     "output_type": "display_data"
    },
    {
     "name": "stdout",
     "output_type": "stream",
     "text": [
      "\n",
      "\n"
     ]
    },
    {
     "data": {
      "text/plain": [
       "setd2_mut\n",
       "0               1850\n",
       "V2229G             2\n",
       "S1572=             2\n",
       "T1897P             2\n",
       "Q1825H             1\n",
       "H1629Y             1\n",
       "S2080Pfs*67        1\n",
       "L883F              1\n",
       "P2393T             1\n",
       "A1617Nfs*14        1\n",
       "F88Y               1\n",
       "R1523P             1\n",
       "E1234G             1\n",
       "T444M              1\n",
       "Q1667*             1\n",
       "S1925P             1\n",
       "R2490W             1\n",
       "T2372R             1\n",
       "H1603R             1\n",
       "E397K              1\n",
       "I874T              1\n",
       "Q1548*             1\n",
       "E282del            1\n",
       "R400*              1\n",
       "H1100P             1\n",
       "S512* P2420A       1\n",
       "P534H              1\n",
       "N1684S             1\n",
       "F1626Sfs*2         1\n",
       "E670K              1\n",
       "S681C              1\n",
       "D1342H             1\n",
       "E1432G             1\n",
       "D995E              1\n",
       "P2057S             1\n",
       "E1518K             1\n",
       "Q2174R             1\n",
       "S1658*             1\n",
       "L600V              1\n",
       "I929Nfs*6          1\n",
       "V2233A             1\n",
       "Q2290L             1\n",
       "D799N              1\n",
       "R1523C             1\n",
       "D1345V             1\n",
       "Q1344R             1\n",
       "S557A              1\n",
       "G287R              1\n",
       "M1009T             1\n",
       "C805Y              1\n",
       "S112L              1\n",
       "A197V              1\n",
       "Name: count, dtype: int64"
      ]
     },
     "metadata": {},
     "output_type": "display_data"
    },
    {
     "name": "stdout",
     "output_type": "stream",
     "text": [
      "\n",
      "\n"
     ]
    },
    {
     "data": {
      "text/plain": [
       "setd1a_mut\n",
       "0                1851\n",
       "Y743C               3\n",
       "S1013L              3\n",
       "V1321M              2\n",
       "S341F               2\n",
       "T213M               2\n",
       "R1227Q              2\n",
       "R1610W              1\n",
       "P707S               1\n",
       "K1567R P392S        1\n",
       "E1066V R1288P       1\n",
       "P609H               1\n",
       "A1346V              1\n",
       "F1572Y              1\n",
       "K1569Q              1\n",
       "T1529M              1\n",
       "N477S               1\n",
       "P707T               1\n",
       "D582Y               1\n",
       "D1429N              1\n",
       "S1048L              1\n",
       "E202K               1\n",
       "S301L               1\n",
       "T599M               1\n",
       "R936H               1\n",
       "E1364K              1\n",
       "G206D               1\n",
       "P607L               1\n",
       "S479R               1\n",
       "P1183A              1\n",
       "T1122M              1\n",
       "P925T               1\n",
       "A1326T              1\n",
       "S765L R1390Q        1\n",
       "E1007K              1\n",
       "D1022N              1\n",
       "S1283L              1\n",
       "R1358P              1\n",
       "R1230W              1\n",
       "D363N               1\n",
       "G147A               1\n",
       "R419Q               1\n",
       "D1384N              1\n",
       "S268F               1\n",
       "P600L               1\n",
       "S48N                1\n",
       "Name: count, dtype: int64"
      ]
     },
     "metadata": {},
     "output_type": "display_data"
    },
    {
     "name": "stdout",
     "output_type": "stream",
     "text": [
      "\n",
      "\n"
     ]
    },
    {
     "data": {
      "text/plain": [
       "thsd7a_mut\n",
       "0               1852\n",
       "D166G              2\n",
       "S1522G             2\n",
       "V419A              2\n",
       "E1282K             1\n",
       "E672Q              1\n",
       "N472Tfs*6          1\n",
       "R448S              1\n",
       "T642P              1\n",
       "S1034L             1\n",
       "C772F              1\n",
       "A629V              1\n",
       "R1589W             1\n",
       "T511S              1\n",
       "W124R              1\n",
       "P1137L             1\n",
       "H96R               1\n",
       "R617T              1\n",
       "S1169P             1\n",
       "T720M              1\n",
       "G335E              1\n",
       "G674R              1\n",
       "Q476P              1\n",
       "P1089S             1\n",
       "C1158Y             1\n",
       "P1193S             1\n",
       "R436H Q444H        1\n",
       "R269Q              1\n",
       "Q460H              1\n",
       "P703H              1\n",
       "D779G              1\n",
       "D1514N             1\n",
       "V380A              1\n",
       "A662T              1\n",
       "G64D               1\n",
       "N743S              1\n",
       "E725A              1\n",
       "G731S              1\n",
       "E327D              1\n",
       "G322A              1\n",
       "T452M              1\n",
       "G149R              1\n",
       "L766F              1\n",
       "T642P S1105N       1\n",
       "A669V              1\n",
       "X608_splice        1\n",
       "F238L              1\n",
       "A16V               1\n",
       "R1115Q             1\n",
       "D1147V K333E       1\n",
       "Name: count, dtype: int64"
      ]
     },
     "metadata": {},
     "output_type": "display_data"
    },
    {
     "name": "stdout",
     "output_type": "stream",
     "text": [
      "\n",
      "\n"
     ]
    },
    {
     "data": {
      "text/plain": [
       "afdn_mut\n",
       "0                  1853\n",
       "R1596H                5\n",
       "L990F                 2\n",
       "P574L                 2\n",
       "R559Sfs*6             2\n",
       "E1816Tfs*4            1\n",
       "P974R                 1\n",
       "G457A                 1\n",
       "N901K                 1\n",
       "M670V                 1\n",
       "R213*                 1\n",
       "S63Lfs*7              1\n",
       "E954*                 1\n",
       "R1271H                1\n",
       "H764Afs*29            1\n",
       "Q1308*                1\n",
       "Q342Sfs*2             1\n",
       "I540T                 1\n",
       "R511Dfs*7             1\n",
       "Q1447*                1\n",
       "E1130Q                1\n",
       "E1818D                1\n",
       "S1325F                1\n",
       "R1409W                1\n",
       "R710Q                 1\n",
       "D310N                 1\n",
       "R1634C                1\n",
       "A134V                 1\n",
       "R1612_Q1613insA       1\n",
       "M1530I                1\n",
       "L967*                 1\n",
       "X551_splice           1\n",
       "E1648*                1\n",
       "X408_splice           1\n",
       "Q1775*                1\n",
       "C841_H842del          1\n",
       "R369S                 1\n",
       "Q679H                 1\n",
       "S1393F                1\n",
       "S633P                 1\n",
       "A493S                 1\n",
       "R777Sfs*24            1\n",
       "A1268S                1\n",
       "R224*                 1\n",
       "S753G                 1\n",
       "Name: count, dtype: int64"
      ]
     },
     "metadata": {},
     "output_type": "display_data"
    },
    {
     "name": "stdout",
     "output_type": "stream",
     "text": [
      "\n",
      "\n"
     ]
    },
    {
     "data": {
      "text/plain": [
       "erbb3_mut\n",
       "0                        1854\n",
       "E928G                       8\n",
       "G284R                       3\n",
       "V104L                       2\n",
       "T906S                       2\n",
       "R490H                       2\n",
       "G325R                       1\n",
       "P306R                       1\n",
       "K314E                       1\n",
       "M60K                        1\n",
       "R970*                       1\n",
       "R247Q                       1\n",
       "R1040Q                      1\n",
       "P554L                       1\n",
       "E745K                       1\n",
       "V586M                       1\n",
       "M677I                       1\n",
       "G908R                       1\n",
       "P514Rfs*10 P514Hfs*18       1\n",
       "K742R                       1\n",
       "R453H E1018Q                1\n",
       "E1317K                      1\n",
       "D297Y                       1\n",
       "T355I                       1\n",
       "Y464H                       1\n",
       "Q865H                       1\n",
       "R1080H                      1\n",
       "T355I E928G                 1\n",
       "G513D                       1\n",
       "A1030T                      1\n",
       "G324R                       1\n",
       "N222S                       1\n",
       "S717L                       1\n",
       "S1207N                      1\n",
       "R135H                       1\n",
       "A1131T G113R                1\n",
       "D951H                       1\n",
       "E910A                       1\n",
       "E1291*                      1\n",
       "Name: count, dtype: int64"
      ]
     },
     "metadata": {},
     "output_type": "display_data"
    },
    {
     "name": "stdout",
     "output_type": "stream",
     "text": [
      "\n",
      "\n"
     ]
    },
    {
     "data": {
      "text/plain": [
       "rb1_mut\n",
       "0                  1855\n",
       "G310E                 2\n",
       "P29del                2\n",
       "E287=                 1\n",
       "R828T                 1\n",
       "L607V                 1\n",
       "K417Sfs*9             1\n",
       "D697N                 1\n",
       "X840_splice           1\n",
       "F426Lfs*31            1\n",
       "K130Nfs*6             1\n",
       "I124Rfs*6             1\n",
       "I557F                 1\n",
       "N593Kfs*7             1\n",
       "X701_splice           1\n",
       "S182Ifs*3             1\n",
       "X240_splice           1\n",
       "M113I                 1\n",
       "D224N                 1\n",
       "K791Gfs*12 E72Q       1\n",
       "Y91C                  1\n",
       "I196T                 1\n",
       "E559Afs*8             1\n",
       "D578Y                 1\n",
       "D571N                 1\n",
       "T377S                 1\n",
       "X474_splice           1\n",
       "T118S                 1\n",
       "R251*                 1\n",
       "L797*                 1\n",
       "E204Gfs*8             1\n",
       "R73Sfs*36             1\n",
       "V222Pfs*2             1\n",
       "R876S                 1\n",
       "A160T                 1\n",
       "S249*                 1\n",
       "X830_splice           1\n",
       "G449Vfs*10            1\n",
       "T241I                 1\n",
       "X654_splice           1\n",
       "A490T                 1\n",
       "V754del               1\n",
       "M605I                 1\n",
       "R552Sfs*54            1\n",
       "E268*                 1\n",
       "D604G                 1\n",
       "V128A                 1\n",
       "E53*                  1\n",
       "Name: count, dtype: int64"
      ]
     },
     "metadata": {},
     "output_type": "display_data"
    },
    {
     "name": "stdout",
     "output_type": "stream",
     "text": [
      "\n",
      "\n"
     ]
    },
    {
     "data": {
      "text/plain": [
       "myo1a_mut\n",
       "0              1857\n",
       "E1009del          4\n",
       "G674D             2\n",
       "R643W             2\n",
       "S1026G            2\n",
       "E102K             2\n",
       "A859P             1\n",
       "R619Q             1\n",
       "R1029H            1\n",
       "Q95H              1\n",
       "V516M             1\n",
       "D521H             1\n",
       "N1010K            1\n",
       "R152H             1\n",
       "R654W             1\n",
       "A344T             1\n",
       "F70L              1\n",
       "K966E             1\n",
       "I41T              1\n",
       "V943Gfs*12        1\n",
       "R360* R504H       1\n",
       "V189M             1\n",
       "R760*             1\n",
       "S947I             1\n",
       "R31C              1\n",
       "P75R              1\n",
       "E978*             1\n",
       "R654Q             1\n",
       "Y340C             1\n",
       "E266G             1\n",
       "R492H             1\n",
       "L700P             1\n",
       "I254T             1\n",
       "Y420F             1\n",
       "R360Q             1\n",
       "X366_splice       1\n",
       "K132T             1\n",
       "N155S             1\n",
       "R985Q             1\n",
       "E959=             1\n",
       "K26N              1\n",
       "Name: count, dtype: int64"
      ]
     },
     "metadata": {},
     "output_type": "display_data"
    },
    {
     "name": "stdout",
     "output_type": "stream",
     "text": [
      "\n",
      "\n"
     ]
    },
    {
     "data": {
      "text/plain": [
       "alk_mut\n",
       "0                        1858\n",
       "R1181C                      2\n",
       "G1054S                      2\n",
       "F921Gfs*16                  2\n",
       "S252_S260del                1\n",
       "E1400D                      1\n",
       "T855M                       1\n",
       "E1406Q                      1\n",
       "C1097Y                      1\n",
       "P32L                        1\n",
       "E1568K                      1\n",
       "V1185A                      1\n",
       "E1434K                      1\n",
       "L38P                        1\n",
       "E467K                       1\n",
       "P671L                       1\n",
       "V417L                       1\n",
       "G5R                         1\n",
       "P1215=                      1\n",
       "V349I                       1\n",
       "E859K                       1\n",
       "D626H                       1\n",
       "M435I                       1\n",
       "N1175S                      1\n",
       "W176*                       1\n",
       "M378I                       1\n",
       "X472_splice                 1\n",
       "A3_I4insKQCKRPPPAGWEP       1\n",
       "E1409D                      1\n",
       "E949K                       1\n",
       "Y276H                       1\n",
       "L9P                         1\n",
       "Y1092C                      1\n",
       "V775L                       1\n",
       "G902A                       1\n",
       "T1087P                      1\n",
       "A876T                       1\n",
       "T1307P                      1\n",
       "P117R                       1\n",
       "R395H                       1\n",
       "K575N                       1\n",
       "T1597A                      1\n",
       "L44R                        1\n",
       "Q1617*                      1\n",
       "Name: count, dtype: int64"
      ]
     },
     "metadata": {},
     "output_type": "display_data"
    },
    {
     "name": "stdout",
     "output_type": "stream",
     "text": [
      "\n",
      "\n"
     ]
    },
    {
     "data": {
      "text/plain": [
       "fanca_mut\n",
       "0               1858\n",
       "R1144W             4\n",
       "D1429N             2\n",
       "A152G              2\n",
       "S1226*             1\n",
       "S505A              1\n",
       "I1291V             1\n",
       "R163H              1\n",
       "E440G              1\n",
       "I983F              1\n",
       "R39K               1\n",
       "G1123R             1\n",
       "R212G              1\n",
       "E1050Q             1\n",
       "R714Q              1\n",
       "I525L              1\n",
       "S426G              1\n",
       "K608= E552K        1\n",
       "P799S              1\n",
       "C422Y              1\n",
       "L1339Sfs*24        1\n",
       "S113L              1\n",
       "N1118D             1\n",
       "A1443P             1\n",
       "G1426Efs*13        1\n",
       "Q1366R             1\n",
       "E886D              1\n",
       "Q153* E1420K       1\n",
       "S890N              1\n",
       "R1425H             1\n",
       "F954Y              1\n",
       "R951Q              1\n",
       "T126R              1\n",
       "D79Y               1\n",
       "E1023D             1\n",
       "H292Q              1\n",
       "M1024V             1\n",
       "D252N              1\n",
       "R163C              1\n",
       "P805S              1\n",
       "V677M              1\n",
       "D598E              1\n",
       "Name: count, dtype: int64"
      ]
     },
     "metadata": {},
     "output_type": "display_data"
    },
    {
     "name": "stdout",
     "output_type": "stream",
     "text": [
      "\n",
      "\n"
     ]
    },
    {
     "data": {
      "text/plain": [
       "adgra2_mut\n",
       "0               1858\n",
       "C1196Y             3\n",
       "S1276G             2\n",
       "T397P              2\n",
       "I522T              1\n",
       "Q832R              1\n",
       "G764V              1\n",
       "Q468*              1\n",
       "E325*              1\n",
       "V614M              1\n",
       "E312K              1\n",
       "L934F              1\n",
       "P953L              1\n",
       "T683I              1\n",
       "S1334N             1\n",
       "L155Sfs*7          1\n",
       "R369Q              1\n",
       "R362H              1\n",
       "R593H              1\n",
       "G723D              1\n",
       "A1275D             1\n",
       "S726L              1\n",
       "V772L              1\n",
       "R600K              1\n",
       "R999Q              1\n",
       "Y929C              1\n",
       "H1170Efs*4         1\n",
       "S1116Lfs*150       1\n",
       "Q378E              1\n",
       "G1308R             1\n",
       "R799H              1\n",
       "C1196Y R362H       1\n",
       "C1196Y L944V       1\n",
       "T1315I             1\n",
       "R100C              1\n",
       "P395L              1\n",
       "R564K              1\n",
       "G705A              1\n",
       "P1115T             1\n",
       "E863Q              1\n",
       "R143W              1\n",
       "T314M              1\n",
       "T122A              1\n",
       "Name: count, dtype: int64"
      ]
     },
     "metadata": {},
     "output_type": "display_data"
    },
    {
     "name": "stdout",
     "output_type": "stream",
     "text": [
      "\n",
      "\n"
     ]
    },
    {
     "data": {
      "text/plain": [
       "ubr5_mut\n",
       "0               1858\n",
       "R1898=             2\n",
       "S913G              2\n",
       "X1142_splice       1\n",
       "X1191_splice       1\n",
       "R946H              1\n",
       "R1379W             1\n",
       "Q463*              1\n",
       "F1436Lfs*4         1\n",
       "R1899*             1\n",
       "L2144V             1\n",
       "V871E              1\n",
       "S1641R             1\n",
       "V766E              1\n",
       "A1046Rfs*49        1\n",
       "R1854H             1\n",
       "V2127M             1\n",
       "P1035T             1\n",
       "L2004F             1\n",
       "D752Y              1\n",
       "R1417C             1\n",
       "L120V              1\n",
       "L773F              1\n",
       "A2524T             1\n",
       "M1911T             1\n",
       "T1400A             1\n",
       "N2319S             1\n",
       "V8I                1\n",
       "S753C              1\n",
       "R1900H             1\n",
       "P640L              1\n",
       "D16E               1\n",
       "K2320R             1\n",
       "A1738S             1\n",
       "P1518S             1\n",
       "F1278V             1\n",
       "E2121A             1\n",
       "D2592N             1\n",
       "D2361=             1\n",
       "S2011C             1\n",
       "R813Q              1\n",
       "A404V              1\n",
       "P1020R             1\n",
       "T1065A             1\n",
       "K1818R             1\n",
       "Name: count, dtype: int64"
      ]
     },
     "metadata": {},
     "output_type": "display_data"
    },
    {
     "name": "stdout",
     "output_type": "stream",
     "text": [
      "\n",
      "\n"
     ]
    },
    {
     "data": {
      "text/plain": [
       "pik3r1_mut\n",
       "0                          1859\n",
       "V181I                         3\n",
       "K567_L570del                  2\n",
       "X580_splice                   2\n",
       "N564D                         2\n",
       "P85S                          1\n",
       "D464_R465delinsE              1\n",
       "N711S                         1\n",
       "V357E                         1\n",
       "T239M                         1\n",
       "K575Dfs*26                    1\n",
       "R649Pfs*5                     1\n",
       "G665S                         1\n",
       "R577_Q579del                  1\n",
       "I571_L573del                  1\n",
       "K567_I571delinsN              1\n",
       "X580_splice M582Dfs*20        1\n",
       "S204N                         1\n",
       "G376E                         1\n",
       "X582_splice                   1\n",
       "Q579Hfs*3 L581Vfs*19          1\n",
       "I133M                         1\n",
       "Q579Lfs*21                    1\n",
       "W335Gfs*5 R409Q               1\n",
       "G321S                         1\n",
       "S229L                         1\n",
       "Y6Tfs*25                      1\n",
       "D560delinsGQTYEQH*TN          1\n",
       "V172M                         1\n",
       "R534P                         1\n",
       "L149V                         1\n",
       "Y580_M582del                  1\n",
       "M525Ifs*7                     1\n",
       "F398_E411del                  1\n",
       "D168G                         1\n",
       "R358Tfs*16 N564_T576del       1\n",
       "A658P                         1\n",
       "L570_L581del                  1\n",
       "Y452_N453del                  1\n",
       "K567_L570del R562Lfs*2        1\n",
       "L573P                         1\n",
       "Name: count, dtype: int64"
      ]
     },
     "metadata": {},
     "output_type": "display_data"
    },
    {
     "name": "stdout",
     "output_type": "stream",
     "text": [
      "\n",
      "\n"
     ]
    },
    {
     "data": {
      "text/plain": [
       "myo3a_mut\n",
       "0                    1859\n",
       "I51N                    3\n",
       "R1495*                  3\n",
       "I610V                   2\n",
       "M894I                   2\n",
       "E660D                   1\n",
       "M941L                   1\n",
       "N1503S                  1\n",
       "R1150Ifs*7 A1093T       1\n",
       "I1060V                  1\n",
       "R1378G                  1\n",
       "Y838F                   1\n",
       "K1348R                  1\n",
       "P1272S                  1\n",
       "R1325C                  1\n",
       "R1052*                  1\n",
       "R515*                   1\n",
       "T925M                   1\n",
       "M941T                   1\n",
       "S335F                   1\n",
       "K962N                   1\n",
       "H442N                   1\n",
       "H1096Y                  1\n",
       "X1092_splice            1\n",
       "E1421Q                  1\n",
       "P548L                   1\n",
       "I1294V                  1\n",
       "M493I                   1\n",
       "R1610Q                  1\n",
       "T1245I                  1\n",
       "R1052Q                  1\n",
       "K1058Q                  1\n",
       "S403G                   1\n",
       "Y743C                   1\n",
       "R1548L                  1\n",
       "E1566A                  1\n",
       "R1590S                  1\n",
       "V1113I                  1\n",
       "G535D                   1\n",
       "E280K                   1\n",
       "Name: count, dtype: int64"
      ]
     },
     "metadata": {},
     "output_type": "display_data"
    },
    {
     "name": "stdout",
     "output_type": "stream",
     "text": [
      "\n",
      "\n"
     ]
    },
    {
     "data": {
      "text/plain": [
       "asxl2_mut\n",
       "0             1859\n",
       "V1277A           2\n",
       "D1179N           2\n",
       "G1324E           2\n",
       "Q1385E           2\n",
       "S218Lfs*26       1\n",
       "S235Ffs*10       1\n",
       "S1319R           1\n",
       "E1234K           1\n",
       "P886S            1\n",
       "Q592*            1\n",
       "V901I            1\n",
       "V238E            1\n",
       "L194R            1\n",
       "R1075W           1\n",
       "E351D            1\n",
       "G608E            1\n",
       "T979M            1\n",
       "R1403H           1\n",
       "T12P             1\n",
       "D298N            1\n",
       "R810I            1\n",
       "R1435W           1\n",
       "E330K            1\n",
       "A684T            1\n",
       "Q1385*           1\n",
       "R357*            1\n",
       "S600L            1\n",
       "T943A            1\n",
       "S924P            1\n",
       "A169=            1\n",
       "T931S            1\n",
       "K1160E           1\n",
       "M438V            1\n",
       "Q1011E           1\n",
       "G79E             1\n",
       "X85_splice       1\n",
       "T1186A           1\n",
       "S253C            1\n",
       "R252K            1\n",
       "R357Q            1\n",
       "M412V            1\n",
       "Name: count, dtype: int64"
      ]
     },
     "metadata": {},
     "output_type": "display_data"
    },
    {
     "name": "stdout",
     "output_type": "stream",
     "text": [
      "\n",
      "\n"
     ]
    },
    {
     "data": {
      "text/plain": [
       "apc_mut\n",
       "0                       1861\n",
       "L180F                      1\n",
       "E1831* A1731P              1\n",
       "K1821Q                     1\n",
       "R1146H                     1\n",
       "S2461L                     1\n",
       "R876Q                      1\n",
       "N1716S                     1\n",
       "E1573* R1790T K1745N       1\n",
       "S42C                       1\n",
       "T828I                      1\n",
       "K1739R                     1\n",
       "N1761T T1655A              1\n",
       "A1598S                     1\n",
       "A1358V                     1\n",
       "R2371T                     1\n",
       "P1467S                     1\n",
       "D1186Y                     1\n",
       "H255R                      1\n",
       "V452I                      1\n",
       "R2326*                     1\n",
       "S1044L R1589C              1\n",
       "R71C                       1\n",
       "E911Q                      1\n",
       "R2613K                     1\n",
       "E1157Q D539N R1336T        1\n",
       "E2184K                     1\n",
       "Q223H                      1\n",
       "M438T                      1\n",
       "T1947A                     1\n",
       "R88W                       1\n",
       "G2190V                     1\n",
       "G1203V                     1\n",
       "P2649S                     1\n",
       "V1605M                     1\n",
       "R2228G                     1\n",
       "R348*                      1\n",
       "S2697L                     1\n",
       "S787N                      1\n",
       "S624T                      1\n",
       "K1245M                     1\n",
       "R2166Q                     1\n",
       "H250R                      1\n",
       "R2714H                     1\n",
       "Name: count, dtype: int64"
      ]
     },
     "metadata": {},
     "output_type": "display_data"
    },
    {
     "name": "stdout",
     "output_type": "stream",
     "text": [
      "\n",
      "\n"
     ]
    },
    {
     "data": {
      "text/plain": [
       "ctcf_mut\n",
       "0                      1861\n",
       "H284Q                     2\n",
       "C271F                     2\n",
       "R377H                     2\n",
       "Y25Rfs*36                 1\n",
       "R448Q                     1\n",
       "Y226C                     1\n",
       "H316L                     1\n",
       "Q72*                      1\n",
       "F228S                     1\n",
       "E64Nfs*10                 1\n",
       "E87*                      1\n",
       "G375E                     1\n",
       "D618Qfs*14                1\n",
       "S354F                     1\n",
       "G403R M103V               1\n",
       "K23N                      1\n",
       "E176*                     1\n",
       "Y25*                      1\n",
       "X613_splice               1\n",
       "H288Y                     1\n",
       "F379L                     1\n",
       "H284Y                     1\n",
       "D621N                     1\n",
       "H546Y                     1\n",
       "Q267Hfs*9 F266Lfs*3       1\n",
       "X256_splice               1\n",
       "H373D                     1\n",
       "Q486*                     1\n",
       "H541P                     1\n",
       "Q676R                     1\n",
       "E145Rfs*7                 1\n",
       "Q486P                     1\n",
       "H517L                     1\n",
       "X362_splice               1\n",
       "D67E                      1\n",
       "E64*                      1\n",
       "V686D                     1\n",
       "K344E                     1\n",
       "C557R                     1\n",
       "H288D                     1\n",
       "Name: count, dtype: int64"
      ]
     },
     "metadata": {},
     "output_type": "display_data"
    },
    {
     "name": "stdout",
     "output_type": "stream",
     "text": [
      "\n",
      "\n"
     ]
    },
    {
     "data": {
      "text/plain": [
       "asxl1_mut\n",
       "0               1862\n",
       "W1356*             2\n",
       "R1224T             2\n",
       "K353N              1\n",
       "Q575E              1\n",
       "V807I              1\n",
       "F548Kfs*11         1\n",
       "L1304V             1\n",
       "M341I P581S        1\n",
       "P229T              1\n",
       "K1261R             1\n",
       "A1320V             1\n",
       "A158P              1\n",
       "D1032A             1\n",
       "T854Afs*6          1\n",
       "T130A              1\n",
       "H1008L             1\n",
       "A54S               1\n",
       "S1028L             1\n",
       "S1237F             1\n",
       "E480K              1\n",
       "D1242N             1\n",
       "K2R                1\n",
       "A316V              1\n",
       "H1390Y             1\n",
       "R596W              1\n",
       "K9del              1\n",
       "R734S              1\n",
       "T638I              1\n",
       "S871L              1\n",
       "M242V              1\n",
       "P229L              1\n",
       "S1281P             1\n",
       "S1223C             1\n",
       "C687R              1\n",
       "V393A              1\n",
       "I552V              1\n",
       "P1324Lfs*126       1\n",
       "D741V              1\n",
       "P1106L             1\n",
       "P808H              1\n",
       "Name: count, dtype: int64"
      ]
     },
     "metadata": {},
     "output_type": "display_data"
    },
    {
     "name": "stdout",
     "output_type": "stream",
     "text": [
      "\n",
      "\n"
     ]
    },
    {
     "data": {
      "text/plain": [
       "fancd2_mut\n",
       "0               1863\n",
       "X905_splice        2\n",
       "G1396D             1\n",
       "L345F              1\n",
       "F635L              1\n",
       "P962S              1\n",
       "T290I              1\n",
       "E369Q              1\n",
       "L630P              1\n",
       "K156E              1\n",
       "P1311L             1\n",
       "H209R              1\n",
       "P727L              1\n",
       "R1299C             1\n",
       "T942M              1\n",
       "K723Nfs*22         1\n",
       "L1186= S996I       1\n",
       "S934C              1\n",
       "K571N              1\n",
       "V297I              1\n",
       "K770R              1\n",
       "X330_splice        1\n",
       "S373L              1\n",
       "W1268*             1\n",
       "D1286Y             1\n",
       "E369Q S409L        1\n",
       "P759L              1\n",
       "N1083S             1\n",
       "Y1267Tfs*15        1\n",
       "I935L              1\n",
       "W792C              1\n",
       "Y534C              1\n",
       "R1370T             1\n",
       "F1001L             1\n",
       "N44S               1\n",
       "X723_splice        1\n",
       "S10P               1\n",
       "V958M              1\n",
       "G1000E             1\n",
       "M1238L             1\n",
       "X471_splice        1\n",
       "Name: count, dtype: int64"
      ]
     },
     "metadata": {},
     "output_type": "display_data"
    },
    {
     "name": "stdout",
     "output_type": "stream",
     "text": [
      "\n",
      "\n"
     ]
    },
    {
     "data": {
      "text/plain": [
       "taf1_mut\n",
       "0               1864\n",
       "S439F              2\n",
       "R928C              1\n",
       "X1584_splice       1\n",
       "N47S               1\n",
       "S1508Y             1\n",
       "R749H              1\n",
       "R1030C             1\n",
       "R869H              1\n",
       "E1183K             1\n",
       "G33C               1\n",
       "V1362A             1\n",
       "S1045G             1\n",
       "Q1116*             1\n",
       "E1606K             1\n",
       "K1235N             1\n",
       "E340K              1\n",
       "P981L              1\n",
       "V863M              1\n",
       "Q271E              1\n",
       "R1196H             1\n",
       "K424R              1\n",
       "P751A              1\n",
       "I311=              1\n",
       "C280S              1\n",
       "R1257C             1\n",
       "G89W               1\n",
       "H1371R             1\n",
       "E507K              1\n",
       "L1243I             1\n",
       "S1870C             1\n",
       "R877T              1\n",
       "Q669H              1\n",
       "Q276L              1\n",
       "C946_L947del       1\n",
       "D1096H             1\n",
       "V1704I             1\n",
       "K832T              1\n",
       "M691I              1\n",
       "E141Gfs*3          1\n",
       "Name: count, dtype: int64"
      ]
     },
     "metadata": {},
     "output_type": "display_data"
    },
    {
     "name": "stdout",
     "output_type": "stream",
     "text": [
      "\n",
      "\n"
     ]
    },
    {
     "data": {
      "text/plain": [
       "kdm6a_mut\n",
       "0                                1864\n",
       "L915S                               3\n",
       "T726M                               1\n",
       "S582*                               1\n",
       "P524R                               1\n",
       "A822V                               1\n",
       "Q1133*                              1\n",
       "R1351*                              1\n",
       "L1177P                              1\n",
       "W1258*                              1\n",
       "R380Efs*59                          1\n",
       "I598V                               1\n",
       "V1225F                              1\n",
       "N448D                               1\n",
       "A1399T                              1\n",
       "N777K                               1\n",
       "X641_splice                         1\n",
       "G284S                               1\n",
       "L73Dfs*12 G74Rfs*11 L72Afs*10       1\n",
       "M1136I                              1\n",
       "S531P                               1\n",
       "D160H                               1\n",
       "N444S                               1\n",
       "R481C                               1\n",
       "Q247E                               1\n",
       "X1335_splice                        1\n",
       "P1327A                              1\n",
       "S573F                               1\n",
       "D812H                               1\n",
       "C1234G                              1\n",
       "Q555E                               1\n",
       "K933N                               1\n",
       "A694T                               1\n",
       "N902S                               1\n",
       "X207_splice                         1\n",
       "T1131Qfs*6                          1\n",
       "M1270T                              1\n",
       "I1267K                              1\n",
       "T741A                               1\n",
       "Name: count, dtype: int64"
      ]
     },
     "metadata": {},
     "output_type": "display_data"
    },
    {
     "name": "stdout",
     "output_type": "stream",
     "text": [
      "\n",
      "\n"
     ]
    },
    {
     "data": {
      "text/plain": [
       "ctnna3_mut\n",
       "0                    1866\n",
       "E634K                   2\n",
       "R374C                   2\n",
       "Q260H                   1\n",
       "V551I                   1\n",
       "P265L                   1\n",
       "I859F                   1\n",
       "R750W                   1\n",
       "Q269*                   1\n",
       "E770*                   1\n",
       "K179E                   1\n",
       "M824I                   1\n",
       "R535H                   1\n",
       "G793E                   1\n",
       "M710K                   1\n",
       "G561E                   1\n",
       "C225F                   1\n",
       "R484H S637F             1\n",
       "G793E I880T             1\n",
       "K863R                   1\n",
       "D531H                   1\n",
       "A130P                   1\n",
       "A255V                   1\n",
       "T240A                   1\n",
       "L858F                   1\n",
       "G793E M435V I411V       1\n",
       "G793E P116L             1\n",
       "M435V I411V             1\n",
       "Q17*                    1\n",
       "R484C                   1\n",
       "R378H                   1\n",
       "A508D                   1\n",
       "V144A                   1\n",
       "A689V                   1\n",
       "C222F                   1\n",
       "T867M                   1\n",
       "V385A                   1\n",
       "Name: count, dtype: int64"
      ]
     },
     "metadata": {},
     "output_type": "display_data"
    },
    {
     "name": "stdout",
     "output_type": "stream",
     "text": [
      "\n",
      "\n"
     ]
    },
    {
     "data": {
      "text/plain": [
       "brca1_mut\n",
       "0               1867\n",
       "Y1127H             2\n",
       "S1551C             1\n",
       "D420G              1\n",
       "E914K              1\n",
       "R1737T             1\n",
       "V1654Cfs*4         1\n",
       "W372R              1\n",
       "I216S              1\n",
       "S153R              1\n",
       "X1760_splice       1\n",
       "G1087E             1\n",
       "C305S              1\n",
       "L1439F             1\n",
       "T150Pfs*13         1\n",
       "I946V              1\n",
       "E1494Kfs*11        1\n",
       "M1827L             1\n",
       "E143K              1\n",
       "R613K              1\n",
       "X1453_splice       1\n",
       "E880Rfs*13         1\n",
       "S1266T             1\n",
       "D560Efs*6          1\n",
       "E1836K             1\n",
       "E391K              1\n",
       "E1287K             1\n",
       "S282*              1\n",
       "I171M              1\n",
       "D1692N             1\n",
       "V452A              1\n",
       "X1663_splice       1\n",
       "L502Sfs*2          1\n",
       "K1667Qfs*11        1\n",
       "Q202Kfs*32         1\n",
       "R1074T             1\n",
       "F709Sfs*29         1\n",
       "Name: count, dtype: int64"
      ]
     },
     "metadata": {},
     "output_type": "display_data"
    },
    {
     "name": "stdout",
     "output_type": "stream",
     "text": [
      "\n",
      "\n"
     ]
    },
    {
     "data": {
      "text/plain": [
       "ptprm_mut\n",
       "0         1867\n",
       "I647V        2\n",
       "T811M        2\n",
       "A291T        2\n",
       "P64L         1\n",
       "G1119V       1\n",
       "H988Y        1\n",
       "A1208V       1\n",
       "Y273C        1\n",
       "A879T        1\n",
       "T1160I       1\n",
       "R1191Q       1\n",
       "K90N         1\n",
       "V1006=       1\n",
       "M809I        1\n",
       "T437A        1\n",
       "T1181K       1\n",
       "N602S        1\n",
       "A672T        1\n",
       "P727L        1\n",
       "D527N        1\n",
       "R430Q        1\n",
       "S778R        1\n",
       "A1401T       1\n",
       "E275D        1\n",
       "G723*        1\n",
       "D1236N       1\n",
       "R699K        1\n",
       "D1015V       1\n",
       "F753S        1\n",
       "T890A        1\n",
       "R138H        1\n",
       "G79E         1\n",
       "S951T        1\n",
       "R1201Q       1\n",
       "Name: count, dtype: int64"
      ]
     },
     "metadata": {},
     "output_type": "display_data"
    },
    {
     "name": "stdout",
     "output_type": "stream",
     "text": [
      "\n",
      "\n"
     ]
    },
    {
     "data": {
      "text/plain": [
       "foxo3_mut\n",
       "0                          1868\n",
       "P10L                          2\n",
       "A140Rfs*26 L127_L133del       1\n",
       "A499Gfs*16                    1\n",
       "T228Nfs*12                    1\n",
       "D340A                         1\n",
       "M493Dfs*22                    1\n",
       "G618E                         1\n",
       "P112S                         1\n",
       "F309Lfs*7 S311Hfs*4           1\n",
       "Q128L                         1\n",
       "N159Tfs*7                     1\n",
       "D490E                         1\n",
       "R211W                         1\n",
       "W186Cfs*10                    1\n",
       "Q130*                         1\n",
       "S505P                         1\n",
       "E23K                          1\n",
       "S215* S297L                   1\n",
       "A352T                         1\n",
       "W157*                         1\n",
       "T433M                         1\n",
       "X208_splice                   1\n",
       "R444H                         1\n",
       "I170F                         1\n",
       "W206L                         1\n",
       "T582S                         1\n",
       "R310Afs*36                    1\n",
       "G111E                         1\n",
       "S619Afs*36                    1\n",
       "S26C                          1\n",
       "A543S                         1\n",
       "G406Dfs*35                    1\n",
       "A98T                          1\n",
       "S173F                         1\n",
       "R266H                         1\n",
       "Name: count, dtype: int64"
      ]
     },
     "metadata": {},
     "output_type": "display_data"
    },
    {
     "name": "stdout",
     "output_type": "stream",
     "text": [
      "\n",
      "\n"
     ]
    },
    {
     "data": {
      "text/plain": [
       "usp28_mut\n",
       "0                              1868\n",
       "Q35R                              6\n",
       "D969Y                             4\n",
       "I177T                             3\n",
       "A83S                              2\n",
       "F232S                             2\n",
       "L872V                             1\n",
       "P723A                             1\n",
       "D60H                              1\n",
       "K420*                             1\n",
       "Q219*                             1\n",
       "V63L                              1\n",
       "A564V                             1\n",
       "E848*                             1\n",
       "D158H                             1\n",
       "E410Vfs*40                        1\n",
       "R396K                             1\n",
       "T710A                             1\n",
       "A868V                             1\n",
       "N384S                             1\n",
       "Y717F                             1\n",
       "A270T                             1\n",
       "R938W                             1\n",
       "X722_splice Y914Kfs*53 M23I       1\n",
       "E658=                             1\n",
       "Name: count, dtype: int64"
      ]
     },
     "metadata": {},
     "output_type": "display_data"
    },
    {
     "name": "stdout",
     "output_type": "stream",
     "text": [
      "\n",
      "\n"
     ]
    },
    {
     "data": {
      "text/plain": [
       "gldc_mut\n",
       "0              1869\n",
       "S951Y             3\n",
       "I717V             3\n",
       "M394V             2\n",
       "L120V             1\n",
       "I989T             1\n",
       "D43G              1\n",
       "L716H             1\n",
       "G854V             1\n",
       "A64T              1\n",
       "R212K             1\n",
       "T269M             1\n",
       "M663I             1\n",
       "T642M             1\n",
       "Y858S             1\n",
       "X112_splice       1\n",
       "S547C D793N       1\n",
       "Q587*             1\n",
       "D712E             1\n",
       "E909D             1\n",
       "G48R Q285H        1\n",
       "N193S             1\n",
       "M840V             1\n",
       "I834T             1\n",
       "X820_splice       1\n",
       "C1000R            1\n",
       "G771E             1\n",
       "A624T             1\n",
       "R941T I710F       1\n",
       "V233A             1\n",
       "F463L             1\n",
       "Name: count, dtype: int64"
      ]
     },
     "metadata": {},
     "output_type": "display_data"
    },
    {
     "name": "stdout",
     "output_type": "stream",
     "text": [
      "\n",
      "\n"
     ]
    },
    {
     "data": {
      "text/plain": [
       "brca2_mut\n",
       "0                               1870\n",
       "S3366Mfs*2 V3365_S3366insELY       3\n",
       "K68T                               1\n",
       "S2133*                             1\n",
       "D1911N                             1\n",
       "E1120V                             1\n",
       "D3378V                             1\n",
       "T3310Nfs*17                        1\n",
       "C3069Lfs*5                         1\n",
       "V741L                              1\n",
       "R2973C                             1\n",
       "H2455R                             1\n",
       "K280*                              1\n",
       "S231R                              1\n",
       "D3378N                             1\n",
       "L2654Ffs*3                         1\n",
       "A737V                              1\n",
       "V2166L                             1\n",
       "E1581Q                             1\n",
       "K1875N                             1\n",
       "G4V                                1\n",
       "C670W                              1\n",
       "F506L                              1\n",
       "E2844K                             1\n",
       "N319S                              1\n",
       "Y3098*                             1\n",
       "I1583T                             1\n",
       "V2687I                             1\n",
       "S1115Lfs*4                         1\n",
       "Q3066*                             1\n",
       "A3205V A3205P                      1\n",
       "E1514K                             1\n",
       "D806N                              1\n",
       "Name: count, dtype: int64"
      ]
     },
     "metadata": {},
     "output_type": "display_data"
    },
    {
     "name": "stdout",
     "output_type": "stream",
     "text": [
      "\n",
      "\n"
     ]
    },
    {
     "data": {
      "text/plain": [
       "cacna2d3_mut\n",
       "0                1870\n",
       "R205G               3\n",
       "T874=               2\n",
       "R1042C              2\n",
       "N910K               2\n",
       "Q249R               1\n",
       "D592N               1\n",
       "T853A               1\n",
       "R836K               1\n",
       "A1070V              1\n",
       "R810W               1\n",
       "D876N               1\n",
       "G84D                1\n",
       "R388*               1\n",
       "I335_G336del        1\n",
       "E544K               1\n",
       "N347S               1\n",
       "R440W               1\n",
       "E681G               1\n",
       "W950C               1\n",
       "I340V               1\n",
       "V110G               1\n",
       "P225=               1\n",
       "G226=               1\n",
       "A817V               1\n",
       "G722_V723insR       1\n",
       "A698T               1\n",
       "Q446R               1\n",
       "M892V               1\n",
       "T872A               1\n",
       "Name: count, dtype: int64"
      ]
     },
     "metadata": {},
     "output_type": "display_data"
    },
    {
     "name": "stdout",
     "output_type": "stream",
     "text": [
      "\n",
      "\n"
     ]
    },
    {
     "data": {
      "text/plain": [
       "arid2_mut\n",
       "0               1870\n",
       "P1594A             2\n",
       "E427*              1\n",
       "N577S              1\n",
       "T653I              1\n",
       "V1172I             1\n",
       "P914S              1\n",
       "X527_splice        1\n",
       "R542P A1438P       1\n",
       "T986I              1\n",
       "M364_R366del       1\n",
       "V190I              1\n",
       "Q694H              1\n",
       "W237*              1\n",
       "Q651P              1\n",
       "W1636Cfs*65        1\n",
       "T1422I             1\n",
       "E420Kfs*13         1\n",
       "S748G              1\n",
       "L354V              1\n",
       "P1356L             1\n",
       "P1073S             1\n",
       "D444=              1\n",
       "S184L              1\n",
       "L1815V             1\n",
       "G1110E             1\n",
       "K119Q              1\n",
       "K1627N             1\n",
       "S1045L             1\n",
       "T1522S             1\n",
       "T1208P             1\n",
       "N1295S             1\n",
       "S1279G             1\n",
       "G1209A             1\n",
       "Name: count, dtype: int64"
      ]
     },
     "metadata": {},
     "output_type": "display_data"
    },
    {
     "name": "stdout",
     "output_type": "stream",
     "text": [
      "\n",
      "\n"
     ]
    },
    {
     "data": {
      "text/plain": [
       "aff2_mut\n",
       "0         1871\n",
       "S374Y        4\n",
       "H366R        2\n",
       "S381*        1\n",
       "S224C        1\n",
       "R870C        1\n",
       "R927H        1\n",
       "G935V        1\n",
       "E53Q         1\n",
       "Q295*        1\n",
       "P178S        1\n",
       "S753R        1\n",
       "E501K        1\n",
       "R599W        1\n",
       "P892S        1\n",
       "I309T        1\n",
       "V417M        1\n",
       "A1197T       1\n",
       "A245T        1\n",
       "E433K        1\n",
       "A979P        1\n",
       "A979T        1\n",
       "V1253A       1\n",
       "L1034I       1\n",
       "P791L        1\n",
       "T975P        1\n",
       "R1238S       1\n",
       "T574M        1\n",
       "T444A        1\n",
       "V169A        1\n",
       "Name: count, dtype: int64"
      ]
     },
     "metadata": {},
     "output_type": "display_data"
    },
    {
     "name": "stdout",
     "output_type": "stream",
     "text": [
      "\n",
      "\n"
     ]
    },
    {
     "data": {
      "text/plain": [
       "lifr_mut\n",
       "0              1871\n",
       "D1074G            3\n",
       "H228R             1\n",
       "I220N             1\n",
       "G967E             1\n",
       "I925V             1\n",
       "A813S             1\n",
       "S151C             1\n",
       "E342K             1\n",
       "D816Wfs*50        1\n",
       "M1005I            1\n",
       "P1045S            1\n",
       "F255Sfs*3         1\n",
       "T318A             1\n",
       "P983R             1\n",
       "P288S             1\n",
       "S446*             1\n",
       "T152A             1\n",
       "M2V               1\n",
       "I1016V            1\n",
       "R384T E386K       1\n",
       "D249V             1\n",
       "I509T             1\n",
       "R167H             1\n",
       "E921Q             1\n",
       "R178C             1\n",
       "N960D             1\n",
       "S893R             1\n",
       "H105R             1\n",
       "A930S             1\n",
       "D334G             1\n",
       "M672Yfs*12        1\n",
       "Name: count, dtype: int64"
      ]
     },
     "metadata": {},
     "output_type": "display_data"
    },
    {
     "name": "stdout",
     "output_type": "stream",
     "text": [
      "\n",
      "\n"
     ]
    },
    {
     "data": {
      "text/plain": [
       "sbno1_mut\n",
       "0               1872\n",
       "P1351L             4\n",
       "S1326G             2\n",
       "V1346L             1\n",
       "V191I              1\n",
       "R813*              1\n",
       "S768P              1\n",
       "L527F              1\n",
       "R571Q              1\n",
       "R813Q              1\n",
       "A1018T             1\n",
       "E306*              1\n",
       "N834_S839del       1\n",
       "V61L               1\n",
       "A1393T             1\n",
       "R131C              1\n",
       "P871A              1\n",
       "D321N              1\n",
       "D732N              1\n",
       "R569K              1\n",
       "V392A              1\n",
       "V1115G             1\n",
       "A239T              1\n",
       "R1336Q             1\n",
       "D738H              1\n",
       "M525V              1\n",
       "I520V              1\n",
       "D696H              1\n",
       "R983T              1\n",
       "Name: count, dtype: int64"
      ]
     },
     "metadata": {},
     "output_type": "display_data"
    },
    {
     "name": "stdout",
     "output_type": "stream",
     "text": [
      "\n",
      "\n"
     ]
    },
    {
     "data": {
      "text/plain": [
       "kdm3a_mut\n",
       "0                1872\n",
       "P118S               3\n",
       "Y1255H              2\n",
       "I625T               2\n",
       "C496Y               2\n",
       "G336=               1\n",
       "I150V               1\n",
       "X10_splice          1\n",
       "R262H               1\n",
       "R555H               1\n",
       "H338Y               1\n",
       "V260A               1\n",
       "R1219T              1\n",
       "L576delinsFTI       1\n",
       "T161R               1\n",
       "T773I               1\n",
       "T868M               1\n",
       "R107Q               1\n",
       "P1031T              1\n",
       "P841L               1\n",
       "S347F               1\n",
       "K779T               1\n",
       "K545Nfs*42          1\n",
       "R659*               1\n",
       "V35L                1\n",
       "G252V               1\n",
       "E355K               1\n",
       "A1103G              1\n",
       "Name: count, dtype: int64"
      ]
     },
     "metadata": {},
     "output_type": "display_data"
    },
    {
     "name": "stdout",
     "output_type": "stream",
     "text": [
      "\n",
      "\n"
     ]
    },
    {
     "data": {
      "text/plain": [
       "ncoa3_mut\n",
       "0                        1873\n",
       "R1163Q                      2\n",
       "G435R                       2\n",
       "Y852C                       2\n",
       "N283D                       2\n",
       "R317H                       1\n",
       "T1166N                      1\n",
       "Q565*                       1\n",
       "R907*                       1\n",
       "I873S                       1\n",
       "R36Q                        1\n",
       "R1074Sfs*6 H504Lfs*27       1\n",
       "M938V                       1\n",
       "I556V                       1\n",
       "G1341C                      1\n",
       "Q1320P                      1\n",
       "Q779P                       1\n",
       "I296T                       1\n",
       "N325D                       1\n",
       "I713K                       1\n",
       "P499S                       1\n",
       "Y998C                       1\n",
       "N1333S                      1\n",
       "R487H                       1\n",
       "R251C                       1\n",
       "M391V                       1\n",
       "M1210I                      1\n",
       "N672S                       1\n",
       "Name: count, dtype: int64"
      ]
     },
     "metadata": {},
     "output_type": "display_data"
    },
    {
     "name": "stdout",
     "output_type": "stream",
     "text": [
      "\n",
      "\n"
     ]
    },
    {
     "data": {
      "text/plain": [
       "bap1_mut\n",
       "0              1873\n",
       "V354I             2\n",
       "R717Q             1\n",
       "X137_splice       1\n",
       "R56C              1\n",
       "Y33*              1\n",
       "E566K             1\n",
       "Q372E             1\n",
       "R699P             1\n",
       "A321V             1\n",
       "P222T             1\n",
       "G307Rfs*87        1\n",
       "K120E             1\n",
       "N102I             1\n",
       "S623Rfs*14        1\n",
       "R264T             1\n",
       "P555T             1\n",
       "X220_splice       1\n",
       "R699W             1\n",
       "V447I             1\n",
       "C649Y             1\n",
       "S105I             1\n",
       "D404E             1\n",
       "E602V K601E       1\n",
       "L49R              1\n",
       "G422R             1\n",
       "P293L             1\n",
       "V24G              1\n",
       "K331E             1\n",
       "R179W             1\n",
       "K651del           1\n",
       "Name: count, dtype: int64"
      ]
     },
     "metadata": {},
     "output_type": "display_data"
    },
    {
     "name": "stdout",
     "output_type": "stream",
     "text": [
      "\n",
      "\n"
     ]
    },
    {
     "data": {
      "text/plain": [
       "l1cam_mut\n",
       "0               1874\n",
       "R241C              1\n",
       "N433K              1\n",
       "E1120K             1\n",
       "R937C              1\n",
       "L818V              1\n",
       "R558G              1\n",
       "R311C              1\n",
       "D206E              1\n",
       "P160T              1\n",
       "D972H              1\n",
       "V592M              1\n",
       "R976Q              1\n",
       "R554C              1\n",
       "Q929L A1237V       1\n",
       "A906T              1\n",
       "G919S              1\n",
       "E315K              1\n",
       "A1237V             1\n",
       "A1101G             1\n",
       "E705K              1\n",
       "A123T              1\n",
       "S1181=             1\n",
       "M1012T             1\n",
       "K56T               1\n",
       "M400V              1\n",
       "R834W              1\n",
       "W635Gfs*58         1\n",
       "T50R               1\n",
       "C57F               1\n",
       "M187R              1\n",
       "Name: count, dtype: int64"
      ]
     },
     "metadata": {},
     "output_type": "display_data"
    },
    {
     "name": "stdout",
     "output_type": "stream",
     "text": [
      "\n",
      "\n"
     ]
    },
    {
     "data": {
      "text/plain": [
       "pbrm1_mut\n",
       "0                       1874\n",
       "A1098S                     3\n",
       "E1318K                     2\n",
       "V978I                      2\n",
       "S652A                      1\n",
       "N1262S                     1\n",
       "Y470C                      1\n",
       "F1051L                     1\n",
       "S1618Afs*29                1\n",
       "P1583S                     1\n",
       "V964I                      1\n",
       "S1621P                     1\n",
       "R1185*                     1\n",
       "Q793*                      1\n",
       "H599Q                      1\n",
       "N716S                      1\n",
       "P808L V1083L               1\n",
       "R332H                      1\n",
       "K1378R                     1\n",
       "S941L                      1\n",
       "G166V G166R                1\n",
       "X856_splice                1\n",
       "V1086A                     1\n",
       "T737Sfs*31 Y738Dfs*8       1\n",
       "R341H                      1\n",
       "R332P                      1\n",
       "S711G                      1\n",
       "Name: count, dtype: int64"
      ]
     },
     "metadata": {},
     "output_type": "display_data"
    },
    {
     "name": "stdout",
     "output_type": "stream",
     "text": [
      "\n",
      "\n"
     ]
    },
    {
     "data": {
      "text/plain": [
       "chd1_mut\n",
       "0                                         1876\n",
       "V96I                                         3\n",
       "R1586H                                       2\n",
       "T292I                                        1\n",
       "D1388H                                       1\n",
       "G1397S                                       1\n",
       "E1146Q                                       1\n",
       "H1554R                                       1\n",
       "R1708W                                       1\n",
       "R1094K                                       1\n",
       "V456_L457insYVE*E**EWALSCSSS K458Rfs*4       1\n",
       "G1097E                                       1\n",
       "V263A                                        1\n",
       "S966A                                        1\n",
       "E65Q                                         1\n",
       "W149R                                        1\n",
       "D1164V                                       1\n",
       "S158F                                        1\n",
       "S28*                                         1\n",
       "D1368G                                       1\n",
       "D302N                                        1\n",
       "E246*                                        1\n",
       "E223del                                      1\n",
       "F277Lfs*43                                   1\n",
       "Y1553C                                       1\n",
       "R1586C                                       1\n",
       "Name: count, dtype: int64"
      ]
     },
     "metadata": {},
     "output_type": "display_data"
    },
    {
     "name": "stdout",
     "output_type": "stream",
     "text": [
      "\n",
      "\n"
     ]
    },
    {
     "data": {
      "text/plain": [
       "jak1_mut\n",
       "0                    1876\n",
       "D947=                   6\n",
       "G307S                   1\n",
       "S914I                   1\n",
       "I39M                    1\n",
       "R873C                   1\n",
       "V694Sfs*15              1\n",
       "F692L                   1\n",
       "C763Y                   1\n",
       "V658F                   1\n",
       "P517L                   1\n",
       "X663_splice G600R       1\n",
       "D660N                   1\n",
       "S383G                   1\n",
       "S407F                   1\n",
       "S43L                    1\n",
       "R108W                   1\n",
       "H303Qfs*17              1\n",
       "E864K                   1\n",
       "F482Y                   1\n",
       "V1017G                  1\n",
       "E730K                   1\n",
       "P761H                   1\n",
       "F40L                    1\n",
       "Name: count, dtype: int64"
      ]
     },
     "metadata": {},
     "output_type": "display_data"
    },
    {
     "name": "stdout",
     "output_type": "stream",
     "text": [
      "\n",
      "\n"
     ]
    },
    {
     "data": {
      "text/plain": [
       "setdb1_mut\n",
       "0               1876\n",
       "R1194H             1\n",
       "E696K              1\n",
       "N1266S             1\n",
       "L1278H             1\n",
       "R1165Q             1\n",
       "P672L              1\n",
       "E696*              1\n",
       "X527_splice        1\n",
       "P567S              1\n",
       "M791V              1\n",
       "A1024T             1\n",
       "R1048*             1\n",
       "R1074C             1\n",
       "D1132H             1\n",
       "S1081I             1\n",
       "P1192Hfs*127       1\n",
       "N762D              1\n",
       "P496S              1\n",
       "I1037V             1\n",
       "F995C              1\n",
       "P950R              1\n",
       "N988S              1\n",
       "I1037M             1\n",
       "S1124L             1\n",
       "D607N              1\n",
       "D1044H             1\n",
       "R1086Q             1\n",
       "G1016E             1\n",
       "Name: count, dtype: int64"
      ]
     },
     "metadata": {},
     "output_type": "display_data"
    },
    {
     "name": "stdout",
     "output_type": "stream",
     "text": [
      "\n",
      "\n"
     ]
    },
    {
     "data": {
      "text/plain": [
       "fam20c_mut\n",
       "0        1876\n",
       "G153D       3\n",
       "Y539S       2\n",
       "D573N       2\n",
       "A128S       1\n",
       "E427K       1\n",
       "E306K       1\n",
       "A398S       1\n",
       "S100T       1\n",
       "R530Q       1\n",
       "G127S       1\n",
       "V570L       1\n",
       "A26P        1\n",
       "R414H       1\n",
       "Q289R       1\n",
       "T290M       1\n",
       "T472M       1\n",
       "V569M       1\n",
       "A583V       1\n",
       "R10G        1\n",
       "R481T       1\n",
       "L102I       1\n",
       "A417=       1\n",
       "V326I       1\n",
       "L494V       1\n",
       "Name: count, dtype: int64"
      ]
     },
     "metadata": {},
     "output_type": "display_data"
    },
    {
     "name": "stdout",
     "output_type": "stream",
     "text": [
      "\n",
      "\n"
     ]
    },
    {
     "data": {
      "text/plain": [
       "arid5b_mut\n",
       "0                   1876\n",
       "E519K                  2\n",
       "A569V                  1\n",
       "R335S                  1\n",
       "T565A                  1\n",
       "D661Y                  1\n",
       "I444M K551R            1\n",
       "M744T                  1\n",
       "R956W                  1\n",
       "L78I V129M P404Q       1\n",
       "A1046P                 1\n",
       "P1170T                 1\n",
       "N867S                  1\n",
       "L555F                  1\n",
       "S1047F                 1\n",
       "E406K                  1\n",
       "E527K                  1\n",
       "H980Q                  1\n",
       "R748Q                  1\n",
       "M619T                  1\n",
       "K49E                   1\n",
       "E765D                  1\n",
       "V280I                  1\n",
       "P487H                  1\n",
       "D636N                  1\n",
       "A1172P                 1\n",
       "H821R                  1\n",
       "P543S                  1\n",
       "Name: count, dtype: int64"
      ]
     },
     "metadata": {},
     "output_type": "display_data"
    },
    {
     "name": "stdout",
     "output_type": "stream",
     "text": [
      "\n",
      "\n"
     ]
    },
    {
     "data": {
      "text/plain": [
       "egfr_mut\n",
       "0         1877\n",
       "R334L        2\n",
       "R836C        2\n",
       "E519G        1\n",
       "D1014N       1\n",
       "A859V        1\n",
       "H773D        1\n",
       "A439V        1\n",
       "W1157*       1\n",
       "R671C        1\n",
       "T488S        1\n",
       "R962G        1\n",
       "S511Y        1\n",
       "E513K        1\n",
       "R527W        1\n",
       "H988R        1\n",
       "W880*        1\n",
       "K713T        1\n",
       "E257K        1\n",
       "V592I        1\n",
       "R98Q         1\n",
       "H145R        1\n",
       "V674I        1\n",
       "P20S         1\n",
       "R705S        1\n",
       "A127T        1\n",
       "Name: count, dtype: int64"
      ]
     },
     "metadata": {},
     "output_type": "display_data"
    },
    {
     "name": "stdout",
     "output_type": "stream",
     "text": [
      "\n",
      "\n"
     ]
    },
    {
     "data": {
      "text/plain": [
       "map3k10_mut\n",
       "0               1877\n",
       "R850H              2\n",
       "V521M              2\n",
       "T918P              1\n",
       "L799_E800del       1\n",
       "A782_P840del       1\n",
       "E3K                1\n",
       "L518=              1\n",
       "A884V              1\n",
       "R221Q              1\n",
       "R575Efs*4          1\n",
       "V20F               1\n",
       "T491I              1\n",
       "S478F              1\n",
       "E547K              1\n",
       "G6E                1\n",
       "D733Y              1\n",
       "R276H              1\n",
       "V274I              1\n",
       "R557Q              1\n",
       "I360F              1\n",
       "V106L              1\n",
       "R569Q              1\n",
       "R512W              1\n",
       "P778_P781del       1\n",
       "R356Q              1\n",
       "Name: count, dtype: int64"
      ]
     },
     "metadata": {},
     "output_type": "display_data"
    },
    {
     "name": "stdout",
     "output_type": "stream",
     "text": [
      "\n",
      "\n"
     ]
    },
    {
     "data": {
      "text/plain": [
       "smarcc2_mut\n",
       "0              1877\n",
       "P1043A            3\n",
       "V3A               2\n",
       "P231A             1\n",
       "R578C             1\n",
       "N173D             1\n",
       "A18V              1\n",
       "H501R             1\n",
       "S745F             1\n",
       "E222Q K196N       1\n",
       "M615I             1\n",
       "L339V             1\n",
       "V834A             1\n",
       "I818V             1\n",
       "R760W             1\n",
       "S321L             1\n",
       "W205*             1\n",
       "R108L             1\n",
       "R268C             1\n",
       "P1089S            1\n",
       "E250K             1\n",
       "I1108V            1\n",
       "R776Q             1\n",
       "A1002D            1\n",
       "P1145A            1\n",
       "Name: count, dtype: int64"
      ]
     },
     "metadata": {},
     "output_type": "display_data"
    },
    {
     "name": "stdout",
     "output_type": "stream",
     "text": [
      "\n",
      "\n"
     ]
    },
    {
     "data": {
      "text/plain": [
       "erbb4_mut\n",
       "0             1878\n",
       "T443I            1\n",
       "R78W             1\n",
       "Q941*            1\n",
       "S853Y            1\n",
       "A158E            1\n",
       "Y268C            1\n",
       "E1280K           1\n",
       "E1010V           1\n",
       "L521V            1\n",
       "G758A            1\n",
       "A685D E82K       1\n",
       "Q1026*           1\n",
       "R106H            1\n",
       "E542K            1\n",
       "I792F            1\n",
       "D813N            1\n",
       "D1156G           1\n",
       "R525H            1\n",
       "R938S            1\n",
       "E869K            1\n",
       "G1143A           1\n",
       "A90S             1\n",
       "I381V            1\n",
       "S184L            1\n",
       "M1?              1\n",
       "I353T            1\n",
       "Name: count, dtype: int64"
      ]
     },
     "metadata": {},
     "output_type": "display_data"
    },
    {
     "name": "stdout",
     "output_type": "stream",
     "text": [
      "\n",
      "\n"
     ]
    },
    {
     "data": {
      "text/plain": [
       "npnt_mut\n",
       "0                1878\n",
       "T490M               3\n",
       "T546N               3\n",
       "T311N               1\n",
       "K459N               1\n",
       "G449=               1\n",
       "S264L               1\n",
       "T275A               1\n",
       "S562A               1\n",
       "P328_P329insT       1\n",
       "G353R               1\n",
       "M476R               1\n",
       "S227C               1\n",
       "R565H               1\n",
       "R63Q                1\n",
       "V374I               1\n",
       "N273H               1\n",
       "D202N               1\n",
       "A174T               1\n",
       "I325V               1\n",
       "N73D                1\n",
       "K241E               1\n",
       "A229T               1\n",
       "Name: count, dtype: int64"
      ]
     },
     "metadata": {},
     "output_type": "display_data"
    },
    {
     "name": "stdout",
     "output_type": "stream",
     "text": [
      "\n",
      "\n"
     ]
    },
    {
     "data": {
      "text/plain": [
       "nek1_mut\n",
       "0                   1879\n",
       "V685M                  2\n",
       "R467T                  1\n",
       "E640*                  1\n",
       "G763E                  1\n",
       "E1123K                 1\n",
       "S1169G                 1\n",
       "D1180N                 1\n",
       "L898W                  1\n",
       "E893G                  1\n",
       "R161Q                  1\n",
       "K278R                  1\n",
       "M670I                  1\n",
       "A1014V                 1\n",
       "E360D                  1\n",
       "E994Q                  1\n",
       "S863L                  1\n",
       "R232C                  1\n",
       "I939_Q942delinsK       1\n",
       "H1018Y                 1\n",
       "D651E                  1\n",
       "P318S                  1\n",
       "R714C                  1\n",
       "G764D                  1\n",
       "S687N                  1\n",
       "Name: count, dtype: int64"
      ]
     },
     "metadata": {},
     "output_type": "display_data"
    },
    {
     "name": "stdout",
     "output_type": "stream",
     "text": [
      "\n",
      "\n"
     ]
    },
    {
     "data": {
      "text/plain": [
       "agmo_mut\n",
       "0              1879\n",
       "R17C              2\n",
       "T339Sfs*12        2\n",
       "R405Q             2\n",
       "D112G             1\n",
       "E54Q              1\n",
       "K245N             1\n",
       "L240del           1\n",
       "Q31R              1\n",
       "X226_splice       1\n",
       "M134I             1\n",
       "R405*             1\n",
       "T339I             1\n",
       "I242del           1\n",
       "I205V             1\n",
       "L412P             1\n",
       "F400C             1\n",
       "F89L              1\n",
       "P411L             1\n",
       "X42_splice        1\n",
       "G15R              1\n",
       "I426V             1\n",
       "L313V             1\n",
       "Name: count, dtype: int64"
      ]
     },
     "metadata": {},
     "output_type": "display_data"
    },
    {
     "name": "stdout",
     "output_type": "stream",
     "text": [
      "\n",
      "\n"
     ]
    },
    {
     "data": {
      "text/plain": [
       "zfp36l1_mut\n",
       "0               1880\n",
       "C34Gfs*42          1\n",
       "S59Qfs*16          1\n",
       "G270R              1\n",
       "V55Kfs*26          1\n",
       "X19_splice         1\n",
       "L13F               1\n",
       "H63Tfs*17          1\n",
       "H139Qfs*9          1\n",
       "M23Nfs*5           1\n",
       "D37Gfs*38          1\n",
       "H177Q              1\n",
       "K61Qfs*14          1\n",
       "P171Afs*10         1\n",
       "L68Pfs*7           1\n",
       "E156Gfs*25         1\n",
       "G270E              1\n",
       "I329_F330del       1\n",
       "G20Vfs*60          1\n",
       "S70T               1\n",
       "L185Rfs*8          1\n",
       "S318Ffs*45         1\n",
       "G33Rfs*48          1\n",
       "K152Qfs*29         1\n",
       "C34Lfs*41          1\n",
       "Name: count, dtype: int64"
      ]
     },
     "metadata": {},
     "output_type": "display_data"
    },
    {
     "name": "stdout",
     "output_type": "stream",
     "text": [
      "\n",
      "\n"
     ]
    },
    {
     "data": {
      "text/plain": [
       "smad4_mut\n",
       "0                         1880\n",
       "Q245*                        3\n",
       "D493H                        2\n",
       "Q366*                        1\n",
       "X142_splice                  1\n",
       "S223delinsKSACQYTGGQPC       1\n",
       "D351G                        1\n",
       "X302_splice                  1\n",
       "L47P                         1\n",
       "A319GS*VLVFHCLL*NGCSX        1\n",
       "H405Y                        1\n",
       "Q224* A406V                  1\n",
       "T222I                        1\n",
       "H92Y                         1\n",
       "M331Nfs*11                   1\n",
       "R97H                         1\n",
       "X83_splice                   1\n",
       "W524C                        1\n",
       "R38Efs*7                     1\n",
       "K340_S343del                 1\n",
       "R135*                        1\n",
       "G386V                        1\n",
       "Name: count, dtype: int64"
      ]
     },
     "metadata": {},
     "output_type": "display_data"
    },
    {
     "name": "stdout",
     "output_type": "stream",
     "text": [
      "\n",
      "\n"
     ]
    },
    {
     "data": {
      "text/plain": [
       "sik1_mut\n",
       "0              1880\n",
       "S135L             2\n",
       "A294V             2\n",
       "P698R             1\n",
       "A288S             1\n",
       "P635R             1\n",
       "E456K             1\n",
       "A676P             1\n",
       "A518P I489V       1\n",
       "A191T             1\n",
       "R385Q             1\n",
       "A676T             1\n",
       "G624S             1\n",
       "V317M             1\n",
       "V434M             1\n",
       "S545L             1\n",
       "T231M             1\n",
       "S547T             1\n",
       "V260A             1\n",
       "C774G             1\n",
       "A354S             1\n",
       "P679Q             1\n",
       "A513G             1\n",
       "Name: count, dtype: int64"
      ]
     },
     "metadata": {},
     "output_type": "display_data"
    },
    {
     "name": "stdout",
     "output_type": "stream",
     "text": [
      "\n",
      "\n"
     ]
    },
    {
     "data": {
      "text/plain": [
       "casp8_mut\n",
       "0              1881\n",
       "E376D             2\n",
       "N198=             2\n",
       "E126V             1\n",
       "R68Q              1\n",
       "R233P             1\n",
       "D15N              1\n",
       "I144M             1\n",
       "C309Y             1\n",
       "F61Lfs*10         1\n",
       "X184_splice       1\n",
       "I238T             1\n",
       "V150I             1\n",
       "T341N             1\n",
       "G155V             1\n",
       "S186R             1\n",
       "Q97*              1\n",
       "D18H              1\n",
       "X1_splice         1\n",
       "I144T             1\n",
       "I38M              1\n",
       "G342V             1\n",
       "Name: count, dtype: int64"
      ]
     },
     "metadata": {},
     "output_type": "display_data"
    },
    {
     "name": "stdout",
     "output_type": "stream",
     "text": [
      "\n",
      "\n"
     ]
    },
    {
     "data": {
      "text/plain": [
       "prkcq_mut\n",
       "0              1881\n",
       "L304S             2\n",
       "V79M              2\n",
       "V394A             1\n",
       "V157I             1\n",
       "E296Q             1\n",
       "M230Nfs*39        1\n",
       "D61H              1\n",
       "R703W             1\n",
       "I73T              1\n",
       "P650L             1\n",
       "L280H             1\n",
       "L142F             1\n",
       "X503_splice       1\n",
       "P336L             1\n",
       "A521V             1\n",
       "E137D             1\n",
       "G138A             1\n",
       "Q192R             1\n",
       "W56L              1\n",
       "X482_splice       1\n",
       "C20G              1\n",
       "Name: count, dtype: int64"
      ]
     },
     "metadata": {},
     "output_type": "display_data"
    },
    {
     "name": "stdout",
     "output_type": "stream",
     "text": [
      "\n",
      "\n"
     ]
    },
    {
     "data": {
      "text/plain": [
       "smarcc1_mut\n",
       "0              1881\n",
       "D250G             2\n",
       "R299Q             2\n",
       "E908Q             1\n",
       "X409_splice       1\n",
       "A744G             1\n",
       "L611V             1\n",
       "E721G             1\n",
       "D802E             1\n",
       "Y683C             1\n",
       "Q298R A521V       1\n",
       "Q364E             1\n",
       "E591Q             1\n",
       "X216_splice       1\n",
       "R491*             1\n",
       "A579D             1\n",
       "D851N             1\n",
       "A985G             1\n",
       "T375I             1\n",
       "V710M             1\n",
       "T337A             1\n",
       "A560S             1\n",
       "Name: count, dtype: int64"
      ]
     },
     "metadata": {},
     "output_type": "display_data"
    },
    {
     "name": "stdout",
     "output_type": "stream",
     "text": [
      "\n",
      "\n"
     ]
    },
    {
     "data": {
      "text/plain": [
       "palld_mut\n",
       "0         1881\n",
       "R341H        3\n",
       "P566R        1\n",
       "V1038A       1\n",
       "G381*        1\n",
       "S777L        1\n",
       "D1040N       1\n",
       "P268L        1\n",
       "Q1009H       1\n",
       "S595R        1\n",
       "T850N        1\n",
       "R143H        1\n",
       "R689H        1\n",
       "V1074M       1\n",
       "S279T        1\n",
       "R908H        1\n",
       "N23D         1\n",
       "R1049H       1\n",
       "R138Q        1\n",
       "S286G        1\n",
       "R663G        1\n",
       "E705K        1\n",
       "Name: count, dtype: int64"
      ]
     },
     "metadata": {},
     "output_type": "display_data"
    },
    {
     "name": "stdout",
     "output_type": "stream",
     "text": [
      "\n",
      "\n"
     ]
    },
    {
     "data": {
      "text/plain": [
       "dcaf4l2_mut\n",
       "0             1881\n",
       "S67P             4\n",
       "R76C             2\n",
       "G395S            1\n",
       "A40T             1\n",
       "P364T            1\n",
       "H198Q            1\n",
       "S199C            1\n",
       "H137Y            1\n",
       "S199C P26L       1\n",
       "E325Q            1\n",
       "C255Y            1\n",
       "S393P            1\n",
       "R254H            1\n",
       "R125W            1\n",
       "E324K            1\n",
       "L253Q            1\n",
       "R44C             1\n",
       "P6L              1\n",
       "E2K              1\n",
       "Name: count, dtype: int64"
      ]
     },
     "metadata": {},
     "output_type": "display_data"
    },
    {
     "name": "stdout",
     "output_type": "stream",
     "text": [
      "\n",
      "\n"
     ]
    },
    {
     "data": {
      "text/plain": [
       "bcas3_mut\n",
       "0        1882\n",
       "Q252E       3\n",
       "R516W       1\n",
       "P519L       1\n",
       "H374Y       1\n",
       "E325K       1\n",
       "L517F       1\n",
       "R454L       1\n",
       "D337E       1\n",
       "V44M        1\n",
       "A583S       1\n",
       "I615V       1\n",
       "P911L       1\n",
       "A552V       1\n",
       "V818L       1\n",
       "L692=       1\n",
       "P565S       1\n",
       "V809I       1\n",
       "E855K       1\n",
       "A349V       1\n",
       "M447R       1\n",
       "Name: count, dtype: int64"
      ]
     },
     "metadata": {},
     "output_type": "display_data"
    },
    {
     "name": "stdout",
     "output_type": "stream",
     "text": [
      "\n",
      "\n"
     ]
    },
    {
     "data": {
      "text/plain": [
       "cdkn1b_mut\n",
       "0                     1883\n",
       "K47Sfs*24                2\n",
       "X159_splice              2\n",
       "A28Qfs*95                1\n",
       "S125*                    1\n",
       "H48Rfs*17 A55G           1\n",
       "E86* D63H                1\n",
       "Q147Efs*2                1\n",
       "K73N                     1\n",
       "Q65H                     1\n",
       "L130delinsFGGPKD*S       1\n",
       "P137L                    1\n",
       "S138Afs*5                1\n",
       "Q65*                     1\n",
       "V174I                    1\n",
       "Q77*                     1\n",
       "C148Y                    1\n",
       "P92S                     1\n",
       "P179Qfs*46               1\n",
       "*199Yext*60              1\n",
       "Name: count, dtype: int64"
      ]
     },
     "metadata": {},
     "output_type": "display_data"
    },
    {
     "name": "stdout",
     "output_type": "stream",
     "text": [
      "\n",
      "\n"
     ]
    },
    {
     "data": {
      "text/plain": [
       "gps2_mut\n",
       "0              1883\n",
       "X133_splice       4\n",
       "X32_splice        2\n",
       "X268_splice       2\n",
       "H196D             1\n",
       "H196Pfs*11        1\n",
       "Q224Afs*36        1\n",
       "V293Efs*?         1\n",
       "G182Afs*163       1\n",
       "X68_splice        1\n",
       "A187V             1\n",
       "Q226*             1\n",
       "M153Ifs*192       1\n",
       "T239Rfs*105       1\n",
       "Q224*             1\n",
       "V122Cfs*27        1\n",
       "S61*              1\n",
       "Name: count, dtype: int64"
      ]
     },
     "metadata": {},
     "output_type": "display_data"
    },
    {
     "name": "stdout",
     "output_type": "stream",
     "text": [
      "\n",
      "\n"
     ]
    },
    {
     "data": {
      "text/plain": [
       "men1_mut\n",
       "0              1883\n",
       "S492A             2\n",
       "N194Mfs*35        1\n",
       "E364del           1\n",
       "E196K             1\n",
       "V101I             1\n",
       "D70Tfs*49         1\n",
       "P79S              1\n",
       "D423H             1\n",
       "R108G L48V        1\n",
       "P545S R394P       1\n",
       "G230R             1\n",
       "R612C             1\n",
       "S122*             1\n",
       "R223W             1\n",
       "S38F              1\n",
       "I353M             1\n",
       "E397*             1\n",
       "D177Y M283I       1\n",
       "E371Kfs*2         1\n",
       "E397K             1\n",
       "Name: count, dtype: int64"
      ]
     },
     "metadata": {},
     "output_type": "display_data"
    },
    {
     "name": "stdout",
     "output_type": "stream",
     "text": [
      "\n",
      "\n"
     ]
    },
    {
     "data": {
      "text/plain": [
       "stk11_mut\n",
       "0             1883\n",
       "K312Nfs*14       1\n",
       "R86*             1\n",
       "S59Lfs*103       1\n",
       "V143M            1\n",
       "K62M             1\n",
       "R147C            1\n",
       "M125Nfs*40       1\n",
       "D53Gfs*110       1\n",
       "H306Y            1\n",
       "S216F            1\n",
       "T328Ifs*32       1\n",
       "N380S            1\n",
       "X6_splice        1\n",
       "G187C            1\n",
       "S307G            1\n",
       "A205P            1\n",
       "H345R            1\n",
       "A420S            1\n",
       "A316G            1\n",
       "V243Sfs*44       1\n",
       "N119D            1\n",
       "Name: count, dtype: int64"
      ]
     },
     "metadata": {},
     "output_type": "display_data"
    },
    {
     "name": "stdout",
     "output_type": "stream",
     "text": [
      "\n",
      "\n"
     ]
    },
    {
     "data": {
      "text/plain": [
       "sik2_mut\n",
       "0                      1883\n",
       "S845del                   3\n",
       "P223S                     1\n",
       "N395K                     1\n",
       "A732T                     1\n",
       "R437Q                     1\n",
       "S554G                     1\n",
       "R113W                     1\n",
       "P185L                     1\n",
       "Q603R                     1\n",
       "Q319H                     1\n",
       "Q668K                     1\n",
       "Q800*                     1\n",
       "S762delinsFSAGPTVQP       1\n",
       "I79V                      1\n",
       "A854T                     1\n",
       "A633V                     1\n",
       "P832del                   1\n",
       "Q866*                     1\n",
       "L675R                     1\n",
       "Name: count, dtype: int64"
      ]
     },
     "metadata": {},
     "output_type": "display_data"
    },
    {
     "name": "stdout",
     "output_type": "stream",
     "text": [
      "\n",
      "\n"
     ]
    },
    {
     "data": {
      "text/plain": [
       "ptpn22_mut\n",
       "0              1884\n",
       "X712_splice       2\n",
       "R748G             2\n",
       "R70W              1\n",
       "T109N             1\n",
       "A606S             1\n",
       "S520C             1\n",
       "I19T              1\n",
       "I348Sfs*14        1\n",
       "D197V             1\n",
       "I404V             1\n",
       "Y471N             1\n",
       "S782L             1\n",
       "X761_splice       1\n",
       "E72K              1\n",
       "G524A             1\n",
       "X66_splice        1\n",
       "P768S             1\n",
       "F706del           1\n",
       "Name: count, dtype: int64"
      ]
     },
     "metadata": {},
     "output_type": "display_data"
    },
    {
     "name": "stdout",
     "output_type": "stream",
     "text": [
      "\n",
      "\n"
     ]
    },
    {
     "data": {
      "text/plain": [
       "brip1_mut\n",
       "0                                1884\n",
       "M1?                                 1\n",
       "D546G                               1\n",
       "N851Y S682C                         1\n",
       "E412Q                               1\n",
       "T997Rfs*61                          1\n",
       "C219R                               1\n",
       "X31_splice                          1\n",
       "Q227E                               1\n",
       "K242N G859E R261K K234N M273I       1\n",
       "T232I                               1\n",
       "H213R                               1\n",
       "F934S                               1\n",
       "P785L                               1\n",
       "L573V                               1\n",
       "V894I                               1\n",
       "H804R                               1\n",
       "I610V                               1\n",
       "H835Q                               1\n",
       "W1217*                              1\n",
       "I780L                               1\n",
       "Name: count, dtype: int64"
      ]
     },
     "metadata": {},
     "output_type": "display_data"
    },
    {
     "name": "stdout",
     "output_type": "stream",
     "text": [
      "\n",
      "\n"
     ]
    },
    {
     "data": {
      "text/plain": [
       "flt3_mut\n",
       "0             1885\n",
       "I542M            2\n",
       "M737I            1\n",
       "Y696C            1\n",
       "P888S            1\n",
       "S976R            1\n",
       "C695Tfs*70       1\n",
       "Q771P            1\n",
       "K263E            1\n",
       "P738R            1\n",
       "H732D            1\n",
       "L198F            1\n",
       "E716K            1\n",
       "S337C            1\n",
       "K663R            1\n",
       "S993T            1\n",
       "P116R            1\n",
       "T167A            1\n",
       "G282V            1\n",
       "Name: count, dtype: int64"
      ]
     },
     "metadata": {},
     "output_type": "display_data"
    },
    {
     "name": "stdout",
     "output_type": "stream",
     "text": [
      "\n",
      "\n"
     ]
    },
    {
     "data": {
      "text/plain": [
       "nrg3_mut\n",
       "0              1885\n",
       "R670L             1\n",
       "E282Q             1\n",
       "S238F             1\n",
       "G24_A30del        1\n",
       "A18T              1\n",
       "L419F             1\n",
       "S120C S238F       1\n",
       "H171Y             1\n",
       "A704V             1\n",
       "C298R             1\n",
       "S254F             1\n",
       "E514K V679I       1\n",
       "R562Q             1\n",
       "S105Y             1\n",
       "G214E             1\n",
       "A230S             1\n",
       "E417D             1\n",
       "R562Q E51V        1\n",
       "A142S             1\n",
       "Name: count, dtype: int64"
      ]
     },
     "metadata": {},
     "output_type": "display_data"
    },
    {
     "name": "stdout",
     "output_type": "stream",
     "text": [
      "\n",
      "\n"
     ]
    },
    {
     "data": {
      "text/plain": [
       "fbxw7_mut\n",
       "0             1885\n",
       "E192A            4\n",
       "T144R            2\n",
       "E30K             1\n",
       "L457F            1\n",
       "S86L             1\n",
       "E102D            1\n",
       "K343Qfs*33       1\n",
       "R13*             1\n",
       "Y291C            1\n",
       "K189Sfs*66       1\n",
       "R430K            1\n",
       "R465C            1\n",
       "R479Q            1\n",
       "V514I            1\n",
       "G517R            1\n",
       "Name: count, dtype: int64"
      ]
     },
     "metadata": {},
     "output_type": "display_data"
    },
    {
     "name": "stdout",
     "output_type": "stream",
     "text": [
      "\n",
      "\n"
     ]
    },
    {
     "data": {
      "text/plain": [
       "ttyh1_mut\n",
       "0        1885\n",
       "L322V       2\n",
       "I136T       2\n",
       "V218L       1\n",
       "R382W       1\n",
       "E149K       1\n",
       "G86R        1\n",
       "R442C       1\n",
       "V209A       1\n",
       "A34V        1\n",
       "A172T       1\n",
       "I62F        1\n",
       "M249I       1\n",
       "R73Q        1\n",
       "P196S       1\n",
       "R177W       1\n",
       "A179S       1\n",
       "C72G        1\n",
       "Name: count, dtype: int64"
      ]
     },
     "metadata": {},
     "output_type": "display_data"
    },
    {
     "name": "stdout",
     "output_type": "stream",
     "text": [
      "\n",
      "\n"
     ]
    },
    {
     "data": {
      "text/plain": [
       "taf4b_mut\n",
       "0        1886\n",
       "K769N       3\n",
       "R147S       1\n",
       "S165C       1\n",
       "T369N       1\n",
       "V208I       1\n",
       "R848W       1\n",
       "T444I       1\n",
       "D615A       1\n",
       "N539I       1\n",
       "S449L       1\n",
       "L579V       1\n",
       "P212S       1\n",
       "A407V       1\n",
       "R834S       1\n",
       "V382F       1\n",
       "E613D       1\n",
       "Name: count, dtype: int64"
      ]
     },
     "metadata": {},
     "output_type": "display_data"
    },
    {
     "name": "stdout",
     "output_type": "stream",
     "text": [
      "\n",
      "\n"
     ]
    },
    {
     "data": {
      "text/plain": [
       "or6a2_mut\n",
       "0             1886\n",
       "T41N             5\n",
       "V302I            3\n",
       "M149Ifs*62       2\n",
       "R144Q            1\n",
       "R266Q            1\n",
       "R239C            1\n",
       "T41N C114Y       1\n",
       "P320T            1\n",
       "R298C            1\n",
       "V37A             1\n",
       "Y257S            1\n",
       "Name: count, dtype: int64"
      ]
     },
     "metadata": {},
     "output_type": "display_data"
    },
    {
     "name": "stdout",
     "output_type": "stream",
     "text": [
      "\n",
      "\n"
     ]
    },
    {
     "data": {
      "text/plain": [
       "map3k13_mut\n",
       "0              1886\n",
       "Q426*             1\n",
       "E431G             1\n",
       "L241H             1\n",
       "A247G             1\n",
       "D662E             1\n",
       "Q625E             1\n",
       "S694L             1\n",
       "R914H             1\n",
       "V751E             1\n",
       "R837L             1\n",
       "Q5E               1\n",
       "S901L             1\n",
       "R478Q             1\n",
       "I194M D601N       1\n",
       "F120I             1\n",
       "R880C             1\n",
       "L925V             1\n",
       "H15D              1\n",
       "Name: count, dtype: int64"
      ]
     },
     "metadata": {},
     "output_type": "display_data"
    },
    {
     "name": "stdout",
     "output_type": "stream",
     "text": [
      "\n",
      "\n"
     ]
    },
    {
     "data": {
      "text/plain": [
       "hdac9_mut\n",
       "0              1886\n",
       "I837M             1\n",
       "P706S             1\n",
       "X263_splice       1\n",
       "R442H             1\n",
       "R679Q             1\n",
       "D807E             1\n",
       "P282T             1\n",
       "S1005T            1\n",
       "R667*             1\n",
       "L985R             1\n",
       "V647I             1\n",
       "P296S             1\n",
       "R947H             1\n",
       "A636T             1\n",
       "S273A S276T       1\n",
       "T426A             1\n",
       "A584V             1\n",
       "L878F             1\n",
       "Name: count, dtype: int64"
      ]
     },
     "metadata": {},
     "output_type": "display_data"
    },
    {
     "name": "stdout",
     "output_type": "stream",
     "text": [
      "\n",
      "\n"
     ]
    },
    {
     "data": {
      "text/plain": [
       "prkacg_mut\n",
       "0        1887\n",
       "A207V       2\n",
       "V124M       1\n",
       "C200R       1\n",
       "R271L       1\n",
       "P244H       1\n",
       "V192L       1\n",
       "A4V         1\n",
       "K296R       1\n",
       "A6D         1\n",
       "R337W       1\n",
       "P238S       1\n",
       "D42V        1\n",
       "F130Y       1\n",
       "A154D       1\n",
       "F186L       1\n",
       "M129T       1\n",
       "Name: count, dtype: int64"
      ]
     },
     "metadata": {},
     "output_type": "display_data"
    },
    {
     "name": "stdout",
     "output_type": "stream",
     "text": [
      "\n",
      "\n"
     ]
    },
    {
     "data": {
      "text/plain": [
       "rpgr_mut\n",
       "0             1887\n",
       "T51=             2\n",
       "T265Rfs*36       1\n",
       "R409C            1\n",
       "Q227E            1\n",
       "Y547F            1\n",
       "E139K            1\n",
       "R449Q            1\n",
       "A372S            1\n",
       "T383A            1\n",
       "G113V            1\n",
       "R413G            1\n",
       "A83T             1\n",
       "G325R            1\n",
       "D158N            1\n",
       "V49I             1\n",
       "T574M            1\n",
       "Name: count, dtype: int64"
      ]
     },
     "metadata": {},
     "output_type": "display_data"
    },
    {
     "name": "stdout",
     "output_type": "stream",
     "text": [
      "\n",
      "\n"
     ]
    },
    {
     "data": {
      "text/plain": [
       "large1_mut\n",
       "0             1888\n",
       "D441N            2\n",
       "T631M            2\n",
       "E63K             1\n",
       "R450H            1\n",
       "R414P            1\n",
       "R577S            1\n",
       "D584N            1\n",
       "V40A             1\n",
       "S57Lfs*175       1\n",
       "E35K             1\n",
       "D470H            1\n",
       "Q722E            1\n",
       "E466Q            1\n",
       "D250V            1\n",
       "Name: count, dtype: int64"
      ]
     },
     "metadata": {},
     "output_type": "display_data"
    },
    {
     "name": "stdout",
     "output_type": "stream",
     "text": [
      "\n",
      "\n"
     ]
    },
    {
     "data": {
      "text/plain": [
       "foxp1_mut\n",
       "0              1888\n",
       "S122I             1\n",
       "Q73Pfs*7          1\n",
       "E4Rfs*38          1\n",
       "Y147S             1\n",
       "W534* T535P       1\n",
       "T390S             1\n",
       "L640R             1\n",
       "Q157*             1\n",
       "S37T              1\n",
       "S290N             1\n",
       "R503*             1\n",
       "Q208*             1\n",
       "E538K             1\n",
       "A54T              1\n",
       "Q182*             1\n",
       "P382=             1\n",
       "Name: count, dtype: int64"
      ]
     },
     "metadata": {},
     "output_type": "display_data"
    },
    {
     "name": "stdout",
     "output_type": "stream",
     "text": [
      "\n",
      "\n"
     ]
    },
    {
     "data": {
      "text/plain": [
       "clk3_mut\n",
       "0             1890\n",
       "R241W            1\n",
       "E514Q            1\n",
       "R420K            1\n",
       "E221K            1\n",
       "Y205C            1\n",
       "D372H            1\n",
       "L623R            1\n",
       "E137Gfs*17       1\n",
       "C266Y            1\n",
       "E456del          1\n",
       "E492K            1\n",
       "R261H            1\n",
       "P185S            1\n",
       "F376L            1\n",
       "Name: count, dtype: int64"
      ]
     },
     "metadata": {},
     "output_type": "display_data"
    },
    {
     "name": "stdout",
     "output_type": "stream",
     "text": [
      "\n",
      "\n"
     ]
    },
    {
     "data": {
      "text/plain": [
       "prkcz_mut\n",
       "0        1890\n",
       "R49C        2\n",
       "R137H       1\n",
       "E590K       1\n",
       "R137S       1\n",
       "R84C        1\n",
       "G118E       1\n",
       "E207K       1\n",
       "D524N       1\n",
       "L402P       1\n",
       "A142V       1\n",
       "G425R       1\n",
       "G248V       1\n",
       "R117Q       1\n",
       "Name: count, dtype: int64"
      ]
     },
     "metadata": {},
     "output_type": "display_data"
    },
    {
     "name": "stdout",
     "output_type": "stream",
     "text": [
      "\n",
      "\n"
     ]
    },
    {
     "data": {
      "text/plain": [
       "lipi_mut\n",
       "0        1890\n",
       "T304I       4\n",
       "S156G       1\n",
       "D301Y       1\n",
       "V98I        1\n",
       "T222M       1\n",
       "V366G       1\n",
       "T287R       1\n",
       "Q20H        1\n",
       "R297H       1\n",
       "Q275*       1\n",
       "P111L       1\n",
       "Name: count, dtype: int64"
      ]
     },
     "metadata": {},
     "output_type": "display_data"
    },
    {
     "name": "stdout",
     "output_type": "stream",
     "text": [
      "\n",
      "\n"
     ]
    },
    {
     "data": {
      "text/plain": [
       "ppp2r2a_mut\n",
       "0             1891\n",
       "N386S            2\n",
       "D406E            1\n",
       "R303G            1\n",
       "R298Q            1\n",
       "R142S            1\n",
       "E83Rfs*3         1\n",
       "Y305Lfs*23       1\n",
       "S15Lfs*3         1\n",
       "I183V            1\n",
       "H326L            1\n",
       "Q57E             1\n",
       "T373I            1\n",
       "Name: count, dtype: int64"
      ]
     },
     "metadata": {},
     "output_type": "display_data"
    },
    {
     "name": "stdout",
     "output_type": "stream",
     "text": [
      "\n",
      "\n"
     ]
    },
    {
     "data": {
      "text/plain": [
       "prkce_mut\n",
       "0        1891\n",
       "E341K       1\n",
       "D505N       1\n",
       "K301R       1\n",
       "Y584H       1\n",
       "D431H       1\n",
       "R282H       1\n",
       "K457N       1\n",
       "I51M        1\n",
       "V160I       1\n",
       "E80K        1\n",
       "D541E       1\n",
       "R236Q       1\n",
       "R148K       1\n",
       "Name: count, dtype: int64"
      ]
     },
     "metadata": {},
     "output_type": "display_data"
    },
    {
     "name": "stdout",
     "output_type": "stream",
     "text": [
      "\n",
      "\n"
     ]
    },
    {
     "data": {
      "text/plain": [
       "gh1_mut\n",
       "0        1892\n",
       "K96E        1\n",
       "L150Q       1\n",
       "A2T         1\n",
       "Q110E       1\n",
       "E65D        1\n",
       "Y190H       1\n",
       "A39T        1\n",
       "G157D       1\n",
       "A43T        1\n",
       "E82D        1\n",
       "D179N       1\n",
       "A131T       1\n",
       "Name: count, dtype: int64"
      ]
     },
     "metadata": {},
     "output_type": "display_data"
    },
    {
     "name": "stdout",
     "output_type": "stream",
     "text": [
      "\n",
      "\n"
     ]
    },
    {
     "data": {
      "text/plain": [
       "gpr32_mut\n",
       "0              1892\n",
       "S32F              2\n",
       "W107C             2\n",
       "D88G              1\n",
       "G110R             1\n",
       "A230E             1\n",
       "S174A             1\n",
       "S309N S310C       1\n",
       "N30S              1\n",
       "R180Q             1\n",
       "V249I             1\n",
       "Name: count, dtype: int64"
      ]
     },
     "metadata": {},
     "output_type": "display_data"
    },
    {
     "name": "stdout",
     "output_type": "stream",
     "text": [
      "\n",
      "\n"
     ]
    },
    {
     "data": {
      "text/plain": [
       "kras_mut\n",
       "0        1892\n",
       "G12V        3\n",
       "G12A        2\n",
       "G12C        2\n",
       "G12D        2\n",
       "G12S        1\n",
       "R167T       1\n",
       "A59T        1\n",
       "Name: count, dtype: int64"
      ]
     },
     "metadata": {},
     "output_type": "display_data"
    },
    {
     "name": "stdout",
     "output_type": "stream",
     "text": [
      "\n",
      "\n"
     ]
    },
    {
     "data": {
      "text/plain": [
       "nf2_mut\n",
       "0            1892\n",
       "E393K           1\n",
       "Q125Dfs*6       1\n",
       "R198*           1\n",
       "A416V           1\n",
       "E564del         1\n",
       "H116R           1\n",
       "R411H           1\n",
       "A142D           1\n",
       "V589M           1\n",
       "V435L           1\n",
       "T480M           1\n",
       "R353T           1\n",
       "Name: count, dtype: int64"
      ]
     },
     "metadata": {},
     "output_type": "display_data"
    },
    {
     "name": "stdout",
     "output_type": "stream",
     "text": [
      "\n",
      "\n"
     ]
    },
    {
     "data": {
      "text/plain": [
       "chek2_mut\n",
       "0             1892\n",
       "G259Wfs*13       1\n",
       "W97*             1\n",
       "K197E            1\n",
       "D77N             1\n",
       "W485*            1\n",
       "I364T            1\n",
       "R346H            1\n",
       "N105K            1\n",
       "E239K            1\n",
       "T389A            1\n",
       "Y123C            1\n",
       "F310V            1\n",
       "Name: count, dtype: int64"
      ]
     },
     "metadata": {},
     "output_type": "display_data"
    },
    {
     "name": "stdout",
     "output_type": "stream",
     "text": [
      "\n",
      "\n"
     ]
    },
    {
     "data": {
      "text/plain": [
       "ldlrap1_mut\n",
       "0        1892\n",
       "A284T       2\n",
       "V271I       2\n",
       "D303N       2\n",
       "N138S       1\n",
       "I108V       1\n",
       "A69T        1\n",
       "R151W       1\n",
       "R196H       1\n",
       "P201R       1\n",
       "Name: count, dtype: int64"
      ]
     },
     "metadata": {},
     "output_type": "display_data"
    },
    {
     "name": "stdout",
     "output_type": "stream",
     "text": [
      "\n",
      "\n"
     ]
    },
    {
     "data": {
      "text/plain": [
       "clrn2_mut\n",
       "0        1892\n",
       "A144T       2\n",
       "C69Y        2\n",
       "H199L       1\n",
       "K7N         1\n",
       "R67Q        1\n",
       "A207V       1\n",
       "E222K       1\n",
       "I124N       1\n",
       "E183K       1\n",
       "A95T        1\n",
       "Name: count, dtype: int64"
      ]
     },
     "metadata": {},
     "output_type": "display_data"
    },
    {
     "name": "stdout",
     "output_type": "stream",
     "text": [
      "\n",
      "\n"
     ]
    },
    {
     "data": {
      "text/plain": [
       "acvrl1_mut\n",
       "0        1893\n",
       "I417F       2\n",
       "R200W       1\n",
       "C51*        1\n",
       "D360N       1\n",
       "V442L       1\n",
       "G114A       1\n",
       "G283S       1\n",
       "R28W        1\n",
       "R57Q        1\n",
       "C51Y        1\n",
       "Name: count, dtype: int64"
      ]
     },
     "metadata": {},
     "output_type": "display_data"
    },
    {
     "name": "stdout",
     "output_type": "stream",
     "text": [
      "\n",
      "\n"
     ]
    },
    {
     "data": {
      "text/plain": [
       "agtr2_mut\n",
       "0        1893\n",
       "P271L       5\n",
       "F272L       2\n",
       "V23M        2\n",
       "G113V       1\n",
       "F134L       1\n",
       "Name: count, dtype: int64"
      ]
     },
     "metadata": {},
     "output_type": "display_data"
    },
    {
     "name": "stdout",
     "output_type": "stream",
     "text": [
      "\n",
      "\n"
     ]
    },
    {
     "data": {
      "text/plain": [
       "cdkn2a_mut\n",
       "0              1893\n",
       "H83Y              2\n",
       "R80*              2\n",
       "S12*              1\n",
       "R22Q              1\n",
       "L113V             1\n",
       "Y44Tfs*9          1\n",
       "V115E             1\n",
       "E119K R138K       1\n",
       "G23V              1\n",
       "Name: count, dtype: int64"
      ]
     },
     "metadata": {},
     "output_type": "display_data"
    },
    {
     "name": "stdout",
     "output_type": "stream",
     "text": [
      "\n",
      "\n"
     ]
    },
    {
     "data": {
      "text/plain": [
       "ctnna1_mut\n",
       "0              1893\n",
       "D114H             1\n",
       "X101_splice       1\n",
       "Q887*             1\n",
       "A885V             1\n",
       "P462L             1\n",
       "D904A             1\n",
       "R300C             1\n",
       "R586C             1\n",
       "R126Q             1\n",
       "A224T             1\n",
       "K733*             1\n",
       "Name: count, dtype: int64"
      ]
     },
     "metadata": {},
     "output_type": "display_data"
    },
    {
     "name": "stdout",
     "output_type": "stream",
     "text": [
      "\n",
      "\n"
     ]
    },
    {
     "data": {
      "text/plain": [
       "magea8_mut\n",
       "0        1893\n",
       "L139F       2\n",
       "A68V        2\n",
       "A264V       2\n",
       "E114K       1\n",
       "K11Q        1\n",
       "L213F       1\n",
       "R279T       1\n",
       "I164N       1\n",
       "Name: count, dtype: int64"
      ]
     },
     "metadata": {},
     "output_type": "display_data"
    },
    {
     "name": "stdout",
     "output_type": "stream",
     "text": [
      "\n",
      "\n"
     ]
    },
    {
     "data": {
      "text/plain": [
       "prr16_mut\n",
       "0        1893\n",
       "E28*        1\n",
       "N156K       1\n",
       "N273S       1\n",
       "P125H       1\n",
       "T294M       1\n",
       "P276S       1\n",
       "L51R        1\n",
       "L117P       1\n",
       "P250L       1\n",
       "A182T       1\n",
       "N100I       1\n",
       "Name: count, dtype: int64"
      ]
     },
     "metadata": {},
     "output_type": "display_data"
    },
    {
     "name": "stdout",
     "output_type": "stream",
     "text": [
      "\n",
      "\n"
     ]
    },
    {
     "data": {
      "text/plain": [
       "dtwd2_mut\n",
       "0        1893\n",
       "P67R        2\n",
       "R31W        1\n",
       "A42V        1\n",
       "R263H       1\n",
       "A15T        1\n",
       "R246C       1\n",
       "R109H       1\n",
       "R195*       1\n",
       "L269P       1\n",
       "Y152H       1\n",
       "Name: count, dtype: int64"
      ]
     },
     "metadata": {},
     "output_type": "display_data"
    },
    {
     "name": "stdout",
     "output_type": "stream",
     "text": [
      "\n",
      "\n"
     ]
    },
    {
     "data": {
      "text/plain": [
       "akt2_mut\n",
       "0                          1894\n",
       "Q391H                         2\n",
       "G159C                         1\n",
       "E43D                          1\n",
       "R170W                         1\n",
       "R269Q                         1\n",
       "H469Y                         1\n",
       "D416N                         1\n",
       "R253W                         1\n",
       "W80delinsCRDPTPLSYAACSG       1\n",
       "Name: count, dtype: int64"
      ]
     },
     "metadata": {},
     "output_type": "display_data"
    },
    {
     "name": "stdout",
     "output_type": "stream",
     "text": [
      "\n",
      "\n"
     ]
    },
    {
     "data": {
      "text/plain": [
       "braf_mut\n",
       "0            1894\n",
       "V600E           1\n",
       "E695Q           1\n",
       "F346L           1\n",
       "Q386L           1\n",
       "A320T           1\n",
       "Q94E            1\n",
       "S110F           1\n",
       "D143G           1\n",
       "I379Mfs*3       1\n",
       "K338E           1\n",
       "Name: count, dtype: int64"
      ]
     },
     "metadata": {},
     "output_type": "display_data"
    },
    {
     "name": "stdout",
     "output_type": "stream",
     "text": [
      "\n",
      "\n"
     ]
    },
    {
     "data": {
      "text/plain": [
       "foxo1_mut\n",
       "0        1894\n",
       "T397A       1\n",
       "V347M       1\n",
       "S155F       1\n",
       "S322G       1\n",
       "T627S       1\n",
       "H220N       1\n",
       "P395S       1\n",
       "A48T        1\n",
       "A61V        1\n",
       "D611E       1\n",
       "Name: count, dtype: int64"
      ]
     },
     "metadata": {},
     "output_type": "display_data"
    },
    {
     "name": "stdout",
     "output_type": "stream",
     "text": [
      "\n",
      "\n"
     ]
    },
    {
     "data": {
      "text/plain": [
       "nt5e_mut\n",
       "0             1894\n",
       "A5T              2\n",
       "A567T            1\n",
       "I173V            1\n",
       "Q153E            1\n",
       "E293Q            1\n",
       "P318T            1\n",
       "G453=            1\n",
       "E196K            1\n",
       "D111Mfs*17       1\n",
       "Name: count, dtype: int64"
      ]
     },
     "metadata": {},
     "output_type": "display_data"
    },
    {
     "name": "stdout",
     "output_type": "stream",
     "text": [
      "\n",
      "\n"
     ]
    },
    {
     "data": {
      "text/plain": [
       "ccnd3_mut\n",
       "0        1895\n",
       "P17S        1\n",
       "I208T       1\n",
       "Q260*       1\n",
       "E122G       1\n",
       "S169F       1\n",
       "R33G        1\n",
       "Q25E        1\n",
       "T184N       1\n",
       "R87L        1\n",
       "Name: count, dtype: int64"
      ]
     },
     "metadata": {},
     "output_type": "display_data"
    },
    {
     "name": "stdout",
     "output_type": "stream",
     "text": [
      "\n",
      "\n"
     ]
    },
    {
     "data": {
      "text/plain": [
       "nr3c1_mut\n",
       "0        1895\n",
       "S269R       1\n",
       "Q74R        1\n",
       "T504S       1\n",
       "E730K       1\n",
       "L78P        1\n",
       "F29L        1\n",
       "Y545C       1\n",
       "E362K       1\n",
       "Y30H        1\n",
       "Name: count, dtype: int64"
      ]
     },
     "metadata": {},
     "output_type": "display_data"
    },
    {
     "name": "stdout",
     "output_type": "stream",
     "text": [
      "\n",
      "\n"
     ]
    },
    {
     "data": {
      "text/plain": [
       "prkg1_mut\n",
       "0        1895\n",
       "R483Q       2\n",
       "S396L       1\n",
       "V362A       1\n",
       "E227Q       1\n",
       "E328K       1\n",
       "T192A       1\n",
       "A337V       1\n",
       "A341T       1\n",
       "Name: count, dtype: int64"
      ]
     },
     "metadata": {},
     "output_type": "display_data"
    },
    {
     "name": "stdout",
     "output_type": "stream",
     "text": [
      "\n",
      "\n"
     ]
    },
    {
     "data": {
      "text/plain": [
       "tbl1xr1_mut\n",
       "0              1896\n",
       "C175W             1\n",
       "D190Y             1\n",
       "S326N             1\n",
       "K379Hfs*27        1\n",
       "S119N             1\n",
       "X68_splice        1\n",
       "D369Y             1\n",
       "X256_splice       1\n",
       "Name: count, dtype: int64"
      ]
     },
     "metadata": {},
     "output_type": "display_data"
    },
    {
     "name": "stdout",
     "output_type": "stream",
     "text": [
      "\n",
      "\n"
     ]
    },
    {
     "data": {
      "text/plain": [
       "frmd3_mut\n",
       "0              1896\n",
       "S183L             1\n",
       "T565P T565K       1\n",
       "P89A              1\n",
       "E474Q             1\n",
       "R21Gfs*12         1\n",
       "T124=             1\n",
       "E581D             1\n",
       "R364H             1\n",
       "Name: count, dtype: int64"
      ]
     },
     "metadata": {},
     "output_type": "display_data"
    },
    {
     "name": "stdout",
     "output_type": "stream",
     "text": [
      "\n",
      "\n"
     ]
    },
    {
     "data": {
      "text/plain": [
       "smad2_mut\n",
       "0        1897\n",
       "E150K       2\n",
       "S2L         1\n",
       "L261F       1\n",
       "D59H        1\n",
       "H198D       1\n",
       "K19E        1\n",
       "Name: count, dtype: int64"
      ]
     },
     "metadata": {},
     "output_type": "display_data"
    },
    {
     "name": "stdout",
     "output_type": "stream",
     "text": [
      "\n",
      "\n"
     ]
    },
    {
     "data": {
      "text/plain": [
       "sgcd_mut\n",
       "0        1897\n",
       "R32Q        2\n",
       "T251M       1\n",
       "G276R       1\n",
       "A168E       1\n",
       "V264I       1\n",
       "Y27C        1\n",
       "Name: count, dtype: int64"
      ]
     },
     "metadata": {},
     "output_type": "display_data"
    },
    {
     "name": "stdout",
     "output_type": "stream",
     "text": [
      "\n",
      "\n"
     ]
    },
    {
     "data": {
      "text/plain": [
       "spaca1_mut\n",
       "0        1897\n",
       "S256C       1\n",
       "A42S        1\n",
       "V199I       1\n",
       "Q156K       1\n",
       "S130N       1\n",
       "C230*       1\n",
       "E50G        1\n",
       "Name: count, dtype: int64"
      ]
     },
     "metadata": {},
     "output_type": "display_data"
    },
    {
     "name": "stdout",
     "output_type": "stream",
     "text": [
      "\n",
      "\n"
     ]
    },
    {
     "data": {
      "text/plain": [
       "rasgef1b_mut\n",
       "0            1897\n",
       "V418A           1\n",
       "S343G           1\n",
       "R140Q           1\n",
       "X2_splice       1\n",
       "R353H           1\n",
       "H396Y           1\n",
       "E78K            1\n",
       "Name: count, dtype: int64"
      ]
     },
     "metadata": {},
     "output_type": "display_data"
    },
    {
     "name": "stdout",
     "output_type": "stream",
     "text": [
      "\n",
      "\n"
     ]
    },
    {
     "data": {
      "text/plain": [
       "hist1h2bc_mut\n",
       "0       1898\n",
       "G27S       2\n",
       "A18T       2\n",
       "S7C        1\n",
       "I55M       1\n",
       "Name: count, dtype: int64"
      ]
     },
     "metadata": {},
     "output_type": "display_data"
    },
    {
     "name": "stdout",
     "output_type": "stream",
     "text": [
      "\n",
      "\n"
     ]
    },
    {
     "data": {
      "text/plain": [
       "nr2f1_mut\n",
       "0         1899\n",
       "R225C        1\n",
       "T329M        1\n",
       "D91E         1\n",
       "Q43del       1\n",
       "L251Q        1\n",
       "Name: count, dtype: int64"
      ]
     },
     "metadata": {},
     "output_type": "display_data"
    },
    {
     "name": "stdout",
     "output_type": "stream",
     "text": [
      "\n",
      "\n"
     ]
    },
    {
     "data": {
      "text/plain": [
       "klrg1_mut\n",
       "0              1899\n",
       "C75F              1\n",
       "X186_splice       1\n",
       "C176Y             1\n",
       "N84K              1\n",
       "S31P              1\n",
       "Name: count, dtype: int64"
      ]
     },
     "metadata": {},
     "output_type": "display_data"
    },
    {
     "name": "stdout",
     "output_type": "stream",
     "text": [
      "\n",
      "\n"
     ]
    },
    {
     "data": {
      "text/plain": [
       "mbl2_mut\n",
       "0              1900\n",
       "K132*             1\n",
       "S85F              1\n",
       "A17S              1\n",
       "A120T A120E       1\n",
       "Name: count, dtype: int64"
      ]
     },
     "metadata": {},
     "output_type": "display_data"
    },
    {
     "name": "stdout",
     "output_type": "stream",
     "text": [
      "\n",
      "\n"
     ]
    },
    {
     "data": {
      "text/plain": [
       "mtap_mut\n",
       "0        1900\n",
       "I255L       1\n",
       "A247S       1\n",
       "A213S       1\n",
       "I138M       1\n",
       "Name: count, dtype: int64"
      ]
     },
     "metadata": {},
     "output_type": "display_data"
    },
    {
     "name": "stdout",
     "output_type": "stream",
     "text": [
      "\n",
      "\n"
     ]
    },
    {
     "data": {
      "text/plain": [
       "ppp2cb_mut\n",
       "0        1900\n",
       "R254Q       1\n",
       "I224S       1\n",
       "G128V       1\n",
       "R110C       1\n",
       "Name: count, dtype: int64"
      ]
     },
     "metadata": {},
     "output_type": "display_data"
    },
    {
     "name": "stdout",
     "output_type": "stream",
     "text": [
      "\n",
      "\n"
     ]
    },
    {
     "data": {
      "text/plain": [
       "smarcd1_mut\n",
       "0        1900\n",
       "N84S        1\n",
       "M366T       1\n",
       "L434M       1\n",
       "P78R        1\n",
       "Name: count, dtype: int64"
      ]
     },
     "metadata": {},
     "output_type": "display_data"
    },
    {
     "name": "stdout",
     "output_type": "stream",
     "text": [
      "\n",
      "\n"
     ]
    },
    {
     "data": {
      "text/plain": [
       "nras_mut\n",
       "0        1901\n",
       "G12S        1\n",
       "T124A       1\n",
       "D108N       1\n",
       "Name: count, dtype: int64"
      ]
     },
     "metadata": {},
     "output_type": "display_data"
    },
    {
     "name": "stdout",
     "output_type": "stream",
     "text": [
      "\n",
      "\n"
     ]
    },
    {
     "data": {
      "text/plain": [
       "ndfip1_mut\n",
       "0             1901\n",
       "N68S             1\n",
       "X51_splice       1\n",
       "A50T             1\n",
       "Name: count, dtype: int64"
      ]
     },
     "metadata": {},
     "output_type": "display_data"
    },
    {
     "name": "stdout",
     "output_type": "stream",
     "text": [
      "\n",
      "\n"
     ]
    },
    {
     "data": {
      "text/plain": [
       "hras_mut\n",
       "0       1902\n",
       "Q61R       1\n",
       "N86T       1\n",
       "Name: count, dtype: int64"
      ]
     },
     "metadata": {},
     "output_type": "display_data"
    },
    {
     "name": "stdout",
     "output_type": "stream",
     "text": [
      "\n",
      "\n"
     ]
    },
    {
     "data": {
      "text/plain": [
       "prps2_mut\n",
       "0        1902\n",
       "G255R       1\n",
       "I159F       1\n",
       "Name: count, dtype: int64"
      ]
     },
     "metadata": {},
     "output_type": "display_data"
    },
    {
     "name": "stdout",
     "output_type": "stream",
     "text": [
      "\n",
      "\n"
     ]
    },
    {
     "data": {
      "text/plain": [
       "smarcb1_mut\n",
       "0        1902\n",
       "D159N       1\n",
       "I28L        1\n",
       "Name: count, dtype: int64"
      ]
     },
     "metadata": {},
     "output_type": "display_data"
    },
    {
     "name": "stdout",
     "output_type": "stream",
     "text": [
      "\n",
      "\n"
     ]
    },
    {
     "data": {
      "text/plain": [
       "stmn2_mut\n",
       "0        1902\n",
       "N145K       1\n",
       "R156H       1\n",
       "Name: count, dtype: int64"
      ]
     },
     "metadata": {},
     "output_type": "display_data"
    },
    {
     "name": "stdout",
     "output_type": "stream",
     "text": [
      "\n",
      "\n"
     ]
    },
    {
     "data": {
      "text/plain": [
       "siah1_mut\n",
       "0        1903\n",
       "T249A       1\n",
       "Name: count, dtype: int64"
      ]
     },
     "metadata": {},
     "output_type": "display_data"
    }
   ],
   "source": [
    "import pandas as pd\n",
    "import os\n",
    "\n",
    "'''\n",
    "Al primo run, viene segnalato che alcune colonne hanno dati misti, in effetti le colonne in questione mi danno in output\n",
    "due tipi di 0 (tipo stringa e tipo intero). Specificando il tipo di dato nella relativa colonna, in output non ho la suddivisione tra intero e stringa\n",
    "e quindi me lo conteggia come unico valore\n",
    "'''\n",
    "\n",
    "path = os.path.join('Raw', 'METABRIC_RNA_Mutation.csv')\n",
    "\n",
    "df = pd.read_csv(path, dtype={col: str for col in [678, 688, 690, 692]})\n",
    "\n",
    "print(df.columns[0])\n",
    "\n",
    "for col in df.columns[1:]:\n",
    "    value_counts = df[col].value_counts()\n",
    "    print('\\n')\n",
    "    display(value_counts)"
   ]
  },
  {
   "cell_type": "markdown",
   "id": "aea9b82c-3246-40d6-8ec7-75270941c9f2",
   "metadata": {},
   "source": [
    "<h2><b> 1. Quanto influiscono le terapie e l'operazione sulla mortalità? </b></h2>\n",
    "<p>Per prima cosa ottengo 2 viste del Dataset\n",
    "<ol><li>Pazienti che hanno fatto la masectomia</li>\n",
    "<li>Pazienti che non hanno fatto l'intervento</li></ol>\n",
    "\n",
    "Per ognuno di questi 2 dataframe, considero:\n",
    "\n",
    "<ol><li>età della diagnosi</li>\n",
    "<li>mesi di sopravvivenza</li>\n",
    "<li>se sono morti di cancro</li>\n",
    "<li>taglia e stadio del tumore</li>\n",
    "<li>se hanno fatto la mastectomia </li>\n",
    "<li>che terapie hanno fatto (Chemio, Ormone, Radio)</li></ol>\n",
    "\n",
    "In base alle terapie fatte, andrò a fare un mapping (saranno 8 valori diversi viste le combinazioni totali)\n",
    "Ad ogni combinazione associerò un numero in modo da aggregare i pazienti (una specie di clustering)\n",
    "\n",
    "Confronterò poi i 2 grafici per vedere se c'è un pattern oppure se ci sono più possibilità di sopravvivenza in base ad una terapia o un'altra</p>"
   ]
  },
  {
   "cell_type": "code",
   "execution_count": 2,
   "id": "b5f59482-7f56-4e6a-8e75-b3b3cbde36fd",
   "metadata": {},
   "outputs": [],
   "source": [
    "# Escludo il valore Died of Other Causes visto che dobbiamo capire quanto influiscono le terapie e l'operazione sulla mortalità\n",
    "df_aggiornato = df[df['death_from_cancer'] != 'Died of Other Causes']\n",
    "\n",
    "# Escludo la riga del sarcoma in quanto si origina diversamente dal cancro; è più raro ed è anche l'unico elemento presente nei dati\n",
    "df_aggiornato = df_aggiornato[df_aggiornato['cancer_type'] != 'Breast Sarcoma']"
   ]
  },
  {
   "cell_type": "code",
   "execution_count": 3,
   "id": "b46dc9cb-520c-4d3a-bcb8-7af97db2ebd3",
   "metadata": {},
   "outputs": [
    {
     "data": {
      "text/html": [
       "<div>\n",
       "<style scoped>\n",
       "    .dataframe tbody tr th:only-of-type {\n",
       "        vertical-align: middle;\n",
       "    }\n",
       "\n",
       "    .dataframe tbody tr th {\n",
       "        vertical-align: top;\n",
       "    }\n",
       "\n",
       "    .dataframe thead th {\n",
       "        text-align: right;\n",
       "    }\n",
       "</style>\n",
       "<table border=\"1\" class=\"dataframe\">\n",
       "  <thead>\n",
       "    <tr style=\"text-align: right;\">\n",
       "      <th></th>\n",
       "      <th>age_at_diagnosis</th>\n",
       "      <th>overall_survival_months</th>\n",
       "      <th>death_from_cancer</th>\n",
       "      <th>tumor_size</th>\n",
       "      <th>tumor_stage</th>\n",
       "      <th>type_of_breast_surgery</th>\n",
       "      <th>COR_Terapie</th>\n",
       "    </tr>\n",
       "  </thead>\n",
       "  <tbody>\n",
       "    <tr>\n",
       "      <th>0</th>\n",
       "      <td>75.65</td>\n",
       "      <td>140.50</td>\n",
       "      <td>Living</td>\n",
       "      <td>22.0</td>\n",
       "      <td>2.0</td>\n",
       "      <td>MASTECTOMY</td>\n",
       "      <td>(0, 1, 1)</td>\n",
       "    </tr>\n",
       "    <tr>\n",
       "      <th>1</th>\n",
       "      <td>43.19</td>\n",
       "      <td>84.63</td>\n",
       "      <td>Living</td>\n",
       "      <td>10.0</td>\n",
       "      <td>1.0</td>\n",
       "      <td>BREAST CONSERVING</td>\n",
       "      <td>(0, 1, 1)</td>\n",
       "    </tr>\n",
       "    <tr>\n",
       "      <th>2</th>\n",
       "      <td>48.87</td>\n",
       "      <td>163.70</td>\n",
       "      <td>Died of Disease</td>\n",
       "      <td>15.0</td>\n",
       "      <td>2.0</td>\n",
       "      <td>MASTECTOMY</td>\n",
       "      <td>(1, 1, 0)</td>\n",
       "    </tr>\n",
       "    <tr>\n",
       "      <th>3</th>\n",
       "      <td>47.68</td>\n",
       "      <td>164.93</td>\n",
       "      <td>Living</td>\n",
       "      <td>25.0</td>\n",
       "      <td>2.0</td>\n",
       "      <td>MASTECTOMY</td>\n",
       "      <td>(1, 1, 1)</td>\n",
       "    </tr>\n",
       "    <tr>\n",
       "      <th>4</th>\n",
       "      <td>76.97</td>\n",
       "      <td>41.37</td>\n",
       "      <td>Died of Disease</td>\n",
       "      <td>40.0</td>\n",
       "      <td>2.0</td>\n",
       "      <td>MASTECTOMY</td>\n",
       "      <td>(1, 1, 1)</td>\n",
       "    </tr>\n",
       "    <tr>\n",
       "      <th>...</th>\n",
       "      <td>...</td>\n",
       "      <td>...</td>\n",
       "      <td>...</td>\n",
       "      <td>...</td>\n",
       "      <td>...</td>\n",
       "      <td>...</td>\n",
       "      <td>...</td>\n",
       "    </tr>\n",
       "    <tr>\n",
       "      <th>1897</th>\n",
       "      <td>56.90</td>\n",
       "      <td>199.23</td>\n",
       "      <td>Living</td>\n",
       "      <td>45.0</td>\n",
       "      <td>NaN</td>\n",
       "      <td>MASTECTOMY</td>\n",
       "      <td>(0, 1, 0)</td>\n",
       "    </tr>\n",
       "    <tr>\n",
       "      <th>1898</th>\n",
       "      <td>59.20</td>\n",
       "      <td>82.73</td>\n",
       "      <td>Died of Disease</td>\n",
       "      <td>15.0</td>\n",
       "      <td>NaN</td>\n",
       "      <td>MASTECTOMY</td>\n",
       "      <td>(0, 1, 0)</td>\n",
       "    </tr>\n",
       "    <tr>\n",
       "      <th>1899</th>\n",
       "      <td>43.10</td>\n",
       "      <td>196.87</td>\n",
       "      <td>Living</td>\n",
       "      <td>25.0</td>\n",
       "      <td>NaN</td>\n",
       "      <td>BREAST CONSERVING</td>\n",
       "      <td>(0, 1, 1)</td>\n",
       "    </tr>\n",
       "    <tr>\n",
       "      <th>1900</th>\n",
       "      <td>42.88</td>\n",
       "      <td>44.73</td>\n",
       "      <td>Died of Disease</td>\n",
       "      <td>20.0</td>\n",
       "      <td>NaN</td>\n",
       "      <td>MASTECTOMY</td>\n",
       "      <td>(0, 0, 1)</td>\n",
       "    </tr>\n",
       "    <tr>\n",
       "      <th>1901</th>\n",
       "      <td>62.90</td>\n",
       "      <td>175.97</td>\n",
       "      <td>Died of Disease</td>\n",
       "      <td>25.0</td>\n",
       "      <td>NaN</td>\n",
       "      <td>MASTECTOMY</td>\n",
       "      <td>(0, 1, 1)</td>\n",
       "    </tr>\n",
       "  </tbody>\n",
       "</table>\n",
       "<p>1423 rows × 7 columns</p>\n",
       "</div>"
      ],
      "text/plain": [
       "      age_at_diagnosis  overall_survival_months death_from_cancer  tumor_size  \\\n",
       "0                75.65                   140.50            Living        22.0   \n",
       "1                43.19                    84.63            Living        10.0   \n",
       "2                48.87                   163.70   Died of Disease        15.0   \n",
       "3                47.68                   164.93            Living        25.0   \n",
       "4                76.97                    41.37   Died of Disease        40.0   \n",
       "...                ...                      ...               ...         ...   \n",
       "1897             56.90                   199.23            Living        45.0   \n",
       "1898             59.20                    82.73   Died of Disease        15.0   \n",
       "1899             43.10                   196.87            Living        25.0   \n",
       "1900             42.88                    44.73   Died of Disease        20.0   \n",
       "1901             62.90                   175.97   Died of Disease        25.0   \n",
       "\n",
       "      tumor_stage type_of_breast_surgery COR_Terapie  \n",
       "0             2.0             MASTECTOMY   (0, 1, 1)  \n",
       "1             1.0      BREAST CONSERVING   (0, 1, 1)  \n",
       "2             2.0             MASTECTOMY   (1, 1, 0)  \n",
       "3             2.0             MASTECTOMY   (1, 1, 1)  \n",
       "4             2.0             MASTECTOMY   (1, 1, 1)  \n",
       "...           ...                    ...         ...  \n",
       "1897          NaN             MASTECTOMY   (0, 1, 0)  \n",
       "1898          NaN             MASTECTOMY   (0, 1, 0)  \n",
       "1899          NaN      BREAST CONSERVING   (0, 1, 1)  \n",
       "1900          NaN             MASTECTOMY   (0, 0, 1)  \n",
       "1901          NaN             MASTECTOMY   (0, 1, 1)  \n",
       "\n",
       "[1423 rows x 7 columns]"
      ]
     },
     "metadata": {},
     "output_type": "display_data"
    }
   ],
   "source": [
    "df_aggiornato = df_aggiornato[['age_at_diagnosis', 'overall_survival_months', 'death_from_cancer', 'chemotherapy',\n",
    "                                'hormone_therapy', 'radio_therapy', 'tumor_size', 'tumor_stage', 'type_of_breast_surgery']]\n",
    "\n",
    "# Unisco le 3 colonne delle terapie in un unica colonna in quanto dopo andrò a mappare la tupla per i vari grafici, facilitandomi il compito\n",
    "# COR (Chemio, Ormone, Radio)\n",
    "df_aggiornato['COR_Terapie'] = df.apply(lambda row: (row['chemotherapy'], row['hormone_therapy'], row['radio_therapy']), axis=1)\n",
    "df_nuovo = df_aggiornato.drop(['chemotherapy', 'hormone_therapy', 'radio_therapy'], axis=1)\n",
    "\n",
    "# Arrotondo i valori di overall_survival_months fino a 2 cifre decimali\n",
    "df_nuovo['overall_survival_months'] = df_nuovo['overall_survival_months'].round(2)\n",
    "display(df_nuovo)"
   ]
  },
  {
   "cell_type": "code",
   "execution_count": 4,
   "id": "cf759437-c540-449e-8c75-f1dad4de2d00",
   "metadata": {},
   "outputs": [
    {
     "data": {
      "text/html": [
       "<div>\n",
       "<style scoped>\n",
       "    .dataframe tbody tr th:only-of-type {\n",
       "        vertical-align: middle;\n",
       "    }\n",
       "\n",
       "    .dataframe tbody tr th {\n",
       "        vertical-align: top;\n",
       "    }\n",
       "\n",
       "    .dataframe thead th {\n",
       "        text-align: right;\n",
       "    }\n",
       "</style>\n",
       "<table border=\"1\" class=\"dataframe\">\n",
       "  <thead>\n",
       "    <tr style=\"text-align: right;\">\n",
       "      <th></th>\n",
       "      <th>age_at_diagnosis</th>\n",
       "      <th>overall_survival_months</th>\n",
       "      <th>death_from_cancer</th>\n",
       "      <th>tumor_size</th>\n",
       "      <th>tumor_stage</th>\n",
       "      <th>type_of_breast_surgery</th>\n",
       "      <th>COR_Terapie</th>\n",
       "      <th>Terapie</th>\n",
       "    </tr>\n",
       "  </thead>\n",
       "  <tbody>\n",
       "    <tr>\n",
       "      <th>0</th>\n",
       "      <td>75.65</td>\n",
       "      <td>140.50</td>\n",
       "      <td>Living</td>\n",
       "      <td>22.0</td>\n",
       "      <td>2.0</td>\n",
       "      <td>MASTECTOMY</td>\n",
       "      <td>(0, 1, 1)</td>\n",
       "      <td>radio + ormone</td>\n",
       "    </tr>\n",
       "    <tr>\n",
       "      <th>1</th>\n",
       "      <td>43.19</td>\n",
       "      <td>84.63</td>\n",
       "      <td>Living</td>\n",
       "      <td>10.0</td>\n",
       "      <td>1.0</td>\n",
       "      <td>BREAST CONSERVING</td>\n",
       "      <td>(0, 1, 1)</td>\n",
       "      <td>radio + ormone</td>\n",
       "    </tr>\n",
       "    <tr>\n",
       "      <th>2</th>\n",
       "      <td>48.87</td>\n",
       "      <td>163.70</td>\n",
       "      <td>Died of Disease</td>\n",
       "      <td>15.0</td>\n",
       "      <td>2.0</td>\n",
       "      <td>MASTECTOMY</td>\n",
       "      <td>(1, 1, 0)</td>\n",
       "      <td>chemio + ormone</td>\n",
       "    </tr>\n",
       "    <tr>\n",
       "      <th>3</th>\n",
       "      <td>47.68</td>\n",
       "      <td>164.93</td>\n",
       "      <td>Living</td>\n",
       "      <td>25.0</td>\n",
       "      <td>2.0</td>\n",
       "      <td>MASTECTOMY</td>\n",
       "      <td>(1, 1, 1)</td>\n",
       "      <td>tutte</td>\n",
       "    </tr>\n",
       "    <tr>\n",
       "      <th>4</th>\n",
       "      <td>76.97</td>\n",
       "      <td>41.37</td>\n",
       "      <td>Died of Disease</td>\n",
       "      <td>40.0</td>\n",
       "      <td>2.0</td>\n",
       "      <td>MASTECTOMY</td>\n",
       "      <td>(1, 1, 1)</td>\n",
       "      <td>tutte</td>\n",
       "    </tr>\n",
       "    <tr>\n",
       "      <th>...</th>\n",
       "      <td>...</td>\n",
       "      <td>...</td>\n",
       "      <td>...</td>\n",
       "      <td>...</td>\n",
       "      <td>...</td>\n",
       "      <td>...</td>\n",
       "      <td>...</td>\n",
       "      <td>...</td>\n",
       "    </tr>\n",
       "    <tr>\n",
       "      <th>1897</th>\n",
       "      <td>56.90</td>\n",
       "      <td>199.23</td>\n",
       "      <td>Living</td>\n",
       "      <td>45.0</td>\n",
       "      <td>NaN</td>\n",
       "      <td>MASTECTOMY</td>\n",
       "      <td>(0, 1, 0)</td>\n",
       "      <td>ormone</td>\n",
       "    </tr>\n",
       "    <tr>\n",
       "      <th>1898</th>\n",
       "      <td>59.20</td>\n",
       "      <td>82.73</td>\n",
       "      <td>Died of Disease</td>\n",
       "      <td>15.0</td>\n",
       "      <td>NaN</td>\n",
       "      <td>MASTECTOMY</td>\n",
       "      <td>(0, 1, 0)</td>\n",
       "      <td>ormone</td>\n",
       "    </tr>\n",
       "    <tr>\n",
       "      <th>1899</th>\n",
       "      <td>43.10</td>\n",
       "      <td>196.87</td>\n",
       "      <td>Living</td>\n",
       "      <td>25.0</td>\n",
       "      <td>NaN</td>\n",
       "      <td>BREAST CONSERVING</td>\n",
       "      <td>(0, 1, 1)</td>\n",
       "      <td>radio + ormone</td>\n",
       "    </tr>\n",
       "    <tr>\n",
       "      <th>1900</th>\n",
       "      <td>42.88</td>\n",
       "      <td>44.73</td>\n",
       "      <td>Died of Disease</td>\n",
       "      <td>20.0</td>\n",
       "      <td>NaN</td>\n",
       "      <td>MASTECTOMY</td>\n",
       "      <td>(0, 0, 1)</td>\n",
       "      <td>radio</td>\n",
       "    </tr>\n",
       "    <tr>\n",
       "      <th>1901</th>\n",
       "      <td>62.90</td>\n",
       "      <td>175.97</td>\n",
       "      <td>Died of Disease</td>\n",
       "      <td>25.0</td>\n",
       "      <td>NaN</td>\n",
       "      <td>MASTECTOMY</td>\n",
       "      <td>(0, 1, 1)</td>\n",
       "      <td>radio + ormone</td>\n",
       "    </tr>\n",
       "  </tbody>\n",
       "</table>\n",
       "<p>1423 rows × 8 columns</p>\n",
       "</div>"
      ],
      "text/plain": [
       "      age_at_diagnosis  overall_survival_months death_from_cancer  tumor_size  \\\n",
       "0                75.65                   140.50            Living        22.0   \n",
       "1                43.19                    84.63            Living        10.0   \n",
       "2                48.87                   163.70   Died of Disease        15.0   \n",
       "3                47.68                   164.93            Living        25.0   \n",
       "4                76.97                    41.37   Died of Disease        40.0   \n",
       "...                ...                      ...               ...         ...   \n",
       "1897             56.90                   199.23            Living        45.0   \n",
       "1898             59.20                    82.73   Died of Disease        15.0   \n",
       "1899             43.10                   196.87            Living        25.0   \n",
       "1900             42.88                    44.73   Died of Disease        20.0   \n",
       "1901             62.90                   175.97   Died of Disease        25.0   \n",
       "\n",
       "      tumor_stage type_of_breast_surgery COR_Terapie          Terapie  \n",
       "0             2.0             MASTECTOMY   (0, 1, 1)   radio + ormone  \n",
       "1             1.0      BREAST CONSERVING   (0, 1, 1)   radio + ormone  \n",
       "2             2.0             MASTECTOMY   (1, 1, 0)  chemio + ormone  \n",
       "3             2.0             MASTECTOMY   (1, 1, 1)            tutte  \n",
       "4             2.0             MASTECTOMY   (1, 1, 1)            tutte  \n",
       "...           ...                    ...         ...              ...  \n",
       "1897          NaN             MASTECTOMY   (0, 1, 0)           ormone  \n",
       "1898          NaN             MASTECTOMY   (0, 1, 0)           ormone  \n",
       "1899          NaN      BREAST CONSERVING   (0, 1, 1)   radio + ormone  \n",
       "1900          NaN             MASTECTOMY   (0, 0, 1)            radio  \n",
       "1901          NaN             MASTECTOMY   (0, 1, 1)   radio + ormone  \n",
       "\n",
       "[1423 rows x 8 columns]"
      ]
     },
     "metadata": {},
     "output_type": "display_data"
    }
   ],
   "source": [
    "# Mi servirà per dopo, quando andrò a sostituire 3 colonne per formarne una sola con all'interno una tupla\n",
    "mappatura = {(0, 0, 0): 'nessuna',\n",
    "            (0, 0, 1): 'radio',\n",
    "            (0, 1, 0): 'ormone',\n",
    "            (0, 1, 1): 'radio + ormone',\n",
    "            (1, 0, 0): 'chemio',\n",
    "            (1, 0, 1): 'chemio + radio',\n",
    "            (1, 1, 0): 'chemio + ormone',\n",
    "            (1, 1, 1): 'tutte'}\n",
    "\n",
    "df_nuovo['Terapie'] = df_nuovo['COR_Terapie'].map(mappatura)\n",
    "display(df_nuovo)"
   ]
  },
  {
   "cell_type": "code",
   "execution_count": 5,
   "id": "0d9cd0c5-d2b5-411b-ac0f-ee75944c44c5",
   "metadata": {},
   "outputs": [
    {
     "data": {
      "text/html": [
       "<div>\n",
       "<style scoped>\n",
       "    .dataframe tbody tr th:only-of-type {\n",
       "        vertical-align: middle;\n",
       "    }\n",
       "\n",
       "    .dataframe tbody tr th {\n",
       "        vertical-align: top;\n",
       "    }\n",
       "\n",
       "    .dataframe thead th {\n",
       "        text-align: right;\n",
       "    }\n",
       "</style>\n",
       "<table border=\"1\" class=\"dataframe\">\n",
       "  <thead>\n",
       "    <tr style=\"text-align: right;\">\n",
       "      <th></th>\n",
       "      <th>age_at_diagnosis</th>\n",
       "      <th>overall_survival_months</th>\n",
       "      <th>death_from_cancer</th>\n",
       "      <th>tumor_size</th>\n",
       "      <th>COR_Terapie</th>\n",
       "      <th>Terapie</th>\n",
       "      <th>Operation_Stage</th>\n",
       "    </tr>\n",
       "  </thead>\n",
       "  <tbody>\n",
       "    <tr>\n",
       "      <th>0</th>\n",
       "      <td>56.79</td>\n",
       "      <td>44.83</td>\n",
       "      <td>Died of Disease</td>\n",
       "      <td>16.0</td>\n",
       "      <td>(0, 1, 1)</td>\n",
       "      <td>radio + ormone</td>\n",
       "      <td>BREAST CONSERVING 1.0</td>\n",
       "    </tr>\n",
       "    <tr>\n",
       "      <th>1</th>\n",
       "      <td>76.06</td>\n",
       "      <td>198.30</td>\n",
       "      <td>Living</td>\n",
       "      <td>20.0</td>\n",
       "      <td>(0, 0, 1)</td>\n",
       "      <td>radio</td>\n",
       "      <td>BREAST CONSERVING 1.0</td>\n",
       "    </tr>\n",
       "    <tr>\n",
       "      <th>2</th>\n",
       "      <td>60.96</td>\n",
       "      <td>14.17</td>\n",
       "      <td>Died of Disease</td>\n",
       "      <td>18.0</td>\n",
       "      <td>(0, 0, 1)</td>\n",
       "      <td>radio</td>\n",
       "      <td>BREAST CONSERVING 1.0</td>\n",
       "    </tr>\n",
       "    <tr>\n",
       "      <th>3</th>\n",
       "      <td>61.78</td>\n",
       "      <td>163.73</td>\n",
       "      <td>Living</td>\n",
       "      <td>15.0</td>\n",
       "      <td>(0, 0, 1)</td>\n",
       "      <td>radio</td>\n",
       "      <td>BREAST CONSERVING 1.0</td>\n",
       "    </tr>\n",
       "    <tr>\n",
       "      <th>4</th>\n",
       "      <td>55.53</td>\n",
       "      <td>190.17</td>\n",
       "      <td>Living</td>\n",
       "      <td>15.0</td>\n",
       "      <td>(0, 0, 1)</td>\n",
       "      <td>radio</td>\n",
       "      <td>BREAST CONSERVING 1.0</td>\n",
       "    </tr>\n",
       "    <tr>\n",
       "      <th>...</th>\n",
       "      <td>...</td>\n",
       "      <td>...</td>\n",
       "      <td>...</td>\n",
       "      <td>...</td>\n",
       "      <td>...</td>\n",
       "      <td>...</td>\n",
       "      <td>...</td>\n",
       "    </tr>\n",
       "    <tr>\n",
       "      <th>1060</th>\n",
       "      <td>57.79</td>\n",
       "      <td>9.07</td>\n",
       "      <td>Died of Disease</td>\n",
       "      <td>48.0</td>\n",
       "      <td>(1, 1, 1)</td>\n",
       "      <td>tutte</td>\n",
       "      <td>MASTECTOMY 4.0</td>\n",
       "    </tr>\n",
       "    <tr>\n",
       "      <th>1061</th>\n",
       "      <td>78.77</td>\n",
       "      <td>7.80</td>\n",
       "      <td>Died of Disease</td>\n",
       "      <td>31.0</td>\n",
       "      <td>(0, 1, 1)</td>\n",
       "      <td>radio + ormone</td>\n",
       "      <td>MASTECTOMY 4.0</td>\n",
       "    </tr>\n",
       "    <tr>\n",
       "      <th>1062</th>\n",
       "      <td>73.24</td>\n",
       "      <td>89.90</td>\n",
       "      <td>Died of Disease</td>\n",
       "      <td>67.0</td>\n",
       "      <td>(0, 0, 0)</td>\n",
       "      <td>nessuna</td>\n",
       "      <td>MASTECTOMY 4.0</td>\n",
       "    </tr>\n",
       "    <tr>\n",
       "      <th>1063</th>\n",
       "      <td>67.46</td>\n",
       "      <td>48.53</td>\n",
       "      <td>Died of Disease</td>\n",
       "      <td>25.0</td>\n",
       "      <td>(1, 1, 0)</td>\n",
       "      <td>chemio + ormone</td>\n",
       "      <td>MASTECTOMY 4.0</td>\n",
       "    </tr>\n",
       "    <tr>\n",
       "      <th>1064</th>\n",
       "      <td>85.49</td>\n",
       "      <td>132.03</td>\n",
       "      <td>Died of Disease</td>\n",
       "      <td>22.0</td>\n",
       "      <td>(0, 1, 1)</td>\n",
       "      <td>radio + ormone</td>\n",
       "      <td>MASTECTOMY 4.0</td>\n",
       "    </tr>\n",
       "  </tbody>\n",
       "</table>\n",
       "<p>1065 rows × 7 columns</p>\n",
       "</div>"
      ],
      "text/plain": [
       "      age_at_diagnosis  overall_survival_months death_from_cancer  tumor_size  \\\n",
       "0                56.79                    44.83   Died of Disease        16.0   \n",
       "1                76.06                   198.30            Living        20.0   \n",
       "2                60.96                    14.17   Died of Disease        18.0   \n",
       "3                61.78                   163.73            Living        15.0   \n",
       "4                55.53                   190.17            Living        15.0   \n",
       "...                ...                      ...               ...         ...   \n",
       "1060             57.79                     9.07   Died of Disease        48.0   \n",
       "1061             78.77                     7.80   Died of Disease        31.0   \n",
       "1062             73.24                    89.90   Died of Disease        67.0   \n",
       "1063             67.46                    48.53   Died of Disease        25.0   \n",
       "1064             85.49                   132.03   Died of Disease        22.0   \n",
       "\n",
       "     COR_Terapie          Terapie        Operation_Stage  \n",
       "0      (0, 1, 1)   radio + ormone  BREAST CONSERVING 1.0  \n",
       "1      (0, 0, 1)            radio  BREAST CONSERVING 1.0  \n",
       "2      (0, 0, 1)            radio  BREAST CONSERVING 1.0  \n",
       "3      (0, 0, 1)            radio  BREAST CONSERVING 1.0  \n",
       "4      (0, 0, 1)            radio  BREAST CONSERVING 1.0  \n",
       "...          ...              ...                    ...  \n",
       "1060   (1, 1, 1)            tutte         MASTECTOMY 4.0  \n",
       "1061   (0, 1, 1)   radio + ormone         MASTECTOMY 4.0  \n",
       "1062   (0, 0, 0)          nessuna         MASTECTOMY 4.0  \n",
       "1063   (1, 1, 0)  chemio + ormone         MASTECTOMY 4.0  \n",
       "1064   (0, 1, 1)   radio + ormone         MASTECTOMY 4.0  \n",
       "\n",
       "[1065 rows x 7 columns]"
      ]
     },
     "metadata": {},
     "output_type": "display_data"
    }
   ],
   "source": [
    "# Drop dei Nan\n",
    "df_nuovo = df_nuovo.dropna(subset=['tumor_stage'])\n",
    "df_nuovo = df_nuovo.dropna(subset=['type_of_breast_surgery'])\n",
    "df_nuovo = df_nuovo.dropna(subset=['death_from_cancer'])\n",
    "\n",
    "\n",
    "df_nuovo['type_of_breast_surgery'] = df_nuovo['type_of_breast_surgery'].astype(str)\n",
    "df_nuovo['tumor_stage'] = df_nuovo['tumor_stage'].astype(str)\n",
    "df_nuovo['Operation_Stage'] = df_nuovo['type_of_breast_surgery'] + ' ' + df_nuovo['tumor_stage']\n",
    "df_nuovo = df_nuovo.drop(columns=['tumor_stage', 'type_of_breast_surgery'])\n",
    "\n",
    "'''\n",
    "value_counts = df_nuovo['Operation_Stage'].value_counts()\n",
    "display(value_counts)\n",
    "'''\n",
    "\n",
    "# Drop dei valori count 1 (poco interessanti a fini statistici)\n",
    "df_nuovo = df_nuovo[~(df_nuovo['Operation_Stage'] == 'MASTECTOMY 0.0')]\n",
    "df_nuovo = df_nuovo[~(df_nuovo['Operation_Stage'] == 'BREAST CONSERVING 0.0')]\n",
    "df_nuovo = df_nuovo[~(df_nuovo['Operation_Stage'] == 'BREAST CONSERVING 4.0')]\n",
    "\n",
    "\n",
    "df_nuovo = df_nuovo.sort_values(by=['Operation_Stage'])\n",
    "df_nuovo = df_nuovo.reset_index(drop=True)\n",
    "display(df_nuovo)"
   ]
  },
  {
   "cell_type": "code",
   "execution_count": 6,
   "id": "30da2f43-f355-4a86-8254-a2129db29b62",
   "metadata": {},
   "outputs": [],
   "source": [
    "os.makedirs('Terapie', exist_ok=True)\n",
    "\n",
    "x=0\n",
    "for stato in df_nuovo['Operation_Stage'].unique():\n",
    "    df_filtrato = df_nuovo[df_nuovo['Operation_Stage'] == stato]\n",
    "    nome_file = f\"Terapie/{x}.{stato}.pkl\"\n",
    "    df_filtrato.to_pickle(nome_file)\n",
    "    x = x+1"
   ]
  },
  {
   "cell_type": "code",
   "execution_count": 7,
   "id": "0f99d9a4-74f1-4bfc-a3ae-25faf73e3ac1",
   "metadata": {},
   "outputs": [
    {
     "data": {
      "text/html": [
       "<div>\n",
       "<style scoped>\n",
       "    .dataframe tbody tr th:only-of-type {\n",
       "        vertical-align: middle;\n",
       "    }\n",
       "\n",
       "    .dataframe tbody tr th {\n",
       "        vertical-align: top;\n",
       "    }\n",
       "\n",
       "    .dataframe thead th {\n",
       "        text-align: right;\n",
       "    }\n",
       "</style>\n",
       "<table border=\"1\" class=\"dataframe\">\n",
       "  <thead>\n",
       "    <tr style=\"text-align: right;\">\n",
       "      <th></th>\n",
       "      <th>Cura</th>\n",
       "      <th>Media</th>\n",
       "      <th>Minimo</th>\n",
       "      <th>Massimo</th>\n",
       "      <th>Mediana</th>\n",
       "    </tr>\n",
       "  </thead>\n",
       "  <tbody>\n",
       "    <tr>\n",
       "      <th>0</th>\n",
       "      <td>radio + ormone</td>\n",
       "      <td>148.45</td>\n",
       "      <td>2.00</td>\n",
       "      <td>318.20</td>\n",
       "      <td>144.44</td>\n",
       "    </tr>\n",
       "    <tr>\n",
       "      <th>1</th>\n",
       "      <td>radio</td>\n",
       "      <td>202.80</td>\n",
       "      <td>34.10</td>\n",
       "      <td>307.93</td>\n",
       "      <td>200.88</td>\n",
       "    </tr>\n",
       "    <tr>\n",
       "      <th>2</th>\n",
       "      <td>tutte</td>\n",
       "      <td>130.00</td>\n",
       "      <td>13.40</td>\n",
       "      <td>259.93</td>\n",
       "      <td>130.99</td>\n",
       "    </tr>\n",
       "    <tr>\n",
       "      <th>3</th>\n",
       "      <td>chemio</td>\n",
       "      <td>175.49</td>\n",
       "      <td>25.03</td>\n",
       "      <td>278.27</td>\n",
       "      <td>180.06</td>\n",
       "    </tr>\n",
       "    <tr>\n",
       "      <th>4</th>\n",
       "      <td>nessuna</td>\n",
       "      <td>190.01</td>\n",
       "      <td>1.23</td>\n",
       "      <td>337.03</td>\n",
       "      <td>205.73</td>\n",
       "    </tr>\n",
       "    <tr>\n",
       "      <th>5</th>\n",
       "      <td>ormone</td>\n",
       "      <td>159.26</td>\n",
       "      <td>1.27</td>\n",
       "      <td>300.87</td>\n",
       "      <td>163.40</td>\n",
       "    </tr>\n",
       "    <tr>\n",
       "      <th>6</th>\n",
       "      <td>chemio + radio</td>\n",
       "      <td>173.68</td>\n",
       "      <td>10.83</td>\n",
       "      <td>322.83</td>\n",
       "      <td>186.90</td>\n",
       "    </tr>\n",
       "    <tr>\n",
       "      <th>7</th>\n",
       "      <td>chemio + ormone</td>\n",
       "      <td>133.72</td>\n",
       "      <td>72.67</td>\n",
       "      <td>194.20</td>\n",
       "      <td>140.55</td>\n",
       "    </tr>\n",
       "  </tbody>\n",
       "</table>\n",
       "</div>"
      ],
      "text/plain": [
       "              Cura   Media  Minimo  Massimo  Mediana\n",
       "0   radio + ormone  148.45    2.00   318.20   144.44\n",
       "1            radio  202.80   34.10   307.93   200.88\n",
       "2            tutte  130.00   13.40   259.93   130.99\n",
       "3           chemio  175.49   25.03   278.27   180.06\n",
       "4          nessuna  190.01    1.23   337.03   205.73\n",
       "5           ormone  159.26    1.27   300.87   163.40\n",
       "6   chemio + radio  173.68   10.83   322.83   186.90\n",
       "7  chemio + ormone  133.72   72.67   194.20   140.55"
      ]
     },
     "metadata": {},
     "output_type": "display_data"
    }
   ],
   "source": [
    "lista_cure = []\n",
    "\n",
    "for cura in df_nuovo['Terapie'].unique():\n",
    "    df_periodo = df_nuovo[df_nuovo['Terapie'] == cura]\n",
    "    df_living = df_periodo[df_periodo['death_from_cancer'] == 'Living']\n",
    "    \n",
    "    media = (df_living['overall_survival_months'].mean()).round(2)\n",
    "    minimo = df_living['overall_survival_months'].min()\n",
    "    massimo = df_living['overall_survival_months'].max()\n",
    "    mediana = (df_living['overall_survival_months'].median()).round(2)\n",
    "    \n",
    "\n",
    "    lista_cure.append({\n",
    "        'Cura': cura,\n",
    "        'Media': media,\n",
    "        'Minimo': minimo,\n",
    "        'Massimo': massimo,\n",
    "        'Mediana': mediana\n",
    "    })\n",
    "\n",
    "    df_statistiche = pd.DataFrame(lista_cure)\n",
    "display(df_statistiche)"
   ]
  },
  {
   "cell_type": "code",
   "execution_count": 8,
   "id": "4a556569-2e6d-47d6-80cf-a455fad5a093",
   "metadata": {},
   "outputs": [],
   "source": [
    "nome_file = f\"Terapie/Statistiche delle cure.pkl\"\n",
    "df_statistiche.to_pickle(nome_file)"
   ]
  },
  {
   "cell_type": "code",
   "execution_count": 9,
   "id": "dfc9246d-255b-490e-9f42-79e0ca8efdaa",
   "metadata": {},
   "outputs": [],
   "source": [
    "nome_file = f\"Terapie/DF_Ordinato.pkl\"\n",
    "df_nuovo.to_pickle(nome_file)"
   ]
  }
 ],
 "metadata": {
  "kernelspec": {
   "display_name": "Python 3 (ipykernel)",
   "language": "python",
   "name": "python3"
  },
  "language_info": {
   "codemirror_mode": {
    "name": "ipython",
    "version": 3
   },
   "file_extension": ".py",
   "mimetype": "text/x-python",
   "name": "python",
   "nbconvert_exporter": "python",
   "pygments_lexer": "ipython3",
   "version": "3.12.4"
  }
 },
 "nbformat": 4,
 "nbformat_minor": 5
}
